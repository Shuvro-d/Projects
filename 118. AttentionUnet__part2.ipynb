{
  "nbformat": 4,
  "nbformat_minor": 0,
  "metadata": {
    "colab": {
      "provenance": []
    },
    "kernelspec": {
      "name": "python3",
      "display_name": "Python 3"
    },
    "language_info": {
      "name": "python"
    },
    "accelerator": "GPU",
    "gpuClass": "standard"
  },
  "cells": [
    {
      "cell_type": "code",
      "execution_count": 1,
      "metadata": {
        "colab": {
          "base_uri": "https://localhost:8080/"
        },
        "id": "1VGx0ie8gbeT",
        "outputId": "54aa8a62-685c-41ca-a4ce-ddb3a5caa758"
      },
      "outputs": [
        {
          "output_type": "stream",
          "name": "stdout",
          "text": [
            "Looking in indexes: https://pypi.org/simple, https://us-python.pkg.dev/colab-wheels/public/simple/\n",
            "Collecting keras-unet-collection==0.1.13\n",
            "  Downloading keras_unet_collection-0.1.13-py3-none-any.whl (67 kB)\n",
            "\u001b[2K     \u001b[90m━━━━━━━━━━━━━━━━━━━━━━━━━━━━━━━━━━━━━━━━\u001b[0m \u001b[32m67.9/67.9 KB\u001b[0m \u001b[31m6.0 MB/s\u001b[0m eta \u001b[36m0:00:00\u001b[0m\n",
            "\u001b[?25hInstalling collected packages: keras-unet-collection\n",
            "Successfully installed keras-unet-collection-0.1.13\n",
            "Looking in indexes: https://pypi.org/simple, https://us-python.pkg.dev/colab-wheels/public/simple/\n",
            "Requirement already satisfied: tensorflow in /usr/local/lib/python3.8/dist-packages (2.9.2)\n",
            "Requirement already satisfied: h5py>=2.9.0 in /usr/local/lib/python3.8/dist-packages (from tensorflow) (3.1.0)\n",
            "Requirement already satisfied: protobuf<3.20,>=3.9.2 in /usr/local/lib/python3.8/dist-packages (from tensorflow) (3.19.6)\n",
            "Requirement already satisfied: typing-extensions>=3.6.6 in /usr/local/lib/python3.8/dist-packages (from tensorflow) (4.4.0)\n",
            "Requirement already satisfied: six>=1.12.0 in /usr/local/lib/python3.8/dist-packages (from tensorflow) (1.15.0)\n",
            "Requirement already satisfied: absl-py>=1.0.0 in /usr/local/lib/python3.8/dist-packages (from tensorflow) (1.4.0)\n",
            "Requirement already satisfied: wrapt>=1.11.0 in /usr/local/lib/python3.8/dist-packages (from tensorflow) (1.14.1)\n",
            "Requirement already satisfied: libclang>=13.0.0 in /usr/local/lib/python3.8/dist-packages (from tensorflow) (15.0.6.1)\n",
            "Requirement already satisfied: keras<2.10.0,>=2.9.0rc0 in /usr/local/lib/python3.8/dist-packages (from tensorflow) (2.9.0)\n",
            "Requirement already satisfied: google-pasta>=0.1.1 in /usr/local/lib/python3.8/dist-packages (from tensorflow) (0.2.0)\n",
            "Requirement already satisfied: gast<=0.4.0,>=0.2.1 in /usr/local/lib/python3.8/dist-packages (from tensorflow) (0.4.0)\n",
            "Requirement already satisfied: opt-einsum>=2.3.2 in /usr/local/lib/python3.8/dist-packages (from tensorflow) (3.3.0)\n",
            "Requirement already satisfied: tensorflow-io-gcs-filesystem>=0.23.1 in /usr/local/lib/python3.8/dist-packages (from tensorflow) (0.30.0)\n",
            "Requirement already satisfied: tensorboard<2.10,>=2.9 in /usr/local/lib/python3.8/dist-packages (from tensorflow) (2.9.1)\n",
            "Requirement already satisfied: keras-preprocessing>=1.1.1 in /usr/local/lib/python3.8/dist-packages (from tensorflow) (1.1.2)\n",
            "Requirement already satisfied: numpy>=1.20 in /usr/local/lib/python3.8/dist-packages (from tensorflow) (1.21.6)\n",
            "Requirement already satisfied: packaging in /usr/local/lib/python3.8/dist-packages (from tensorflow) (23.0)\n",
            "Requirement already satisfied: tensorflow-estimator<2.10.0,>=2.9.0rc0 in /usr/local/lib/python3.8/dist-packages (from tensorflow) (2.9.0)\n",
            "Requirement already satisfied: grpcio<2.0,>=1.24.3 in /usr/local/lib/python3.8/dist-packages (from tensorflow) (1.51.1)\n",
            "Requirement already satisfied: termcolor>=1.1.0 in /usr/local/lib/python3.8/dist-packages (from tensorflow) (2.2.0)\n",
            "Requirement already satisfied: astunparse>=1.6.0 in /usr/local/lib/python3.8/dist-packages (from tensorflow) (1.6.3)\n",
            "Requirement already satisfied: flatbuffers<2,>=1.12 in /usr/local/lib/python3.8/dist-packages (from tensorflow) (1.12)\n",
            "Requirement already satisfied: setuptools in /usr/local/lib/python3.8/dist-packages (from tensorflow) (57.4.0)\n",
            "Requirement already satisfied: wheel<1.0,>=0.23.0 in /usr/local/lib/python3.8/dist-packages (from astunparse>=1.6.0->tensorflow) (0.38.4)\n",
            "Requirement already satisfied: requests<3,>=2.21.0 in /usr/local/lib/python3.8/dist-packages (from tensorboard<2.10,>=2.9->tensorflow) (2.25.1)\n",
            "Requirement already satisfied: werkzeug>=1.0.1 in /usr/local/lib/python3.8/dist-packages (from tensorboard<2.10,>=2.9->tensorflow) (1.0.1)\n",
            "Requirement already satisfied: tensorboard-data-server<0.7.0,>=0.6.0 in /usr/local/lib/python3.8/dist-packages (from tensorboard<2.10,>=2.9->tensorflow) (0.6.1)\n",
            "Requirement already satisfied: tensorboard-plugin-wit>=1.6.0 in /usr/local/lib/python3.8/dist-packages (from tensorboard<2.10,>=2.9->tensorflow) (1.8.1)\n",
            "Requirement already satisfied: google-auth<3,>=1.6.3 in /usr/local/lib/python3.8/dist-packages (from tensorboard<2.10,>=2.9->tensorflow) (2.16.0)\n",
            "Requirement already satisfied: markdown>=2.6.8 in /usr/local/lib/python3.8/dist-packages (from tensorboard<2.10,>=2.9->tensorflow) (3.4.1)\n",
            "Requirement already satisfied: google-auth-oauthlib<0.5,>=0.4.1 in /usr/local/lib/python3.8/dist-packages (from tensorboard<2.10,>=2.9->tensorflow) (0.4.6)\n",
            "Requirement already satisfied: cachetools<6.0,>=2.0.0 in /usr/local/lib/python3.8/dist-packages (from google-auth<3,>=1.6.3->tensorboard<2.10,>=2.9->tensorflow) (5.3.0)\n",
            "Requirement already satisfied: pyasn1-modules>=0.2.1 in /usr/local/lib/python3.8/dist-packages (from google-auth<3,>=1.6.3->tensorboard<2.10,>=2.9->tensorflow) (0.2.8)\n",
            "Requirement already satisfied: rsa<5,>=3.1.4 in /usr/local/lib/python3.8/dist-packages (from google-auth<3,>=1.6.3->tensorboard<2.10,>=2.9->tensorflow) (4.9)\n",
            "Requirement already satisfied: requests-oauthlib>=0.7.0 in /usr/local/lib/python3.8/dist-packages (from google-auth-oauthlib<0.5,>=0.4.1->tensorboard<2.10,>=2.9->tensorflow) (1.3.1)\n",
            "Requirement already satisfied: importlib-metadata>=4.4 in /usr/local/lib/python3.8/dist-packages (from markdown>=2.6.8->tensorboard<2.10,>=2.9->tensorflow) (6.0.0)\n",
            "Requirement already satisfied: chardet<5,>=3.0.2 in /usr/local/lib/python3.8/dist-packages (from requests<3,>=2.21.0->tensorboard<2.10,>=2.9->tensorflow) (4.0.0)\n",
            "Requirement already satisfied: certifi>=2017.4.17 in /usr/local/lib/python3.8/dist-packages (from requests<3,>=2.21.0->tensorboard<2.10,>=2.9->tensorflow) (2022.12.7)\n",
            "Requirement already satisfied: idna<3,>=2.5 in /usr/local/lib/python3.8/dist-packages (from requests<3,>=2.21.0->tensorboard<2.10,>=2.9->tensorflow) (2.10)\n",
            "Requirement already satisfied: urllib3<1.27,>=1.21.1 in /usr/local/lib/python3.8/dist-packages (from requests<3,>=2.21.0->tensorboard<2.10,>=2.9->tensorflow) (1.24.3)\n",
            "Requirement already satisfied: zipp>=0.5 in /usr/local/lib/python3.8/dist-packages (from importlib-metadata>=4.4->markdown>=2.6.8->tensorboard<2.10,>=2.9->tensorflow) (3.12.0)\n",
            "Requirement already satisfied: pyasn1<0.5.0,>=0.4.6 in /usr/local/lib/python3.8/dist-packages (from pyasn1-modules>=0.2.1->google-auth<3,>=1.6.3->tensorboard<2.10,>=2.9->tensorflow) (0.4.8)\n",
            "Requirement already satisfied: oauthlib>=3.0.0 in /usr/local/lib/python3.8/dist-packages (from requests-oauthlib>=0.7.0->google-auth-oauthlib<0.5,>=0.4.1->tensorboard<2.10,>=2.9->tensorflow) (3.2.2)\n"
          ]
        }
      ],
      "source": [
        "!pip install keras-unet-collection==0.1.13\n",
        "!pip install tensorflow"
      ]
    },
    {
      "cell_type": "code",
      "source": [
        "!pip install --upgrade --no-cache-dir gdown\n",
        "!gdown --id 11hcgbRcs_9mV1QkiDq8Eb6FKENQClI2f\n",
        "!pip install patool\n",
        "import patoolib\n",
        "patoolib.extract_archive('archive.zip')"
      ],
      "metadata": {
        "colab": {
          "base_uri": "https://localhost:8080/",
          "height": 663
        },
        "id": "Yo2DXwUbkzlR",
        "outputId": "a877fd17-dd07-460d-d55b-4cc39667672d"
      },
      "execution_count": 2,
      "outputs": [
        {
          "output_type": "stream",
          "name": "stdout",
          "text": [
            "Looking in indexes: https://pypi.org/simple, https://us-python.pkg.dev/colab-wheels/public/simple/\n",
            "Requirement already satisfied: gdown in /usr/local/lib/python3.8/dist-packages (4.4.0)\n",
            "Collecting gdown\n",
            "  Downloading gdown-4.6.0-py3-none-any.whl (14 kB)\n",
            "Requirement already satisfied: tqdm in /usr/local/lib/python3.8/dist-packages (from gdown) (4.64.1)\n",
            "Requirement already satisfied: requests[socks] in /usr/local/lib/python3.8/dist-packages (from gdown) (2.25.1)\n",
            "Requirement already satisfied: beautifulsoup4 in /usr/local/lib/python3.8/dist-packages (from gdown) (4.6.3)\n",
            "Requirement already satisfied: six in /usr/local/lib/python3.8/dist-packages (from gdown) (1.15.0)\n",
            "Requirement already satisfied: filelock in /usr/local/lib/python3.8/dist-packages (from gdown) (3.9.0)\n",
            "Requirement already satisfied: chardet<5,>=3.0.2 in /usr/local/lib/python3.8/dist-packages (from requests[socks]->gdown) (4.0.0)\n",
            "Requirement already satisfied: urllib3<1.27,>=1.21.1 in /usr/local/lib/python3.8/dist-packages (from requests[socks]->gdown) (1.24.3)\n",
            "Requirement already satisfied: idna<3,>=2.5 in /usr/local/lib/python3.8/dist-packages (from requests[socks]->gdown) (2.10)\n",
            "Requirement already satisfied: certifi>=2017.4.17 in /usr/local/lib/python3.8/dist-packages (from requests[socks]->gdown) (2022.12.7)\n",
            "Requirement already satisfied: PySocks!=1.5.7,>=1.5.6 in /usr/local/lib/python3.8/dist-packages (from requests[socks]->gdown) (1.7.1)\n",
            "Installing collected packages: gdown\n",
            "  Attempting uninstall: gdown\n",
            "    Found existing installation: gdown 4.4.0\n",
            "    Uninstalling gdown-4.4.0:\n",
            "      Successfully uninstalled gdown-4.4.0\n",
            "Successfully installed gdown-4.6.0\n",
            "/usr/local/lib/python3.8/dist-packages/gdown/cli.py:121: FutureWarning: Option `--id` was deprecated in version 4.3.1 and will be removed in 5.0. You don't need to pass it anymore to use a file ID.\n",
            "  warnings.warn(\n",
            "Downloading...\n",
            "From: https://drive.google.com/uc?id=11hcgbRcs_9mV1QkiDq8Eb6FKENQClI2f\n",
            "To: /content/archive.zip\n",
            "100% 327M/327M [00:03<00:00, 88.3MB/s]\n",
            "Looking in indexes: https://pypi.org/simple, https://us-python.pkg.dev/colab-wheels/public/simple/\n",
            "Collecting patool\n",
            "  Downloading patool-1.12-py2.py3-none-any.whl (77 kB)\n",
            "\u001b[2K     \u001b[90m━━━━━━━━━━━━━━━━━━━━━━━━━━━━━━━━━━━━━━━━\u001b[0m \u001b[32m77.5/77.5 KB\u001b[0m \u001b[31m9.2 MB/s\u001b[0m eta \u001b[36m0:00:00\u001b[0m\n",
            "\u001b[?25hInstalling collected packages: patool\n",
            "Successfully installed patool-1.12\n",
            "patool: Extracting archive.zip ...\n",
            "patool: running /usr/bin/7z x -o./Unpack_b_ftt0w6 -- archive.zip\n",
            "patool: ... archive.zip extracted to `archive' (multiple files in root).\n"
          ]
        },
        {
          "output_type": "execute_result",
          "data": {
            "text/plain": [
              "'archive'"
            ],
            "application/vnd.google.colaboratory.intrinsic+json": {
              "type": "string"
            }
          },
          "metadata": {},
          "execution_count": 2
        }
      ]
    },
    {
      "cell_type": "code",
      "source": [
        "import os\n",
        "import numpy as np\n",
        "from matplotlib import pyplot as plt\n",
        "from tensorflow.keras.optimizers import Adam\n",
        "import tensorflow as tf\n",
        "from datetime import datetime \n",
        "import cv2\n",
        "from PIL import Image\n",
        "from keras import backend,  optimizers"
      ],
      "metadata": {
        "id": "1NQ1UwNwk09A"
      },
      "execution_count": 3,
      "outputs": []
    },
    {
      "cell_type": "code",
      "source": [
        "image_directory = '/content/archive/images/'\n",
        "mask_directory = '/content/archive/masks/'"
      ],
      "metadata": {
        "id": "Vgv8oZbRk2hJ"
      },
      "execution_count": 4,
      "outputs": []
    },
    {
      "cell_type": "code",
      "source": [
        "import random\n",
        "import numpy as np\n",
        "SIZE = 128\n",
        "image_dataset = []   \n",
        "mask_dataset = []  \n",
        "test_image = []\n",
        "ground_truth = []\n",
        "flag = 0\n",
        "images = os.listdir(image_directory)\n",
        "masks = os.listdir(mask_directory)\n",
        "\n",
        "\n",
        "for i, image_name in enumerate(images):   \n",
        "    if (image_name.split('.')[1] == 'png'):\n",
        "        #print(image_directory+image_name)\n",
        "        if flag%11==0:\n",
        "          image=cv2.imread(image_directory+image_name)\n",
        "          test_image.append(image)\n",
        "        else:\n",
        "          image=cv2.imread(image_directory+image_name, 1)\n",
        "          image = Image.fromarray(image)\n",
        "          image = image.resize((SIZE, SIZE))\n",
        "          image_dataset.append(np.array(image))\n",
        "        flag=flag+1\n",
        "\n",
        "print(len(image_dataset))\n",
        "print(len(test_image))        \n"
      ],
      "metadata": {
        "colab": {
          "base_uri": "https://localhost:8080/"
        },
        "id": "qCg7bi8lk38z",
        "outputId": "c680fd37-075a-4cf6-d4e5-52b74bf96d20"
      },
      "execution_count": 6,
      "outputs": [
        {
          "output_type": "stream",
          "name": "stdout",
          "text": [
            "2785\n",
            "279\n"
          ]
        }
      ]
    },
    {
      "cell_type": "code",
      "source": [
        "flag = 0\n",
        "\n",
        "for i, image_name in enumerate(masks):\n",
        "    if (image_name.split('.')[1] == 'png'):\n",
        "        if flag%11==0:\n",
        "          image = cv2.imread(mask_directory+image_name)\n",
        "          ground_truth.append(image)\n",
        "        else:\n",
        "          image = cv2.imread(mask_directory+image_name, 0)\n",
        "          image = Image.fromarray(image)\n",
        "          image = image.resize((SIZE, SIZE))\n",
        "          mask_dataset.append(np.array(image))\n",
        "        flag=flag+1\n",
        "        \n",
        "print(len(mask_dataset))\n",
        "print(len(ground_truth))"
      ],
      "metadata": {
        "colab": {
          "base_uri": "https://localhost:8080/"
        },
        "id": "4Nivt2onk9MU",
        "outputId": "af3f676e-9b90-428b-bd15-3d06d4d0e7a4"
      },
      "execution_count": 7,
      "outputs": [
        {
          "output_type": "stream",
          "name": "stdout",
          "text": [
            "2785\n",
            "279\n"
          ]
        }
      ]
    },
    {
      "cell_type": "code",
      "source": [
        "#Normalize images\n",
        "image_dataset = np.array(image_dataset)/255.\n",
        "#D not normalize masks, just rescale to 0 to 1.\n",
        "mask_dataset = np.expand_dims((np.array(mask_dataset)),3) /255."
      ],
      "metadata": {
        "id": "6mcGkHGflJ1k"
      },
      "execution_count": 8,
      "outputs": []
    },
    {
      "cell_type": "code",
      "source": [
        "from sklearn.model_selection import train_test_split\n",
        "X_train, X_val, y_train, y_val = train_test_split(image_dataset, mask_dataset, test_size = 0.10, random_state = 0)\n",
        "print(len(X_train))\n",
        "print(len(X_val))"
      ],
      "metadata": {
        "colab": {
          "base_uri": "https://localhost:8080/"
        },
        "id": "WOPsUvIklLiN",
        "outputId": "b256997f-3e80-4b5d-d48b-19c6efa8a75e"
      },
      "execution_count": 9,
      "outputs": [
        {
          "output_type": "stream",
          "name": "stdout",
          "text": [
            "2506\n",
            "279\n"
          ]
        }
      ]
    },
    {
      "cell_type": "code",
      "source": [
        "num_labels = 1  #Binary\n",
        "input_shape = (128,128,3)\n",
        "batch_size = 16"
      ],
      "metadata": {
        "id": "ddyeS5I5lM0C"
      },
      "execution_count": 10,
      "outputs": []
    },
    {
      "cell_type": "code",
      "source": [
        "from keras_unet_collection import models, losses\n",
        "import numpy as np\n",
        "import tensorflow as tf\n",
        "from tensorflow.keras import backend as K\n",
        "from tensorflow.keras.layers import Reshape,Input\n",
        "from tensorflow import float32\n",
        "\n",
        "\n",
        "def iou(y_true, y_pred):\n",
        "    def f(y_true, y_pred):\n",
        "        intersection = (y_true * y_pred).sum()\n",
        "        union = y_true.sum() + y_pred.sum() - intersection\n",
        "        x = (intersection + 1e-15) / (union + 1e-15)\n",
        "        x = x.astype(np.float32)\n",
        "        return x\n",
        "    return tf.numpy_function(f, [y_true, y_pred], tf.float32)\n",
        "    \n",
        "model_att_unet = models.att_unet_2d((128, 128, 3), filter_num=[64, 128, 256, 512, 1024], \n",
        "                           n_labels=1, \n",
        "                           stack_num_down=2, stack_num_up=2, \n",
        "                           activation='ReLU', \n",
        "                           atten_activation='ReLU', attention='add', \n",
        "                           output_activation='Sigmoid', \n",
        "                           batch_norm=True, pool=False, unpool=False, \n",
        "                           backbone='VGG19', weights='imagenet',        # VGG16,ResNet50,VGG19,ResNet101,ResNet152,ResNet50V2, ResNet101V2, ResNet152V2\n",
        "                           freeze_backbone=True, freeze_batch_norm=True,     #DenseNet121, DenseNet169, DenseNet201,EfficientNetB[0,7]\n",
        "                           name='attunet')\n",
        "\n",
        "\n",
        "model_att_unet.compile(loss='binary_crossentropy', optimizer=Adam(lr = 1e-3), \n",
        "              metrics=['accuracy', losses.dice_coef,iou])\n",
        "\n",
        "print(model_att_unet.summary())"
      ],
      "metadata": {
        "colab": {
          "base_uri": "https://localhost:8080/"
        },
        "id": "G3uPf3nllOJu",
        "outputId": "7cfb646e-4d30-4cbf-baa5-73b4a5e30187"
      },
      "execution_count": 11,
      "outputs": [
        {
          "output_type": "stream",
          "name": "stderr",
          "text": [
            "/usr/local/lib/python3.8/dist-packages/keras_unet_collection/_backbone_zoo.py:45: UserWarning: \n",
            "\n",
            "Backbone VGG19 does not use batch norm, but other layers received batch_norm=True\n",
            "  warnings.warn(param_mismatch);\n"
          ]
        },
        {
          "output_type": "stream",
          "name": "stdout",
          "text": [
            "Downloading data from https://storage.googleapis.com/tensorflow/keras-applications/vgg19/vgg19_weights_tf_dim_ordering_tf_kernels_notop.h5\n",
            "80134624/80134624 [==============================] - 5s 0us/step\n",
            "Model: \"attunet_model\"\n",
            "__________________________________________________________________________________________________\n",
            " Layer (type)                   Output Shape         Param #     Connected to                     \n",
            "==================================================================================================\n",
            " input_1 (InputLayer)           [(None, 128, 128, 3  0           []                               \n",
            "                                )]                                                                \n",
            "                                                                                                  \n",
            " VGG19_backbone (Functional)    [(None, 128, 128, 6  20024384    ['input_1[0][0]']                \n",
            "                                4),                                                               \n",
            "                                 (None, 64, 64, 128                                               \n",
            "                                ),                                                                \n",
            "                                 (None, 32, 32, 256                                               \n",
            "                                ),                                                                \n",
            "                                 (None, 16, 16, 512                                               \n",
            "                                ),                                                                \n",
            "                                 (None, 8, 8, 512)]                                               \n",
            "                                                                                                  \n",
            " attunet_up0_decode_trans_conv   (None, 16, 16, 512)  2359808    ['VGG19_backbone[0][4]']         \n",
            " (Conv2DTranspose)                                                                                \n",
            "                                                                                                  \n",
            " attunet_up0_decode_bn (BatchNo  (None, 16, 16, 512)  2048       ['attunet_up0_decode_trans_conv[0\n",
            " rmalization)                                                    ][0]']                           \n",
            "                                                                                                  \n",
            " attunet_up0_decode_activation   (None, 16, 16, 512)  0          ['attunet_up0_decode_bn[0][0]']  \n",
            " (ReLU)                                                                                           \n",
            "                                                                                                  \n",
            " attunet_up0_att_theta_x (Conv2  (None, 16, 16, 256)  131328     ['VGG19_backbone[0][3]']         \n",
            " D)                                                                                               \n",
            "                                                                                                  \n",
            " attunet_up0_att_phi_g (Conv2D)  (None, 16, 16, 256)  131328     ['attunet_up0_decode_activation[0\n",
            "                                                                 ][0]']                           \n",
            "                                                                                                  \n",
            " attunet_up0_att_add (Add)      (None, 16, 16, 256)  0           ['attunet_up0_att_theta_x[0][0]',\n",
            "                                                                  'attunet_up0_att_phi_g[0][0]']  \n",
            "                                                                                                  \n",
            " attunet_up0_att_activation (Re  (None, 16, 16, 256)  0          ['attunet_up0_att_add[0][0]']    \n",
            " LU)                                                                                              \n",
            "                                                                                                  \n",
            " attunet_up0_att_psi_f (Conv2D)  (None, 16, 16, 1)   257         ['attunet_up0_att_activation[0][0\n",
            "                                                                 ]']                              \n",
            "                                                                                                  \n",
            " attunet_up0_att_sigmoid (Activ  (None, 16, 16, 1)   0           ['attunet_up0_att_psi_f[0][0]']  \n",
            " ation)                                                                                           \n",
            "                                                                                                  \n",
            " attunet_up0_att_masking (Multi  (None, 16, 16, 512)  0          ['VGG19_backbone[0][3]',         \n",
            " ply)                                                             'attunet_up0_att_sigmoid[0][0]']\n",
            "                                                                                                  \n",
            " attunet_up0_concat (Concatenat  (None, 16, 16, 1024  0          ['attunet_up0_decode_activation[0\n",
            " e)                             )                                ][0]',                           \n",
            "                                                                  'attunet_up0_att_masking[0][0]']\n",
            "                                                                                                  \n",
            " attunet_up0_conv_after_concat_  (None, 16, 16, 512)  4718592    ['attunet_up0_concat[0][0]']     \n",
            " 0 (Conv2D)                                                                                       \n",
            "                                                                                                  \n",
            " attunet_up0_conv_after_concat_  (None, 16, 16, 512)  2048       ['attunet_up0_conv_after_concat_0\n",
            " 0_bn (BatchNormalization)                                       [0][0]']                         \n",
            "                                                                                                  \n",
            " attunet_up0_conv_after_concat_  (None, 16, 16, 512)  0          ['attunet_up0_conv_after_concat_0\n",
            " 0_activation (ReLU)                                             _bn[0][0]']                      \n",
            "                                                                                                  \n",
            " attunet_up0_conv_after_concat_  (None, 16, 16, 512)  2359296    ['attunet_up0_conv_after_concat_0\n",
            " 1 (Conv2D)                                                      _activation[0][0]']              \n",
            "                                                                                                  \n",
            " attunet_up0_conv_after_concat_  (None, 16, 16, 512)  2048       ['attunet_up0_conv_after_concat_1\n",
            " 1_bn (BatchNormalization)                                       [0][0]']                         \n",
            "                                                                                                  \n",
            " attunet_up0_conv_after_concat_  (None, 16, 16, 512)  0          ['attunet_up0_conv_after_concat_1\n",
            " 1_activation (ReLU)                                             _bn[0][0]']                      \n",
            "                                                                                                  \n",
            " attunet_up1_decode_trans_conv   (None, 32, 32, 256)  1179904    ['attunet_up0_conv_after_concat_1\n",
            " (Conv2DTranspose)                                               _activation[0][0]']              \n",
            "                                                                                                  \n",
            " attunet_up1_decode_bn (BatchNo  (None, 32, 32, 256)  1024       ['attunet_up1_decode_trans_conv[0\n",
            " rmalization)                                                    ][0]']                           \n",
            "                                                                                                  \n",
            " attunet_up1_decode_activation   (None, 32, 32, 256)  0          ['attunet_up1_decode_bn[0][0]']  \n",
            " (ReLU)                                                                                           \n",
            "                                                                                                  \n",
            " attunet_up1_att_theta_x (Conv2  (None, 32, 32, 128)  32896      ['VGG19_backbone[0][2]']         \n",
            " D)                                                                                               \n",
            "                                                                                                  \n",
            " attunet_up1_att_phi_g (Conv2D)  (None, 32, 32, 128)  32896      ['attunet_up1_decode_activation[0\n",
            "                                                                 ][0]']                           \n",
            "                                                                                                  \n",
            " attunet_up1_att_add (Add)      (None, 32, 32, 128)  0           ['attunet_up1_att_theta_x[0][0]',\n",
            "                                                                  'attunet_up1_att_phi_g[0][0]']  \n",
            "                                                                                                  \n",
            " attunet_up1_att_activation (Re  (None, 32, 32, 128)  0          ['attunet_up1_att_add[0][0]']    \n",
            " LU)                                                                                              \n",
            "                                                                                                  \n",
            " attunet_up1_att_psi_f (Conv2D)  (None, 32, 32, 1)   129         ['attunet_up1_att_activation[0][0\n",
            "                                                                 ]']                              \n",
            "                                                                                                  \n",
            " attunet_up1_att_sigmoid (Activ  (None, 32, 32, 1)   0           ['attunet_up1_att_psi_f[0][0]']  \n",
            " ation)                                                                                           \n",
            "                                                                                                  \n",
            " attunet_up1_att_masking (Multi  (None, 32, 32, 256)  0          ['VGG19_backbone[0][2]',         \n",
            " ply)                                                             'attunet_up1_att_sigmoid[0][0]']\n",
            "                                                                                                  \n",
            " attunet_up1_concat (Concatenat  (None, 32, 32, 512)  0          ['attunet_up1_decode_activation[0\n",
            " e)                                                              ][0]',                           \n",
            "                                                                  'attunet_up1_att_masking[0][0]']\n",
            "                                                                                                  \n",
            " attunet_up1_conv_after_concat_  (None, 32, 32, 256)  1179648    ['attunet_up1_concat[0][0]']     \n",
            " 0 (Conv2D)                                                                                       \n",
            "                                                                                                  \n",
            " attunet_up1_conv_after_concat_  (None, 32, 32, 256)  1024       ['attunet_up1_conv_after_concat_0\n",
            " 0_bn (BatchNormalization)                                       [0][0]']                         \n",
            "                                                                                                  \n",
            " attunet_up1_conv_after_concat_  (None, 32, 32, 256)  0          ['attunet_up1_conv_after_concat_0\n",
            " 0_activation (ReLU)                                             _bn[0][0]']                      \n",
            "                                                                                                  \n",
            " attunet_up1_conv_after_concat_  (None, 32, 32, 256)  589824     ['attunet_up1_conv_after_concat_0\n",
            " 1 (Conv2D)                                                      _activation[0][0]']              \n",
            "                                                                                                  \n",
            " attunet_up1_conv_after_concat_  (None, 32, 32, 256)  1024       ['attunet_up1_conv_after_concat_1\n",
            " 1_bn (BatchNormalization)                                       [0][0]']                         \n",
            "                                                                                                  \n",
            " attunet_up1_conv_after_concat_  (None, 32, 32, 256)  0          ['attunet_up1_conv_after_concat_1\n",
            " 1_activation (ReLU)                                             _bn[0][0]']                      \n",
            "                                                                                                  \n",
            " attunet_up2_decode_trans_conv   (None, 64, 64, 128)  295040     ['attunet_up1_conv_after_concat_1\n",
            " (Conv2DTranspose)                                               _activation[0][0]']              \n",
            "                                                                                                  \n",
            " attunet_up2_decode_bn (BatchNo  (None, 64, 64, 128)  512        ['attunet_up2_decode_trans_conv[0\n",
            " rmalization)                                                    ][0]']                           \n",
            "                                                                                                  \n",
            " attunet_up2_decode_activation   (None, 64, 64, 128)  0          ['attunet_up2_decode_bn[0][0]']  \n",
            " (ReLU)                                                                                           \n",
            "                                                                                                  \n",
            " attunet_up2_att_theta_x (Conv2  (None, 64, 64, 64)  8256        ['VGG19_backbone[0][1]']         \n",
            " D)                                                                                               \n",
            "                                                                                                  \n",
            " attunet_up2_att_phi_g (Conv2D)  (None, 64, 64, 64)  8256        ['attunet_up2_decode_activation[0\n",
            "                                                                 ][0]']                           \n",
            "                                                                                                  \n",
            " attunet_up2_att_add (Add)      (None, 64, 64, 64)   0           ['attunet_up2_att_theta_x[0][0]',\n",
            "                                                                  'attunet_up2_att_phi_g[0][0]']  \n",
            "                                                                                                  \n",
            " attunet_up2_att_activation (Re  (None, 64, 64, 64)  0           ['attunet_up2_att_add[0][0]']    \n",
            " LU)                                                                                              \n",
            "                                                                                                  \n",
            " attunet_up2_att_psi_f (Conv2D)  (None, 64, 64, 1)   65          ['attunet_up2_att_activation[0][0\n",
            "                                                                 ]']                              \n",
            "                                                                                                  \n",
            " attunet_up2_att_sigmoid (Activ  (None, 64, 64, 1)   0           ['attunet_up2_att_psi_f[0][0]']  \n",
            " ation)                                                                                           \n",
            "                                                                                                  \n",
            " attunet_up2_att_masking (Multi  (None, 64, 64, 128)  0          ['VGG19_backbone[0][1]',         \n"
          ]
        },
        {
          "output_type": "stream",
          "name": "stderr",
          "text": [
            "/usr/local/lib/python3.8/dist-packages/keras/optimizers/optimizer_v2/adam.py:110: UserWarning: The `lr` argument is deprecated, use `learning_rate` instead.\n",
            "  super(Adam, self).__init__(name, **kwargs)\n"
          ]
        },
        {
          "output_type": "stream",
          "name": "stdout",
          "text": [
            " ply)                                                             'attunet_up2_att_sigmoid[0][0]']\n",
            "                                                                                                  \n",
            " attunet_up2_concat (Concatenat  (None, 64, 64, 256)  0          ['attunet_up2_decode_activation[0\n",
            " e)                                                              ][0]',                           \n",
            "                                                                  'attunet_up2_att_masking[0][0]']\n",
            "                                                                                                  \n",
            " attunet_up2_conv_after_concat_  (None, 64, 64, 128)  294912     ['attunet_up2_concat[0][0]']     \n",
            " 0 (Conv2D)                                                                                       \n",
            "                                                                                                  \n",
            " attunet_up2_conv_after_concat_  (None, 64, 64, 128)  512        ['attunet_up2_conv_after_concat_0\n",
            " 0_bn (BatchNormalization)                                       [0][0]']                         \n",
            "                                                                                                  \n",
            " attunet_up2_conv_after_concat_  (None, 64, 64, 128)  0          ['attunet_up2_conv_after_concat_0\n",
            " 0_activation (ReLU)                                             _bn[0][0]']                      \n",
            "                                                                                                  \n",
            " attunet_up2_conv_after_concat_  (None, 64, 64, 128)  147456     ['attunet_up2_conv_after_concat_0\n",
            " 1 (Conv2D)                                                      _activation[0][0]']              \n",
            "                                                                                                  \n",
            " attunet_up2_conv_after_concat_  (None, 64, 64, 128)  512        ['attunet_up2_conv_after_concat_1\n",
            " 1_bn (BatchNormalization)                                       [0][0]']                         \n",
            "                                                                                                  \n",
            " attunet_up2_conv_after_concat_  (None, 64, 64, 128)  0          ['attunet_up2_conv_after_concat_1\n",
            " 1_activation (ReLU)                                             _bn[0][0]']                      \n",
            "                                                                                                  \n",
            " attunet_up3_decode_trans_conv   (None, 128, 128, 64  73792      ['attunet_up2_conv_after_concat_1\n",
            " (Conv2DTranspose)              )                                _activation[0][0]']              \n",
            "                                                                                                  \n",
            " attunet_up3_decode_bn (BatchNo  (None, 128, 128, 64  256        ['attunet_up3_decode_trans_conv[0\n",
            " rmalization)                   )                                ][0]']                           \n",
            "                                                                                                  \n",
            " attunet_up3_decode_activation   (None, 128, 128, 64  0          ['attunet_up3_decode_bn[0][0]']  \n",
            " (ReLU)                         )                                                                 \n",
            "                                                                                                  \n",
            " attunet_up3_att_theta_x (Conv2  (None, 128, 128, 32  2080       ['VGG19_backbone[0][0]']         \n",
            " D)                             )                                                                 \n",
            "                                                                                                  \n",
            " attunet_up3_att_phi_g (Conv2D)  (None, 128, 128, 32  2080       ['attunet_up3_decode_activation[0\n",
            "                                )                                ][0]']                           \n",
            "                                                                                                  \n",
            " attunet_up3_att_add (Add)      (None, 128, 128, 32  0           ['attunet_up3_att_theta_x[0][0]',\n",
            "                                )                                 'attunet_up3_att_phi_g[0][0]']  \n",
            "                                                                                                  \n",
            " attunet_up3_att_activation (Re  (None, 128, 128, 32  0          ['attunet_up3_att_add[0][0]']    \n",
            " LU)                            )                                                                 \n",
            "                                                                                                  \n",
            " attunet_up3_att_psi_f (Conv2D)  (None, 128, 128, 1)  33         ['attunet_up3_att_activation[0][0\n",
            "                                                                 ]']                              \n",
            "                                                                                                  \n",
            " attunet_up3_att_sigmoid (Activ  (None, 128, 128, 1)  0          ['attunet_up3_att_psi_f[0][0]']  \n",
            " ation)                                                                                           \n",
            "                                                                                                  \n",
            " attunet_up3_att_masking (Multi  (None, 128, 128, 64  0          ['VGG19_backbone[0][0]',         \n",
            " ply)                           )                                 'attunet_up3_att_sigmoid[0][0]']\n",
            "                                                                                                  \n",
            " attunet_up3_concat (Concatenat  (None, 128, 128, 12  0          ['attunet_up3_decode_activation[0\n",
            " e)                             8)                               ][0]',                           \n",
            "                                                                  'attunet_up3_att_masking[0][0]']\n",
            "                                                                                                  \n",
            " attunet_up3_conv_after_concat_  (None, 128, 128, 64  73728      ['attunet_up3_concat[0][0]']     \n",
            " 0 (Conv2D)                     )                                                                 \n",
            "                                                                                                  \n",
            " attunet_up3_conv_after_concat_  (None, 128, 128, 64  256        ['attunet_up3_conv_after_concat_0\n",
            " 0_bn (BatchNormalization)      )                                [0][0]']                         \n",
            "                                                                                                  \n",
            " attunet_up3_conv_after_concat_  (None, 128, 128, 64  0          ['attunet_up3_conv_after_concat_0\n",
            " 0_activation (ReLU)            )                                _bn[0][0]']                      \n",
            "                                                                                                  \n",
            " attunet_up3_conv_after_concat_  (None, 128, 128, 64  36864      ['attunet_up3_conv_after_concat_0\n",
            " 1 (Conv2D)                     )                                _activation[0][0]']              \n",
            "                                                                                                  \n",
            " attunet_up3_conv_after_concat_  (None, 128, 128, 64  256        ['attunet_up3_conv_after_concat_1\n",
            " 1_bn (BatchNormalization)      )                                [0][0]']                         \n",
            "                                                                                                  \n",
            " attunet_up3_conv_after_concat_  (None, 128, 128, 64  0          ['attunet_up3_conv_after_concat_1\n",
            " 1_activation (ReLU)            )                                _bn[0][0]']                      \n",
            "                                                                                                  \n",
            " attunet_output (Conv2D)        (None, 128, 128, 1)  65          ['attunet_up3_conv_after_concat_1\n",
            "                                                                 _activation[0][0]']              \n",
            "                                                                                                  \n",
            " attunet_output_activation (Act  (None, 128, 128, 1)  0          ['attunet_output[0][0]']         \n",
            " ivation)                                                                                         \n",
            "                                                                                                  \n",
            "==================================================================================================\n",
            "Total params: 33,694,437\n",
            "Trainable params: 13,664,293\n",
            "Non-trainable params: 20,030,144\n",
            "__________________________________________________________________________________________________\n",
            "None\n"
          ]
        }
      ]
    },
    {
      "cell_type": "code",
      "source": [
        "model_att_unet_history = model_att_unet.fit(X_train, y_train, \n",
        "                    verbose=1,\n",
        "                    batch_size = batch_size,\n",
        "                    validation_data=(X_val, y_val ), \n",
        "                    shuffle=False,\n",
        "                    epochs=30)\n",
        "model_att_unet.save('attention_unet_model_brain_tumor.hdf5')\n",
        "import pandas as pd    \n",
        "att_unet_history_df = pd.DataFrame(model_att_unet_history.history) \n",
        "with open('att_unet_history_df.csv', mode='w') as f:\n",
        "    att_unet_history_df.to_csv(f)    "
      ],
      "metadata": {
        "colab": {
          "base_uri": "https://localhost:8080/"
        },
        "id": "31CyrX7NlRAY",
        "outputId": "b03eb614-a390-4ab2-9b25-ba1c3df5c4f8"
      },
      "execution_count": 12,
      "outputs": [
        {
          "output_type": "stream",
          "name": "stdout",
          "text": [
            "Epoch 1/30\n",
            "157/157 [==============================] - 62s 286ms/step - loss: 0.0932 - accuracy: 0.9774 - dice_coef: 0.1757 - iou: 0.0992 - val_loss: 0.0568 - val_accuracy: 0.9772 - val_dice_coef: 0.2793 - val_iou: 0.1627\n",
            "Epoch 2/30\n",
            "157/157 [==============================] - 36s 230ms/step - loss: 0.0363 - accuracy: 0.9866 - dice_coef: 0.4169 - iou: 0.2655 - val_loss: 0.0572 - val_accuracy: 0.9741 - val_dice_coef: 0.4175 - val_iou: 0.2646\n",
            "Epoch 3/30\n",
            "157/157 [==============================] - 37s 233ms/step - loss: 0.0276 - accuracy: 0.9882 - dice_coef: 0.5366 - iou: 0.3688 - val_loss: 0.0317 - val_accuracy: 0.9857 - val_dice_coef: 0.5497 - val_iou: 0.3802\n",
            "Epoch 4/30\n",
            "157/157 [==============================] - 36s 232ms/step - loss: 0.0238 - accuracy: 0.9890 - dice_coef: 0.5980 - iou: 0.4285 - val_loss: 0.0273 - val_accuracy: 0.9871 - val_dice_coef: 0.6067 - val_iou: 0.4366\n",
            "Epoch 5/30\n",
            "157/157 [==============================] - 36s 232ms/step - loss: 0.0203 - accuracy: 0.9900 - dice_coef: 0.6525 - iou: 0.4864 - val_loss: 0.0280 - val_accuracy: 0.9870 - val_dice_coef: 0.5759 - val_iou: 0.4058\n",
            "Epoch 6/30\n",
            "157/157 [==============================] - 36s 232ms/step - loss: 0.0181 - accuracy: 0.9905 - dice_coef: 0.6880 - iou: 0.5267 - val_loss: 0.0296 - val_accuracy: 0.9877 - val_dice_coef: 0.6351 - val_iou: 0.4672\n",
            "Epoch 7/30\n",
            "157/157 [==============================] - 36s 232ms/step - loss: 0.0168 - accuracy: 0.9909 - dice_coef: 0.7108 - iou: 0.5535 - val_loss: 0.0272 - val_accuracy: 0.9877 - val_dice_coef: 0.6118 - val_iou: 0.4428\n",
            "Epoch 8/30\n",
            "157/157 [==============================] - 36s 232ms/step - loss: 0.0155 - accuracy: 0.9912 - dice_coef: 0.7304 - iou: 0.5777 - val_loss: 0.0275 - val_accuracy: 0.9875 - val_dice_coef: 0.6552 - val_iou: 0.4891\n",
            "Epoch 9/30\n",
            "157/157 [==============================] - 36s 232ms/step - loss: 0.0142 - accuracy: 0.9916 - dice_coef: 0.7527 - iou: 0.6051 - val_loss: 0.0322 - val_accuracy: 0.9860 - val_dice_coef: 0.6626 - val_iou: 0.4978\n",
            "Epoch 10/30\n",
            "157/157 [==============================] - 36s 232ms/step - loss: 0.0135 - accuracy: 0.9918 - dice_coef: 0.7626 - iou: 0.6183 - val_loss: 0.0296 - val_accuracy: 0.9880 - val_dice_coef: 0.6712 - val_iou: 0.5085\n",
            "Epoch 11/30\n",
            "157/157 [==============================] - 36s 232ms/step - loss: 0.0125 - accuracy: 0.9922 - dice_coef: 0.7797 - iou: 0.6407 - val_loss: 0.0267 - val_accuracy: 0.9891 - val_dice_coef: 0.7171 - val_iou: 0.5615\n",
            "Epoch 12/30\n",
            "157/157 [==============================] - 36s 232ms/step - loss: 0.0120 - accuracy: 0.9923 - dice_coef: 0.7895 - iou: 0.6539 - val_loss: 0.0289 - val_accuracy: 0.9880 - val_dice_coef: 0.6901 - val_iou: 0.5292\n",
            "Epoch 13/30\n",
            "157/157 [==============================] - 36s 232ms/step - loss: 0.0114 - accuracy: 0.9925 - dice_coef: 0.7990 - iou: 0.6669 - val_loss: 0.0329 - val_accuracy: 0.9885 - val_dice_coef: 0.6954 - val_iou: 0.5364\n",
            "Epoch 14/30\n",
            "157/157 [==============================] - 36s 232ms/step - loss: 0.0107 - accuracy: 0.9927 - dice_coef: 0.8111 - iou: 0.6832 - val_loss: 0.0388 - val_accuracy: 0.9880 - val_dice_coef: 0.6774 - val_iou: 0.5156\n",
            "Epoch 15/30\n",
            "157/157 [==============================] - 37s 238ms/step - loss: 0.0107 - accuracy: 0.9927 - dice_coef: 0.8123 - iou: 0.6851 - val_loss: 0.0323 - val_accuracy: 0.9877 - val_dice_coef: 0.6530 - val_iou: 0.4875\n",
            "Epoch 16/30\n",
            "157/157 [==============================] - 37s 238ms/step - loss: 0.0097 - accuracy: 0.9930 - dice_coef: 0.8265 - iou: 0.7053 - val_loss: 0.0301 - val_accuracy: 0.9881 - val_dice_coef: 0.6830 - val_iou: 0.5208\n",
            "Epoch 17/30\n",
            "157/157 [==============================] - 37s 233ms/step - loss: 0.0089 - accuracy: 0.9932 - dice_coef: 0.8391 - iou: 0.7235 - val_loss: 0.0241 - val_accuracy: 0.9888 - val_dice_coef: 0.7329 - val_iou: 0.5806\n",
            "Epoch 18/30\n",
            "157/157 [==============================] - 37s 233ms/step - loss: 0.0084 - accuracy: 0.9934 - dice_coef: 0.8473 - iou: 0.7356 - val_loss: 0.0267 - val_accuracy: 0.9889 - val_dice_coef: 0.7308 - val_iou: 0.5788\n",
            "Epoch 19/30\n",
            "157/157 [==============================] - 36s 232ms/step - loss: 0.0082 - accuracy: 0.9935 - dice_coef: 0.8532 - iou: 0.7445 - val_loss: 0.0279 - val_accuracy: 0.9888 - val_dice_coef: 0.7259 - val_iou: 0.5724\n",
            "Epoch 20/30\n",
            "157/157 [==============================] - 36s 232ms/step - loss: 0.0083 - accuracy: 0.9935 - dice_coef: 0.8516 - iou: 0.7424 - val_loss: 0.0330 - val_accuracy: 0.9888 - val_dice_coef: 0.7295 - val_iou: 0.5765\n",
            "Epoch 21/30\n",
            "157/157 [==============================] - 36s 232ms/step - loss: 0.0079 - accuracy: 0.9936 - dice_coef: 0.8572 - iou: 0.7507 - val_loss: 0.0269 - val_accuracy: 0.9889 - val_dice_coef: 0.7361 - val_iou: 0.5849\n",
            "Epoch 22/30\n",
            "157/157 [==============================] - 36s 232ms/step - loss: 0.0079 - accuracy: 0.9936 - dice_coef: 0.8589 - iou: 0.7535 - val_loss: 0.0322 - val_accuracy: 0.9876 - val_dice_coef: 0.7368 - val_iou: 0.5875\n",
            "Epoch 23/30\n",
            "157/157 [==============================] - 36s 232ms/step - loss: 0.0075 - accuracy: 0.9937 - dice_coef: 0.8641 - iou: 0.7614 - val_loss: 0.0292 - val_accuracy: 0.9888 - val_dice_coef: 0.7390 - val_iou: 0.5893\n",
            "Epoch 24/30\n",
            "157/157 [==============================] - 36s 232ms/step - loss: 0.0072 - accuracy: 0.9938 - dice_coef: 0.8695 - iou: 0.7695 - val_loss: 0.0282 - val_accuracy: 0.9887 - val_dice_coef: 0.7351 - val_iou: 0.5837\n",
            "Epoch 25/30\n",
            "157/157 [==============================] - 36s 233ms/step - loss: 0.0068 - accuracy: 0.9939 - dice_coef: 0.8761 - iou: 0.7799 - val_loss: 0.0279 - val_accuracy: 0.9890 - val_dice_coef: 0.7377 - val_iou: 0.5874\n",
            "Epoch 26/30\n",
            "157/157 [==============================] - 36s 232ms/step - loss: 0.0067 - accuracy: 0.9940 - dice_coef: 0.8783 - iou: 0.7834 - val_loss: 0.0309 - val_accuracy: 0.9892 - val_dice_coef: 0.7404 - val_iou: 0.5905\n",
            "Epoch 27/30\n",
            "157/157 [==============================] - 37s 233ms/step - loss: 0.0063 - accuracy: 0.9941 - dice_coef: 0.8850 - iou: 0.7941 - val_loss: 0.0328 - val_accuracy: 0.9892 - val_dice_coef: 0.7371 - val_iou: 0.5862\n",
            "Epoch 28/30\n",
            "157/157 [==============================] - 36s 232ms/step - loss: 0.0059 - accuracy: 0.9942 - dice_coef: 0.8909 - iou: 0.8037 - val_loss: 0.0379 - val_accuracy: 0.9892 - val_dice_coef: 0.7309 - val_iou: 0.5789\n",
            "Epoch 29/30\n",
            "157/157 [==============================] - 36s 232ms/step - loss: 0.0057 - accuracy: 0.9943 - dice_coef: 0.8945 - iou: 0.8095 - val_loss: 0.0322 - val_accuracy: 0.9895 - val_dice_coef: 0.7507 - val_iou: 0.6038\n",
            "Epoch 30/30\n",
            "157/157 [==============================] - 36s 232ms/step - loss: 0.0059 - accuracy: 0.9942 - dice_coef: 0.8931 - iou: 0.8072 - val_loss: 0.0352 - val_accuracy: 0.9891 - val_dice_coef: 0.7309 - val_iou: 0.5781\n"
          ]
        }
      ]
    },
    {
      "cell_type": "markdown",
      "source": [
        "Training model with callbacks"
      ],
      "metadata": {
        "id": "2QdN9dKVsaZd"
      }
    },
    {
      "cell_type": "code",
      "source": [
        "from tensorflow.keras.callbacks import ModelCheckpoint, CSVLogger, ReduceLROnPlateau, EarlyStopping, TensorBoard\n",
        "def create_dir(path):\n",
        "    \"\"\" Create a directory. \"\"\"\n",
        "    if not os.path.exists(path):\n",
        "        os.makedirs(path)\n",
        "create_dir(\"files\")\n",
        "model_path = os.path.join(\"files\", \"attention_unet_model_brain_tumor.h5\")\n",
        "csv_path = os.path.join(\"files\", \"attention_unet_model_brain_tumor.csv\")\n",
        "callbacks = [\n",
        "        ModelCheckpoint(model_path, verbose=1, save_best_only=True),\n",
        "        ReduceLROnPlateau(monitor='val_loss', factor=0.1, patience=5, min_lr=1e-7, verbose=1),\n",
        "        CSVLogger(csv_path),\n",
        "        EarlyStopping(monitor='val_loss', patience=15, restore_best_weights=False),\n",
        "    ]\n",
        "model_att_unet_history = model_att_unet.fit(X_train, y_train, \n",
        "                    verbose=1,\n",
        "                    batch_size = batch_size,\n",
        "                    validation_data=(X_val, y_val), \n",
        "                    shuffle=False,\n",
        "                    epochs=30,\n",
        "                    callbacks=callbacks)"
      ],
      "metadata": {
        "colab": {
          "base_uri": "https://localhost:8080/"
        },
        "id": "wRIICTcnlbaK",
        "outputId": "deabe724-7f0a-4e20-edd3-064a312e0bb2"
      },
      "execution_count": 23,
      "outputs": [
        {
          "output_type": "stream",
          "name": "stdout",
          "text": [
            "Epoch 1/30\n",
            "157/157 [==============================] - ETA: 0s - loss: 0.0051 - accuracy: 0.9944 - dice_coef: 0.9047 - iou: 0.8261\n",
            "Epoch 1: val_loss improved from inf to 0.02777, saving model to files/attention_unet_model_brain_tumor.h5\n",
            "157/157 [==============================] - 39s 245ms/step - loss: 0.0051 - accuracy: 0.9944 - dice_coef: 0.9047 - iou: 0.8261 - val_loss: 0.0278 - val_accuracy: 0.9896 - val_dice_coef: 0.7565 - val_iou: 0.6110 - lr: 0.0010\n",
            "Epoch 2/30\n",
            "157/157 [==============================] - ETA: 0s - loss: 0.0050 - accuracy: 0.9945 - dice_coef: 0.9084 - iou: 0.8323\n",
            "Epoch 2: val_loss did not improve from 0.02777\n",
            "157/157 [==============================] - 36s 229ms/step - loss: 0.0050 - accuracy: 0.9945 - dice_coef: 0.9084 - iou: 0.8323 - val_loss: 0.0302 - val_accuracy: 0.9894 - val_dice_coef: 0.7497 - val_iou: 0.6022 - lr: 0.0010\n",
            "Epoch 3/30\n",
            "157/157 [==============================] - ETA: 0s - loss: 0.0048 - accuracy: 0.9945 - dice_coef: 0.9106 - iou: 0.8361\n",
            "Epoch 3: val_loss did not improve from 0.02777\n",
            "157/157 [==============================] - 36s 232ms/step - loss: 0.0048 - accuracy: 0.9945 - dice_coef: 0.9106 - iou: 0.8361 - val_loss: 0.0330 - val_accuracy: 0.9892 - val_dice_coef: 0.7467 - val_iou: 0.5985 - lr: 0.0010\n",
            "Epoch 4/30\n",
            "157/157 [==============================] - ETA: 0s - loss: 0.0050 - accuracy: 0.9945 - dice_coef: 0.9084 - iou: 0.8324\n",
            "Epoch 4: val_loss did not improve from 0.02777\n",
            "157/157 [==============================] - 36s 232ms/step - loss: 0.0050 - accuracy: 0.9945 - dice_coef: 0.9084 - iou: 0.8324 - val_loss: 0.0385 - val_accuracy: 0.9891 - val_dice_coef: 0.7444 - val_iou: 0.5954 - lr: 0.0010\n",
            "Epoch 5/30\n",
            "157/157 [==============================] - ETA: 0s - loss: 0.0053 - accuracy: 0.9944 - dice_coef: 0.9032 - iou: 0.8238\n",
            "Epoch 5: val_loss did not improve from 0.02777\n",
            "157/157 [==============================] - 36s 231ms/step - loss: 0.0053 - accuracy: 0.9944 - dice_coef: 0.9032 - iou: 0.8238 - val_loss: 0.0337 - val_accuracy: 0.9891 - val_dice_coef: 0.7401 - val_iou: 0.5899 - lr: 0.0010\n",
            "Epoch 6/30\n",
            "157/157 [==============================] - ETA: 0s - loss: 0.0059 - accuracy: 0.9942 - dice_coef: 0.8935 - iou: 0.8079\n",
            "Epoch 6: val_loss did not improve from 0.02777\n",
            "\n",
            "Epoch 6: ReduceLROnPlateau reducing learning rate to 0.00010000000474974513.\n",
            "157/157 [==============================] - 36s 232ms/step - loss: 0.0059 - accuracy: 0.9942 - dice_coef: 0.8935 - iou: 0.8079 - val_loss: 0.0318 - val_accuracy: 0.9892 - val_dice_coef: 0.7493 - val_iou: 0.6010 - lr: 0.0010\n",
            "Epoch 7/30\n",
            "157/157 [==============================] - ETA: 0s - loss: 0.0051 - accuracy: 0.9945 - dice_coef: 0.9040 - iou: 0.8251\n",
            "Epoch 7: val_loss did not improve from 0.02777\n",
            "157/157 [==============================] - 36s 232ms/step - loss: 0.0051 - accuracy: 0.9945 - dice_coef: 0.9040 - iou: 0.8251 - val_loss: 0.0286 - val_accuracy: 0.9898 - val_dice_coef: 0.7705 - val_iou: 0.6285 - lr: 1.0000e-04\n",
            "Epoch 8/30\n",
            "157/157 [==============================] - ETA: 0s - loss: 0.0045 - accuracy: 0.9946 - dice_coef: 0.9162 - iou: 0.8455\n",
            "Epoch 8: val_loss did not improve from 0.02777\n",
            "157/157 [==============================] - 36s 232ms/step - loss: 0.0045 - accuracy: 0.9946 - dice_coef: 0.9162 - iou: 0.8455 - val_loss: 0.0299 - val_accuracy: 0.9898 - val_dice_coef: 0.7713 - val_iou: 0.6296 - lr: 1.0000e-04\n",
            "Epoch 9/30\n",
            "157/157 [==============================] - ETA: 0s - loss: 0.0042 - accuracy: 0.9947 - dice_coef: 0.9205 - iou: 0.8528\n",
            "Epoch 9: val_loss did not improve from 0.02777\n",
            "157/157 [==============================] - 36s 232ms/step - loss: 0.0042 - accuracy: 0.9947 - dice_coef: 0.9205 - iou: 0.8528 - val_loss: 0.0312 - val_accuracy: 0.9898 - val_dice_coef: 0.7718 - val_iou: 0.6304 - lr: 1.0000e-04\n",
            "Epoch 10/30\n",
            "157/157 [==============================] - ETA: 0s - loss: 0.0041 - accuracy: 0.9947 - dice_coef: 0.9234 - iou: 0.8578\n",
            "Epoch 10: val_loss did not improve from 0.02777\n",
            "157/157 [==============================] - 36s 232ms/step - loss: 0.0041 - accuracy: 0.9947 - dice_coef: 0.9234 - iou: 0.8578 - val_loss: 0.0324 - val_accuracy: 0.9898 - val_dice_coef: 0.7722 - val_iou: 0.6309 - lr: 1.0000e-04\n",
            "Epoch 11/30\n",
            "157/157 [==============================] - ETA: 0s - loss: 0.0039 - accuracy: 0.9948 - dice_coef: 0.9257 - iou: 0.8618\n",
            "Epoch 11: val_loss did not improve from 0.02777\n",
            "\n",
            "Epoch 11: ReduceLROnPlateau reducing learning rate to 1.0000000474974514e-05.\n",
            "157/157 [==============================] - 36s 232ms/step - loss: 0.0039 - accuracy: 0.9948 - dice_coef: 0.9257 - iou: 0.8618 - val_loss: 0.0334 - val_accuracy: 0.9898 - val_dice_coef: 0.7724 - val_iou: 0.6312 - lr: 1.0000e-04\n",
            "Epoch 12/30\n",
            "157/157 [==============================] - ETA: 0s - loss: 0.0038 - accuracy: 0.9948 - dice_coef: 0.9277 - iou: 0.8653\n",
            "Epoch 12: val_loss did not improve from 0.02777\n",
            "157/157 [==============================] - 36s 232ms/step - loss: 0.0038 - accuracy: 0.9948 - dice_coef: 0.9277 - iou: 0.8653 - val_loss: 0.0337 - val_accuracy: 0.9898 - val_dice_coef: 0.7740 - val_iou: 0.6334 - lr: 1.0000e-05\n",
            "Epoch 13/30\n",
            "157/157 [==============================] - ETA: 0s - loss: 0.0038 - accuracy: 0.9948 - dice_coef: 0.9282 - iou: 0.8661\n",
            "Epoch 13: val_loss did not improve from 0.02777\n",
            "157/157 [==============================] - 36s 232ms/step - loss: 0.0038 - accuracy: 0.9948 - dice_coef: 0.9282 - iou: 0.8661 - val_loss: 0.0339 - val_accuracy: 0.9898 - val_dice_coef: 0.7745 - val_iou: 0.6340 - lr: 1.0000e-05\n",
            "Epoch 14/30\n",
            "157/157 [==============================] - ETA: 0s - loss: 0.0038 - accuracy: 0.9948 - dice_coef: 0.9285 - iou: 0.8667\n",
            "Epoch 14: val_loss did not improve from 0.02777\n",
            "157/157 [==============================] - 36s 232ms/step - loss: 0.0038 - accuracy: 0.9948 - dice_coef: 0.9285 - iou: 0.8667 - val_loss: 0.0340 - val_accuracy: 0.9898 - val_dice_coef: 0.7746 - val_iou: 0.6342 - lr: 1.0000e-05\n",
            "Epoch 15/30\n",
            "157/157 [==============================] - ETA: 0s - loss: 0.0038 - accuracy: 0.9948 - dice_coef: 0.9288 - iou: 0.8672\n",
            "Epoch 15: val_loss did not improve from 0.02777\n",
            "157/157 [==============================] - 36s 232ms/step - loss: 0.0038 - accuracy: 0.9948 - dice_coef: 0.9288 - iou: 0.8672 - val_loss: 0.0342 - val_accuracy: 0.9898 - val_dice_coef: 0.7746 - val_iou: 0.6342 - lr: 1.0000e-05\n",
            "Epoch 16/30\n",
            "157/157 [==============================] - ETA: 0s - loss: 0.0038 - accuracy: 0.9948 - dice_coef: 0.9291 - iou: 0.8677\n",
            "Epoch 16: val_loss did not improve from 0.02777\n",
            "\n",
            "Epoch 16: ReduceLROnPlateau reducing learning rate to 1.0000000656873453e-06.\n",
            "157/157 [==============================] - 36s 232ms/step - loss: 0.0038 - accuracy: 0.9948 - dice_coef: 0.9291 - iou: 0.8677 - val_loss: 0.0343 - val_accuracy: 0.9898 - val_dice_coef: 0.7746 - val_iou: 0.6342 - lr: 1.0000e-05\n"
          ]
        }
      ]
    },
    {
      "cell_type": "code",
      "source": [
        "n=0\n",
        "\n",
        "test_img_input = cv2.resize(test_image[n], (128, 128))\n",
        "test_img_input = np.expand_dims(test_img_input, 0)\n",
        "test_img_input = test_img_input / 255.0\n",
        "test_img_input = test_img_input.astype(np.float32)\n",
        "model = tf.keras.models.load_model(\"/content/attention_unet_model_brain_tumor.hdf5\",compile=False)\n",
        "prediction = (model.predict(test_img_input)[0,:,:,0] > 0.5).astype(np.uint8)\n",
        "plt.subplot(1, 3, 1)\n",
        "plt.imshow(test_image[n])\n",
        "plt.title(\"Input\")\n",
        "plt.subplot(1, 3, 2)\n",
        "plt.imshow(ground_truth[n])\n",
        "plt.title(\"Groung_truth\")\n",
        "plt.subplot(1,3,3)\n",
        "plt.imshow(prediction,cmap='gray')\n",
        "plt.title(\"Output\")"
      ],
      "metadata": {
        "colab": {
          "base_uri": "https://localhost:8080/",
          "height": 197
        },
        "id": "ggoE8BAUlfwh",
        "outputId": "a7d37a24-97b3-43dd-a6b6-1f27c23ea2e6"
      },
      "execution_count": 19,
      "outputs": [
        {
          "output_type": "stream",
          "name": "stdout",
          "text": [
            "1/1 [==============================] - 0s 430ms/step\n"
          ]
        },
        {
          "output_type": "execute_result",
          "data": {
            "text/plain": [
              "Text(0.5, 1.0, 'Output')"
            ]
          },
          "metadata": {},
          "execution_count": 19
        },
        {
          "output_type": "display_data",
          "data": {
            "text/plain": [
              "<Figure size 432x288 with 3 Axes>"
            ],
            "image/png": "[encoded data removed]"
          },
          "metadata": {
            "needs_background": "light"
          }
        }
      ]
    },
    {
      "cell_type": "code",
      "source": [
        "import pandas as pd\n",
        "import matplotlib.pyplot as plt\n",
        "x=pd.read_csv(\"/content/att_unet_history_df.csv\")\n",
        "epoch=x.iloc[:,0:1].values\n",
        "regular_iou=x.iloc[:,3:4].values\n",
        "val_iou=x.iloc[:,8:9].values \n",
        "plt.plot(epoch,regular_iou,label='regular iou')\n",
        "plt.plot(epoch,val_iou,label='validation iou')\n",
        "plt.legend()\n",
        "plt.show()"
      ],
      "metadata": {
        "colab": {
          "base_uri": "https://localhost:8080/",
          "height": 265
        },
        "id": "F3TZJdLiqIb4",
        "outputId": "2c27fc0f-6622-4b0e-a383-69cfeafc2c9b"
      },
      "execution_count": 22,
      "outputs": [
        {
          "output_type": "display_data",
          "data": {
            "text/plain": [
              "<Figure size 432x288 with 1 Axes>"
            ],
            "image/png": "[encoded data removed]"
          },
          "metadata": {
            "needs_background": "light"
          }
        }
      ]
    },
    {
      "cell_type": "code",
      "source": [],
      "metadata": {
        "id": "AR625z7WsN9y"
      },
      "execution_count": null,
      "outputs": []
    }
  ]
}
