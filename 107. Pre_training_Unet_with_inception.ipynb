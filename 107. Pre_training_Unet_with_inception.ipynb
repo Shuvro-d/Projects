{
  "nbformat": 4,
  "nbformat_minor": 0,
  "metadata": {
    "colab": {
      "provenance": []
    },
    "kernelspec": {
      "name": "python3",
      "display_name": "Python 3"
    },
    "language_info": {
      "name": "python"
    },
    "accelerator": "GPU",
    "gpuClass": "standard"
  },
  "cells": [
    {
      "cell_type": "code",
      "execution_count": 1,
      "metadata": {
        "colab": {
          "base_uri": "https://localhost:8080/"
        },
        "id": "_AyO2bh52HFU",
        "outputId": "bb5980a9-6350-4552-affd-72c066203447"
      },
      "outputs": [
        {
          "output_type": "stream",
          "name": "stdout",
          "text": [
            "Looking in indexes: https://pypi.org/simple, https://us-python.pkg.dev/colab-wheels/public/simple/\n",
            "Requirement already satisfied: tensorflow in /usr/local/lib/python3.8/dist-packages (2.9.2)\n",
            "Requirement already satisfied: termcolor>=1.1.0 in /usr/local/lib/python3.8/dist-packages (from tensorflow) (2.2.0)\n",
            "Requirement already satisfied: protobuf<3.20,>=3.9.2 in /usr/local/lib/python3.8/dist-packages (from tensorflow) (3.19.6)\n",
            "Requirement already satisfied: grpcio<2.0,>=1.24.3 in /usr/local/lib/python3.8/dist-packages (from tensorflow) (1.51.1)\n",
            "Requirement already satisfied: keras-preprocessing>=1.1.1 in /usr/local/lib/python3.8/dist-packages (from tensorflow) (1.1.2)\n",
            "Requirement already satisfied: tensorflow-io-gcs-filesystem>=0.23.1 in /usr/local/lib/python3.8/dist-packages (from tensorflow) (0.29.0)\n",
            "Requirement already satisfied: numpy>=1.20 in /usr/local/lib/python3.8/dist-packages (from tensorflow) (1.21.6)\n",
            "Requirement already satisfied: tensorflow-estimator<2.10.0,>=2.9.0rc0 in /usr/local/lib/python3.8/dist-packages (from tensorflow) (2.9.0)\n",
            "Requirement already satisfied: keras<2.10.0,>=2.9.0rc0 in /usr/local/lib/python3.8/dist-packages (from tensorflow) (2.9.0)\n",
            "Requirement already satisfied: opt-einsum>=2.3.2 in /usr/local/lib/python3.8/dist-packages (from tensorflow) (3.3.0)\n",
            "Requirement already satisfied: absl-py>=1.0.0 in /usr/local/lib/python3.8/dist-packages (from tensorflow) (1.3.0)\n",
            "Requirement already satisfied: h5py>=2.9.0 in /usr/local/lib/python3.8/dist-packages (from tensorflow) (3.1.0)\n",
            "Requirement already satisfied: astunparse>=1.6.0 in /usr/local/lib/python3.8/dist-packages (from tensorflow) (1.6.3)\n",
            "Requirement already satisfied: google-pasta>=0.1.1 in /usr/local/lib/python3.8/dist-packages (from tensorflow) (0.2.0)\n",
            "Requirement already satisfied: gast<=0.4.0,>=0.2.1 in /usr/local/lib/python3.8/dist-packages (from tensorflow) (0.4.0)\n",
            "Requirement already satisfied: typing-extensions>=3.6.6 in /usr/local/lib/python3.8/dist-packages (from tensorflow) (4.4.0)\n",
            "Requirement already satisfied: tensorboard<2.10,>=2.9 in /usr/local/lib/python3.8/dist-packages (from tensorflow) (2.9.1)\n",
            "Requirement already satisfied: libclang>=13.0.0 in /usr/local/lib/python3.8/dist-packages (from tensorflow) (15.0.6.1)\n",
            "Requirement already satisfied: flatbuffers<2,>=1.12 in /usr/local/lib/python3.8/dist-packages (from tensorflow) (1.12)\n",
            "Requirement already satisfied: six>=1.12.0 in /usr/local/lib/python3.8/dist-packages (from tensorflow) (1.15.0)\n",
            "Requirement already satisfied: setuptools in /usr/local/lib/python3.8/dist-packages (from tensorflow) (57.4.0)\n",
            "Requirement already satisfied: packaging in /usr/local/lib/python3.8/dist-packages (from tensorflow) (21.3)\n",
            "Requirement already satisfied: wrapt>=1.11.0 in /usr/local/lib/python3.8/dist-packages (from tensorflow) (1.14.1)\n",
            "Requirement already satisfied: wheel<1.0,>=0.23.0 in /usr/local/lib/python3.8/dist-packages (from astunparse>=1.6.0->tensorflow) (0.38.4)\n",
            "Requirement already satisfied: tensorboard-plugin-wit>=1.6.0 in /usr/local/lib/python3.8/dist-packages (from tensorboard<2.10,>=2.9->tensorflow) (1.8.1)\n",
            "Requirement already satisfied: werkzeug>=1.0.1 in /usr/local/lib/python3.8/dist-packages (from tensorboard<2.10,>=2.9->tensorflow) (1.0.1)\n",
            "Requirement already satisfied: markdown>=2.6.8 in /usr/local/lib/python3.8/dist-packages (from tensorboard<2.10,>=2.9->tensorflow) (3.4.1)\n",
            "Requirement already satisfied: google-auth-oauthlib<0.5,>=0.4.1 in /usr/local/lib/python3.8/dist-packages (from tensorboard<2.10,>=2.9->tensorflow) (0.4.6)\n",
            "Requirement already satisfied: requests<3,>=2.21.0 in /usr/local/lib/python3.8/dist-packages (from tensorboard<2.10,>=2.9->tensorflow) (2.25.1)\n",
            "Requirement already satisfied: google-auth<3,>=1.6.3 in /usr/local/lib/python3.8/dist-packages (from tensorboard<2.10,>=2.9->tensorflow) (2.16.0)\n",
            "Requirement already satisfied: tensorboard-data-server<0.7.0,>=0.6.0 in /usr/local/lib/python3.8/dist-packages (from tensorboard<2.10,>=2.9->tensorflow) (0.6.1)\n",
            "Requirement already satisfied: pyparsing!=3.0.5,>=2.0.2 in /usr/local/lib/python3.8/dist-packages (from packaging->tensorflow) (3.0.9)\n",
            "Requirement already satisfied: pyasn1-modules>=0.2.1 in /usr/local/lib/python3.8/dist-packages (from google-auth<3,>=1.6.3->tensorboard<2.10,>=2.9->tensorflow) (0.2.8)\n",
            "Requirement already satisfied: rsa<5,>=3.1.4 in /usr/local/lib/python3.8/dist-packages (from google-auth<3,>=1.6.3->tensorboard<2.10,>=2.9->tensorflow) (4.9)\n",
            "Requirement already satisfied: cachetools<6.0,>=2.0.0 in /usr/local/lib/python3.8/dist-packages (from google-auth<3,>=1.6.3->tensorboard<2.10,>=2.9->tensorflow) (5.2.1)\n",
            "Requirement already satisfied: requests-oauthlib>=0.7.0 in /usr/local/lib/python3.8/dist-packages (from google-auth-oauthlib<0.5,>=0.4.1->tensorboard<2.10,>=2.9->tensorflow) (1.3.1)\n",
            "Requirement already satisfied: importlib-metadata>=4.4 in /usr/local/lib/python3.8/dist-packages (from markdown>=2.6.8->tensorboard<2.10,>=2.9->tensorflow) (6.0.0)\n",
            "Requirement already satisfied: urllib3<1.27,>=1.21.1 in /usr/local/lib/python3.8/dist-packages (from requests<3,>=2.21.0->tensorboard<2.10,>=2.9->tensorflow) (1.24.3)\n",
            "Requirement already satisfied: certifi>=2017.4.17 in /usr/local/lib/python3.8/dist-packages (from requests<3,>=2.21.0->tensorboard<2.10,>=2.9->tensorflow) (2022.12.7)\n",
            "Requirement already satisfied: chardet<5,>=3.0.2 in /usr/local/lib/python3.8/dist-packages (from requests<3,>=2.21.0->tensorboard<2.10,>=2.9->tensorflow) (4.0.0)\n",
            "Requirement already satisfied: idna<3,>=2.5 in /usr/local/lib/python3.8/dist-packages (from requests<3,>=2.21.0->tensorboard<2.10,>=2.9->tensorflow) (2.10)\n",
            "Requirement already satisfied: zipp>=0.5 in /usr/local/lib/python3.8/dist-packages (from importlib-metadata>=4.4->markdown>=2.6.8->tensorboard<2.10,>=2.9->tensorflow) (3.11.0)\n",
            "Requirement already satisfied: pyasn1<0.5.0,>=0.4.6 in /usr/local/lib/python3.8/dist-packages (from pyasn1-modules>=0.2.1->google-auth<3,>=1.6.3->tensorboard<2.10,>=2.9->tensorflow) (0.4.8)\n",
            "Requirement already satisfied: oauthlib>=3.0.0 in /usr/local/lib/python3.8/dist-packages (from requests-oauthlib>=0.7.0->google-auth-oauthlib<0.5,>=0.4.1->tensorboard<2.10,>=2.9->tensorflow) (3.2.2)\n"
          ]
        }
      ],
      "source": [
        "!pip install tensorflow"
      ]
    },
    {
      "cell_type": "code",
      "source": [
        "!pip install --upgrade --no-cache-dir gdown\n",
        "!gdown --id 11hcgbRcs_9mV1QkiDq8Eb6FKENQClI2f\n",
        "!pip install patool\n",
        "import patoolib\n",
        "patoolib.extract_archive('archive.zip')"
      ],
      "metadata": {
        "colab": {
          "base_uri": "https://localhost:8080/",
          "height": 663
        },
        "id": "VoCyaQwD_SP8",
        "outputId": "e24da994-13d7-42d6-9e8f-04177c4011f9"
      },
      "execution_count": 2,
      "outputs": [
        {
          "output_type": "stream",
          "name": "stdout",
          "text": [
            "Looking in indexes: https://pypi.org/simple, https://us-python.pkg.dev/colab-wheels/public/simple/\n",
            "Requirement already satisfied: gdown in /usr/local/lib/python3.8/dist-packages (4.4.0)\n",
            "Collecting gdown\n",
            "  Downloading gdown-4.6.0-py3-none-any.whl (14 kB)\n",
            "Requirement already satisfied: filelock in /usr/local/lib/python3.8/dist-packages (from gdown) (3.9.0)\n",
            "Requirement already satisfied: requests[socks] in /usr/local/lib/python3.8/dist-packages (from gdown) (2.25.1)\n",
            "Requirement already satisfied: beautifulsoup4 in /usr/local/lib/python3.8/dist-packages (from gdown) (4.6.3)\n",
            "Requirement already satisfied: six in /usr/local/lib/python3.8/dist-packages (from gdown) (1.15.0)\n",
            "Requirement already satisfied: tqdm in /usr/local/lib/python3.8/dist-packages (from gdown) (4.64.1)\n",
            "Requirement already satisfied: idna<3,>=2.5 in /usr/local/lib/python3.8/dist-packages (from requests[socks]->gdown) (2.10)\n",
            "Requirement already satisfied: certifi>=2017.4.17 in /usr/local/lib/python3.8/dist-packages (from requests[socks]->gdown) (2022.12.7)\n",
            "Requirement already satisfied: chardet<5,>=3.0.2 in /usr/local/lib/python3.8/dist-packages (from requests[socks]->gdown) (4.0.0)\n",
            "Requirement already satisfied: urllib3<1.27,>=1.21.1 in /usr/local/lib/python3.8/dist-packages (from requests[socks]->gdown) (1.24.3)\n",
            "Requirement already satisfied: PySocks!=1.5.7,>=1.5.6 in /usr/local/lib/python3.8/dist-packages (from requests[socks]->gdown) (1.7.1)\n",
            "Installing collected packages: gdown\n",
            "  Attempting uninstall: gdown\n",
            "    Found existing installation: gdown 4.4.0\n",
            "    Uninstalling gdown-4.4.0:\n",
            "      Successfully uninstalled gdown-4.4.0\n",
            "Successfully installed gdown-4.6.0\n",
            "/usr/local/lib/python3.8/dist-packages/gdown/cli.py:121: FutureWarning: Option `--id` was deprecated in version 4.3.1 and will be removed in 5.0. You don't need to pass it anymore to use a file ID.\n",
            "  warnings.warn(\n",
            "Downloading...\n",
            "From: https://drive.google.com/uc?id=11hcgbRcs_9mV1QkiDq8Eb6FKENQClI2f\n",
            "To: /content/archive.zip\n",
            "100% 327M/327M [00:04<00:00, 79.2MB/s]\n",
            "Looking in indexes: https://pypi.org/simple, https://us-python.pkg.dev/colab-wheels/public/simple/\n",
            "Collecting patool\n",
            "  Downloading patool-1.12-py2.py3-none-any.whl (77 kB)\n",
            "\u001b[2K     \u001b[90m━━━━━━━━━━━━━━━━━━━━━━━━━━━━━━━━━━━━━━━━\u001b[0m \u001b[32m77.5/77.5 KB\u001b[0m \u001b[31m2.8 MB/s\u001b[0m eta \u001b[36m0:00:00\u001b[0m\n",
            "\u001b[?25hInstalling collected packages: patool\n",
            "Successfully installed patool-1.12\n",
            "patool: Extracting archive.zip ...\n",
            "patool: running /usr/bin/7z x -o./Unpack_f_rzdly5 -- archive.zip\n",
            "patool: ... archive.zip extracted to `archive' (multiple files in root).\n"
          ]
        },
        {
          "output_type": "execute_result",
          "data": {
            "text/plain": [
              "'archive'"
            ],
            "application/vnd.google.colaboratory.intrinsic+json": {
              "type": "string"
            }
          },
          "metadata": {},
          "execution_count": 2
        }
      ]
    },
    {
      "cell_type": "code",
      "source": [
        "from tensorflow.keras.layers import Conv2D, BatchNormalization, Activation, MaxPool2D, Conv2DTranspose, Concatenate, Input, ZeroPadding2D\n",
        "from tensorflow.keras.models import Model\n",
        "from tensorflow.keras.applications import InceptionResNetV2\n",
        "\n",
        "def conv_block(input, num_filters):\n",
        "    x = Conv2D(num_filters, 3, padding=\"same\")(input)\n",
        "    x = BatchNormalization()(x)\n",
        "    x = Activation(\"relu\")(x)\n",
        "\n",
        "    x = Conv2D(num_filters, 3, padding=\"same\")(x)\n",
        "    x = BatchNormalization()(x)\n",
        "    x = Activation(\"relu\")(x)\n",
        "\n",
        "    return x\n",
        "\n",
        "def decoder_block(input, skip_features, num_filters):\n",
        "    x = Conv2DTranspose(num_filters, (2, 2), strides=2, padding=\"same\")(input)\n",
        "    x = Concatenate()([x, skip_features])\n",
        "    x = conv_block(x, num_filters)\n",
        "    return x\n",
        "\n",
        "def build_inception_resnetv2_unet(input_shape):\n",
        "    \"\"\" Input \"\"\"\n",
        "    inputs = Input(input_shape)\n",
        "\n",
        "    \"\"\" Pre-trained InceptionResNetV2 Model \"\"\"\n",
        "    encoder = InceptionResNetV2(include_top=False, weights=\"imagenet\", input_tensor=inputs)\n",
        "\n",
        "    \"\"\" Encoder \"\"\"\n",
        "    s1 = encoder.get_layer(\"input_1\").output           ## (512 x 512)\n",
        "\n",
        "    s2 = encoder.get_layer(\"activation\").output        ## (255 x 255)\n",
        "    s2 = ZeroPadding2D(( (1, 0), (1, 0) ))(s2)         ## (256 x 256)\n",
        "\n",
        "    s3 = encoder.get_layer(\"activation_3\").output      ## (126 x 126)\n",
        "    s3 = ZeroPadding2D((1, 1))(s3)                     ## (128 x 128)\n",
        "\n",
        "    s4 = encoder.get_layer(\"activation_74\").output      ## (61 x 61)\n",
        "    s4 = ZeroPadding2D(( (2, 1),(2, 1) ))(s4)           ## (64 x 64)\n",
        "\n",
        "    \"\"\" Bridge \"\"\"\n",
        "    b1 = encoder.get_layer(\"activation_161\").output     ## (30 x 30)\n",
        "    b1 = ZeroPadding2D((1, 1))(b1)                      ## (32 x 32)\n",
        "\n",
        "    \"\"\" Decoder \"\"\"\n",
        "    d1 = decoder_block(b1, s4, 512)                     ## (64 x 64)\n",
        "    d2 = decoder_block(d1, s3, 256)                     ## (128 x 128)\n",
        "    d3 = decoder_block(d2, s2, 128)                     ## (256 x 256)\n",
        "    d4 = decoder_block(d3, s1, 64)                      ## (512 x 512)\n",
        "\n",
        "    \"\"\" Output \"\"\"\n",
        "    outputs = Conv2D(1, 1, padding=\"same\", activation=\"sigmoid\")(d4)\n",
        "\n",
        "    model = Model(inputs, outputs, name=\"InceptionResNetV2_U-Net\")\n",
        "    return model\n",
        "\n",
        "if __name__ == \"__main__\":\n",
        "    input_shape = (256, 256, 3)\n",
        "    model = build_inception_resnetv2_unet(input_shape)\n",
        "    model.summary()"
      ],
      "metadata": {
        "colab": {
          "base_uri": "https://localhost:8080/"
        },
        "id": "9NaSgjL0-NuY",
        "outputId": "1d002d93-569e-4667-e401-931312caad99"
      },
      "execution_count": 3,
      "outputs": [
        {
          "output_type": "stream",
          "name": "stdout",
          "text": [
            "Downloading data from https://storage.googleapis.com/tensorflow/keras-applications/inception_resnet_v2/inception_resnet_v2_weights_tf_dim_ordering_tf_kernels_notop.h5\n",
            "219055592/219055592 [==============================] - 2s 0us/step\n",
            "Model: \"InceptionResNetV2_U-Net\"\n",
            "__________________________________________________________________________________________________\n",
            " Layer (type)                   Output Shape         Param #     Connected to                     \n",
            "==================================================================================================\n",
            " input_1 (InputLayer)           [(None, 256, 256, 3  0           []                               \n",
            "                                )]                                                                \n",
            "                                                                                                  \n",
            " conv2d (Conv2D)                (None, 127, 127, 32  864         ['input_1[0][0]']                \n",
            "                                )                                                                 \n",
            "                                                                                                  \n",
            " batch_normalization (BatchNorm  (None, 127, 127, 32  96         ['conv2d[0][0]']                 \n",
            " alization)                     )                                                                 \n",
            "                                                                                                  \n",
            " activation (Activation)        (None, 127, 127, 32  0           ['batch_normalization[0][0]']    \n",
            "                                )                                                                 \n",
            "                                                                                                  \n",
            " conv2d_1 (Conv2D)              (None, 125, 125, 32  9216        ['activation[0][0]']             \n",
            "                                )                                                                 \n",
            "                                                                                                  \n",
            " batch_normalization_1 (BatchNo  (None, 125, 125, 32  96         ['conv2d_1[0][0]']               \n",
            " rmalization)                   )                                                                 \n",
            "                                                                                                  \n",
            " activation_1 (Activation)      (None, 125, 125, 32  0           ['batch_normalization_1[0][0]']  \n",
            "                                )                                                                 \n",
            "                                                                                                  \n",
            " conv2d_2 (Conv2D)              (None, 125, 125, 64  18432       ['activation_1[0][0]']           \n",
            "                                )                                                                 \n",
            "                                                                                                  \n",
            " batch_normalization_2 (BatchNo  (None, 125, 125, 64  192        ['conv2d_2[0][0]']               \n",
            " rmalization)                   )                                                                 \n",
            "                                                                                                  \n",
            " activation_2 (Activation)      (None, 125, 125, 64  0           ['batch_normalization_2[0][0]']  \n",
            "                                )                                                                 \n",
            "                                                                                                  \n",
            " max_pooling2d (MaxPooling2D)   (None, 62, 62, 64)   0           ['activation_2[0][0]']           \n",
            "                                                                                                  \n",
            " conv2d_3 (Conv2D)              (None, 62, 62, 80)   5120        ['max_pooling2d[0][0]']          \n",
            "                                                                                                  \n",
            " batch_normalization_3 (BatchNo  (None, 62, 62, 80)  240         ['conv2d_3[0][0]']               \n",
            " rmalization)                                                                                     \n",
            "                                                                                                  \n",
            " activation_3 (Activation)      (None, 62, 62, 80)   0           ['batch_normalization_3[0][0]']  \n",
            "                                                                                                  \n",
            " conv2d_4 (Conv2D)              (None, 60, 60, 192)  138240      ['activation_3[0][0]']           \n",
            "                                                                                                  \n",
            " batch_normalization_4 (BatchNo  (None, 60, 60, 192)  576        ['conv2d_4[0][0]']               \n",
            " rmalization)                                                                                     \n",
            "                                                                                                  \n",
            " activation_4 (Activation)      (None, 60, 60, 192)  0           ['batch_normalization_4[0][0]']  \n",
            "                                                                                                  \n",
            " max_pooling2d_1 (MaxPooling2D)  (None, 29, 29, 192)  0          ['activation_4[0][0]']           \n",
            "                                                                                                  \n",
            " conv2d_8 (Conv2D)              (None, 29, 29, 64)   12288       ['max_pooling2d_1[0][0]']        \n",
            "                                                                                                  \n",
            " batch_normalization_8 (BatchNo  (None, 29, 29, 64)  192         ['conv2d_8[0][0]']               \n",
            " rmalization)                                                                                     \n",
            "                                                                                                  \n",
            " activation_8 (Activation)      (None, 29, 29, 64)   0           ['batch_normalization_8[0][0]']  \n",
            "                                                                                                  \n",
            " conv2d_6 (Conv2D)              (None, 29, 29, 48)   9216        ['max_pooling2d_1[0][0]']        \n",
            "                                                                                                  \n",
            " conv2d_9 (Conv2D)              (None, 29, 29, 96)   55296       ['activation_8[0][0]']           \n",
            "                                                                                                  \n",
            " batch_normalization_6 (BatchNo  (None, 29, 29, 48)  144         ['conv2d_6[0][0]']               \n",
            " rmalization)                                                                                     \n",
            "                                                                                                  \n",
            " batch_normalization_9 (BatchNo  (None, 29, 29, 96)  288         ['conv2d_9[0][0]']               \n",
            " rmalization)                                                                                     \n",
            "                                                                                                  \n",
            " activation_6 (Activation)      (None, 29, 29, 48)   0           ['batch_normalization_6[0][0]']  \n",
            "                                                                                                  \n",
            " activation_9 (Activation)      (None, 29, 29, 96)   0           ['batch_normalization_9[0][0]']  \n",
            "                                                                                                  \n",
            " average_pooling2d (AveragePool  (None, 29, 29, 192)  0          ['max_pooling2d_1[0][0]']        \n",
            " ing2D)                                                                                           \n",
            "                                                                                                  \n",
            " conv2d_5 (Conv2D)              (None, 29, 29, 96)   18432       ['max_pooling2d_1[0][0]']        \n",
            "                                                                                                  \n",
            " conv2d_7 (Conv2D)              (None, 29, 29, 64)   76800       ['activation_6[0][0]']           \n",
            "                                                                                                  \n",
            " conv2d_10 (Conv2D)             (None, 29, 29, 96)   82944       ['activation_9[0][0]']           \n",
            "                                                                                                  \n",
            " conv2d_11 (Conv2D)             (None, 29, 29, 64)   12288       ['average_pooling2d[0][0]']      \n",
            "                                                                                                  \n",
            " batch_normalization_5 (BatchNo  (None, 29, 29, 96)  288         ['conv2d_5[0][0]']               \n",
            " rmalization)                                                                                     \n",
            "                                                                                                  \n",
            " batch_normalization_7 (BatchNo  (None, 29, 29, 64)  192         ['conv2d_7[0][0]']               \n",
            " rmalization)                                                                                     \n",
            "                                                                                                  \n",
            " batch_normalization_10 (BatchN  (None, 29, 29, 96)  288         ['conv2d_10[0][0]']              \n",
            " ormalization)                                                                                    \n",
            "                                                                                                  \n",
            " batch_normalization_11 (BatchN  (None, 29, 29, 64)  192         ['conv2d_11[0][0]']              \n",
            " ormalization)                                                                                    \n",
            "                                                                                                  \n",
            " activation_5 (Activation)      (None, 29, 29, 96)   0           ['batch_normalization_5[0][0]']  \n",
            "                                                                                                  \n",
            " activation_7 (Activation)      (None, 29, 29, 64)   0           ['batch_normalization_7[0][0]']  \n",
            "                                                                                                  \n",
            " activation_10 (Activation)     (None, 29, 29, 96)   0           ['batch_normalization_10[0][0]'] \n",
            "                                                                                                  \n",
            " activation_11 (Activation)     (None, 29, 29, 64)   0           ['batch_normalization_11[0][0]'] \n",
            "                                                                                                  \n",
            " mixed_5b (Concatenate)         (None, 29, 29, 320)  0           ['activation_5[0][0]',           \n",
            "                                                                  'activation_7[0][0]',           \n",
            "                                                                  'activation_10[0][0]',          \n",
            "                                                                  'activation_11[0][0]']          \n",
            "                                                                                                  \n",
            " conv2d_15 (Conv2D)             (None, 29, 29, 32)   10240       ['mixed_5b[0][0]']               \n",
            "                                                                                                  \n",
            " batch_normalization_15 (BatchN  (None, 29, 29, 32)  96          ['conv2d_15[0][0]']              \n",
            " ormalization)                                                                                    \n",
            "                                                                                                  \n",
            " activation_15 (Activation)     (None, 29, 29, 32)   0           ['batch_normalization_15[0][0]'] \n",
            "                                                                                                  \n",
            " conv2d_13 (Conv2D)             (None, 29, 29, 32)   10240       ['mixed_5b[0][0]']               \n",
            "                                                                                                  \n",
            " conv2d_16 (Conv2D)             (None, 29, 29, 48)   13824       ['activation_15[0][0]']          \n",
            "                                                                                                  \n",
            " batch_normalization_13 (BatchN  (None, 29, 29, 32)  96          ['conv2d_13[0][0]']              \n",
            " ormalization)                                                                                    \n",
            "                                                                                                  \n",
            " batch_normalization_16 (BatchN  (None, 29, 29, 48)  144         ['conv2d_16[0][0]']              \n",
            " ormalization)                                                                                    \n",
            "                                                                                                  \n",
            " activation_13 (Activation)     (None, 29, 29, 32)   0           ['batch_normalization_13[0][0]'] \n",
            "                                                                                                  \n",
            " activation_16 (Activation)     (None, 29, 29, 48)   0           ['batch_normalization_16[0][0]'] \n",
            "                                                                                                  \n",
            " conv2d_12 (Conv2D)             (None, 29, 29, 32)   10240       ['mixed_5b[0][0]']               \n",
            "                                                                                                  \n",
            " conv2d_14 (Conv2D)             (None, 29, 29, 32)   9216        ['activation_13[0][0]']          \n",
            "                                                                                                  \n",
            " conv2d_17 (Conv2D)             (None, 29, 29, 64)   27648       ['activation_16[0][0]']          \n",
            "                                                                                                  \n",
            " batch_normalization_12 (BatchN  (None, 29, 29, 32)  96          ['conv2d_12[0][0]']              \n",
            " ormalization)                                                                                    \n",
            "                                                                                                  \n",
            " batch_normalization_14 (BatchN  (None, 29, 29, 32)  96          ['conv2d_14[0][0]']              \n",
            " ormalization)                                                                                    \n",
            "                                                                                                  \n",
            " batch_normalization_17 (BatchN  (None, 29, 29, 64)  192         ['conv2d_17[0][0]']              \n",
            " ormalization)                                                                                    \n",
            "                                                                                                  \n",
            " activation_12 (Activation)     (None, 29, 29, 32)   0           ['batch_normalization_12[0][0]'] \n",
            "                                                                                                  \n",
            " activation_14 (Activation)     (None, 29, 29, 32)   0           ['batch_normalization_14[0][0]'] \n",
            "                                                                                                  \n",
            " activation_17 (Activation)     (None, 29, 29, 64)   0           ['batch_normalization_17[0][0]'] \n",
            "                                                                                                  \n",
            " block35_1_mixed (Concatenate)  (None, 29, 29, 128)  0           ['activation_12[0][0]',          \n",
            "                                                                  'activation_14[0][0]',          \n",
            "                                                                  'activation_17[0][0]']          \n",
            "                                                                                                  \n",
            " block35_1_conv (Conv2D)        (None, 29, 29, 320)  41280       ['block35_1_mixed[0][0]']        \n",
            "                                                                                                  \n",
            " block35_1 (Lambda)             (None, 29, 29, 320)  0           ['mixed_5b[0][0]',               \n",
            "                                                                  'block35_1_conv[0][0]']         \n",
            "                                                                                                  \n",
            " block35_1_ac (Activation)      (None, 29, 29, 320)  0           ['block35_1[0][0]']              \n",
            "                                                                                                  \n",
            " conv2d_21 (Conv2D)             (None, 29, 29, 32)   10240       ['block35_1_ac[0][0]']           \n",
            "                                                                                                  \n",
            " batch_normalization_21 (BatchN  (None, 29, 29, 32)  96          ['conv2d_21[0][0]']              \n",
            " ormalization)                                                                                    \n",
            "                                                                                                  \n",
            " activation_21 (Activation)     (None, 29, 29, 32)   0           ['batch_normalization_21[0][0]'] \n",
            "                                                                                                  \n",
            " conv2d_19 (Conv2D)             (None, 29, 29, 32)   10240       ['block35_1_ac[0][0]']           \n",
            "                                                                                                  \n",
            " conv2d_22 (Conv2D)             (None, 29, 29, 48)   13824       ['activation_21[0][0]']          \n",
            "                                                                                                  \n",
            " batch_normalization_19 (BatchN  (None, 29, 29, 32)  96          ['conv2d_19[0][0]']              \n",
            " ormalization)                                                                                    \n",
            "                                                                                                  \n",
            " batch_normalization_22 (BatchN  (None, 29, 29, 48)  144         ['conv2d_22[0][0]']              \n",
            " ormalization)                                                                                    \n",
            "                                                                                                  \n",
            " activation_19 (Activation)     (None, 29, 29, 32)   0           ['batch_normalization_19[0][0]'] \n",
            "                                                                                                  \n",
            " activation_22 (Activation)     (None, 29, 29, 48)   0           ['batch_normalization_22[0][0]'] \n",
            "                                                                                                  \n",
            " conv2d_18 (Conv2D)             (None, 29, 29, 32)   10240       ['block35_1_ac[0][0]']           \n",
            "                                                                                                  \n",
            " conv2d_20 (Conv2D)             (None, 29, 29, 32)   9216        ['activation_19[0][0]']          \n",
            "                                                                                                  \n",
            " conv2d_23 (Conv2D)             (None, 29, 29, 64)   27648       ['activation_22[0][0]']          \n",
            "                                                                                                  \n",
            " batch_normalization_18 (BatchN  (None, 29, 29, 32)  96          ['conv2d_18[0][0]']              \n",
            " ormalization)                                                                                    \n",
            "                                                                                                  \n",
            " batch_normalization_20 (BatchN  (None, 29, 29, 32)  96          ['conv2d_20[0][0]']              \n",
            " ormalization)                                                                                    \n",
            "                                                                                                  \n",
            " batch_normalization_23 (BatchN  (None, 29, 29, 64)  192         ['conv2d_23[0][0]']              \n",
            " ormalization)                                                                                    \n",
            "                                                                                                  \n",
            " activation_18 (Activation)     (None, 29, 29, 32)   0           ['batch_normalization_18[0][0]'] \n",
            "                                                                                                  \n",
            " activation_20 (Activation)     (None, 29, 29, 32)   0           ['batch_normalization_20[0][0]'] \n",
            "                                                                                                  \n",
            " activation_23 (Activation)     (None, 29, 29, 64)   0           ['batch_normalization_23[0][0]'] \n",
            "                                                                                                  \n",
            " block35_2_mixed (Concatenate)  (None, 29, 29, 128)  0           ['activation_18[0][0]',          \n",
            "                                                                  'activation_20[0][0]',          \n",
            "                                                                  'activation_23[0][0]']          \n",
            "                                                                                                  \n",
            " block35_2_conv (Conv2D)        (None, 29, 29, 320)  41280       ['block35_2_mixed[0][0]']        \n",
            "                                                                                                  \n",
            " block35_2 (Lambda)             (None, 29, 29, 320)  0           ['block35_1_ac[0][0]',           \n",
            "                                                                  'block35_2_conv[0][0]']         \n",
            "                                                                                                  \n",
            " block35_2_ac (Activation)      (None, 29, 29, 320)  0           ['block35_2[0][0]']              \n",
            "                                                                                                  \n",
            " conv2d_27 (Conv2D)             (None, 29, 29, 32)   10240       ['block35_2_ac[0][0]']           \n",
            "                                                                                                  \n",
            " batch_normalization_27 (BatchN  (None, 29, 29, 32)  96          ['conv2d_27[0][0]']              \n",
            " ormalization)                                                                                    \n",
            "                                                                                                  \n",
            " activation_27 (Activation)     (None, 29, 29, 32)   0           ['batch_normalization_27[0][0]'] \n",
            "                                                                                                  \n",
            " conv2d_25 (Conv2D)             (None, 29, 29, 32)   10240       ['block35_2_ac[0][0]']           \n",
            "                                                                                                  \n",
            " conv2d_28 (Conv2D)             (None, 29, 29, 48)   13824       ['activation_27[0][0]']          \n",
            "                                                                                                  \n",
            " batch_normalization_25 (BatchN  (None, 29, 29, 32)  96          ['conv2d_25[0][0]']              \n",
            " ormalization)                                                                                    \n",
            "                                                                                                  \n",
            " batch_normalization_28 (BatchN  (None, 29, 29, 48)  144         ['conv2d_28[0][0]']              \n",
            " ormalization)                                                                                    \n",
            "                                                                                                  \n",
            " activation_25 (Activation)     (None, 29, 29, 32)   0           ['batch_normalization_25[0][0]'] \n",
            "                                                                                                  \n",
            " activation_28 (Activation)     (None, 29, 29, 48)   0           ['batch_normalization_28[0][0]'] \n",
            "                                                                                                  \n",
            " conv2d_24 (Conv2D)             (None, 29, 29, 32)   10240       ['block35_2_ac[0][0]']           \n",
            "                                                                                                  \n",
            " conv2d_26 (Conv2D)             (None, 29, 29, 32)   9216        ['activation_25[0][0]']          \n",
            "                                                                                                  \n",
            " conv2d_29 (Conv2D)             (None, 29, 29, 64)   27648       ['activation_28[0][0]']          \n",
            "                                                                                                  \n",
            " batch_normalization_24 (BatchN  (None, 29, 29, 32)  96          ['conv2d_24[0][0]']              \n",
            " ormalization)                                                                                    \n",
            "                                                                                                  \n",
            " batch_normalization_26 (BatchN  (None, 29, 29, 32)  96          ['conv2d_26[0][0]']              \n",
            " ormalization)                                                                                    \n",
            "                                                                                                  \n",
            " batch_normalization_29 (BatchN  (None, 29, 29, 64)  192         ['conv2d_29[0][0]']              \n",
            " ormalization)                                                                                    \n",
            "                                                                                                  \n",
            " activation_24 (Activation)     (None, 29, 29, 32)   0           ['batch_normalization_24[0][0]'] \n",
            "                                                                                                  \n",
            " activation_26 (Activation)     (None, 29, 29, 32)   0           ['batch_normalization_26[0][0]'] \n",
            "                                                                                                  \n",
            " activation_29 (Activation)     (None, 29, 29, 64)   0           ['batch_normalization_29[0][0]'] \n",
            "                                                                                                  \n",
            " block35_3_mixed (Concatenate)  (None, 29, 29, 128)  0           ['activation_24[0][0]',          \n",
            "                                                                  'activation_26[0][0]',          \n",
            "                                                                  'activation_29[0][0]']          \n",
            "                                                                                                  \n",
            " block35_3_conv (Conv2D)        (None, 29, 29, 320)  41280       ['block35_3_mixed[0][0]']        \n",
            "                                                                                                  \n",
            " block35_3 (Lambda)             (None, 29, 29, 320)  0           ['block35_2_ac[0][0]',           \n",
            "                                                                  'block35_3_conv[0][0]']         \n",
            "                                                                                                  \n",
            " block35_3_ac (Activation)      (None, 29, 29, 320)  0           ['block35_3[0][0]']              \n",
            "                                                                                                  \n",
            " conv2d_33 (Conv2D)             (None, 29, 29, 32)   10240       ['block35_3_ac[0][0]']           \n",
            "                                                                                                  \n",
            " batch_normalization_33 (BatchN  (None, 29, 29, 32)  96          ['conv2d_33[0][0]']              \n",
            " ormalization)                                                                                    \n",
            "                                                                                                  \n",
            " activation_33 (Activation)     (None, 29, 29, 32)   0           ['batch_normalization_33[0][0]'] \n",
            "                                                                                                  \n",
            " conv2d_31 (Conv2D)             (None, 29, 29, 32)   10240       ['block35_3_ac[0][0]']           \n",
            "                                                                                                  \n",
            " conv2d_34 (Conv2D)             (None, 29, 29, 48)   13824       ['activation_33[0][0]']          \n",
            "                                                                                                  \n",
            " batch_normalization_31 (BatchN  (None, 29, 29, 32)  96          ['conv2d_31[0][0]']              \n",
            " ormalization)                                                                                    \n",
            "                                                                                                  \n",
            " batch_normalization_34 (BatchN  (None, 29, 29, 48)  144         ['conv2d_34[0][0]']              \n",
            " ormalization)                                                                                    \n",
            "                                                                                                  \n",
            " activation_31 (Activation)     (None, 29, 29, 32)   0           ['batch_normalization_31[0][0]'] \n",
            "                                                                                                  \n",
            " activation_34 (Activation)     (None, 29, 29, 48)   0           ['batch_normalization_34[0][0]'] \n",
            "                                                                                                  \n",
            " conv2d_30 (Conv2D)             (None, 29, 29, 32)   10240       ['block35_3_ac[0][0]']           \n",
            "                                                                                                  \n",
            " conv2d_32 (Conv2D)             (None, 29, 29, 32)   9216        ['activation_31[0][0]']          \n",
            "                                                                                                  \n",
            " conv2d_35 (Conv2D)             (None, 29, 29, 64)   27648       ['activation_34[0][0]']          \n",
            "                                                                                                  \n",
            " batch_normalization_30 (BatchN  (None, 29, 29, 32)  96          ['conv2d_30[0][0]']              \n",
            " ormalization)                                                                                    \n",
            "                                                                                                  \n",
            " batch_normalization_32 (BatchN  (None, 29, 29, 32)  96          ['conv2d_32[0][0]']              \n",
            " ormalization)                                                                                    \n",
            "                                                                                                  \n",
            " batch_normalization_35 (BatchN  (None, 29, 29, 64)  192         ['conv2d_35[0][0]']              \n",
            " ormalization)                                                                                    \n",
            "                                                                                                  \n",
            " activation_30 (Activation)     (None, 29, 29, 32)   0           ['batch_normalization_30[0][0]'] \n",
            "                                                                                                  \n",
            " activation_32 (Activation)     (None, 29, 29, 32)   0           ['batch_normalization_32[0][0]'] \n",
            "                                                                                                  \n",
            " activation_35 (Activation)     (None, 29, 29, 64)   0           ['batch_normalization_35[0][0]'] \n",
            "                                                                                                  \n",
            " block35_4_mixed (Concatenate)  (None, 29, 29, 128)  0           ['activation_30[0][0]',          \n",
            "                                                                  'activation_32[0][0]',          \n",
            "                                                                  'activation_35[0][0]']          \n",
            "                                                                                                  \n",
            " block35_4_conv (Conv2D)        (None, 29, 29, 320)  41280       ['block35_4_mixed[0][0]']        \n",
            "                                                                                                  \n",
            " block35_4 (Lambda)             (None, 29, 29, 320)  0           ['block35_3_ac[0][0]',           \n",
            "                                                                  'block35_4_conv[0][0]']         \n",
            "                                                                                                  \n",
            " block35_4_ac (Activation)      (None, 29, 29, 320)  0           ['block35_4[0][0]']              \n",
            "                                                                                                  \n",
            " conv2d_39 (Conv2D)             (None, 29, 29, 32)   10240       ['block35_4_ac[0][0]']           \n",
            "                                                                                                  \n",
            " batch_normalization_39 (BatchN  (None, 29, 29, 32)  96          ['conv2d_39[0][0]']              \n",
            " ormalization)                                                                                    \n",
            "                                                                                                  \n",
            " activation_39 (Activation)     (None, 29, 29, 32)   0           ['batch_normalization_39[0][0]'] \n",
            "                                                                                                  \n",
            " conv2d_37 (Conv2D)             (None, 29, 29, 32)   10240       ['block35_4_ac[0][0]']           \n",
            "                                                                                                  \n",
            " conv2d_40 (Conv2D)             (None, 29, 29, 48)   13824       ['activation_39[0][0]']          \n",
            "                                                                                                  \n",
            " batch_normalization_37 (BatchN  (None, 29, 29, 32)  96          ['conv2d_37[0][0]']              \n",
            " ormalization)                                                                                    \n",
            "                                                                                                  \n",
            " batch_normalization_40 (BatchN  (None, 29, 29, 48)  144         ['conv2d_40[0][0]']              \n",
            " ormalization)                                                                                    \n",
            "                                                                                                  \n",
            " activation_37 (Activation)     (None, 29, 29, 32)   0           ['batch_normalization_37[0][0]'] \n",
            "                                                                                                  \n",
            " activation_40 (Activation)     (None, 29, 29, 48)   0           ['batch_normalization_40[0][0]'] \n",
            "                                                                                                  \n",
            " conv2d_36 (Conv2D)             (None, 29, 29, 32)   10240       ['block35_4_ac[0][0]']           \n",
            "                                                                                                  \n",
            " conv2d_38 (Conv2D)             (None, 29, 29, 32)   9216        ['activation_37[0][0]']          \n",
            "                                                                                                  \n",
            " conv2d_41 (Conv2D)             (None, 29, 29, 64)   27648       ['activation_40[0][0]']          \n",
            "                                                                                                  \n",
            " batch_normalization_36 (BatchN  (None, 29, 29, 32)  96          ['conv2d_36[0][0]']              \n",
            " ormalization)                                                                                    \n",
            "                                                                                                  \n",
            " batch_normalization_38 (BatchN  (None, 29, 29, 32)  96          ['conv2d_38[0][0]']              \n",
            " ormalization)                                                                                    \n",
            "                                                                                                  \n",
            " batch_normalization_41 (BatchN  (None, 29, 29, 64)  192         ['conv2d_41[0][0]']              \n",
            " ormalization)                                                                                    \n",
            "                                                                                                  \n",
            " activation_36 (Activation)     (None, 29, 29, 32)   0           ['batch_normalization_36[0][0]'] \n",
            "                                                                                                  \n",
            " activation_38 (Activation)     (None, 29, 29, 32)   0           ['batch_normalization_38[0][0]'] \n",
            "                                                                                                  \n",
            " activation_41 (Activation)     (None, 29, 29, 64)   0           ['batch_normalization_41[0][0]'] \n",
            "                                                                                                  \n",
            " block35_5_mixed (Concatenate)  (None, 29, 29, 128)  0           ['activation_36[0][0]',          \n",
            "                                                                  'activation_38[0][0]',          \n",
            "                                                                  'activation_41[0][0]']          \n",
            "                                                                                                  \n",
            " block35_5_conv (Conv2D)        (None, 29, 29, 320)  41280       ['block35_5_mixed[0][0]']        \n",
            "                                                                                                  \n",
            " block35_5 (Lambda)             (None, 29, 29, 320)  0           ['block35_4_ac[0][0]',           \n",
            "                                                                  'block35_5_conv[0][0]']         \n",
            "                                                                                                  \n",
            " block35_5_ac (Activation)      (None, 29, 29, 320)  0           ['block35_5[0][0]']              \n",
            "                                                                                                  \n",
            " conv2d_45 (Conv2D)             (None, 29, 29, 32)   10240       ['block35_5_ac[0][0]']           \n",
            "                                                                                                  \n",
            " batch_normalization_45 (BatchN  (None, 29, 29, 32)  96          ['conv2d_45[0][0]']              \n",
            " ormalization)                                                                                    \n",
            "                                                                                                  \n",
            " activation_45 (Activation)     (None, 29, 29, 32)   0           ['batch_normalization_45[0][0]'] \n",
            "                                                                                                  \n",
            " conv2d_43 (Conv2D)             (None, 29, 29, 32)   10240       ['block35_5_ac[0][0]']           \n",
            "                                                                                                  \n",
            " conv2d_46 (Conv2D)             (None, 29, 29, 48)   13824       ['activation_45[0][0]']          \n",
            "                                                                                                  \n",
            " batch_normalization_43 (BatchN  (None, 29, 29, 32)  96          ['conv2d_43[0][0]']              \n",
            " ormalization)                                                                                    \n",
            "                                                                                                  \n",
            " batch_normalization_46 (BatchN  (None, 29, 29, 48)  144         ['conv2d_46[0][0]']              \n",
            " ormalization)                                                                                    \n",
            "                                                                                                  \n",
            " activation_43 (Activation)     (None, 29, 29, 32)   0           ['batch_normalization_43[0][0]'] \n",
            "                                                                                                  \n",
            " activation_46 (Activation)     (None, 29, 29, 48)   0           ['batch_normalization_46[0][0]'] \n",
            "                                                                                                  \n",
            " conv2d_42 (Conv2D)             (None, 29, 29, 32)   10240       ['block35_5_ac[0][0]']           \n",
            "                                                                                                  \n",
            " conv2d_44 (Conv2D)             (None, 29, 29, 32)   9216        ['activation_43[0][0]']          \n",
            "                                                                                                  \n",
            " conv2d_47 (Conv2D)             (None, 29, 29, 64)   27648       ['activation_46[0][0]']          \n",
            "                                                                                                  \n",
            " batch_normalization_42 (BatchN  (None, 29, 29, 32)  96          ['conv2d_42[0][0]']              \n",
            " ormalization)                                                                                    \n",
            "                                                                                                  \n",
            " batch_normalization_44 (BatchN  (None, 29, 29, 32)  96          ['conv2d_44[0][0]']              \n",
            " ormalization)                                                                                    \n",
            "                                                                                                  \n",
            " batch_normalization_47 (BatchN  (None, 29, 29, 64)  192         ['conv2d_47[0][0]']              \n",
            " ormalization)                                                                                    \n",
            "                                                                                                  \n",
            " activation_42 (Activation)     (None, 29, 29, 32)   0           ['batch_normalization_42[0][0]'] \n",
            "                                                                                                  \n",
            " activation_44 (Activation)     (None, 29, 29, 32)   0           ['batch_normalization_44[0][0]'] \n",
            "                                                                                                  \n",
            " activation_47 (Activation)     (None, 29, 29, 64)   0           ['batch_normalization_47[0][0]'] \n",
            "                                                                                                  \n",
            " block35_6_mixed (Concatenate)  (None, 29, 29, 128)  0           ['activation_42[0][0]',          \n",
            "                                                                  'activation_44[0][0]',          \n",
            "                                                                  'activation_47[0][0]']          \n",
            "                                                                                                  \n",
            " block35_6_conv (Conv2D)        (None, 29, 29, 320)  41280       ['block35_6_mixed[0][0]']        \n",
            "                                                                                                  \n",
            " block35_6 (Lambda)             (None, 29, 29, 320)  0           ['block35_5_ac[0][0]',           \n",
            "                                                                  'block35_6_conv[0][0]']         \n",
            "                                                                                                  \n",
            " block35_6_ac (Activation)      (None, 29, 29, 320)  0           ['block35_6[0][0]']              \n",
            "                                                                                                  \n",
            " conv2d_51 (Conv2D)             (None, 29, 29, 32)   10240       ['block35_6_ac[0][0]']           \n",
            "                                                                                                  \n",
            " batch_normalization_51 (BatchN  (None, 29, 29, 32)  96          ['conv2d_51[0][0]']              \n",
            " ormalization)                                                                                    \n",
            "                                                                                                  \n",
            " activation_51 (Activation)     (None, 29, 29, 32)   0           ['batch_normalization_51[0][0]'] \n",
            "                                                                                                  \n",
            " conv2d_49 (Conv2D)             (None, 29, 29, 32)   10240       ['block35_6_ac[0][0]']           \n",
            "                                                                                                  \n",
            " conv2d_52 (Conv2D)             (None, 29, 29, 48)   13824       ['activation_51[0][0]']          \n",
            "                                                                                                  \n",
            " batch_normalization_49 (BatchN  (None, 29, 29, 32)  96          ['conv2d_49[0][0]']              \n",
            " ormalization)                                                                                    \n",
            "                                                                                                  \n",
            " batch_normalization_52 (BatchN  (None, 29, 29, 48)  144         ['conv2d_52[0][0]']              \n",
            " ormalization)                                                                                    \n",
            "                                                                                                  \n",
            " activation_49 (Activation)     (None, 29, 29, 32)   0           ['batch_normalization_49[0][0]'] \n",
            "                                                                                                  \n",
            " activation_52 (Activation)     (None, 29, 29, 48)   0           ['batch_normalization_52[0][0]'] \n",
            "                                                                                                  \n",
            " conv2d_48 (Conv2D)             (None, 29, 29, 32)   10240       ['block35_6_ac[0][0]']           \n",
            "                                                                                                  \n",
            " conv2d_50 (Conv2D)             (None, 29, 29, 32)   9216        ['activation_49[0][0]']          \n",
            "                                                                                                  \n",
            " conv2d_53 (Conv2D)             (None, 29, 29, 64)   27648       ['activation_52[0][0]']          \n",
            "                                                                                                  \n",
            " batch_normalization_48 (BatchN  (None, 29, 29, 32)  96          ['conv2d_48[0][0]']              \n",
            " ormalization)                                                                                    \n",
            "                                                                                                  \n",
            " batch_normalization_50 (BatchN  (None, 29, 29, 32)  96          ['conv2d_50[0][0]']              \n",
            " ormalization)                                                                                    \n",
            "                                                                                                  \n",
            " batch_normalization_53 (BatchN  (None, 29, 29, 64)  192         ['conv2d_53[0][0]']              \n",
            " ormalization)                                                                                    \n",
            "                                                                                                  \n",
            " activation_48 (Activation)     (None, 29, 29, 32)   0           ['batch_normalization_48[0][0]'] \n",
            "                                                                                                  \n",
            " activation_50 (Activation)     (None, 29, 29, 32)   0           ['batch_normalization_50[0][0]'] \n",
            "                                                                                                  \n",
            " activation_53 (Activation)     (None, 29, 29, 64)   0           ['batch_normalization_53[0][0]'] \n",
            "                                                                                                  \n",
            " block35_7_mixed (Concatenate)  (None, 29, 29, 128)  0           ['activation_48[0][0]',          \n",
            "                                                                  'activation_50[0][0]',          \n",
            "                                                                  'activation_53[0][0]']          \n",
            "                                                                                                  \n",
            " block35_7_conv (Conv2D)        (None, 29, 29, 320)  41280       ['block35_7_mixed[0][0]']        \n",
            "                                                                                                  \n",
            " block35_7 (Lambda)             (None, 29, 29, 320)  0           ['block35_6_ac[0][0]',           \n",
            "                                                                  'block35_7_conv[0][0]']         \n",
            "                                                                                                  \n",
            " block35_7_ac (Activation)      (None, 29, 29, 320)  0           ['block35_7[0][0]']              \n",
            "                                                                                                  \n",
            " conv2d_57 (Conv2D)             (None, 29, 29, 32)   10240       ['block35_7_ac[0][0]']           \n",
            "                                                                                                  \n",
            " batch_normalization_57 (BatchN  (None, 29, 29, 32)  96          ['conv2d_57[0][0]']              \n",
            " ormalization)                                                                                    \n",
            "                                                                                                  \n",
            " activation_57 (Activation)     (None, 29, 29, 32)   0           ['batch_normalization_57[0][0]'] \n",
            "                                                                                                  \n",
            " conv2d_55 (Conv2D)             (None, 29, 29, 32)   10240       ['block35_7_ac[0][0]']           \n",
            "                                                                                                  \n",
            " conv2d_58 (Conv2D)             (None, 29, 29, 48)   13824       ['activation_57[0][0]']          \n",
            "                                                                                                  \n",
            " batch_normalization_55 (BatchN  (None, 29, 29, 32)  96          ['conv2d_55[0][0]']              \n",
            " ormalization)                                                                                    \n",
            "                                                                                                  \n",
            " batch_normalization_58 (BatchN  (None, 29, 29, 48)  144         ['conv2d_58[0][0]']              \n",
            " ormalization)                                                                                    \n",
            "                                                                                                  \n",
            " activation_55 (Activation)     (None, 29, 29, 32)   0           ['batch_normalization_55[0][0]'] \n",
            "                                                                                                  \n",
            " activation_58 (Activation)     (None, 29, 29, 48)   0           ['batch_normalization_58[0][0]'] \n",
            "                                                                                                  \n",
            " conv2d_54 (Conv2D)             (None, 29, 29, 32)   10240       ['block35_7_ac[0][0]']           \n",
            "                                                                                                  \n",
            " conv2d_56 (Conv2D)             (None, 29, 29, 32)   9216        ['activation_55[0][0]']          \n",
            "                                                                                                  \n",
            " conv2d_59 (Conv2D)             (None, 29, 29, 64)   27648       ['activation_58[0][0]']          \n",
            "                                                                                                  \n",
            " batch_normalization_54 (BatchN  (None, 29, 29, 32)  96          ['conv2d_54[0][0]']              \n",
            " ormalization)                                                                                    \n",
            "                                                                                                  \n",
            " batch_normalization_56 (BatchN  (None, 29, 29, 32)  96          ['conv2d_56[0][0]']              \n",
            " ormalization)                                                                                    \n",
            "                                                                                                  \n",
            " batch_normalization_59 (BatchN  (None, 29, 29, 64)  192         ['conv2d_59[0][0]']              \n",
            " ormalization)                                                                                    \n",
            "                                                                                                  \n",
            " activation_54 (Activation)     (None, 29, 29, 32)   0           ['batch_normalization_54[0][0]'] \n",
            "                                                                                                  \n",
            " activation_56 (Activation)     (None, 29, 29, 32)   0           ['batch_normalization_56[0][0]'] \n",
            "                                                                                                  \n",
            " activation_59 (Activation)     (None, 29, 29, 64)   0           ['batch_normalization_59[0][0]'] \n",
            "                                                                                                  \n",
            " block35_8_mixed (Concatenate)  (None, 29, 29, 128)  0           ['activation_54[0][0]',          \n",
            "                                                                  'activation_56[0][0]',          \n",
            "                                                                  'activation_59[0][0]']          \n",
            "                                                                                                  \n",
            " block35_8_conv (Conv2D)        (None, 29, 29, 320)  41280       ['block35_8_mixed[0][0]']        \n",
            "                                                                                                  \n",
            " block35_8 (Lambda)             (None, 29, 29, 320)  0           ['block35_7_ac[0][0]',           \n",
            "                                                                  'block35_8_conv[0][0]']         \n",
            "                                                                                                  \n",
            " block35_8_ac (Activation)      (None, 29, 29, 320)  0           ['block35_8[0][0]']              \n",
            "                                                                                                  \n",
            " conv2d_63 (Conv2D)             (None, 29, 29, 32)   10240       ['block35_8_ac[0][0]']           \n",
            "                                                                                                  \n",
            " batch_normalization_63 (BatchN  (None, 29, 29, 32)  96          ['conv2d_63[0][0]']              \n",
            " ormalization)                                                                                    \n",
            "                                                                                                  \n",
            " activation_63 (Activation)     (None, 29, 29, 32)   0           ['batch_normalization_63[0][0]'] \n",
            "                                                                                                  \n",
            " conv2d_61 (Conv2D)             (None, 29, 29, 32)   10240       ['block35_8_ac[0][0]']           \n",
            "                                                                                                  \n",
            " conv2d_64 (Conv2D)             (None, 29, 29, 48)   13824       ['activation_63[0][0]']          \n",
            "                                                                                                  \n",
            " batch_normalization_61 (BatchN  (None, 29, 29, 32)  96          ['conv2d_61[0][0]']              \n",
            " ormalization)                                                                                    \n",
            "                                                                                                  \n",
            " batch_normalization_64 (BatchN  (None, 29, 29, 48)  144         ['conv2d_64[0][0]']              \n",
            " ormalization)                                                                                    \n",
            "                                                                                                  \n",
            " activation_61 (Activation)     (None, 29, 29, 32)   0           ['batch_normalization_61[0][0]'] \n",
            "                                                                                                  \n",
            " activation_64 (Activation)     (None, 29, 29, 48)   0           ['batch_normalization_64[0][0]'] \n",
            "                                                                                                  \n",
            " conv2d_60 (Conv2D)             (None, 29, 29, 32)   10240       ['block35_8_ac[0][0]']           \n",
            "                                                                                                  \n",
            " conv2d_62 (Conv2D)             (None, 29, 29, 32)   9216        ['activation_61[0][0]']          \n",
            "                                                                                                  \n",
            " conv2d_65 (Conv2D)             (None, 29, 29, 64)   27648       ['activation_64[0][0]']          \n",
            "                                                                                                  \n",
            " batch_normalization_60 (BatchN  (None, 29, 29, 32)  96          ['conv2d_60[0][0]']              \n",
            " ormalization)                                                                                    \n",
            "                                                                                                  \n",
            " batch_normalization_62 (BatchN  (None, 29, 29, 32)  96          ['conv2d_62[0][0]']              \n",
            " ormalization)                                                                                    \n",
            "                                                                                                  \n",
            " batch_normalization_65 (BatchN  (None, 29, 29, 64)  192         ['conv2d_65[0][0]']              \n",
            " ormalization)                                                                                    \n",
            "                                                                                                  \n",
            " activation_60 (Activation)     (None, 29, 29, 32)   0           ['batch_normalization_60[0][0]'] \n",
            "                                                                                                  \n",
            " activation_62 (Activation)     (None, 29, 29, 32)   0           ['batch_normalization_62[0][0]'] \n",
            "                                                                                                  \n",
            " activation_65 (Activation)     (None, 29, 29, 64)   0           ['batch_normalization_65[0][0]'] \n",
            "                                                                                                  \n",
            " block35_9_mixed (Concatenate)  (None, 29, 29, 128)  0           ['activation_60[0][0]',          \n",
            "                                                                  'activation_62[0][0]',          \n",
            "                                                                  'activation_65[0][0]']          \n",
            "                                                                                                  \n",
            " block35_9_conv (Conv2D)        (None, 29, 29, 320)  41280       ['block35_9_mixed[0][0]']        \n",
            "                                                                                                  \n",
            " block35_9 (Lambda)             (None, 29, 29, 320)  0           ['block35_8_ac[0][0]',           \n",
            "                                                                  'block35_9_conv[0][0]']         \n",
            "                                                                                                  \n",
            " block35_9_ac (Activation)      (None, 29, 29, 320)  0           ['block35_9[0][0]']              \n",
            "                                                                                                  \n",
            " conv2d_69 (Conv2D)             (None, 29, 29, 32)   10240       ['block35_9_ac[0][0]']           \n",
            "                                                                                                  \n",
            " batch_normalization_69 (BatchN  (None, 29, 29, 32)  96          ['conv2d_69[0][0]']              \n",
            " ormalization)                                                                                    \n",
            "                                                                                                  \n",
            " activation_69 (Activation)     (None, 29, 29, 32)   0           ['batch_normalization_69[0][0]'] \n",
            "                                                                                                  \n",
            " conv2d_67 (Conv2D)             (None, 29, 29, 32)   10240       ['block35_9_ac[0][0]']           \n",
            "                                                                                                  \n",
            " conv2d_70 (Conv2D)             (None, 29, 29, 48)   13824       ['activation_69[0][0]']          \n",
            "                                                                                                  \n",
            " batch_normalization_67 (BatchN  (None, 29, 29, 32)  96          ['conv2d_67[0][0]']              \n",
            " ormalization)                                                                                    \n",
            "                                                                                                  \n",
            " batch_normalization_70 (BatchN  (None, 29, 29, 48)  144         ['conv2d_70[0][0]']              \n",
            " ormalization)                                                                                    \n",
            "                                                                                                  \n",
            " activation_67 (Activation)     (None, 29, 29, 32)   0           ['batch_normalization_67[0][0]'] \n",
            "                                                                                                  \n",
            " activation_70 (Activation)     (None, 29, 29, 48)   0           ['batch_normalization_70[0][0]'] \n",
            "                                                                                                  \n",
            " conv2d_66 (Conv2D)             (None, 29, 29, 32)   10240       ['block35_9_ac[0][0]']           \n",
            "                                                                                                  \n",
            " conv2d_68 (Conv2D)             (None, 29, 29, 32)   9216        ['activation_67[0][0]']          \n",
            "                                                                                                  \n",
            " conv2d_71 (Conv2D)             (None, 29, 29, 64)   27648       ['activation_70[0][0]']          \n",
            "                                                                                                  \n",
            " batch_normalization_66 (BatchN  (None, 29, 29, 32)  96          ['conv2d_66[0][0]']              \n",
            " ormalization)                                                                                    \n",
            "                                                                                                  \n",
            " batch_normalization_68 (BatchN  (None, 29, 29, 32)  96          ['conv2d_68[0][0]']              \n",
            " ormalization)                                                                                    \n",
            "                                                                                                  \n",
            " batch_normalization_71 (BatchN  (None, 29, 29, 64)  192         ['conv2d_71[0][0]']              \n",
            " ormalization)                                                                                    \n",
            "                                                                                                  \n",
            " activation_66 (Activation)     (None, 29, 29, 32)   0           ['batch_normalization_66[0][0]'] \n",
            "                                                                                                  \n",
            " activation_68 (Activation)     (None, 29, 29, 32)   0           ['batch_normalization_68[0][0]'] \n",
            "                                                                                                  \n",
            " activation_71 (Activation)     (None, 29, 29, 64)   0           ['batch_normalization_71[0][0]'] \n",
            "                                                                                                  \n",
            " block35_10_mixed (Concatenate)  (None, 29, 29, 128)  0          ['activation_66[0][0]',          \n",
            "                                                                  'activation_68[0][0]',          \n",
            "                                                                  'activation_71[0][0]']          \n",
            "                                                                                                  \n",
            " block35_10_conv (Conv2D)       (None, 29, 29, 320)  41280       ['block35_10_mixed[0][0]']       \n",
            "                                                                                                  \n",
            " block35_10 (Lambda)            (None, 29, 29, 320)  0           ['block35_9_ac[0][0]',           \n",
            "                                                                  'block35_10_conv[0][0]']        \n",
            "                                                                                                  \n",
            " block35_10_ac (Activation)     (None, 29, 29, 320)  0           ['block35_10[0][0]']             \n",
            "                                                                                                  \n",
            " conv2d_73 (Conv2D)             (None, 29, 29, 256)  81920       ['block35_10_ac[0][0]']          \n",
            "                                                                                                  \n",
            " batch_normalization_73 (BatchN  (None, 29, 29, 256)  768        ['conv2d_73[0][0]']              \n",
            " ormalization)                                                                                    \n",
            "                                                                                                  \n",
            " activation_73 (Activation)     (None, 29, 29, 256)  0           ['batch_normalization_73[0][0]'] \n",
            "                                                                                                  \n",
            " conv2d_74 (Conv2D)             (None, 29, 29, 256)  589824      ['activation_73[0][0]']          \n",
            "                                                                                                  \n",
            " batch_normalization_74 (BatchN  (None, 29, 29, 256)  768        ['conv2d_74[0][0]']              \n",
            " ormalization)                                                                                    \n",
            "                                                                                                  \n",
            " activation_74 (Activation)     (None, 29, 29, 256)  0           ['batch_normalization_74[0][0]'] \n",
            "                                                                                                  \n",
            " conv2d_72 (Conv2D)             (None, 14, 14, 384)  1105920     ['block35_10_ac[0][0]']          \n",
            "                                                                                                  \n",
            " conv2d_75 (Conv2D)             (None, 14, 14, 384)  884736      ['activation_74[0][0]']          \n",
            "                                                                                                  \n",
            " batch_normalization_72 (BatchN  (None, 14, 14, 384)  1152       ['conv2d_72[0][0]']              \n",
            " ormalization)                                                                                    \n",
            "                                                                                                  \n",
            " batch_normalization_75 (BatchN  (None, 14, 14, 384)  1152       ['conv2d_75[0][0]']              \n",
            " ormalization)                                                                                    \n",
            "                                                                                                  \n",
            " activation_72 (Activation)     (None, 14, 14, 384)  0           ['batch_normalization_72[0][0]'] \n",
            "                                                                                                  \n",
            " activation_75 (Activation)     (None, 14, 14, 384)  0           ['batch_normalization_75[0][0]'] \n",
            "                                                                                                  \n",
            " max_pooling2d_2 (MaxPooling2D)  (None, 14, 14, 320)  0          ['block35_10_ac[0][0]']          \n",
            "                                                                                                  \n",
            " mixed_6a (Concatenate)         (None, 14, 14, 1088  0           ['activation_72[0][0]',          \n",
            "                                )                                 'activation_75[0][0]',          \n",
            "                                                                  'max_pooling2d_2[0][0]']        \n",
            "                                                                                                  \n",
            " conv2d_77 (Conv2D)             (None, 14, 14, 128)  139264      ['mixed_6a[0][0]']               \n",
            "                                                                                                  \n",
            " batch_normalization_77 (BatchN  (None, 14, 14, 128)  384        ['conv2d_77[0][0]']              \n",
            " ormalization)                                                                                    \n",
            "                                                                                                  \n",
            " activation_77 (Activation)     (None, 14, 14, 128)  0           ['batch_normalization_77[0][0]'] \n",
            "                                                                                                  \n",
            " conv2d_78 (Conv2D)             (None, 14, 14, 160)  143360      ['activation_77[0][0]']          \n",
            "                                                                                                  \n",
            " batch_normalization_78 (BatchN  (None, 14, 14, 160)  480        ['conv2d_78[0][0]']              \n",
            " ormalization)                                                                                    \n",
            "                                                                                                  \n",
            " activation_78 (Activation)     (None, 14, 14, 160)  0           ['batch_normalization_78[0][0]'] \n",
            "                                                                                                  \n",
            " conv2d_76 (Conv2D)             (None, 14, 14, 192)  208896      ['mixed_6a[0][0]']               \n",
            "                                                                                                  \n",
            " conv2d_79 (Conv2D)             (None, 14, 14, 192)  215040      ['activation_78[0][0]']          \n",
            "                                                                                                  \n",
            " batch_normalization_76 (BatchN  (None, 14, 14, 192)  576        ['conv2d_76[0][0]']              \n",
            " ormalization)                                                                                    \n",
            "                                                                                                  \n",
            " batch_normalization_79 (BatchN  (None, 14, 14, 192)  576        ['conv2d_79[0][0]']              \n",
            " ormalization)                                                                                    \n",
            "                                                                                                  \n",
            " activation_76 (Activation)     (None, 14, 14, 192)  0           ['batch_normalization_76[0][0]'] \n",
            "                                                                                                  \n",
            " activation_79 (Activation)     (None, 14, 14, 192)  0           ['batch_normalization_79[0][0]'] \n",
            "                                                                                                  \n",
            " block17_1_mixed (Concatenate)  (None, 14, 14, 384)  0           ['activation_76[0][0]',          \n",
            "                                                                  'activation_79[0][0]']          \n",
            "                                                                                                  \n",
            " block17_1_conv (Conv2D)        (None, 14, 14, 1088  418880      ['block17_1_mixed[0][0]']        \n",
            "                                )                                                                 \n",
            "                                                                                                  \n",
            " block17_1 (Lambda)             (None, 14, 14, 1088  0           ['mixed_6a[0][0]',               \n",
            "                                )                                 'block17_1_conv[0][0]']         \n",
            "                                                                                                  \n",
            " block17_1_ac (Activation)      (None, 14, 14, 1088  0           ['block17_1[0][0]']              \n",
            "                                )                                                                 \n",
            "                                                                                                  \n",
            " conv2d_81 (Conv2D)             (None, 14, 14, 128)  139264      ['block17_1_ac[0][0]']           \n",
            "                                                                                                  \n",
            " batch_normalization_81 (BatchN  (None, 14, 14, 128)  384        ['conv2d_81[0][0]']              \n",
            " ormalization)                                                                                    \n",
            "                                                                                                  \n",
            " activation_81 (Activation)     (None, 14, 14, 128)  0           ['batch_normalization_81[0][0]'] \n",
            "                                                                                                  \n",
            " conv2d_82 (Conv2D)             (None, 14, 14, 160)  143360      ['activation_81[0][0]']          \n",
            "                                                                                                  \n",
            " batch_normalization_82 (BatchN  (None, 14, 14, 160)  480        ['conv2d_82[0][0]']              \n",
            " ormalization)                                                                                    \n",
            "                                                                                                  \n",
            " activation_82 (Activation)     (None, 14, 14, 160)  0           ['batch_normalization_82[0][0]'] \n",
            "                                                                                                  \n",
            " conv2d_80 (Conv2D)             (None, 14, 14, 192)  208896      ['block17_1_ac[0][0]']           \n",
            "                                                                                                  \n",
            " conv2d_83 (Conv2D)             (None, 14, 14, 192)  215040      ['activation_82[0][0]']          \n",
            "                                                                                                  \n",
            " batch_normalization_80 (BatchN  (None, 14, 14, 192)  576        ['conv2d_80[0][0]']              \n",
            " ormalization)                                                                                    \n",
            "                                                                                                  \n",
            " batch_normalization_83 (BatchN  (None, 14, 14, 192)  576        ['conv2d_83[0][0]']              \n",
            " ormalization)                                                                                    \n",
            "                                                                                                  \n",
            " activation_80 (Activation)     (None, 14, 14, 192)  0           ['batch_normalization_80[0][0]'] \n",
            "                                                                                                  \n",
            " activation_83 (Activation)     (None, 14, 14, 192)  0           ['batch_normalization_83[0][0]'] \n",
            "                                                                                                  \n",
            " block17_2_mixed (Concatenate)  (None, 14, 14, 384)  0           ['activation_80[0][0]',          \n",
            "                                                                  'activation_83[0][0]']          \n",
            "                                                                                                  \n",
            " block17_2_conv (Conv2D)        (None, 14, 14, 1088  418880      ['block17_2_mixed[0][0]']        \n",
            "                                )                                                                 \n",
            "                                                                                                  \n",
            " block17_2 (Lambda)             (None, 14, 14, 1088  0           ['block17_1_ac[0][0]',           \n",
            "                                )                                 'block17_2_conv[0][0]']         \n",
            "                                                                                                  \n",
            " block17_2_ac (Activation)      (None, 14, 14, 1088  0           ['block17_2[0][0]']              \n",
            "                                )                                                                 \n",
            "                                                                                                  \n",
            " conv2d_85 (Conv2D)             (None, 14, 14, 128)  139264      ['block17_2_ac[0][0]']           \n",
            "                                                                                                  \n",
            " batch_normalization_85 (BatchN  (None, 14, 14, 128)  384        ['conv2d_85[0][0]']              \n",
            " ormalization)                                                                                    \n",
            "                                                                                                  \n",
            " activation_85 (Activation)     (None, 14, 14, 128)  0           ['batch_normalization_85[0][0]'] \n",
            "                                                                                                  \n",
            " conv2d_86 (Conv2D)             (None, 14, 14, 160)  143360      ['activation_85[0][0]']          \n",
            "                                                                                                  \n",
            " batch_normalization_86 (BatchN  (None, 14, 14, 160)  480        ['conv2d_86[0][0]']              \n",
            " ormalization)                                                                                    \n",
            "                                                                                                  \n",
            " activation_86 (Activation)     (None, 14, 14, 160)  0           ['batch_normalization_86[0][0]'] \n",
            "                                                                                                  \n",
            " conv2d_84 (Conv2D)             (None, 14, 14, 192)  208896      ['block17_2_ac[0][0]']           \n",
            "                                                                                                  \n",
            " conv2d_87 (Conv2D)             (None, 14, 14, 192)  215040      ['activation_86[0][0]']          \n",
            "                                                                                                  \n",
            " batch_normalization_84 (BatchN  (None, 14, 14, 192)  576        ['conv2d_84[0][0]']              \n",
            " ormalization)                                                                                    \n",
            "                                                                                                  \n",
            " batch_normalization_87 (BatchN  (None, 14, 14, 192)  576        ['conv2d_87[0][0]']              \n",
            " ormalization)                                                                                    \n",
            "                                                                                                  \n",
            " activation_84 (Activation)     (None, 14, 14, 192)  0           ['batch_normalization_84[0][0]'] \n",
            "                                                                                                  \n",
            " activation_87 (Activation)     (None, 14, 14, 192)  0           ['batch_normalization_87[0][0]'] \n",
            "                                                                                                  \n",
            " block17_3_mixed (Concatenate)  (None, 14, 14, 384)  0           ['activation_84[0][0]',          \n",
            "                                                                  'activation_87[0][0]']          \n",
            "                                                                                                  \n",
            " block17_3_conv (Conv2D)        (None, 14, 14, 1088  418880      ['block17_3_mixed[0][0]']        \n",
            "                                )                                                                 \n",
            "                                                                                                  \n",
            " block17_3 (Lambda)             (None, 14, 14, 1088  0           ['block17_2_ac[0][0]',           \n",
            "                                )                                 'block17_3_conv[0][0]']         \n",
            "                                                                                                  \n",
            " block17_3_ac (Activation)      (None, 14, 14, 1088  0           ['block17_3[0][0]']              \n",
            "                                )                                                                 \n",
            "                                                                                                  \n",
            " conv2d_89 (Conv2D)             (None, 14, 14, 128)  139264      ['block17_3_ac[0][0]']           \n",
            "                                                                                                  \n",
            " batch_normalization_89 (BatchN  (None, 14, 14, 128)  384        ['conv2d_89[0][0]']              \n",
            " ormalization)                                                                                    \n",
            "                                                                                                  \n",
            " activation_89 (Activation)     (None, 14, 14, 128)  0           ['batch_normalization_89[0][0]'] \n",
            "                                                                                                  \n",
            " conv2d_90 (Conv2D)             (None, 14, 14, 160)  143360      ['activation_89[0][0]']          \n",
            "                                                                                                  \n",
            " batch_normalization_90 (BatchN  (None, 14, 14, 160)  480        ['conv2d_90[0][0]']              \n",
            " ormalization)                                                                                    \n",
            "                                                                                                  \n",
            " activation_90 (Activation)     (None, 14, 14, 160)  0           ['batch_normalization_90[0][0]'] \n",
            "                                                                                                  \n",
            " conv2d_88 (Conv2D)             (None, 14, 14, 192)  208896      ['block17_3_ac[0][0]']           \n",
            "                                                                                                  \n",
            " conv2d_91 (Conv2D)             (None, 14, 14, 192)  215040      ['activation_90[0][0]']          \n",
            "                                                                                                  \n",
            " batch_normalization_88 (BatchN  (None, 14, 14, 192)  576        ['conv2d_88[0][0]']              \n",
            " ormalization)                                                                                    \n",
            "                                                                                                  \n",
            " batch_normalization_91 (BatchN  (None, 14, 14, 192)  576        ['conv2d_91[0][0]']              \n",
            " ormalization)                                                                                    \n",
            "                                                                                                  \n",
            " activation_88 (Activation)     (None, 14, 14, 192)  0           ['batch_normalization_88[0][0]'] \n",
            "                                                                                                  \n",
            " activation_91 (Activation)     (None, 14, 14, 192)  0           ['batch_normalization_91[0][0]'] \n",
            "                                                                                                  \n",
            " block17_4_mixed (Concatenate)  (None, 14, 14, 384)  0           ['activation_88[0][0]',          \n",
            "                                                                  'activation_91[0][0]']          \n",
            "                                                                                                  \n",
            " block17_4_conv (Conv2D)        (None, 14, 14, 1088  418880      ['block17_4_mixed[0][0]']        \n",
            "                                )                                                                 \n",
            "                                                                                                  \n",
            " block17_4 (Lambda)             (None, 14, 14, 1088  0           ['block17_3_ac[0][0]',           \n",
            "                                )                                 'block17_4_conv[0][0]']         \n",
            "                                                                                                  \n",
            " block17_4_ac (Activation)      (None, 14, 14, 1088  0           ['block17_4[0][0]']              \n",
            "                                )                                                                 \n",
            "                                                                                                  \n",
            " conv2d_93 (Conv2D)             (None, 14, 14, 128)  139264      ['block17_4_ac[0][0]']           \n",
            "                                                                                                  \n",
            " batch_normalization_93 (BatchN  (None, 14, 14, 128)  384        ['conv2d_93[0][0]']              \n",
            " ormalization)                                                                                    \n",
            "                                                                                                  \n",
            " activation_93 (Activation)     (None, 14, 14, 128)  0           ['batch_normalization_93[0][0]'] \n",
            "                                                                                                  \n",
            " conv2d_94 (Conv2D)             (None, 14, 14, 160)  143360      ['activation_93[0][0]']          \n",
            "                                                                                                  \n",
            " batch_normalization_94 (BatchN  (None, 14, 14, 160)  480        ['conv2d_94[0][0]']              \n",
            " ormalization)                                                                                    \n",
            "                                                                                                  \n",
            " activation_94 (Activation)     (None, 14, 14, 160)  0           ['batch_normalization_94[0][0]'] \n",
            "                                                                                                  \n",
            " conv2d_92 (Conv2D)             (None, 14, 14, 192)  208896      ['block17_4_ac[0][0]']           \n",
            "                                                                                                  \n",
            " conv2d_95 (Conv2D)             (None, 14, 14, 192)  215040      ['activation_94[0][0]']          \n",
            "                                                                                                  \n",
            " batch_normalization_92 (BatchN  (None, 14, 14, 192)  576        ['conv2d_92[0][0]']              \n",
            " ormalization)                                                                                    \n",
            "                                                                                                  \n",
            " batch_normalization_95 (BatchN  (None, 14, 14, 192)  576        ['conv2d_95[0][0]']              \n",
            " ormalization)                                                                                    \n",
            "                                                                                                  \n",
            " activation_92 (Activation)     (None, 14, 14, 192)  0           ['batch_normalization_92[0][0]'] \n",
            "                                                                                                  \n",
            " activation_95 (Activation)     (None, 14, 14, 192)  0           ['batch_normalization_95[0][0]'] \n",
            "                                                                                                  \n",
            " block17_5_mixed (Concatenate)  (None, 14, 14, 384)  0           ['activation_92[0][0]',          \n",
            "                                                                  'activation_95[0][0]']          \n",
            "                                                                                                  \n",
            " block17_5_conv (Conv2D)        (None, 14, 14, 1088  418880      ['block17_5_mixed[0][0]']        \n",
            "                                )                                                                 \n",
            "                                                                                                  \n",
            " block17_5 (Lambda)             (None, 14, 14, 1088  0           ['block17_4_ac[0][0]',           \n",
            "                                )                                 'block17_5_conv[0][0]']         \n",
            "                                                                                                  \n",
            " block17_5_ac (Activation)      (None, 14, 14, 1088  0           ['block17_5[0][0]']              \n",
            "                                )                                                                 \n",
            "                                                                                                  \n",
            " conv2d_97 (Conv2D)             (None, 14, 14, 128)  139264      ['block17_5_ac[0][0]']           \n",
            "                                                                                                  \n",
            " batch_normalization_97 (BatchN  (None, 14, 14, 128)  384        ['conv2d_97[0][0]']              \n",
            " ormalization)                                                                                    \n",
            "                                                                                                  \n",
            " activation_97 (Activation)     (None, 14, 14, 128)  0           ['batch_normalization_97[0][0]'] \n",
            "                                                                                                  \n",
            " conv2d_98 (Conv2D)             (None, 14, 14, 160)  143360      ['activation_97[0][0]']          \n",
            "                                                                                                  \n",
            " batch_normalization_98 (BatchN  (None, 14, 14, 160)  480        ['conv2d_98[0][0]']              \n",
            " ormalization)                                                                                    \n",
            "                                                                                                  \n",
            " activation_98 (Activation)     (None, 14, 14, 160)  0           ['batch_normalization_98[0][0]'] \n",
            "                                                                                                  \n",
            " conv2d_96 (Conv2D)             (None, 14, 14, 192)  208896      ['block17_5_ac[0][0]']           \n",
            "                                                                                                  \n",
            " conv2d_99 (Conv2D)             (None, 14, 14, 192)  215040      ['activation_98[0][0]']          \n",
            "                                                                                                  \n",
            " batch_normalization_96 (BatchN  (None, 14, 14, 192)  576        ['conv2d_96[0][0]']              \n",
            " ormalization)                                                                                    \n",
            "                                                                                                  \n",
            " batch_normalization_99 (BatchN  (None, 14, 14, 192)  576        ['conv2d_99[0][0]']              \n",
            " ormalization)                                                                                    \n",
            "                                                                                                  \n",
            " activation_96 (Activation)     (None, 14, 14, 192)  0           ['batch_normalization_96[0][0]'] \n",
            "                                                                                                  \n",
            " activation_99 (Activation)     (None, 14, 14, 192)  0           ['batch_normalization_99[0][0]'] \n",
            "                                                                                                  \n",
            " block17_6_mixed (Concatenate)  (None, 14, 14, 384)  0           ['activation_96[0][0]',          \n",
            "                                                                  'activation_99[0][0]']          \n",
            "                                                                                                  \n",
            " block17_6_conv (Conv2D)        (None, 14, 14, 1088  418880      ['block17_6_mixed[0][0]']        \n",
            "                                )                                                                 \n",
            "                                                                                                  \n",
            " block17_6 (Lambda)             (None, 14, 14, 1088  0           ['block17_5_ac[0][0]',           \n",
            "                                )                                 'block17_6_conv[0][0]']         \n",
            "                                                                                                  \n",
            " block17_6_ac (Activation)      (None, 14, 14, 1088  0           ['block17_6[0][0]']              \n",
            "                                )                                                                 \n",
            "                                                                                                  \n",
            " conv2d_101 (Conv2D)            (None, 14, 14, 128)  139264      ['block17_6_ac[0][0]']           \n",
            "                                                                                                  \n",
            " batch_normalization_101 (Batch  (None, 14, 14, 128)  384        ['conv2d_101[0][0]']             \n",
            " Normalization)                                                                                   \n",
            "                                                                                                  \n",
            " activation_101 (Activation)    (None, 14, 14, 128)  0           ['batch_normalization_101[0][0]']\n",
            "                                                                                                  \n",
            " conv2d_102 (Conv2D)            (None, 14, 14, 160)  143360      ['activation_101[0][0]']         \n",
            "                                                                                                  \n",
            " batch_normalization_102 (Batch  (None, 14, 14, 160)  480        ['conv2d_102[0][0]']             \n",
            " Normalization)                                                                                   \n",
            "                                                                                                  \n",
            " activation_102 (Activation)    (None, 14, 14, 160)  0           ['batch_normalization_102[0][0]']\n",
            "                                                                                                  \n",
            " conv2d_100 (Conv2D)            (None, 14, 14, 192)  208896      ['block17_6_ac[0][0]']           \n",
            "                                                                                                  \n",
            " conv2d_103 (Conv2D)            (None, 14, 14, 192)  215040      ['activation_102[0][0]']         \n",
            "                                                                                                  \n",
            " batch_normalization_100 (Batch  (None, 14, 14, 192)  576        ['conv2d_100[0][0]']             \n",
            " Normalization)                                                                                   \n",
            "                                                                                                  \n",
            " batch_normalization_103 (Batch  (None, 14, 14, 192)  576        ['conv2d_103[0][0]']             \n",
            " Normalization)                                                                                   \n",
            "                                                                                                  \n",
            " activation_100 (Activation)    (None, 14, 14, 192)  0           ['batch_normalization_100[0][0]']\n",
            "                                                                                                  \n",
            " activation_103 (Activation)    (None, 14, 14, 192)  0           ['batch_normalization_103[0][0]']\n",
            "                                                                                                  \n",
            " block17_7_mixed (Concatenate)  (None, 14, 14, 384)  0           ['activation_100[0][0]',         \n",
            "                                                                  'activation_103[0][0]']         \n",
            "                                                                                                  \n",
            " block17_7_conv (Conv2D)        (None, 14, 14, 1088  418880      ['block17_7_mixed[0][0]']        \n",
            "                                )                                                                 \n",
            "                                                                                                  \n",
            " block17_7 (Lambda)             (None, 14, 14, 1088  0           ['block17_6_ac[0][0]',           \n",
            "                                )                                 'block17_7_conv[0][0]']         \n",
            "                                                                                                  \n",
            " block17_7_ac (Activation)      (None, 14, 14, 1088  0           ['block17_7[0][0]']              \n",
            "                                )                                                                 \n",
            "                                                                                                  \n",
            " conv2d_105 (Conv2D)            (None, 14, 14, 128)  139264      ['block17_7_ac[0][0]']           \n",
            "                                                                                                  \n",
            " batch_normalization_105 (Batch  (None, 14, 14, 128)  384        ['conv2d_105[0][0]']             \n",
            " Normalization)                                                                                   \n",
            "                                                                                                  \n",
            " activation_105 (Activation)    (None, 14, 14, 128)  0           ['batch_normalization_105[0][0]']\n",
            "                                                                                                  \n",
            " conv2d_106 (Conv2D)            (None, 14, 14, 160)  143360      ['activation_105[0][0]']         \n",
            "                                                                                                  \n",
            " batch_normalization_106 (Batch  (None, 14, 14, 160)  480        ['conv2d_106[0][0]']             \n",
            " Normalization)                                                                                   \n",
            "                                                                                                  \n",
            " activation_106 (Activation)    (None, 14, 14, 160)  0           ['batch_normalization_106[0][0]']\n",
            "                                                                                                  \n",
            " conv2d_104 (Conv2D)            (None, 14, 14, 192)  208896      ['block17_7_ac[0][0]']           \n",
            "                                                                                                  \n",
            " conv2d_107 (Conv2D)            (None, 14, 14, 192)  215040      ['activation_106[0][0]']         \n",
            "                                                                                                  \n",
            " batch_normalization_104 (Batch  (None, 14, 14, 192)  576        ['conv2d_104[0][0]']             \n",
            " Normalization)                                                                                   \n",
            "                                                                                                  \n",
            " batch_normalization_107 (Batch  (None, 14, 14, 192)  576        ['conv2d_107[0][0]']             \n",
            " Normalization)                                                                                   \n",
            "                                                                                                  \n",
            " activation_104 (Activation)    (None, 14, 14, 192)  0           ['batch_normalization_104[0][0]']\n",
            "                                                                                                  \n",
            " activation_107 (Activation)    (None, 14, 14, 192)  0           ['batch_normalization_107[0][0]']\n",
            "                                                                                                  \n",
            " block17_8_mixed (Concatenate)  (None, 14, 14, 384)  0           ['activation_104[0][0]',         \n",
            "                                                                  'activation_107[0][0]']         \n",
            "                                                                                                  \n",
            " block17_8_conv (Conv2D)        (None, 14, 14, 1088  418880      ['block17_8_mixed[0][0]']        \n",
            "                                )                                                                 \n",
            "                                                                                                  \n",
            " block17_8 (Lambda)             (None, 14, 14, 1088  0           ['block17_7_ac[0][0]',           \n",
            "                                )                                 'block17_8_conv[0][0]']         \n",
            "                                                                                                  \n",
            " block17_8_ac (Activation)      (None, 14, 14, 1088  0           ['block17_8[0][0]']              \n",
            "                                )                                                                 \n",
            "                                                                                                  \n",
            " conv2d_109 (Conv2D)            (None, 14, 14, 128)  139264      ['block17_8_ac[0][0]']           \n",
            "                                                                                                  \n",
            " batch_normalization_109 (Batch  (None, 14, 14, 128)  384        ['conv2d_109[0][0]']             \n",
            " Normalization)                                                                                   \n",
            "                                                                                                  \n",
            " activation_109 (Activation)    (None, 14, 14, 128)  0           ['batch_normalization_109[0][0]']\n",
            "                                                                                                  \n",
            " conv2d_110 (Conv2D)            (None, 14, 14, 160)  143360      ['activation_109[0][0]']         \n",
            "                                                                                                  \n",
            " batch_normalization_110 (Batch  (None, 14, 14, 160)  480        ['conv2d_110[0][0]']             \n",
            " Normalization)                                                                                   \n",
            "                                                                                                  \n",
            " activation_110 (Activation)    (None, 14, 14, 160)  0           ['batch_normalization_110[0][0]']\n",
            "                                                                                                  \n",
            " conv2d_108 (Conv2D)            (None, 14, 14, 192)  208896      ['block17_8_ac[0][0]']           \n",
            "                                                                                                  \n",
            " conv2d_111 (Conv2D)            (None, 14, 14, 192)  215040      ['activation_110[0][0]']         \n",
            "                                                                                                  \n",
            " batch_normalization_108 (Batch  (None, 14, 14, 192)  576        ['conv2d_108[0][0]']             \n",
            " Normalization)                                                                                   \n",
            "                                                                                                  \n",
            " batch_normalization_111 (Batch  (None, 14, 14, 192)  576        ['conv2d_111[0][0]']             \n",
            " Normalization)                                                                                   \n",
            "                                                                                                  \n",
            " activation_108 (Activation)    (None, 14, 14, 192)  0           ['batch_normalization_108[0][0]']\n",
            "                                                                                                  \n",
            " activation_111 (Activation)    (None, 14, 14, 192)  0           ['batch_normalization_111[0][0]']\n",
            "                                                                                                  \n",
            " block17_9_mixed (Concatenate)  (None, 14, 14, 384)  0           ['activation_108[0][0]',         \n",
            "                                                                  'activation_111[0][0]']         \n",
            "                                                                                                  \n",
            " block17_9_conv (Conv2D)        (None, 14, 14, 1088  418880      ['block17_9_mixed[0][0]']        \n",
            "                                )                                                                 \n",
            "                                                                                                  \n",
            " block17_9 (Lambda)             (None, 14, 14, 1088  0           ['block17_8_ac[0][0]',           \n",
            "                                )                                 'block17_9_conv[0][0]']         \n",
            "                                                                                                  \n",
            " block17_9_ac (Activation)      (None, 14, 14, 1088  0           ['block17_9[0][0]']              \n",
            "                                )                                                                 \n",
            "                                                                                                  \n",
            " conv2d_113 (Conv2D)            (None, 14, 14, 128)  139264      ['block17_9_ac[0][0]']           \n",
            "                                                                                                  \n",
            " batch_normalization_113 (Batch  (None, 14, 14, 128)  384        ['conv2d_113[0][0]']             \n",
            " Normalization)                                                                                   \n",
            "                                                                                                  \n",
            " activation_113 (Activation)    (None, 14, 14, 128)  0           ['batch_normalization_113[0][0]']\n",
            "                                                                                                  \n",
            " conv2d_114 (Conv2D)            (None, 14, 14, 160)  143360      ['activation_113[0][0]']         \n",
            "                                                                                                  \n",
            " batch_normalization_114 (Batch  (None, 14, 14, 160)  480        ['conv2d_114[0][0]']             \n",
            " Normalization)                                                                                   \n",
            "                                                                                                  \n",
            " activation_114 (Activation)    (None, 14, 14, 160)  0           ['batch_normalization_114[0][0]']\n",
            "                                                                                                  \n",
            " conv2d_112 (Conv2D)            (None, 14, 14, 192)  208896      ['block17_9_ac[0][0]']           \n",
            "                                                                                                  \n",
            " conv2d_115 (Conv2D)            (None, 14, 14, 192)  215040      ['activation_114[0][0]']         \n",
            "                                                                                                  \n",
            " batch_normalization_112 (Batch  (None, 14, 14, 192)  576        ['conv2d_112[0][0]']             \n",
            " Normalization)                                                                                   \n",
            "                                                                                                  \n",
            " batch_normalization_115 (Batch  (None, 14, 14, 192)  576        ['conv2d_115[0][0]']             \n",
            " Normalization)                                                                                   \n",
            "                                                                                                  \n",
            " activation_112 (Activation)    (None, 14, 14, 192)  0           ['batch_normalization_112[0][0]']\n",
            "                                                                                                  \n",
            " activation_115 (Activation)    (None, 14, 14, 192)  0           ['batch_normalization_115[0][0]']\n",
            "                                                                                                  \n",
            " block17_10_mixed (Concatenate)  (None, 14, 14, 384)  0          ['activation_112[0][0]',         \n",
            "                                                                  'activation_115[0][0]']         \n",
            "                                                                                                  \n",
            " block17_10_conv (Conv2D)       (None, 14, 14, 1088  418880      ['block17_10_mixed[0][0]']       \n",
            "                                )                                                                 \n",
            "                                                                                                  \n",
            " block17_10 (Lambda)            (None, 14, 14, 1088  0           ['block17_9_ac[0][0]',           \n",
            "                                )                                 'block17_10_conv[0][0]']        \n",
            "                                                                                                  \n",
            " block17_10_ac (Activation)     (None, 14, 14, 1088  0           ['block17_10[0][0]']             \n",
            "                                )                                                                 \n",
            "                                                                                                  \n",
            " conv2d_117 (Conv2D)            (None, 14, 14, 128)  139264      ['block17_10_ac[0][0]']          \n",
            "                                                                                                  \n",
            " batch_normalization_117 (Batch  (None, 14, 14, 128)  384        ['conv2d_117[0][0]']             \n",
            " Normalization)                                                                                   \n",
            "                                                                                                  \n",
            " activation_117 (Activation)    (None, 14, 14, 128)  0           ['batch_normalization_117[0][0]']\n",
            "                                                                                                  \n",
            " conv2d_118 (Conv2D)            (None, 14, 14, 160)  143360      ['activation_117[0][0]']         \n",
            "                                                                                                  \n",
            " batch_normalization_118 (Batch  (None, 14, 14, 160)  480        ['conv2d_118[0][0]']             \n",
            " Normalization)                                                                                   \n",
            "                                                                                                  \n",
            " activation_118 (Activation)    (None, 14, 14, 160)  0           ['batch_normalization_118[0][0]']\n",
            "                                                                                                  \n",
            " conv2d_116 (Conv2D)            (None, 14, 14, 192)  208896      ['block17_10_ac[0][0]']          \n",
            "                                                                                                  \n",
            " conv2d_119 (Conv2D)            (None, 14, 14, 192)  215040      ['activation_118[0][0]']         \n",
            "                                                                                                  \n",
            " batch_normalization_116 (Batch  (None, 14, 14, 192)  576        ['conv2d_116[0][0]']             \n",
            " Normalization)                                                                                   \n",
            "                                                                                                  \n",
            " batch_normalization_119 (Batch  (None, 14, 14, 192)  576        ['conv2d_119[0][0]']             \n",
            " Normalization)                                                                                   \n",
            "                                                                                                  \n",
            " activation_116 (Activation)    (None, 14, 14, 192)  0           ['batch_normalization_116[0][0]']\n",
            "                                                                                                  \n",
            " activation_119 (Activation)    (None, 14, 14, 192)  0           ['batch_normalization_119[0][0]']\n",
            "                                                                                                  \n",
            " block17_11_mixed (Concatenate)  (None, 14, 14, 384)  0          ['activation_116[0][0]',         \n",
            "                                                                  'activation_119[0][0]']         \n",
            "                                                                                                  \n",
            " block17_11_conv (Conv2D)       (None, 14, 14, 1088  418880      ['block17_11_mixed[0][0]']       \n",
            "                                )                                                                 \n",
            "                                                                                                  \n",
            " block17_11 (Lambda)            (None, 14, 14, 1088  0           ['block17_10_ac[0][0]',          \n",
            "                                )                                 'block17_11_conv[0][0]']        \n",
            "                                                                                                  \n",
            " block17_11_ac (Activation)     (None, 14, 14, 1088  0           ['block17_11[0][0]']             \n",
            "                                )                                                                 \n",
            "                                                                                                  \n",
            " conv2d_121 (Conv2D)            (None, 14, 14, 128)  139264      ['block17_11_ac[0][0]']          \n",
            "                                                                                                  \n",
            " batch_normalization_121 (Batch  (None, 14, 14, 128)  384        ['conv2d_121[0][0]']             \n",
            " Normalization)                                                                                   \n",
            "                                                                                                  \n",
            " activation_121 (Activation)    (None, 14, 14, 128)  0           ['batch_normalization_121[0][0]']\n",
            "                                                                                                  \n",
            " conv2d_122 (Conv2D)            (None, 14, 14, 160)  143360      ['activation_121[0][0]']         \n",
            "                                                                                                  \n",
            " batch_normalization_122 (Batch  (None, 14, 14, 160)  480        ['conv2d_122[0][0]']             \n",
            " Normalization)                                                                                   \n",
            "                                                                                                  \n",
            " activation_122 (Activation)    (None, 14, 14, 160)  0           ['batch_normalization_122[0][0]']\n",
            "                                                                                                  \n",
            " conv2d_120 (Conv2D)            (None, 14, 14, 192)  208896      ['block17_11_ac[0][0]']          \n",
            "                                                                                                  \n",
            " conv2d_123 (Conv2D)            (None, 14, 14, 192)  215040      ['activation_122[0][0]']         \n",
            "                                                                                                  \n",
            " batch_normalization_120 (Batch  (None, 14, 14, 192)  576        ['conv2d_120[0][0]']             \n",
            " Normalization)                                                                                   \n",
            "                                                                                                  \n",
            " batch_normalization_123 (Batch  (None, 14, 14, 192)  576        ['conv2d_123[0][0]']             \n",
            " Normalization)                                                                                   \n",
            "                                                                                                  \n",
            " activation_120 (Activation)    (None, 14, 14, 192)  0           ['batch_normalization_120[0][0]']\n",
            "                                                                                                  \n",
            " activation_123 (Activation)    (None, 14, 14, 192)  0           ['batch_normalization_123[0][0]']\n",
            "                                                                                                  \n",
            " block17_12_mixed (Concatenate)  (None, 14, 14, 384)  0          ['activation_120[0][0]',         \n",
            "                                                                  'activation_123[0][0]']         \n",
            "                                                                                                  \n",
            " block17_12_conv (Conv2D)       (None, 14, 14, 1088  418880      ['block17_12_mixed[0][0]']       \n",
            "                                )                                                                 \n",
            "                                                                                                  \n",
            " block17_12 (Lambda)            (None, 14, 14, 1088  0           ['block17_11_ac[0][0]',          \n",
            "                                )                                 'block17_12_conv[0][0]']        \n",
            "                                                                                                  \n",
            " block17_12_ac (Activation)     (None, 14, 14, 1088  0           ['block17_12[0][0]']             \n",
            "                                )                                                                 \n",
            "                                                                                                  \n",
            " conv2d_125 (Conv2D)            (None, 14, 14, 128)  139264      ['block17_12_ac[0][0]']          \n",
            "                                                                                                  \n",
            " batch_normalization_125 (Batch  (None, 14, 14, 128)  384        ['conv2d_125[0][0]']             \n",
            " Normalization)                                                                                   \n",
            "                                                                                                  \n",
            " activation_125 (Activation)    (None, 14, 14, 128)  0           ['batch_normalization_125[0][0]']\n",
            "                                                                                                  \n",
            " conv2d_126 (Conv2D)            (None, 14, 14, 160)  143360      ['activation_125[0][0]']         \n",
            "                                                                                                  \n",
            " batch_normalization_126 (Batch  (None, 14, 14, 160)  480        ['conv2d_126[0][0]']             \n",
            " Normalization)                                                                                   \n",
            "                                                                                                  \n",
            " activation_126 (Activation)    (None, 14, 14, 160)  0           ['batch_normalization_126[0][0]']\n",
            "                                                                                                  \n",
            " conv2d_124 (Conv2D)            (None, 14, 14, 192)  208896      ['block17_12_ac[0][0]']          \n",
            "                                                                                                  \n",
            " conv2d_127 (Conv2D)            (None, 14, 14, 192)  215040      ['activation_126[0][0]']         \n",
            "                                                                                                  \n",
            " batch_normalization_124 (Batch  (None, 14, 14, 192)  576        ['conv2d_124[0][0]']             \n",
            " Normalization)                                                                                   \n",
            "                                                                                                  \n",
            " batch_normalization_127 (Batch  (None, 14, 14, 192)  576        ['conv2d_127[0][0]']             \n",
            " Normalization)                                                                                   \n",
            "                                                                                                  \n",
            " activation_124 (Activation)    (None, 14, 14, 192)  0           ['batch_normalization_124[0][0]']\n",
            "                                                                                                  \n",
            " activation_127 (Activation)    (None, 14, 14, 192)  0           ['batch_normalization_127[0][0]']\n",
            "                                                                                                  \n",
            " block17_13_mixed (Concatenate)  (None, 14, 14, 384)  0          ['activation_124[0][0]',         \n",
            "                                                                  'activation_127[0][0]']         \n",
            "                                                                                                  \n",
            " block17_13_conv (Conv2D)       (None, 14, 14, 1088  418880      ['block17_13_mixed[0][0]']       \n",
            "                                )                                                                 \n",
            "                                                                                                  \n",
            " block17_13 (Lambda)            (None, 14, 14, 1088  0           ['block17_12_ac[0][0]',          \n",
            "                                )                                 'block17_13_conv[0][0]']        \n",
            "                                                                                                  \n",
            " block17_13_ac (Activation)     (None, 14, 14, 1088  0           ['block17_13[0][0]']             \n",
            "                                )                                                                 \n",
            "                                                                                                  \n",
            " conv2d_129 (Conv2D)            (None, 14, 14, 128)  139264      ['block17_13_ac[0][0]']          \n",
            "                                                                                                  \n",
            " batch_normalization_129 (Batch  (None, 14, 14, 128)  384        ['conv2d_129[0][0]']             \n",
            " Normalization)                                                                                   \n",
            "                                                                                                  \n",
            " activation_129 (Activation)    (None, 14, 14, 128)  0           ['batch_normalization_129[0][0]']\n",
            "                                                                                                  \n",
            " conv2d_130 (Conv2D)            (None, 14, 14, 160)  143360      ['activation_129[0][0]']         \n",
            "                                                                                                  \n",
            " batch_normalization_130 (Batch  (None, 14, 14, 160)  480        ['conv2d_130[0][0]']             \n",
            " Normalization)                                                                                   \n",
            "                                                                                                  \n",
            " activation_130 (Activation)    (None, 14, 14, 160)  0           ['batch_normalization_130[0][0]']\n",
            "                                                                                                  \n",
            " conv2d_128 (Conv2D)            (None, 14, 14, 192)  208896      ['block17_13_ac[0][0]']          \n",
            "                                                                                                  \n",
            " conv2d_131 (Conv2D)            (None, 14, 14, 192)  215040      ['activation_130[0][0]']         \n",
            "                                                                                                  \n",
            " batch_normalization_128 (Batch  (None, 14, 14, 192)  576        ['conv2d_128[0][0]']             \n",
            " Normalization)                                                                                   \n",
            "                                                                                                  \n",
            " batch_normalization_131 (Batch  (None, 14, 14, 192)  576        ['conv2d_131[0][0]']             \n",
            " Normalization)                                                                                   \n",
            "                                                                                                  \n",
            " activation_128 (Activation)    (None, 14, 14, 192)  0           ['batch_normalization_128[0][0]']\n",
            "                                                                                                  \n",
            " activation_131 (Activation)    (None, 14, 14, 192)  0           ['batch_normalization_131[0][0]']\n",
            "                                                                                                  \n",
            " block17_14_mixed (Concatenate)  (None, 14, 14, 384)  0          ['activation_128[0][0]',         \n",
            "                                                                  'activation_131[0][0]']         \n",
            "                                                                                                  \n",
            " block17_14_conv (Conv2D)       (None, 14, 14, 1088  418880      ['block17_14_mixed[0][0]']       \n",
            "                                )                                                                 \n",
            "                                                                                                  \n",
            " block17_14 (Lambda)            (None, 14, 14, 1088  0           ['block17_13_ac[0][0]',          \n",
            "                                )                                 'block17_14_conv[0][0]']        \n",
            "                                                                                                  \n",
            " block17_14_ac (Activation)     (None, 14, 14, 1088  0           ['block17_14[0][0]']             \n",
            "                                )                                                                 \n",
            "                                                                                                  \n",
            " conv2d_133 (Conv2D)            (None, 14, 14, 128)  139264      ['block17_14_ac[0][0]']          \n",
            "                                                                                                  \n",
            " batch_normalization_133 (Batch  (None, 14, 14, 128)  384        ['conv2d_133[0][0]']             \n",
            " Normalization)                                                                                   \n",
            "                                                                                                  \n",
            " activation_133 (Activation)    (None, 14, 14, 128)  0           ['batch_normalization_133[0][0]']\n",
            "                                                                                                  \n",
            " conv2d_134 (Conv2D)            (None, 14, 14, 160)  143360      ['activation_133[0][0]']         \n",
            "                                                                                                  \n",
            " batch_normalization_134 (Batch  (None, 14, 14, 160)  480        ['conv2d_134[0][0]']             \n",
            " Normalization)                                                                                   \n",
            "                                                                                                  \n",
            " activation_134 (Activation)    (None, 14, 14, 160)  0           ['batch_normalization_134[0][0]']\n",
            "                                                                                                  \n",
            " conv2d_132 (Conv2D)            (None, 14, 14, 192)  208896      ['block17_14_ac[0][0]']          \n",
            "                                                                                                  \n",
            " conv2d_135 (Conv2D)            (None, 14, 14, 192)  215040      ['activation_134[0][0]']         \n",
            "                                                                                                  \n",
            " batch_normalization_132 (Batch  (None, 14, 14, 192)  576        ['conv2d_132[0][0]']             \n",
            " Normalization)                                                                                   \n",
            "                                                                                                  \n",
            " batch_normalization_135 (Batch  (None, 14, 14, 192)  576        ['conv2d_135[0][0]']             \n",
            " Normalization)                                                                                   \n",
            "                                                                                                  \n",
            " activation_132 (Activation)    (None, 14, 14, 192)  0           ['batch_normalization_132[0][0]']\n",
            "                                                                                                  \n",
            " activation_135 (Activation)    (None, 14, 14, 192)  0           ['batch_normalization_135[0][0]']\n",
            "                                                                                                  \n",
            " block17_15_mixed (Concatenate)  (None, 14, 14, 384)  0          ['activation_132[0][0]',         \n",
            "                                                                  'activation_135[0][0]']         \n",
            "                                                                                                  \n",
            " block17_15_conv (Conv2D)       (None, 14, 14, 1088  418880      ['block17_15_mixed[0][0]']       \n",
            "                                )                                                                 \n",
            "                                                                                                  \n",
            " block17_15 (Lambda)            (None, 14, 14, 1088  0           ['block17_14_ac[0][0]',          \n",
            "                                )                                 'block17_15_conv[0][0]']        \n",
            "                                                                                                  \n",
            " block17_15_ac (Activation)     (None, 14, 14, 1088  0           ['block17_15[0][0]']             \n",
            "                                )                                                                 \n",
            "                                                                                                  \n",
            " conv2d_137 (Conv2D)            (None, 14, 14, 128)  139264      ['block17_15_ac[0][0]']          \n",
            "                                                                                                  \n",
            " batch_normalization_137 (Batch  (None, 14, 14, 128)  384        ['conv2d_137[0][0]']             \n",
            " Normalization)                                                                                   \n",
            "                                                                                                  \n",
            " activation_137 (Activation)    (None, 14, 14, 128)  0           ['batch_normalization_137[0][0]']\n",
            "                                                                                                  \n",
            " conv2d_138 (Conv2D)            (None, 14, 14, 160)  143360      ['activation_137[0][0]']         \n",
            "                                                                                                  \n",
            " batch_normalization_138 (Batch  (None, 14, 14, 160)  480        ['conv2d_138[0][0]']             \n",
            " Normalization)                                                                                   \n",
            "                                                                                                  \n",
            " activation_138 (Activation)    (None, 14, 14, 160)  0           ['batch_normalization_138[0][0]']\n",
            "                                                                                                  \n",
            " conv2d_136 (Conv2D)            (None, 14, 14, 192)  208896      ['block17_15_ac[0][0]']          \n",
            "                                                                                                  \n",
            " conv2d_139 (Conv2D)            (None, 14, 14, 192)  215040      ['activation_138[0][0]']         \n",
            "                                                                                                  \n",
            " batch_normalization_136 (Batch  (None, 14, 14, 192)  576        ['conv2d_136[0][0]']             \n",
            " Normalization)                                                                                   \n",
            "                                                                                                  \n",
            " batch_normalization_139 (Batch  (None, 14, 14, 192)  576        ['conv2d_139[0][0]']             \n",
            " Normalization)                                                                                   \n",
            "                                                                                                  \n",
            " activation_136 (Activation)    (None, 14, 14, 192)  0           ['batch_normalization_136[0][0]']\n",
            "                                                                                                  \n",
            " activation_139 (Activation)    (None, 14, 14, 192)  0           ['batch_normalization_139[0][0]']\n",
            "                                                                                                  \n",
            " block17_16_mixed (Concatenate)  (None, 14, 14, 384)  0          ['activation_136[0][0]',         \n",
            "                                                                  'activation_139[0][0]']         \n",
            "                                                                                                  \n",
            " block17_16_conv (Conv2D)       (None, 14, 14, 1088  418880      ['block17_16_mixed[0][0]']       \n",
            "                                )                                                                 \n",
            "                                                                                                  \n",
            " block17_16 (Lambda)            (None, 14, 14, 1088  0           ['block17_15_ac[0][0]',          \n",
            "                                )                                 'block17_16_conv[0][0]']        \n",
            "                                                                                                  \n",
            " block17_16_ac (Activation)     (None, 14, 14, 1088  0           ['block17_16[0][0]']             \n",
            "                                )                                                                 \n",
            "                                                                                                  \n",
            " conv2d_141 (Conv2D)            (None, 14, 14, 128)  139264      ['block17_16_ac[0][0]']          \n",
            "                                                                                                  \n",
            " batch_normalization_141 (Batch  (None, 14, 14, 128)  384        ['conv2d_141[0][0]']             \n",
            " Normalization)                                                                                   \n",
            "                                                                                                  \n",
            " activation_141 (Activation)    (None, 14, 14, 128)  0           ['batch_normalization_141[0][0]']\n",
            "                                                                                                  \n",
            " conv2d_142 (Conv2D)            (None, 14, 14, 160)  143360      ['activation_141[0][0]']         \n",
            "                                                                                                  \n",
            " batch_normalization_142 (Batch  (None, 14, 14, 160)  480        ['conv2d_142[0][0]']             \n",
            " Normalization)                                                                                   \n",
            "                                                                                                  \n",
            " activation_142 (Activation)    (None, 14, 14, 160)  0           ['batch_normalization_142[0][0]']\n",
            "                                                                                                  \n",
            " conv2d_140 (Conv2D)            (None, 14, 14, 192)  208896      ['block17_16_ac[0][0]']          \n",
            "                                                                                                  \n",
            " conv2d_143 (Conv2D)            (None, 14, 14, 192)  215040      ['activation_142[0][0]']         \n",
            "                                                                                                  \n",
            " batch_normalization_140 (Batch  (None, 14, 14, 192)  576        ['conv2d_140[0][0]']             \n",
            " Normalization)                                                                                   \n",
            "                                                                                                  \n",
            " batch_normalization_143 (Batch  (None, 14, 14, 192)  576        ['conv2d_143[0][0]']             \n",
            " Normalization)                                                                                   \n",
            "                                                                                                  \n",
            " activation_140 (Activation)    (None, 14, 14, 192)  0           ['batch_normalization_140[0][0]']\n",
            "                                                                                                  \n",
            " activation_143 (Activation)    (None, 14, 14, 192)  0           ['batch_normalization_143[0][0]']\n",
            "                                                                                                  \n",
            " block17_17_mixed (Concatenate)  (None, 14, 14, 384)  0          ['activation_140[0][0]',         \n",
            "                                                                  'activation_143[0][0]']         \n",
            "                                                                                                  \n",
            " block17_17_conv (Conv2D)       (None, 14, 14, 1088  418880      ['block17_17_mixed[0][0]']       \n",
            "                                )                                                                 \n",
            "                                                                                                  \n",
            " block17_17 (Lambda)            (None, 14, 14, 1088  0           ['block17_16_ac[0][0]',          \n",
            "                                )                                 'block17_17_conv[0][0]']        \n",
            "                                                                                                  \n",
            " block17_17_ac (Activation)     (None, 14, 14, 1088  0           ['block17_17[0][0]']             \n",
            "                                )                                                                 \n",
            "                                                                                                  \n",
            " conv2d_145 (Conv2D)            (None, 14, 14, 128)  139264      ['block17_17_ac[0][0]']          \n",
            "                                                                                                  \n",
            " batch_normalization_145 (Batch  (None, 14, 14, 128)  384        ['conv2d_145[0][0]']             \n",
            " Normalization)                                                                                   \n",
            "                                                                                                  \n",
            " activation_145 (Activation)    (None, 14, 14, 128)  0           ['batch_normalization_145[0][0]']\n",
            "                                                                                                  \n",
            " conv2d_146 (Conv2D)            (None, 14, 14, 160)  143360      ['activation_145[0][0]']         \n",
            "                                                                                                  \n",
            " batch_normalization_146 (Batch  (None, 14, 14, 160)  480        ['conv2d_146[0][0]']             \n",
            " Normalization)                                                                                   \n",
            "                                                                                                  \n",
            " activation_146 (Activation)    (None, 14, 14, 160)  0           ['batch_normalization_146[0][0]']\n",
            "                                                                                                  \n",
            " conv2d_144 (Conv2D)            (None, 14, 14, 192)  208896      ['block17_17_ac[0][0]']          \n",
            "                                                                                                  \n",
            " conv2d_147 (Conv2D)            (None, 14, 14, 192)  215040      ['activation_146[0][0]']         \n",
            "                                                                                                  \n",
            " batch_normalization_144 (Batch  (None, 14, 14, 192)  576        ['conv2d_144[0][0]']             \n",
            " Normalization)                                                                                   \n",
            "                                                                                                  \n",
            " batch_normalization_147 (Batch  (None, 14, 14, 192)  576        ['conv2d_147[0][0]']             \n",
            " Normalization)                                                                                   \n",
            "                                                                                                  \n",
            " activation_144 (Activation)    (None, 14, 14, 192)  0           ['batch_normalization_144[0][0]']\n",
            "                                                                                                  \n",
            " activation_147 (Activation)    (None, 14, 14, 192)  0           ['batch_normalization_147[0][0]']\n",
            "                                                                                                  \n",
            " block17_18_mixed (Concatenate)  (None, 14, 14, 384)  0          ['activation_144[0][0]',         \n",
            "                                                                  'activation_147[0][0]']         \n",
            "                                                                                                  \n",
            " block17_18_conv (Conv2D)       (None, 14, 14, 1088  418880      ['block17_18_mixed[0][0]']       \n",
            "                                )                                                                 \n",
            "                                                                                                  \n",
            " block17_18 (Lambda)            (None, 14, 14, 1088  0           ['block17_17_ac[0][0]',          \n",
            "                                )                                 'block17_18_conv[0][0]']        \n",
            "                                                                                                  \n",
            " block17_18_ac (Activation)     (None, 14, 14, 1088  0           ['block17_18[0][0]']             \n",
            "                                )                                                                 \n",
            "                                                                                                  \n",
            " conv2d_149 (Conv2D)            (None, 14, 14, 128)  139264      ['block17_18_ac[0][0]']          \n",
            "                                                                                                  \n",
            " batch_normalization_149 (Batch  (None, 14, 14, 128)  384        ['conv2d_149[0][0]']             \n",
            " Normalization)                                                                                   \n",
            "                                                                                                  \n",
            " activation_149 (Activation)    (None, 14, 14, 128)  0           ['batch_normalization_149[0][0]']\n",
            "                                                                                                  \n",
            " conv2d_150 (Conv2D)            (None, 14, 14, 160)  143360      ['activation_149[0][0]']         \n",
            "                                                                                                  \n",
            " batch_normalization_150 (Batch  (None, 14, 14, 160)  480        ['conv2d_150[0][0]']             \n",
            " Normalization)                                                                                   \n",
            "                                                                                                  \n",
            " activation_150 (Activation)    (None, 14, 14, 160)  0           ['batch_normalization_150[0][0]']\n",
            "                                                                                                  \n",
            " conv2d_148 (Conv2D)            (None, 14, 14, 192)  208896      ['block17_18_ac[0][0]']          \n",
            "                                                                                                  \n",
            " conv2d_151 (Conv2D)            (None, 14, 14, 192)  215040      ['activation_150[0][0]']         \n",
            "                                                                                                  \n",
            " batch_normalization_148 (Batch  (None, 14, 14, 192)  576        ['conv2d_148[0][0]']             \n",
            " Normalization)                                                                                   \n",
            "                                                                                                  \n",
            " batch_normalization_151 (Batch  (None, 14, 14, 192)  576        ['conv2d_151[0][0]']             \n",
            " Normalization)                                                                                   \n",
            "                                                                                                  \n",
            " activation_148 (Activation)    (None, 14, 14, 192)  0           ['batch_normalization_148[0][0]']\n",
            "                                                                                                  \n",
            " activation_151 (Activation)    (None, 14, 14, 192)  0           ['batch_normalization_151[0][0]']\n",
            "                                                                                                  \n",
            " block17_19_mixed (Concatenate)  (None, 14, 14, 384)  0          ['activation_148[0][0]',         \n",
            "                                                                  'activation_151[0][0]']         \n",
            "                                                                                                  \n",
            " block17_19_conv (Conv2D)       (None, 14, 14, 1088  418880      ['block17_19_mixed[0][0]']       \n",
            "                                )                                                                 \n",
            "                                                                                                  \n",
            " block17_19 (Lambda)            (None, 14, 14, 1088  0           ['block17_18_ac[0][0]',          \n",
            "                                )                                 'block17_19_conv[0][0]']        \n",
            "                                                                                                  \n",
            " block17_19_ac (Activation)     (None, 14, 14, 1088  0           ['block17_19[0][0]']             \n",
            "                                )                                                                 \n",
            "                                                                                                  \n",
            " conv2d_153 (Conv2D)            (None, 14, 14, 128)  139264      ['block17_19_ac[0][0]']          \n",
            "                                                                                                  \n",
            " batch_normalization_153 (Batch  (None, 14, 14, 128)  384        ['conv2d_153[0][0]']             \n",
            " Normalization)                                                                                   \n",
            "                                                                                                  \n",
            " activation_153 (Activation)    (None, 14, 14, 128)  0           ['batch_normalization_153[0][0]']\n",
            "                                                                                                  \n",
            " conv2d_154 (Conv2D)            (None, 14, 14, 160)  143360      ['activation_153[0][0]']         \n",
            "                                                                                                  \n",
            " batch_normalization_154 (Batch  (None, 14, 14, 160)  480        ['conv2d_154[0][0]']             \n",
            " Normalization)                                                                                   \n",
            "                                                                                                  \n",
            " activation_154 (Activation)    (None, 14, 14, 160)  0           ['batch_normalization_154[0][0]']\n",
            "                                                                                                  \n",
            " conv2d_152 (Conv2D)            (None, 14, 14, 192)  208896      ['block17_19_ac[0][0]']          \n",
            "                                                                                                  \n",
            " conv2d_155 (Conv2D)            (None, 14, 14, 192)  215040      ['activation_154[0][0]']         \n",
            "                                                                                                  \n",
            " batch_normalization_152 (Batch  (None, 14, 14, 192)  576        ['conv2d_152[0][0]']             \n",
            " Normalization)                                                                                   \n",
            "                                                                                                  \n",
            " batch_normalization_155 (Batch  (None, 14, 14, 192)  576        ['conv2d_155[0][0]']             \n",
            " Normalization)                                                                                   \n",
            "                                                                                                  \n",
            " activation_152 (Activation)    (None, 14, 14, 192)  0           ['batch_normalization_152[0][0]']\n",
            "                                                                                                  \n",
            " activation_155 (Activation)    (None, 14, 14, 192)  0           ['batch_normalization_155[0][0]']\n",
            "                                                                                                  \n",
            " block17_20_mixed (Concatenate)  (None, 14, 14, 384)  0          ['activation_152[0][0]',         \n",
            "                                                                  'activation_155[0][0]']         \n",
            "                                                                                                  \n",
            " block17_20_conv (Conv2D)       (None, 14, 14, 1088  418880      ['block17_20_mixed[0][0]']       \n",
            "                                )                                                                 \n",
            "                                                                                                  \n",
            " block17_20 (Lambda)            (None, 14, 14, 1088  0           ['block17_19_ac[0][0]',          \n",
            "                                )                                 'block17_20_conv[0][0]']        \n",
            "                                                                                                  \n",
            " block17_20_ac (Activation)     (None, 14, 14, 1088  0           ['block17_20[0][0]']             \n",
            "                                )                                                                 \n",
            "                                                                                                  \n",
            " conv2d_160 (Conv2D)            (None, 14, 14, 256)  278528      ['block17_20_ac[0][0]']          \n",
            "                                                                                                  \n",
            " batch_normalization_160 (Batch  (None, 14, 14, 256)  768        ['conv2d_160[0][0]']             \n",
            " Normalization)                                                                                   \n",
            "                                                                                                  \n",
            " activation_160 (Activation)    (None, 14, 14, 256)  0           ['batch_normalization_160[0][0]']\n",
            "                                                                                                  \n",
            " conv2d_161 (Conv2D)            (None, 14, 14, 288)  663552      ['activation_160[0][0]']         \n",
            "                                                                                                  \n",
            " batch_normalization_161 (Batch  (None, 14, 14, 288)  864        ['conv2d_161[0][0]']             \n",
            " Normalization)                                                                                   \n",
            "                                                                                                  \n",
            " activation_161 (Activation)    (None, 14, 14, 288)  0           ['batch_normalization_161[0][0]']\n",
            "                                                                                                  \n",
            " zero_padding2d_3 (ZeroPadding2  (None, 16, 16, 288)  0          ['activation_161[0][0]']         \n",
            " D)                                                                                               \n",
            "                                                                                                  \n",
            " conv2d_transpose (Conv2DTransp  (None, 32, 32, 512)  590336     ['zero_padding2d_3[0][0]']       \n",
            " ose)                                                                                             \n",
            "                                                                                                  \n",
            " zero_padding2d_2 (ZeroPadding2  (None, 32, 32, 256)  0          ['activation_74[0][0]']          \n",
            " D)                                                                                               \n",
            "                                                                                                  \n",
            " concatenate (Concatenate)      (None, 32, 32, 768)  0           ['conv2d_transpose[0][0]',       \n",
            "                                                                  'zero_padding2d_2[0][0]']       \n",
            "                                                                                                  \n",
            " conv2d_203 (Conv2D)            (None, 32, 32, 512)  3539456     ['concatenate[0][0]']            \n",
            "                                                                                                  \n",
            " batch_normalization_203 (Batch  (None, 32, 32, 512)  2048       ['conv2d_203[0][0]']             \n",
            " Normalization)                                                                                   \n",
            "                                                                                                  \n",
            " activation_203 (Activation)    (None, 32, 32, 512)  0           ['batch_normalization_203[0][0]']\n",
            "                                                                                                  \n",
            " conv2d_204 (Conv2D)            (None, 32, 32, 512)  2359808     ['activation_203[0][0]']         \n",
            "                                                                                                  \n",
            " batch_normalization_204 (Batch  (None, 32, 32, 512)  2048       ['conv2d_204[0][0]']             \n",
            " Normalization)                                                                                   \n",
            "                                                                                                  \n",
            " activation_204 (Activation)    (None, 32, 32, 512)  0           ['batch_normalization_204[0][0]']\n",
            "                                                                                                  \n",
            " conv2d_transpose_1 (Conv2DTran  (None, 64, 64, 256)  524544     ['activation_204[0][0]']         \n",
            " spose)                                                                                           \n",
            "                                                                                                  \n",
            " zero_padding2d_1 (ZeroPadding2  (None, 64, 64, 80)  0           ['activation_3[0][0]']           \n",
            " D)                                                                                               \n",
            "                                                                                                  \n",
            " concatenate_1 (Concatenate)    (None, 64, 64, 336)  0           ['conv2d_transpose_1[0][0]',     \n",
            "                                                                  'zero_padding2d_1[0][0]']       \n",
            "                                                                                                  \n",
            " conv2d_205 (Conv2D)            (None, 64, 64, 256)  774400      ['concatenate_1[0][0]']          \n",
            "                                                                                                  \n",
            " batch_normalization_205 (Batch  (None, 64, 64, 256)  1024       ['conv2d_205[0][0]']             \n",
            " Normalization)                                                                                   \n",
            "                                                                                                  \n",
            " activation_205 (Activation)    (None, 64, 64, 256)  0           ['batch_normalization_205[0][0]']\n",
            "                                                                                                  \n",
            " conv2d_206 (Conv2D)            (None, 64, 64, 256)  590080      ['activation_205[0][0]']         \n",
            "                                                                                                  \n",
            " batch_normalization_206 (Batch  (None, 64, 64, 256)  1024       ['conv2d_206[0][0]']             \n",
            " Normalization)                                                                                   \n",
            "                                                                                                  \n",
            " activation_206 (Activation)    (None, 64, 64, 256)  0           ['batch_normalization_206[0][0]']\n",
            "                                                                                                  \n",
            " conv2d_transpose_2 (Conv2DTran  (None, 128, 128, 12  131200     ['activation_206[0][0]']         \n",
            " spose)                         8)                                                                \n",
            "                                                                                                  \n",
            " zero_padding2d (ZeroPadding2D)  (None, 128, 128, 32  0          ['activation[0][0]']             \n",
            "                                )                                                                 \n",
            "                                                                                                  \n",
            " concatenate_2 (Concatenate)    (None, 128, 128, 16  0           ['conv2d_transpose_2[0][0]',     \n",
            "                                0)                                'zero_padding2d[0][0]']         \n",
            "                                                                                                  \n",
            " conv2d_207 (Conv2D)            (None, 128, 128, 12  184448      ['concatenate_2[0][0]']          \n",
            "                                8)                                                                \n",
            "                                                                                                  \n",
            " batch_normalization_207 (Batch  (None, 128, 128, 12  512        ['conv2d_207[0][0]']             \n",
            " Normalization)                 8)                                                                \n",
            "                                                                                                  \n",
            " activation_207 (Activation)    (None, 128, 128, 12  0           ['batch_normalization_207[0][0]']\n",
            "                                8)                                                                \n",
            "                                                                                                  \n",
            " conv2d_208 (Conv2D)            (None, 128, 128, 12  147584      ['activation_207[0][0]']         \n",
            "                                8)                                                                \n",
            "                                                                                                  \n",
            " batch_normalization_208 (Batch  (None, 128, 128, 12  512        ['conv2d_208[0][0]']             \n",
            " Normalization)                 8)                                                                \n",
            "                                                                                                  \n",
            " activation_208 (Activation)    (None, 128, 128, 12  0           ['batch_normalization_208[0][0]']\n",
            "                                8)                                                                \n",
            "                                                                                                  \n",
            " conv2d_transpose_3 (Conv2DTran  (None, 256, 256, 64  32832      ['activation_208[0][0]']         \n",
            " spose)                         )                                                                 \n",
            "                                                                                                  \n",
            " concatenate_3 (Concatenate)    (None, 256, 256, 67  0           ['conv2d_transpose_3[0][0]',     \n",
            "                                )                                 'input_1[0][0]']                \n",
            "                                                                                                  \n",
            " conv2d_209 (Conv2D)            (None, 256, 256, 64  38656       ['concatenate_3[0][0]']          \n",
            "                                )                                                                 \n",
            "                                                                                                  \n",
            " batch_normalization_209 (Batch  (None, 256, 256, 64  256        ['conv2d_209[0][0]']             \n",
            " Normalization)                 )                                                                 \n",
            "                                                                                                  \n",
            " activation_209 (Activation)    (None, 256, 256, 64  0           ['batch_normalization_209[0][0]']\n",
            "                                )                                                                 \n",
            "                                                                                                  \n",
            " conv2d_210 (Conv2D)            (None, 256, 256, 64  36928       ['activation_209[0][0]']         \n",
            "                                )                                                                 \n",
            "                                                                                                  \n",
            " batch_normalization_210 (Batch  (None, 256, 256, 64  256        ['conv2d_210[0][0]']             \n",
            " Normalization)                 )                                                                 \n",
            "                                                                                                  \n",
            " activation_210 (Activation)    (None, 256, 256, 64  0           ['batch_normalization_210[0][0]']\n",
            "                                )                                                                 \n",
            "                                                                                                  \n",
            " conv2d_211 (Conv2D)            (None, 256, 256, 1)  65          ['activation_210[0][0]']         \n",
            "                                                                                                  \n",
            "==================================================================================================\n",
            "Total params: 36,793,089\n",
            "Trainable params: 36,752,065\n",
            "Non-trainable params: 41,024\n",
            "__________________________________________________________________________________________________\n"
          ]
        }
      ]
    },
    {
      "cell_type": "code",
      "source": [
        "import os\n",
        "os.environ[\"TF_CPP_MIN_LOG_LEVEL\"] = \"2\"\n",
        "import numpy as np\n",
        "import cv2\n",
        "from glob import glob\n",
        "from sklearn.model_selection import train_test_split\n",
        "import tensorflow as tf\n",
        "from matplotlib import pyplot as plt\n",
        "import keras\n",
        "from keras.utils import normalize\n",
        "from keras.metrics import MeanIoU\n",
        "from tensorflow.keras.callbacks import ModelCheckpoint, CSVLogger, ReduceLROnPlateau, EarlyStopping, TensorBoard\n",
        "from tensorflow.keras.optimizers import Adam\n",
        "from tensorflow.keras.metrics import Recall, Precision\n",
        " \n",
        "\n",
        "\"\"\" Global parameters \"\"\"\n",
        "H = 256\n",
        "W = 256\n",
        "def create_dir(path):\n",
        "    \"\"\" Create a directory. \"\"\"\n",
        "    if not os.path.exists(path):\n",
        "        os.makedirs(path)\n",
        "\n",
        "def load_dataset(path, split=0.2):\n",
        "    images = sorted(glob(os.path.join(path, \"images\", \"*.png\")))\n",
        "    masks = sorted(glob(os.path.join(path, \"masks\", \"*.png\")))\n",
        "\n",
        "    split_size = int(len(images) * split)\n",
        "\n",
        "    train_x, valid_x = train_test_split(images, test_size=split_size, random_state=42)\n",
        "    train_y, valid_y = train_test_split(masks, test_size=split_size, random_state=42)\n",
        "\n",
        "    train_x, test_x = train_test_split(train_x, test_size=split_size, random_state=42)\n",
        "    train_y, test_y = train_test_split(train_y, test_size=split_size, random_state=42)\n",
        "\n",
        "    return (train_x, train_y), (valid_x, valid_y), (test_x, test_y)\n",
        "\n",
        "def read_image(path):\n",
        "    path = path.decode()\n",
        "    x = cv2.imread(path, cv2.IMREAD_COLOR)\n",
        "    x = cv2.resize(x, (W, H))\n",
        "    x = x / 255.0\n",
        "    x = x.astype(np.float32)\n",
        "    return x\n",
        "\n",
        "def read_mask(path):\n",
        "    path = path.decode()\n",
        "    x = cv2.imread(path, cv2.IMREAD_GRAYSCALE)  ## (h, w)\n",
        "    x = cv2.resize(x, (W, H))   ## (h, w)\n",
        "    x = x / 255.0               ## (h, w)\n",
        "    x = x.astype(np.float32)    ## (h, w)\n",
        "    x = np.expand_dims(x, axis=-1)## (h, w, 1)\n",
        "    return x\n",
        "\n",
        "def tf_parse(x, y):\n",
        "    def _parse(x, y):\n",
        "        x = read_image(x)\n",
        "        y = read_mask(y)\n",
        "        return x, y\n",
        "\n",
        "    x, y = tf.numpy_function(_parse, [x, y], [tf.float32, tf.float32])\n",
        "    x.set_shape([H, W, 3])\n",
        "    y.set_shape([H, W, 1])\n",
        "    return x, y\n",
        "\n",
        "def tf_dataset(X, Y, batch=2):\n",
        "    dataset = tf.data.Dataset.from_tensor_slices((X, Y))\n",
        "    dataset = dataset.map(tf_parse)\n",
        "    dataset = dataset.batch(batch)\n",
        "    dataset = dataset.prefetch(10)\n",
        "    return dataset\n"
      ],
      "metadata": {
        "id": "PshMiMGJ-muj"
      },
      "execution_count": 4,
      "outputs": []
    },
    {
      "cell_type": "code",
      "source": [
        "import numpy as np\n",
        "import tensorflow as tf\n",
        "from tensorflow.keras import backend as K\n",
        "\n",
        "def iou(y_true, y_pred):\n",
        "    def f(y_true, y_pred):\n",
        "        intersection = (y_true * y_pred).sum()\n",
        "        union = y_true.sum() + y_pred.sum() - intersection\n",
        "        x = (intersection + 1e-15) / (union + 1e-15)\n",
        "        x = x.astype(np.float32)\n",
        "        return x\n",
        "    return tf.numpy_function(f, [y_true, y_pred], tf.float32)\n",
        "\n",
        "smooth = 1e-15\n",
        "def dice_coef(y_true, y_pred):\n",
        "    y_true = tf.keras.layers.Flatten()(y_true)\n",
        "    y_pred = tf.keras.layers.Flatten()(y_pred)\n",
        "    intersection = tf.reduce_sum(y_true * y_pred)\n",
        "    return (2. * intersection + smooth) / (tf.reduce_sum(y_true) + tf.reduce_sum(y_pred) + smooth)\n",
        "\n",
        "def dice_loss(y_true, y_pred):\n",
        "    return 1.0 - dice_coef(y_true, y_pred)"
      ],
      "metadata": {
        "id": "bTat4_oR-z2d"
      },
      "execution_count": 6,
      "outputs": []
    },
    {
      "cell_type": "code",
      "source": [
        "if __name__ == \"__main__\":\n",
        "    \"\"\" Seeding \"\"\"\n",
        "    np.random.seed(42)\n",
        "    tf.random.set_seed(42)\n",
        "\n",
        "    \"\"\" Directory for storing files \"\"\"\n",
        "    create_dir(\"files\")\n",
        "\n",
        "    \"\"\" Hyperparameters \"\"\"\n",
        "    batch_size = 8\n",
        "    lr = 1e-4\n",
        "    num_epochs = 30\n",
        "    model_path = os.path.join(\"files\", \"Final_model_inception_unet.h5\")\n",
        "    csv_path = os.path.join(\"files\", \"Final_model_inception_unet.csv\")\n",
        "    \n",
        "    \"\"\" Dataset \"\"\"\n",
        "    dataset_path = \"/content/archive\"\n",
        "    (train_x, train_y), (valid_x, valid_y), (test_x, test_y) = load_dataset(dataset_path)\n",
        "\n",
        "    print(f\"Train: {len(train_x)} - {len(train_y)}\")\n",
        "    print(f\"Valid: {len(valid_x)} - {len(valid_y)}\")\n",
        "    print(f\"Test : {len(test_x)} - {len(test_y)}\")\n",
        "    train_dataset = tf_dataset(train_x, train_y, batch=batch_size)\n",
        "    valid_dataset = tf_dataset(valid_x, valid_y, batch=batch_size)\n",
        "\n",
        "    \"\"\" Model \"\"\"\n",
        "    #model = build_inception_resnetv2_unet((H, W, 3))\n",
        "    metrics = [dice_coef, iou, Recall(), Precision()]\n",
        "    model.compile(loss=dice_loss, optimizer=Adam(lr), metrics=[\"accuracy\",metrics])"
      ],
      "metadata": {
        "colab": {
          "base_uri": "https://localhost:8080/"
        },
        "id": "3DyHy1r5-2eW",
        "outputId": "07379fee-c4eb-45b9-eef6-471315f04a56"
      },
      "execution_count": 7,
      "outputs": [
        {
          "output_type": "stream",
          "name": "stdout",
          "text": [
            "Train: 1840 - 1840\n",
            "Valid: 612 - 612\n",
            "Test : 612 - 612\n"
          ]
        }
      ]
    },
    {
      "cell_type": "code",
      "source": [
        "    callbacks = [\n",
        "        ModelCheckpoint(model_path, verbose=1, save_best_only=True),\n",
        "        ReduceLROnPlateau(monitor='val_loss', factor=0.1, patience=5, min_lr=1e-7, verbose=1),\n",
        "        CSVLogger(csv_path),\n",
        "        EarlyStopping(monitor='val_loss', patience=15, restore_best_weights=False),\n",
        "    ]\n",
        "\n",
        "    model.fit(\n",
        "        train_dataset,\n",
        "        epochs=num_epochs,\n",
        "        validation_data=valid_dataset,\n",
        "        callbacks=callbacks\n",
        "    )"
      ],
      "metadata": {
        "colab": {
          "base_uri": "https://localhost:8080/"
        },
        "id": "-o2FQGTxBYsj",
        "outputId": "95e94f30-2e34-4469-c010-ec09148932e7"
      },
      "execution_count": 8,
      "outputs": [
        {
          "output_type": "stream",
          "name": "stdout",
          "text": [
            "Epoch 1/30\n",
            "230/230 [==============================] - ETA: 0s - loss: 0.7363 - accuracy: 0.9306 - dice_coef: 0.2637 - iou: 0.1569 - recall: 0.8831 - precision: 0.1890\n",
            "Epoch 1: val_loss improved from inf to 0.79316, saving model to files/Final_model_inception_unet.h5\n",
            "230/230 [==============================] - 148s 527ms/step - loss: 0.7363 - accuracy: 0.9306 - dice_coef: 0.2637 - iou: 0.1569 - recall: 0.8831 - precision: 0.1890 - val_loss: 0.7932 - val_accuracy: 0.9794 - val_dice_coef: 0.2067 - val_iou: 0.1163 - val_recall: 0.5813 - val_precision: 0.4470 - lr: 1.0000e-04\n",
            "Epoch 2/30\n",
            "230/230 [==============================] - ETA: 0s - loss: 0.5289 - accuracy: 0.9907 - dice_coef: 0.4711 - iou: 0.3126 - recall: 0.8830 - precision: 0.7042\n",
            "Epoch 2: val_loss improved from 0.79316 to 0.67209, saving model to files/Final_model_inception_unet.h5\n",
            "230/230 [==============================] - 121s 527ms/step - loss: 0.5289 - accuracy: 0.9907 - dice_coef: 0.4711 - iou: 0.3126 - recall: 0.8830 - precision: 0.7042 - val_loss: 0.6721 - val_accuracy: 0.9611 - val_dice_coef: 0.3274 - val_iou: 0.2015 - val_recall: 0.7220 - val_precision: 0.2773 - lr: 1.0000e-04\n",
            "Epoch 3/30\n",
            "230/230 [==============================] - ETA: 0s - loss: 0.3845 - accuracy: 0.9937 - dice_coef: 0.6155 - iou: 0.4493 - recall: 0.8860 - precision: 0.8109\n",
            "Epoch 3: val_loss improved from 0.67209 to 0.36443, saving model to files/Final_model_inception_unet.h5\n",
            "230/230 [==============================] - 123s 534ms/step - loss: 0.3845 - accuracy: 0.9937 - dice_coef: 0.6155 - iou: 0.4493 - recall: 0.8860 - precision: 0.8109 - val_loss: 0.3644 - val_accuracy: 0.9926 - val_dice_coef: 0.6333 - val_iou: 0.4687 - val_recall: 0.8292 - val_precision: 0.7971 - lr: 1.0000e-04\n",
            "Epoch 4/30\n",
            "230/230 [==============================] - ETA: 0s - loss: 0.2782 - accuracy: 0.9950 - dice_coef: 0.7218 - iou: 0.5693 - recall: 0.8924 - precision: 0.8637\n",
            "Epoch 4: val_loss improved from 0.36443 to 0.30844, saving model to files/Final_model_inception_unet.h5\n",
            "230/230 [==============================] - 123s 533ms/step - loss: 0.2782 - accuracy: 0.9950 - dice_coef: 0.7218 - iou: 0.5693 - recall: 0.8924 - precision: 0.8637 - val_loss: 0.3084 - val_accuracy: 0.9929 - val_dice_coef: 0.6919 - val_iou: 0.5333 - val_recall: 0.8318 - val_precision: 0.8097 - lr: 1.0000e-04\n",
            "Epoch 5/30\n",
            "230/230 [==============================] - ETA: 0s - loss: 0.2094 - accuracy: 0.9958 - dice_coef: 0.7906 - iou: 0.6573 - recall: 0.8937 - precision: 0.8992\n",
            "Epoch 5: val_loss improved from 0.30844 to 0.24127, saving model to files/Final_model_inception_unet.h5\n",
            "230/230 [==============================] - 123s 534ms/step - loss: 0.2094 - accuracy: 0.9958 - dice_coef: 0.7906 - iou: 0.6573 - recall: 0.8937 - precision: 0.8992 - val_loss: 0.2413 - val_accuracy: 0.9934 - val_dice_coef: 0.7586 - val_iou: 0.6157 - val_recall: 0.8444 - val_precision: 0.8220 - lr: 1.0000e-04\n",
            "Epoch 6/30\n",
            "230/230 [==============================] - ETA: 0s - loss: 0.1637 - accuracy: 0.9963 - dice_coef: 0.8363 - iou: 0.7212 - recall: 0.9008 - precision: 0.9183\n",
            "Epoch 6: val_loss improved from 0.24127 to 0.23630, saving model to files/Final_model_inception_unet.h5\n",
            "230/230 [==============================] - 123s 533ms/step - loss: 0.1637 - accuracy: 0.9963 - dice_coef: 0.8363 - iou: 0.7212 - recall: 0.9008 - precision: 0.9183 - val_loss: 0.2363 - val_accuracy: 0.9929 - val_dice_coef: 0.7635 - val_iou: 0.6226 - val_recall: 0.8171 - val_precision: 0.8211 - lr: 1.0000e-04\n",
            "Epoch 7/30\n",
            "230/230 [==============================] - ETA: 0s - loss: 0.1375 - accuracy: 0.9965 - dice_coef: 0.8625 - iou: 0.7603 - recall: 0.9013 - precision: 0.9285\n",
            "Epoch 7: val_loss improved from 0.23630 to 0.19853, saving model to files/Final_model_inception_unet.h5\n",
            "230/230 [==============================] - 123s 533ms/step - loss: 0.1375 - accuracy: 0.9965 - dice_coef: 0.8625 - iou: 0.7603 - recall: 0.9013 - precision: 0.9285 - val_loss: 0.1985 - val_accuracy: 0.9939 - val_dice_coef: 0.8012 - val_iou: 0.6725 - val_recall: 0.8435 - val_precision: 0.8476 - lr: 1.0000e-04\n",
            "Epoch 8/30\n",
            "230/230 [==============================] - ETA: 0s - loss: 0.1134 - accuracy: 0.9969 - dice_coef: 0.8866 - iou: 0.7979 - recall: 0.9136 - precision: 0.9400\n",
            "Epoch 8: val_loss did not improve from 0.19853\n",
            "230/230 [==============================] - 121s 525ms/step - loss: 0.1134 - accuracy: 0.9969 - dice_coef: 0.8866 - iou: 0.7979 - recall: 0.9136 - precision: 0.9400 - val_loss: 0.2020 - val_accuracy: 0.9941 - val_dice_coef: 0.7971 - val_iou: 0.6673 - val_recall: 0.7634 - val_precision: 0.9115 - lr: 1.0000e-04\n",
            "Epoch 9/30\n",
            "230/230 [==============================] - ETA: 0s - loss: 0.0977 - accuracy: 0.9971 - dice_coef: 0.9023 - iou: 0.8230 - recall: 0.9168 - precision: 0.9493\n",
            "Epoch 9: val_loss improved from 0.19853 to 0.18912, saving model to files/Final_model_inception_unet.h5\n",
            "230/230 [==============================] - 123s 534ms/step - loss: 0.0977 - accuracy: 0.9971 - dice_coef: 0.9023 - iou: 0.8230 - recall: 0.9168 - precision: 0.9493 - val_loss: 0.1891 - val_accuracy: 0.9940 - val_dice_coef: 0.8105 - val_iou: 0.6861 - val_recall: 0.8007 - val_precision: 0.8810 - lr: 1.0000e-04\n",
            "Epoch 10/30\n",
            "230/230 [==============================] - ETA: 0s - loss: 0.0888 - accuracy: 0.9972 - dice_coef: 0.9112 - iou: 0.8380 - recall: 0.9178 - precision: 0.9529\n",
            "Epoch 10: val_loss did not improve from 0.18912\n",
            "230/230 [==============================] - 121s 524ms/step - loss: 0.0888 - accuracy: 0.9972 - dice_coef: 0.9112 - iou: 0.8380 - recall: 0.9178 - precision: 0.9529 - val_loss: 0.2048 - val_accuracy: 0.9934 - val_dice_coef: 0.7948 - val_iou: 0.6648 - val_recall: 0.7565 - val_precision: 0.8831 - lr: 1.0000e-04\n",
            "Epoch 11/30\n",
            "230/230 [==============================] - ETA: 0s - loss: 0.0852 - accuracy: 0.9972 - dice_coef: 0.9148 - iou: 0.8440 - recall: 0.9185 - precision: 0.9506\n",
            "Epoch 11: val_loss improved from 0.18912 to 0.18237, saving model to files/Final_model_inception_unet.h5\n",
            "230/230 [==============================] - 123s 535ms/step - loss: 0.0852 - accuracy: 0.9972 - dice_coef: 0.9148 - iou: 0.8440 - recall: 0.9185 - precision: 0.9506 - val_loss: 0.1824 - val_accuracy: 0.9940 - val_dice_coef: 0.8171 - val_iou: 0.6965 - val_recall: 0.7923 - val_precision: 0.8849 - lr: 1.0000e-04\n",
            "Epoch 12/30\n",
            "230/230 [==============================] - ETA: 0s - loss: 0.0796 - accuracy: 0.9972 - dice_coef: 0.9204 - iou: 0.8534 - recall: 0.9193 - precision: 0.9540\n",
            "Epoch 12: val_loss did not improve from 0.18237\n",
            "230/230 [==============================] - 121s 524ms/step - loss: 0.0796 - accuracy: 0.9972 - dice_coef: 0.9204 - iou: 0.8534 - recall: 0.9193 - precision: 0.9540 - val_loss: 0.1848 - val_accuracy: 0.9940 - val_dice_coef: 0.8146 - val_iou: 0.6922 - val_recall: 0.7691 - val_precision: 0.9006 - lr: 1.0000e-04\n",
            "Epoch 13/30\n",
            "230/230 [==============================] - ETA: 0s - loss: 0.0706 - accuracy: 0.9974 - dice_coef: 0.9294 - iou: 0.8689 - recall: 0.9263 - precision: 0.9589\n",
            "Epoch 13: val_loss improved from 0.18237 to 0.18032, saving model to files/Final_model_inception_unet.h5\n",
            "230/230 [==============================] - 123s 536ms/step - loss: 0.0706 - accuracy: 0.9974 - dice_coef: 0.9294 - iou: 0.8689 - recall: 0.9263 - precision: 0.9589 - val_loss: 0.1803 - val_accuracy: 0.9939 - val_dice_coef: 0.8192 - val_iou: 0.6986 - val_recall: 0.7947 - val_precision: 0.8763 - lr: 1.0000e-04\n",
            "Epoch 14/30\n",
            "230/230 [==============================] - ETA: 0s - loss: 0.0629 - accuracy: 0.9976 - dice_coef: 0.9371 - iou: 0.8821 - recall: 0.9306 - precision: 0.9655\n",
            "Epoch 14: val_loss improved from 0.18032 to 0.16855, saving model to files/Final_model_inception_unet.h5\n",
            "230/230 [==============================] - 123s 534ms/step - loss: 0.0629 - accuracy: 0.9976 - dice_coef: 0.9371 - iou: 0.8821 - recall: 0.9306 - precision: 0.9655 - val_loss: 0.1685 - val_accuracy: 0.9943 - val_dice_coef: 0.8308 - val_iou: 0.7154 - val_recall: 0.7949 - val_precision: 0.8964 - lr: 1.0000e-04\n",
            "Epoch 15/30\n",
            "230/230 [==============================] - ETA: 0s - loss: 0.0566 - accuracy: 0.9978 - dice_coef: 0.9434 - iou: 0.8933 - recall: 0.9356 - precision: 0.9705\n",
            "Epoch 15: val_loss did not improve from 0.16855\n",
            "230/230 [==============================] - 121s 524ms/step - loss: 0.0566 - accuracy: 0.9978 - dice_coef: 0.9434 - iou: 0.8933 - recall: 0.9356 - precision: 0.9705 - val_loss: 0.1703 - val_accuracy: 0.9941 - val_dice_coef: 0.8292 - val_iou: 0.7130 - val_recall: 0.7977 - val_precision: 0.8878 - lr: 1.0000e-04\n",
            "Epoch 16/30\n",
            "230/230 [==============================] - ETA: 0s - loss: 0.0545 - accuracy: 0.9978 - dice_coef: 0.9455 - iou: 0.8970 - recall: 0.9359 - precision: 0.9718\n",
            "Epoch 16: val_loss did not improve from 0.16855\n",
            "230/230 [==============================] - 120s 523ms/step - loss: 0.0545 - accuracy: 0.9978 - dice_coef: 0.9455 - iou: 0.8970 - recall: 0.9359 - precision: 0.9718 - val_loss: 0.1704 - val_accuracy: 0.9942 - val_dice_coef: 0.8291 - val_iou: 0.7133 - val_recall: 0.7856 - val_precision: 0.8983 - lr: 1.0000e-04\n",
            "Epoch 17/30\n",
            "230/230 [==============================] - ETA: 0s - loss: 0.0539 - accuracy: 0.9978 - dice_coef: 0.9461 - iou: 0.8980 - recall: 0.9351 - precision: 0.9712\n",
            "Epoch 17: val_loss did not improve from 0.16855\n",
            "230/230 [==============================] - 121s 524ms/step - loss: 0.0539 - accuracy: 0.9978 - dice_coef: 0.9461 - iou: 0.8980 - recall: 0.9351 - precision: 0.9712 - val_loss: 0.1700 - val_accuracy: 0.9941 - val_dice_coef: 0.8294 - val_iou: 0.7135 - val_recall: 0.7973 - val_precision: 0.8850 - lr: 1.0000e-04\n",
            "Epoch 18/30\n",
            "230/230 [==============================] - ETA: 0s - loss: 0.0511 - accuracy: 0.9979 - dice_coef: 0.9489 - iou: 0.9032 - recall: 0.9382 - precision: 0.9722\n",
            "Epoch 18: val_loss improved from 0.16855 to 0.16359, saving model to files/Final_model_inception_unet.h5\n",
            "230/230 [==============================] - 123s 535ms/step - loss: 0.0511 - accuracy: 0.9979 - dice_coef: 0.9489 - iou: 0.9032 - recall: 0.9382 - precision: 0.9722 - val_loss: 0.1636 - val_accuracy: 0.9943 - val_dice_coef: 0.8359 - val_iou: 0.7231 - val_recall: 0.7957 - val_precision: 0.8985 - lr: 1.0000e-04\n",
            "Epoch 19/30\n",
            "230/230 [==============================] - ETA: 0s - loss: 0.0450 - accuracy: 0.9980 - dice_coef: 0.9550 - iou: 0.9143 - recall: 0.9434 - precision: 0.9775\n",
            "Epoch 19: val_loss did not improve from 0.16359\n",
            "230/230 [==============================] - 121s 524ms/step - loss: 0.0450 - accuracy: 0.9980 - dice_coef: 0.9550 - iou: 0.9143 - recall: 0.9434 - precision: 0.9775 - val_loss: 0.1658 - val_accuracy: 0.9942 - val_dice_coef: 0.8337 - val_iou: 0.7197 - val_recall: 0.7925 - val_precision: 0.8937 - lr: 1.0000e-04\n",
            "Epoch 20/30\n",
            "230/230 [==============================] - ETA: 0s - loss: 0.0410 - accuracy: 0.9982 - dice_coef: 0.9590 - iou: 0.9215 - recall: 0.9455 - precision: 0.9812\n",
            "Epoch 20: val_loss did not improve from 0.16359\n",
            "230/230 [==============================] - 120s 524ms/step - loss: 0.0410 - accuracy: 0.9982 - dice_coef: 0.9590 - iou: 0.9215 - recall: 0.9455 - precision: 0.9812 - val_loss: 0.1693 - val_accuracy: 0.9941 - val_dice_coef: 0.8301 - val_iou: 0.7146 - val_recall: 0.7908 - val_precision: 0.8896 - lr: 1.0000e-04\n",
            "Epoch 21/30\n",
            "230/230 [==============================] - ETA: 0s - loss: 0.0401 - accuracy: 0.9982 - dice_coef: 0.9599 - iou: 0.9231 - recall: 0.9459 - precision: 0.9820\n",
            "Epoch 21: val_loss did not improve from 0.16359\n",
            "230/230 [==============================] - 121s 524ms/step - loss: 0.0401 - accuracy: 0.9982 - dice_coef: 0.9599 - iou: 0.9231 - recall: 0.9459 - precision: 0.9820 - val_loss: 0.1648 - val_accuracy: 0.9942 - val_dice_coef: 0.8345 - val_iou: 0.7211 - val_recall: 0.7885 - val_precision: 0.8996 - lr: 1.0000e-04\n",
            "Epoch 22/30\n",
            "230/230 [==============================] - ETA: 0s - loss: 0.0401 - accuracy: 0.9982 - dice_coef: 0.9599 - iou: 0.9232 - recall: 0.9452 - precision: 0.9816\n",
            "Epoch 22: val_loss did not improve from 0.16359\n",
            "230/230 [==============================] - 121s 525ms/step - loss: 0.0401 - accuracy: 0.9982 - dice_coef: 0.9599 - iou: 0.9232 - recall: 0.9452 - precision: 0.9816 - val_loss: 0.1695 - val_accuracy: 0.9940 - val_dice_coef: 0.8301 - val_iou: 0.7141 - val_recall: 0.7918 - val_precision: 0.8859 - lr: 1.0000e-04\n",
            "Epoch 23/30\n",
            "230/230 [==============================] - ETA: 0s - loss: 0.0408 - accuracy: 0.9981 - dice_coef: 0.9592 - iou: 0.9219 - recall: 0.9446 - precision: 0.9804\n",
            "Epoch 23: val_loss did not improve from 0.16359\n",
            "\n",
            "Epoch 23: ReduceLROnPlateau reducing learning rate to 9.999999747378752e-06.\n",
            "230/230 [==============================] - 120s 523ms/step - loss: 0.0408 - accuracy: 0.9981 - dice_coef: 0.9592 - iou: 0.9219 - recall: 0.9446 - precision: 0.9804 - val_loss: 0.1678 - val_accuracy: 0.9941 - val_dice_coef: 0.8318 - val_iou: 0.7169 - val_recall: 0.7936 - val_precision: 0.8898 - lr: 1.0000e-04\n",
            "Epoch 24/30\n",
            "230/230 [==============================] - ETA: 0s - loss: 0.0365 - accuracy: 0.9983 - dice_coef: 0.9635 - iou: 0.9299 - recall: 0.9494 - precision: 0.9843\n",
            "Epoch 24: val_loss improved from 0.16359 to 0.16056, saving model to files/Final_model_inception_unet.h5\n",
            "230/230 [==============================] - 124s 541ms/step - loss: 0.0365 - accuracy: 0.9983 - dice_coef: 0.9635 - iou: 0.9299 - recall: 0.9494 - precision: 0.9843 - val_loss: 0.1606 - val_accuracy: 0.9943 - val_dice_coef: 0.8390 - val_iou: 0.7277 - val_recall: 0.8045 - val_precision: 0.8913 - lr: 1.0000e-05\n",
            "Epoch 25/30\n",
            "230/230 [==============================] - ETA: 0s - loss: 0.0316 - accuracy: 0.9984 - dice_coef: 0.9684 - iou: 0.9390 - recall: 0.9529 - precision: 0.9894\n",
            "Epoch 25: val_loss did not improve from 0.16056\n",
            "230/230 [==============================] - 123s 533ms/step - loss: 0.0316 - accuracy: 0.9984 - dice_coef: 0.9684 - iou: 0.9390 - recall: 0.9529 - precision: 0.9894 - val_loss: 0.1606 - val_accuracy: 0.9943 - val_dice_coef: 0.8389 - val_iou: 0.7277 - val_recall: 0.8034 - val_precision: 0.8924 - lr: 1.0000e-05\n",
            "Epoch 26/30\n",
            "230/230 [==============================] - ETA: 0s - loss: 0.0295 - accuracy: 0.9985 - dice_coef: 0.9705 - iou: 0.9429 - recall: 0.9546 - precision: 0.9913\n",
            "Epoch 26: val_loss did not improve from 0.16056\n",
            "230/230 [==============================] - 122s 529ms/step - loss: 0.0295 - accuracy: 0.9985 - dice_coef: 0.9705 - iou: 0.9429 - recall: 0.9546 - precision: 0.9913 - val_loss: 0.1606 - val_accuracy: 0.9943 - val_dice_coef: 0.8389 - val_iou: 0.7276 - val_recall: 0.8030 - val_precision: 0.8927 - lr: 1.0000e-05\n",
            "Epoch 27/30\n",
            "230/230 [==============================] - ETA: 0s - loss: 0.0279 - accuracy: 0.9985 - dice_coef: 0.9721 - iou: 0.9459 - recall: 0.9559 - precision: 0.9927\n",
            "Epoch 27: val_loss did not improve from 0.16056\n",
            "230/230 [==============================] - 121s 525ms/step - loss: 0.0279 - accuracy: 0.9985 - dice_coef: 0.9721 - iou: 0.9459 - recall: 0.9559 - precision: 0.9927 - val_loss: 0.1608 - val_accuracy: 0.9943 - val_dice_coef: 0.8388 - val_iou: 0.7274 - val_recall: 0.8026 - val_precision: 0.8927 - lr: 1.0000e-05\n",
            "Epoch 28/30\n",
            "230/230 [==============================] - ETA: 0s - loss: 0.0267 - accuracy: 0.9986 - dice_coef: 0.9733 - iou: 0.9482 - recall: 0.9569 - precision: 0.9937\n",
            "Epoch 28: val_loss did not improve from 0.16056\n",
            "230/230 [==============================] - 121s 525ms/step - loss: 0.0267 - accuracy: 0.9986 - dice_coef: 0.9733 - iou: 0.9482 - recall: 0.9569 - precision: 0.9937 - val_loss: 0.1609 - val_accuracy: 0.9943 - val_dice_coef: 0.8386 - val_iou: 0.7271 - val_recall: 0.8020 - val_precision: 0.8930 - lr: 1.0000e-05\n",
            "Epoch 29/30\n",
            "230/230 [==============================] - ETA: 0s - loss: 0.0256 - accuracy: 0.9986 - dice_coef: 0.9744 - iou: 0.9503 - recall: 0.9578 - precision: 0.9946\n",
            "Epoch 29: val_loss did not improve from 0.16056\n",
            "\n",
            "Epoch 29: ReduceLROnPlateau reducing learning rate to 9.999999747378752e-07.\n",
            "230/230 [==============================] - 121s 525ms/step - loss: 0.0256 - accuracy: 0.9986 - dice_coef: 0.9744 - iou: 0.9503 - recall: 0.9578 - precision: 0.9946 - val_loss: 0.1610 - val_accuracy: 0.9943 - val_dice_coef: 0.8385 - val_iou: 0.7270 - val_recall: 0.8016 - val_precision: 0.8931 - lr: 1.0000e-05\n",
            "Epoch 30/30\n",
            "230/230 [==============================] - ETA: 0s - loss: 0.0247 - accuracy: 0.9986 - dice_coef: 0.9753 - iou: 0.9520 - recall: 0.9593 - precision: 0.9952\n",
            "Epoch 30: val_loss did not improve from 0.16056\n",
            "230/230 [==============================] - 121s 524ms/step - loss: 0.0247 - accuracy: 0.9986 - dice_coef: 0.9753 - iou: 0.9520 - recall: 0.9593 - precision: 0.9952 - val_loss: 0.1611 - val_accuracy: 0.9943 - val_dice_coef: 0.8385 - val_iou: 0.7269 - val_recall: 0.8001 - val_precision: 0.8943 - lr: 1.0000e-06\n"
          ]
        },
        {
          "output_type": "execute_result",
          "data": {
            "text/plain": [
              "<keras.callbacks.History at 0x7f1b14949f40>"
            ]
          },
          "metadata": {},
          "execution_count": 8
        }
      ]
    },
    {
      "cell_type": "code",
      "source": [
        "import os\n",
        "os.environ[\"TF_CPP_MIN_LOG_LEVEL\"] = \"2\"\n",
        "import numpy as np\n",
        "import cv2\n",
        "from glob import glob\n",
        "from tqdm import tqdm\n",
        "import tensorflow as tf\n",
        "from tensorflow.keras.utils import CustomObjectScope\n",
        " \n",
        "if __name__ == \"__main__\":\n",
        " \n",
        "    \"\"\" Loading model \"\"\"\n",
        "    with CustomObjectScope({'iou': iou, 'dice_coef': dice_coef, 'dice_loss': dice_loss}):\n",
        "        model = tf.keras.models.load_model(\"/content/files/Final_model_inception_unet.h5\")\n",
        "\n",
        "    \"\"\" Predicting the mask \"\"\"\n",
        "    create_dir(\"OutputImg\")\n",
        "    for x, y  in tqdm(zip(test_x,test_y), total=len(test_x)):\n",
        "        \"\"\" Extracing the image name. \"\"\"\n",
        "        image_name = x.split(\"/\")[-1]\n",
        "\n",
        "        \"\"\" Reading the image \"\"\"\n",
        "        img = cv2.imread(x, cv2.IMREAD_COLOR)\n",
        "        img = cv2.resize(img, (W, H))\n",
        "        x = img/255.0\n",
        "        x = x.astype(np.float32)\n",
        "        x = np.expand_dims(x, axis=0)\n",
        "        \n",
        "        img_y = cv2.imread(y, cv2.IMREAD_GRAYSCALE)\n",
        "        img_y = cv2.resize(img_y, (W, H))\n",
        "        img_y = np.expand_dims(img_y, axis=-1)  ## (512, 512, 1)\n",
        "        img_y = np.concatenate([img_y, img_y, img_y], axis=-1)  ## (512, 512, 3)\n",
        "\n",
        "        \"\"\" Predicting the mask. \"\"\"\n",
        "        y_pred = model.predict(x)[0] > 0.5\n",
        "        y_pred = y_pred.astype(np.int32)\n",
        "\n",
        "        \"\"\" Saving the predicted mask along with the image and GT \"\"\"\n",
        "        save_image_path = f\"/content/OutputImg/{image_name}\"\n",
        "        y_pred = np.concatenate([y_pred, y_pred, y_pred], axis=-1)\n",
        "\n",
        "        sep_line = np.ones((H, 10, 3)) * 255\n",
        "\n",
        "        output_image = np.concatenate([img, sep_line, img_y, sep_line, y_pred*255], axis=1)\n",
        "        #cat_image = np.concatenate([sep_line,y_pred*255,sep_line], axis=1) # this line for just the output segment\n",
        "        #cat_image = np.concatenate([ori_x,sep_line,y_pred*255], axis=1) # this line for just the output segment and the test image\n",
        "        cv2.imwrite(save_image_path, output_image)"
      ],
      "metadata": {
        "colab": {
          "base_uri": "https://localhost:8080/"
        },
        "id": "9SE0eUyXNlIO",
        "outputId": "4b23f72d-676a-4543-d8d0-a71fac83778a"
      },
      "execution_count": 11,
      "outputs": [
        {
          "output_type": "stream",
          "name": "stderr",
          "text": [
            "\r  0%|          | 0/612 [00:00<?, ?it/s]"
          ]
        },
        {
          "output_type": "stream",
          "name": "stdout",
          "text": [
            "1/1 [==============================] - 3s 3s/step\n"
          ]
        },
        {
          "output_type": "stream",
          "name": "stderr",
          "text": [
            "\r  0%|          | 1/612 [00:03<36:04,  3.54s/it]"
          ]
        },
        {
          "output_type": "stream",
          "name": "stdout",
          "text": [
            "1/1 [==============================] - 0s 35ms/step\n",
            "1/1 [==============================] - 0s 33ms/step\n"
          ]
        },
        {
          "output_type": "stream",
          "name": "stderr",
          "text": [
            "\r  0%|          | 3/612 [00:03<10:07,  1.00it/s]"
          ]
        },
        {
          "output_type": "stream",
          "name": "stdout",
          "text": [
            "1/1 [==============================] - 0s 34ms/step\n"
          ]
        },
        {
          "output_type": "stream",
          "name": "stderr",
          "text": [
            "\r  1%|          | 4/612 [00:03<07:02,  1.44it/s]"
          ]
        },
        {
          "output_type": "stream",
          "name": "stdout",
          "text": [
            "1/1 [==============================] - 0s 39ms/step\n"
          ]
        },
        {
          "output_type": "stream",
          "name": "stderr",
          "text": [
            "\r  1%|          | 5/612 [00:04<05:06,  1.98it/s]"
          ]
        },
        {
          "output_type": "stream",
          "name": "stdout",
          "text": [
            "1/1 [==============================] - 0s 44ms/step\n"
          ]
        },
        {
          "output_type": "stream",
          "name": "stderr",
          "text": [
            "\r  1%|          | 6/612 [00:04<03:51,  2.62it/s]"
          ]
        },
        {
          "output_type": "stream",
          "name": "stdout",
          "text": [
            "1/1 [==============================] - 0s 35ms/step\n"
          ]
        },
        {
          "output_type": "stream",
          "name": "stderr",
          "text": [
            "\r  1%|          | 7/612 [00:04<03:00,  3.35it/s]"
          ]
        },
        {
          "output_type": "stream",
          "name": "stdout",
          "text": [
            "1/1 [==============================] - 0s 36ms/step\n"
          ]
        },
        {
          "output_type": "stream",
          "name": "stderr",
          "text": [
            "\r  1%|▏         | 8/612 [00:04<02:27,  4.10it/s]"
          ]
        },
        {
          "output_type": "stream",
          "name": "stdout",
          "text": [
            "1/1 [==============================] - 0s 33ms/step\n",
            "1/1 [==============================] - 0s 34ms/step\n"
          ]
        },
        {
          "output_type": "stream",
          "name": "stderr",
          "text": [
            "\r  2%|▏         | 10/612 [00:04<01:46,  5.65it/s]"
          ]
        },
        {
          "output_type": "stream",
          "name": "stdout",
          "text": [
            "1/1 [==============================] - 0s 33ms/step\n"
          ]
        },
        {
          "output_type": "stream",
          "name": "stderr",
          "text": [
            "\r  2%|▏         | 11/612 [00:04<01:38,  6.13it/s]"
          ]
        },
        {
          "output_type": "stream",
          "name": "stdout",
          "text": [
            "1/1 [==============================] - 0s 35ms/step\n"
          ]
        },
        {
          "output_type": "stream",
          "name": "stderr",
          "text": [
            "\r  2%|▏         | 12/612 [00:04<01:31,  6.53it/s]"
          ]
        },
        {
          "output_type": "stream",
          "name": "stdout",
          "text": [
            "1/1 [==============================] - 0s 33ms/step\n",
            "1/1 [==============================] - 0s 38ms/step\n"
          ]
        },
        {
          "output_type": "stream",
          "name": "stderr",
          "text": [
            "\r  2%|▏         | 14/612 [00:05<01:17,  7.75it/s]"
          ]
        },
        {
          "output_type": "stream",
          "name": "stdout",
          "text": [
            "1/1 [==============================] - 0s 38ms/step\n"
          ]
        },
        {
          "output_type": "stream",
          "name": "stderr",
          "text": [
            "\r  2%|▏         | 15/612 [00:05<01:16,  7.82it/s]"
          ]
        },
        {
          "output_type": "stream",
          "name": "stdout",
          "text": [
            "1/1 [==============================] - 0s 34ms/step\n"
          ]
        },
        {
          "output_type": "stream",
          "name": "stderr",
          "text": [
            "\r  3%|▎         | 16/612 [00:05<01:15,  7.94it/s]"
          ]
        },
        {
          "output_type": "stream",
          "name": "stdout",
          "text": [
            "1/1 [==============================] - 0s 34ms/step\n"
          ]
        },
        {
          "output_type": "stream",
          "name": "stderr",
          "text": [
            "\r  3%|▎         | 17/612 [00:05<01:13,  8.07it/s]"
          ]
        },
        {
          "output_type": "stream",
          "name": "stdout",
          "text": [
            "1/1 [==============================] - 0s 35ms/step\n",
            "1/1 [==============================] - 0s 33ms/step\n"
          ]
        },
        {
          "output_type": "stream",
          "name": "stderr",
          "text": [
            "\r  3%|▎         | 19/612 [00:05<01:09,  8.59it/s]"
          ]
        },
        {
          "output_type": "stream",
          "name": "stdout",
          "text": [
            "1/1 [==============================] - 0s 33ms/step\n",
            "1/1 [==============================] - 0s 35ms/step\n"
          ]
        },
        {
          "output_type": "stream",
          "name": "stderr",
          "text": [
            "\r  3%|▎         | 21/612 [00:05<01:06,  8.88it/s]"
          ]
        },
        {
          "output_type": "stream",
          "name": "stdout",
          "text": [
            "1/1 [==============================] - 0s 35ms/step\n"
          ]
        },
        {
          "output_type": "stream",
          "name": "stderr",
          "text": [
            "\r  4%|▎         | 22/612 [00:05<01:07,  8.69it/s]"
          ]
        },
        {
          "output_type": "stream",
          "name": "stdout",
          "text": [
            "1/1 [==============================] - 0s 38ms/step\n"
          ]
        },
        {
          "output_type": "stream",
          "name": "stderr",
          "text": [
            "\r  4%|▍         | 23/612 [00:06<01:05,  8.95it/s]"
          ]
        },
        {
          "output_type": "stream",
          "name": "stdout",
          "text": [
            "1/1 [==============================] - 0s 33ms/step\n"
          ]
        },
        {
          "output_type": "stream",
          "name": "stderr",
          "text": [
            "\r  4%|▍         | 24/612 [00:06<01:07,  8.73it/s]"
          ]
        },
        {
          "output_type": "stream",
          "name": "stdout",
          "text": [
            "1/1 [==============================] - 0s 33ms/step\n"
          ]
        },
        {
          "output_type": "stream",
          "name": "stderr",
          "text": [
            "\r  4%|▍         | 25/612 [00:06<01:07,  8.67it/s]"
          ]
        },
        {
          "output_type": "stream",
          "name": "stdout",
          "text": [
            "1/1 [==============================] - 0s 35ms/step\n"
          ]
        },
        {
          "output_type": "stream",
          "name": "stderr",
          "text": [
            "\r  4%|▍         | 26/612 [00:06<01:08,  8.61it/s]"
          ]
        },
        {
          "output_type": "stream",
          "name": "stdout",
          "text": [
            "1/1 [==============================] - 0s 32ms/step\n"
          ]
        },
        {
          "output_type": "stream",
          "name": "stderr",
          "text": [
            "\r  4%|▍         | 27/612 [00:06<01:05,  8.92it/s]"
          ]
        },
        {
          "output_type": "stream",
          "name": "stdout",
          "text": [
            "1/1 [==============================] - 0s 35ms/step\n"
          ]
        },
        {
          "output_type": "stream",
          "name": "stderr",
          "text": [
            "\r  5%|▍         | 28/612 [00:06<01:06,  8.81it/s]"
          ]
        },
        {
          "output_type": "stream",
          "name": "stdout",
          "text": [
            "1/1 [==============================] - 0s 33ms/step\n",
            "1/1 [==============================] - 0s 34ms/step\n"
          ]
        },
        {
          "output_type": "stream",
          "name": "stderr",
          "text": [
            "\r  5%|▍         | 30/612 [00:06<01:04,  9.08it/s]"
          ]
        },
        {
          "output_type": "stream",
          "name": "stdout",
          "text": [
            "1/1 [==============================] - 0s 34ms/step\n"
          ]
        },
        {
          "output_type": "stream",
          "name": "stderr",
          "text": [
            "\r  5%|▌         | 31/612 [00:06<01:05,  8.92it/s]"
          ]
        },
        {
          "output_type": "stream",
          "name": "stdout",
          "text": [
            "1/1 [==============================] - 0s 39ms/step\n"
          ]
        },
        {
          "output_type": "stream",
          "name": "stderr",
          "text": [
            "\r  5%|▌         | 32/612 [00:07<01:06,  8.72it/s]"
          ]
        },
        {
          "output_type": "stream",
          "name": "stdout",
          "text": [
            "1/1 [==============================] - 0s 39ms/step\n"
          ]
        },
        {
          "output_type": "stream",
          "name": "stderr",
          "text": [
            "\r  5%|▌         | 33/612 [00:07<01:07,  8.64it/s]"
          ]
        },
        {
          "output_type": "stream",
          "name": "stdout",
          "text": [
            "1/1 [==============================] - 0s 34ms/step\n"
          ]
        },
        {
          "output_type": "stream",
          "name": "stderr",
          "text": [
            "\r  6%|▌         | 34/612 [00:07<01:09,  8.37it/s]"
          ]
        },
        {
          "output_type": "stream",
          "name": "stdout",
          "text": [
            "1/1 [==============================] - 0s 33ms/step\n"
          ]
        },
        {
          "output_type": "stream",
          "name": "stderr",
          "text": [
            "\r  6%|▌         | 35/612 [00:07<01:09,  8.30it/s]"
          ]
        },
        {
          "output_type": "stream",
          "name": "stdout",
          "text": [
            "1/1 [==============================] - 0s 33ms/step\n",
            "1/1 [==============================] - 0s 33ms/step\n"
          ]
        },
        {
          "output_type": "stream",
          "name": "stderr",
          "text": [
            "\r  6%|▌         | 37/612 [00:07<01:03,  9.05it/s]"
          ]
        },
        {
          "output_type": "stream",
          "name": "stdout",
          "text": [
            "1/1 [==============================] - 0s 32ms/step\n",
            "1/1 [==============================] - 0s 34ms/step\n"
          ]
        },
        {
          "output_type": "stream",
          "name": "stderr",
          "text": [
            "\r  6%|▋         | 39/612 [00:07<01:00,  9.45it/s]"
          ]
        },
        {
          "output_type": "stream",
          "name": "stdout",
          "text": [
            "1/1 [==============================] - 0s 35ms/step\n"
          ]
        },
        {
          "output_type": "stream",
          "name": "stderr",
          "text": [
            "\r  7%|▋         | 40/612 [00:07<01:02,  9.19it/s]"
          ]
        },
        {
          "output_type": "stream",
          "name": "stdout",
          "text": [
            "1/1 [==============================] - 0s 38ms/step\n"
          ]
        },
        {
          "output_type": "stream",
          "name": "stderr",
          "text": [
            "\r  7%|▋         | 41/612 [00:08<01:03,  8.98it/s]"
          ]
        },
        {
          "output_type": "stream",
          "name": "stdout",
          "text": [
            "1/1 [==============================] - 0s 34ms/step\n"
          ]
        },
        {
          "output_type": "stream",
          "name": "stderr",
          "text": [
            "\r  7%|▋         | 42/612 [00:08<01:04,  8.82it/s]"
          ]
        },
        {
          "output_type": "stream",
          "name": "stdout",
          "text": [
            "1/1 [==============================] - 0s 34ms/step\n"
          ]
        },
        {
          "output_type": "stream",
          "name": "stderr",
          "text": [
            "\r  7%|▋         | 43/612 [00:08<01:02,  9.07it/s]"
          ]
        },
        {
          "output_type": "stream",
          "name": "stdout",
          "text": [
            "1/1 [==============================] - 0s 37ms/step\n"
          ]
        },
        {
          "output_type": "stream",
          "name": "stderr",
          "text": [
            "\r  7%|▋         | 44/612 [00:08<01:02,  9.13it/s]"
          ]
        },
        {
          "output_type": "stream",
          "name": "stdout",
          "text": [
            "1/1 [==============================] - 0s 35ms/step\n"
          ]
        },
        {
          "output_type": "stream",
          "name": "stderr",
          "text": [
            "\r  7%|▋         | 45/612 [00:08<01:00,  9.33it/s]"
          ]
        },
        {
          "output_type": "stream",
          "name": "stdout",
          "text": [
            "1/1 [==============================] - 0s 33ms/step\n"
          ]
        },
        {
          "output_type": "stream",
          "name": "stderr",
          "text": [
            "\r  8%|▊         | 46/612 [00:08<01:02,  9.04it/s]"
          ]
        },
        {
          "output_type": "stream",
          "name": "stdout",
          "text": [
            "1/1 [==============================] - 0s 37ms/step\n"
          ]
        },
        {
          "output_type": "stream",
          "name": "stderr",
          "text": [
            "\r  8%|▊         | 47/612 [00:08<01:04,  8.70it/s]"
          ]
        },
        {
          "output_type": "stream",
          "name": "stdout",
          "text": [
            "1/1 [==============================] - 0s 38ms/step\n"
          ]
        },
        {
          "output_type": "stream",
          "name": "stderr",
          "text": [
            "\r  8%|▊         | 48/612 [00:08<01:03,  8.95it/s]"
          ]
        },
        {
          "output_type": "stream",
          "name": "stdout",
          "text": [
            "1/1 [==============================] - 0s 34ms/step\n"
          ]
        },
        {
          "output_type": "stream",
          "name": "stderr",
          "text": [
            "\r  8%|▊         | 49/612 [00:08<01:05,  8.61it/s]"
          ]
        },
        {
          "output_type": "stream",
          "name": "stdout",
          "text": [
            "1/1 [==============================] - 0s 40ms/step\n"
          ]
        },
        {
          "output_type": "stream",
          "name": "stderr",
          "text": [
            "\r  8%|▊         | 50/612 [00:09<01:03,  8.87it/s]"
          ]
        },
        {
          "output_type": "stream",
          "name": "stdout",
          "text": [
            "1/1 [==============================] - 0s 33ms/step\n"
          ]
        },
        {
          "output_type": "stream",
          "name": "stderr",
          "text": [
            "\r  8%|▊         | 51/612 [00:09<01:01,  9.09it/s]"
          ]
        },
        {
          "output_type": "stream",
          "name": "stdout",
          "text": [
            "1/1 [==============================] - 0s 34ms/step\n"
          ]
        },
        {
          "output_type": "stream",
          "name": "stderr",
          "text": [
            "\r  8%|▊         | 52/612 [00:09<01:00,  9.32it/s]"
          ]
        },
        {
          "output_type": "stream",
          "name": "stdout",
          "text": [
            "1/1 [==============================] - 0s 40ms/step\n"
          ]
        },
        {
          "output_type": "stream",
          "name": "stderr",
          "text": [
            "\r  9%|▊         | 53/612 [00:09<01:01,  9.11it/s]"
          ]
        },
        {
          "output_type": "stream",
          "name": "stdout",
          "text": [
            "1/1 [==============================] - 0s 34ms/step\n"
          ]
        },
        {
          "output_type": "stream",
          "name": "stderr",
          "text": [
            "\r  9%|▉         | 54/612 [00:09<01:02,  8.90it/s]"
          ]
        },
        {
          "output_type": "stream",
          "name": "stdout",
          "text": [
            "1/1 [==============================] - 0s 36ms/step\n"
          ]
        },
        {
          "output_type": "stream",
          "name": "stderr",
          "text": [
            "\r  9%|▉         | 55/612 [00:09<01:03,  8.84it/s]"
          ]
        },
        {
          "output_type": "stream",
          "name": "stdout",
          "text": [
            "1/1 [==============================] - 0s 39ms/step\n"
          ]
        },
        {
          "output_type": "stream",
          "name": "stderr",
          "text": [
            "\r  9%|▉         | 56/612 [00:09<01:05,  8.53it/s]"
          ]
        },
        {
          "output_type": "stream",
          "name": "stdout",
          "text": [
            "1/1 [==============================] - 0s 35ms/step\n"
          ]
        },
        {
          "output_type": "stream",
          "name": "stderr",
          "text": [
            "\r  9%|▉         | 57/612 [00:09<01:03,  8.74it/s]"
          ]
        },
        {
          "output_type": "stream",
          "name": "stdout",
          "text": [
            "1/1 [==============================] - 0s 37ms/step\n"
          ]
        },
        {
          "output_type": "stream",
          "name": "stderr",
          "text": [
            "\r  9%|▉         | 58/612 [00:09<01:04,  8.60it/s]"
          ]
        },
        {
          "output_type": "stream",
          "name": "stdout",
          "text": [
            "1/1 [==============================] - 0s 37ms/step\n"
          ]
        },
        {
          "output_type": "stream",
          "name": "stderr",
          "text": [
            "\r 10%|▉         | 59/612 [00:10<01:05,  8.42it/s]"
          ]
        },
        {
          "output_type": "stream",
          "name": "stdout",
          "text": [
            "1/1 [==============================] - 0s 38ms/step\n"
          ]
        },
        {
          "output_type": "stream",
          "name": "stderr",
          "text": [
            "\r 10%|▉         | 60/612 [00:10<01:03,  8.74it/s]"
          ]
        },
        {
          "output_type": "stream",
          "name": "stdout",
          "text": [
            "1/1 [==============================] - 0s 33ms/step\n"
          ]
        },
        {
          "output_type": "stream",
          "name": "stderr",
          "text": [
            "\r 10%|▉         | 61/612 [00:10<01:01,  8.92it/s]"
          ]
        },
        {
          "output_type": "stream",
          "name": "stdout",
          "text": [
            "1/1 [==============================] - 0s 33ms/step\n"
          ]
        },
        {
          "output_type": "stream",
          "name": "stderr",
          "text": [
            "\r 10%|█         | 62/612 [00:10<01:02,  8.79it/s]"
          ]
        },
        {
          "output_type": "stream",
          "name": "stdout",
          "text": [
            "1/1 [==============================] - 0s 34ms/step\n"
          ]
        },
        {
          "output_type": "stream",
          "name": "stderr",
          "text": [
            "\r 10%|█         | 63/612 [00:10<01:00,  9.07it/s]"
          ]
        },
        {
          "output_type": "stream",
          "name": "stdout",
          "text": [
            "1/1 [==============================] - 0s 34ms/step\n"
          ]
        },
        {
          "output_type": "stream",
          "name": "stderr",
          "text": [
            "\r 10%|█         | 64/612 [00:10<01:02,  8.72it/s]"
          ]
        },
        {
          "output_type": "stream",
          "name": "stdout",
          "text": [
            "1/1 [==============================] - 0s 35ms/step\n"
          ]
        },
        {
          "output_type": "stream",
          "name": "stderr",
          "text": [
            "\r 11%|█         | 65/612 [00:10<01:04,  8.49it/s]"
          ]
        },
        {
          "output_type": "stream",
          "name": "stdout",
          "text": [
            "1/1 [==============================] - 0s 34ms/step\n"
          ]
        },
        {
          "output_type": "stream",
          "name": "stderr",
          "text": [
            "\r 11%|█         | 66/612 [00:10<01:05,  8.34it/s]"
          ]
        },
        {
          "output_type": "stream",
          "name": "stdout",
          "text": [
            "1/1 [==============================] - 0s 33ms/step\n"
          ]
        },
        {
          "output_type": "stream",
          "name": "stderr",
          "text": [
            "\r 11%|█         | 67/612 [00:11<01:05,  8.35it/s]"
          ]
        },
        {
          "output_type": "stream",
          "name": "stdout",
          "text": [
            "1/1 [==============================] - 0s 34ms/step\n"
          ]
        },
        {
          "output_type": "stream",
          "name": "stderr",
          "text": [
            "\r 11%|█         | 68/612 [00:11<01:02,  8.67it/s]"
          ]
        },
        {
          "output_type": "stream",
          "name": "stdout",
          "text": [
            "1/1 [==============================] - 0s 36ms/step\n",
            "1/1 [==============================] - 0s 33ms/step\n"
          ]
        },
        {
          "output_type": "stream",
          "name": "stderr",
          "text": [
            "\r 11%|█▏        | 70/612 [00:11<00:58,  9.28it/s]"
          ]
        },
        {
          "output_type": "stream",
          "name": "stdout",
          "text": [
            "1/1 [==============================] - 0s 33ms/step\n"
          ]
        },
        {
          "output_type": "stream",
          "name": "stderr",
          "text": [
            "\r 12%|█▏        | 71/612 [00:11<00:59,  9.07it/s]"
          ]
        },
        {
          "output_type": "stream",
          "name": "stdout",
          "text": [
            "1/1 [==============================] - 0s 34ms/step\n"
          ]
        },
        {
          "output_type": "stream",
          "name": "stderr",
          "text": [
            "\r 12%|█▏        | 72/612 [00:11<00:58,  9.24it/s]"
          ]
        },
        {
          "output_type": "stream",
          "name": "stdout",
          "text": [
            "1/1 [==============================] - 0s 34ms/step\n"
          ]
        },
        {
          "output_type": "stream",
          "name": "stderr",
          "text": [
            "\r 12%|█▏        | 73/612 [00:11<00:59,  9.03it/s]"
          ]
        },
        {
          "output_type": "stream",
          "name": "stdout",
          "text": [
            "1/1 [==============================] - 0s 36ms/step\n"
          ]
        },
        {
          "output_type": "stream",
          "name": "stderr",
          "text": [
            "\r 12%|█▏        | 74/612 [00:11<01:00,  8.83it/s]"
          ]
        },
        {
          "output_type": "stream",
          "name": "stdout",
          "text": [
            "1/1 [==============================] - 0s 37ms/step\n"
          ]
        },
        {
          "output_type": "stream",
          "name": "stderr",
          "text": [
            "\r 12%|█▏        | 75/612 [00:11<01:00,  8.92it/s]"
          ]
        },
        {
          "output_type": "stream",
          "name": "stdout",
          "text": [
            "1/1 [==============================] - 0s 39ms/step\n"
          ]
        },
        {
          "output_type": "stream",
          "name": "stderr",
          "text": [
            "\r 12%|█▏        | 76/612 [00:11<00:59,  9.03it/s]"
          ]
        },
        {
          "output_type": "stream",
          "name": "stdout",
          "text": [
            "1/1 [==============================] - 0s 34ms/step\n"
          ]
        },
        {
          "output_type": "stream",
          "name": "stderr",
          "text": [
            "\r 13%|█▎        | 77/612 [00:12<01:00,  8.80it/s]"
          ]
        },
        {
          "output_type": "stream",
          "name": "stdout",
          "text": [
            "1/1 [==============================] - 0s 33ms/step\n"
          ]
        },
        {
          "output_type": "stream",
          "name": "stderr",
          "text": [
            "\r 13%|█▎        | 78/612 [00:12<01:01,  8.73it/s]"
          ]
        },
        {
          "output_type": "stream",
          "name": "stdout",
          "text": [
            "1/1 [==============================] - 0s 34ms/step\n"
          ]
        },
        {
          "output_type": "stream",
          "name": "stderr",
          "text": [
            "\r 13%|█▎        | 79/612 [00:12<00:59,  8.99it/s]"
          ]
        },
        {
          "output_type": "stream",
          "name": "stdout",
          "text": [
            "1/1 [==============================] - 0s 33ms/step\n"
          ]
        },
        {
          "output_type": "stream",
          "name": "stderr",
          "text": [
            "\r 13%|█▎        | 80/612 [00:12<00:58,  9.12it/s]"
          ]
        },
        {
          "output_type": "stream",
          "name": "stdout",
          "text": [
            "1/1 [==============================] - 0s 34ms/step\n"
          ]
        },
        {
          "output_type": "stream",
          "name": "stderr",
          "text": [
            "\r 13%|█▎        | 81/612 [00:12<00:56,  9.32it/s]"
          ]
        },
        {
          "output_type": "stream",
          "name": "stdout",
          "text": [
            "1/1 [==============================] - 0s 34ms/step\n"
          ]
        },
        {
          "output_type": "stream",
          "name": "stderr",
          "text": [
            "\r 13%|█▎        | 82/612 [00:12<00:55,  9.50it/s]"
          ]
        },
        {
          "output_type": "stream",
          "name": "stdout",
          "text": [
            "1/1 [==============================] - 0s 34ms/step\n"
          ]
        },
        {
          "output_type": "stream",
          "name": "stderr",
          "text": [
            "\r 14%|█▎        | 83/612 [00:12<00:57,  9.14it/s]"
          ]
        },
        {
          "output_type": "stream",
          "name": "stdout",
          "text": [
            "1/1 [==============================] - 0s 33ms/step\n"
          ]
        },
        {
          "output_type": "stream",
          "name": "stderr",
          "text": [
            "\r 14%|█▎        | 84/612 [00:12<00:59,  8.87it/s]"
          ]
        },
        {
          "output_type": "stream",
          "name": "stdout",
          "text": [
            "1/1 [==============================] - 0s 33ms/step\n"
          ]
        },
        {
          "output_type": "stream",
          "name": "stderr",
          "text": [
            "\r 14%|█▍        | 85/612 [00:12<00:58,  9.01it/s]"
          ]
        },
        {
          "output_type": "stream",
          "name": "stdout",
          "text": [
            "1/1 [==============================] - 0s 37ms/step\n"
          ]
        },
        {
          "output_type": "stream",
          "name": "stderr",
          "text": [
            "\r 14%|█▍        | 86/612 [00:13<00:57,  9.14it/s]"
          ]
        },
        {
          "output_type": "stream",
          "name": "stdout",
          "text": [
            "1/1 [==============================] - 0s 35ms/step\n"
          ]
        },
        {
          "output_type": "stream",
          "name": "stderr",
          "text": [
            "\r 14%|█▍        | 87/612 [00:13<00:59,  8.83it/s]"
          ]
        },
        {
          "output_type": "stream",
          "name": "stdout",
          "text": [
            "1/1 [==============================] - 0s 34ms/step\n"
          ]
        },
        {
          "output_type": "stream",
          "name": "stderr",
          "text": [
            "\r 14%|█▍        | 88/612 [00:13<00:58,  8.95it/s]"
          ]
        },
        {
          "output_type": "stream",
          "name": "stdout",
          "text": [
            "1/1 [==============================] - 0s 33ms/step\n"
          ]
        },
        {
          "output_type": "stream",
          "name": "stderr",
          "text": [
            "\r 15%|█▍        | 89/612 [00:13<00:59,  8.74it/s]"
          ]
        },
        {
          "output_type": "stream",
          "name": "stdout",
          "text": [
            "1/1 [==============================] - 0s 35ms/step\n"
          ]
        },
        {
          "output_type": "stream",
          "name": "stderr",
          "text": [
            "\r 15%|█▍        | 90/612 [00:13<01:02,  8.35it/s]"
          ]
        },
        {
          "output_type": "stream",
          "name": "stdout",
          "text": [
            "1/1 [==============================] - 0s 36ms/step\n"
          ]
        },
        {
          "output_type": "stream",
          "name": "stderr",
          "text": [
            "\r 15%|█▍        | 91/612 [00:13<01:00,  8.66it/s]"
          ]
        },
        {
          "output_type": "stream",
          "name": "stdout",
          "text": [
            "1/1 [==============================] - 0s 37ms/step\n"
          ]
        },
        {
          "output_type": "stream",
          "name": "stderr",
          "text": [
            "\r 15%|█▌        | 92/612 [00:13<01:01,  8.41it/s]"
          ]
        },
        {
          "output_type": "stream",
          "name": "stdout",
          "text": [
            "1/1 [==============================] - 0s 34ms/step\n"
          ]
        },
        {
          "output_type": "stream",
          "name": "stderr",
          "text": [
            "\r 15%|█▌        | 93/612 [00:13<00:59,  8.80it/s]"
          ]
        },
        {
          "output_type": "stream",
          "name": "stdout",
          "text": [
            "1/1 [==============================] - 0s 32ms/step\n"
          ]
        },
        {
          "output_type": "stream",
          "name": "stderr",
          "text": [
            "\r 15%|█▌        | 94/612 [00:14<00:59,  8.72it/s]"
          ]
        },
        {
          "output_type": "stream",
          "name": "stdout",
          "text": [
            "1/1 [==============================] - 0s 34ms/step\n"
          ]
        },
        {
          "output_type": "stream",
          "name": "stderr",
          "text": [
            "\r 16%|█▌        | 95/612 [00:14<01:00,  8.48it/s]"
          ]
        },
        {
          "output_type": "stream",
          "name": "stdout",
          "text": [
            "1/1 [==============================] - 0s 35ms/step\n"
          ]
        },
        {
          "output_type": "stream",
          "name": "stderr",
          "text": [
            "\r 16%|█▌        | 96/612 [00:14<00:59,  8.72it/s]"
          ]
        },
        {
          "output_type": "stream",
          "name": "stdout",
          "text": [
            "1/1 [==============================] - 0s 33ms/step\n"
          ]
        },
        {
          "output_type": "stream",
          "name": "stderr",
          "text": [
            "\r 16%|█▌        | 97/612 [00:14<00:59,  8.64it/s]"
          ]
        },
        {
          "output_type": "stream",
          "name": "stdout",
          "text": [
            "1/1 [==============================] - 0s 34ms/step\n"
          ]
        },
        {
          "output_type": "stream",
          "name": "stderr",
          "text": [
            "\r 16%|█▌        | 98/612 [00:14<01:00,  8.56it/s]"
          ]
        },
        {
          "output_type": "stream",
          "name": "stdout",
          "text": [
            "1/1 [==============================] - 0s 33ms/step\n"
          ]
        },
        {
          "output_type": "stream",
          "name": "stderr",
          "text": [
            "\r 16%|█▌        | 99/612 [00:14<00:57,  8.94it/s]"
          ]
        },
        {
          "output_type": "stream",
          "name": "stdout",
          "text": [
            "1/1 [==============================] - 0s 35ms/step\n"
          ]
        },
        {
          "output_type": "stream",
          "name": "stderr",
          "text": [
            "\r 16%|█▋        | 100/612 [00:14<00:58,  8.72it/s]"
          ]
        },
        {
          "output_type": "stream",
          "name": "stdout",
          "text": [
            "1/1 [==============================] - 0s 34ms/step\n"
          ]
        },
        {
          "output_type": "stream",
          "name": "stderr",
          "text": [
            "\r 17%|█▋        | 101/612 [00:14<01:00,  8.52it/s]"
          ]
        },
        {
          "output_type": "stream",
          "name": "stdout",
          "text": [
            "1/1 [==============================] - 0s 34ms/step\n"
          ]
        },
        {
          "output_type": "stream",
          "name": "stderr",
          "text": [
            "\r 17%|█▋        | 102/612 [00:14<01:00,  8.45it/s]"
          ]
        },
        {
          "output_type": "stream",
          "name": "stdout",
          "text": [
            "1/1 [==============================] - 0s 34ms/step\n"
          ]
        },
        {
          "output_type": "stream",
          "name": "stderr",
          "text": [
            "\r 17%|█▋        | 103/612 [00:15<01:00,  8.42it/s]"
          ]
        },
        {
          "output_type": "stream",
          "name": "stdout",
          "text": [
            "1/1 [==============================] - 0s 33ms/step\n"
          ]
        },
        {
          "output_type": "stream",
          "name": "stderr",
          "text": [
            "\r 17%|█▋        | 104/612 [00:15<01:00,  8.46it/s]"
          ]
        },
        {
          "output_type": "stream",
          "name": "stdout",
          "text": [
            "1/1 [==============================] - 0s 41ms/step\n"
          ]
        },
        {
          "output_type": "stream",
          "name": "stderr",
          "text": [
            "\r 17%|█▋        | 105/612 [00:15<00:57,  8.84it/s]"
          ]
        },
        {
          "output_type": "stream",
          "name": "stdout",
          "text": [
            "1/1 [==============================] - 0s 35ms/step\n"
          ]
        },
        {
          "output_type": "stream",
          "name": "stderr",
          "text": [
            "\r 17%|█▋        | 106/612 [00:15<00:56,  8.93it/s]"
          ]
        },
        {
          "output_type": "stream",
          "name": "stdout",
          "text": [
            "1/1 [==============================] - 0s 33ms/step\n"
          ]
        },
        {
          "output_type": "stream",
          "name": "stderr",
          "text": [
            "\r 17%|█▋        | 107/612 [00:15<00:57,  8.80it/s]"
          ]
        },
        {
          "output_type": "stream",
          "name": "stdout",
          "text": [
            "1/1 [==============================] - 0s 35ms/step\n"
          ]
        },
        {
          "output_type": "stream",
          "name": "stderr",
          "text": [
            "\r 18%|█▊        | 108/612 [00:15<00:58,  8.69it/s]"
          ]
        },
        {
          "output_type": "stream",
          "name": "stdout",
          "text": [
            "1/1 [==============================] - 0s 39ms/step\n"
          ]
        },
        {
          "output_type": "stream",
          "name": "stderr",
          "text": [
            "\r 18%|█▊        | 109/612 [00:15<00:59,  8.41it/s]"
          ]
        },
        {
          "output_type": "stream",
          "name": "stdout",
          "text": [
            "1/1 [==============================] - 0s 33ms/step\n"
          ]
        },
        {
          "output_type": "stream",
          "name": "stderr",
          "text": [
            "\r 18%|█▊        | 110/612 [00:15<00:57,  8.78it/s]"
          ]
        },
        {
          "output_type": "stream",
          "name": "stdout",
          "text": [
            "1/1 [==============================] - 0s 33ms/step\n"
          ]
        },
        {
          "output_type": "stream",
          "name": "stderr",
          "text": [
            "\r 18%|█▊        | 111/612 [00:16<00:57,  8.68it/s]"
          ]
        },
        {
          "output_type": "stream",
          "name": "stdout",
          "text": [
            "1/1 [==============================] - 0s 39ms/step\n"
          ]
        },
        {
          "output_type": "stream",
          "name": "stderr",
          "text": [
            "\r 18%|█▊        | 112/612 [00:16<00:58,  8.55it/s]"
          ]
        },
        {
          "output_type": "stream",
          "name": "stdout",
          "text": [
            "1/1 [==============================] - 0s 34ms/step\n"
          ]
        },
        {
          "output_type": "stream",
          "name": "stderr",
          "text": [
            "\r 18%|█▊        | 113/612 [00:16<01:00,  8.30it/s]"
          ]
        },
        {
          "output_type": "stream",
          "name": "stdout",
          "text": [
            "1/1 [==============================] - 0s 38ms/step\n"
          ]
        },
        {
          "output_type": "stream",
          "name": "stderr",
          "text": [
            "\r 19%|█▊        | 114/612 [00:16<01:00,  8.19it/s]"
          ]
        },
        {
          "output_type": "stream",
          "name": "stdout",
          "text": [
            "1/1 [==============================] - 0s 34ms/step\n"
          ]
        },
        {
          "output_type": "stream",
          "name": "stderr",
          "text": [
            "\r 19%|█▉        | 115/612 [00:16<00:59,  8.30it/s]"
          ]
        },
        {
          "output_type": "stream",
          "name": "stdout",
          "text": [
            "1/1 [==============================] - 0s 37ms/step\n"
          ]
        },
        {
          "output_type": "stream",
          "name": "stderr",
          "text": [
            "\r 19%|█▉        | 116/612 [00:16<01:01,  8.13it/s]"
          ]
        },
        {
          "output_type": "stream",
          "name": "stdout",
          "text": [
            "1/1 [==============================] - 0s 33ms/step\n"
          ]
        },
        {
          "output_type": "stream",
          "name": "stderr",
          "text": [
            "\r 19%|█▉        | 117/612 [00:16<01:00,  8.16it/s]"
          ]
        },
        {
          "output_type": "stream",
          "name": "stdout",
          "text": [
            "1/1 [==============================] - 0s 38ms/step\n"
          ]
        },
        {
          "output_type": "stream",
          "name": "stderr",
          "text": [
            "\r 19%|█▉        | 118/612 [00:16<00:57,  8.53it/s]"
          ]
        },
        {
          "output_type": "stream",
          "name": "stdout",
          "text": [
            "1/1 [==============================] - 0s 33ms/step\n"
          ]
        },
        {
          "output_type": "stream",
          "name": "stderr",
          "text": [
            "\r 19%|█▉        | 119/612 [00:16<00:57,  8.50it/s]"
          ]
        },
        {
          "output_type": "stream",
          "name": "stdout",
          "text": [
            "1/1 [==============================] - 0s 34ms/step\n"
          ]
        },
        {
          "output_type": "stream",
          "name": "stderr",
          "text": [
            "\r 20%|█▉        | 120/612 [00:17<00:58,  8.43it/s]"
          ]
        },
        {
          "output_type": "stream",
          "name": "stdout",
          "text": [
            "1/1 [==============================] - 0s 35ms/step\n"
          ]
        },
        {
          "output_type": "stream",
          "name": "stderr",
          "text": [
            "\r 20%|█▉        | 121/612 [00:17<00:55,  8.78it/s]"
          ]
        },
        {
          "output_type": "stream",
          "name": "stdout",
          "text": [
            "1/1 [==============================] - 0s 38ms/step\n"
          ]
        },
        {
          "output_type": "stream",
          "name": "stderr",
          "text": [
            "\r 20%|█▉        | 122/612 [00:17<00:54,  8.95it/s]"
          ]
        },
        {
          "output_type": "stream",
          "name": "stdout",
          "text": [
            "1/1 [==============================] - 0s 42ms/step\n"
          ]
        },
        {
          "output_type": "stream",
          "name": "stderr",
          "text": [
            "\r 20%|██        | 123/612 [00:17<00:55,  8.82it/s]"
          ]
        },
        {
          "output_type": "stream",
          "name": "stdout",
          "text": [
            "1/1 [==============================] - 0s 40ms/step\n"
          ]
        },
        {
          "output_type": "stream",
          "name": "stderr",
          "text": [
            "\r 20%|██        | 124/612 [00:17<00:57,  8.50it/s]"
          ]
        },
        {
          "output_type": "stream",
          "name": "stdout",
          "text": [
            "1/1 [==============================] - 0s 39ms/step\n"
          ]
        },
        {
          "output_type": "stream",
          "name": "stderr",
          "text": [
            "\r 20%|██        | 125/612 [00:17<00:58,  8.26it/s]"
          ]
        },
        {
          "output_type": "stream",
          "name": "stdout",
          "text": [
            "1/1 [==============================] - 0s 39ms/step\n"
          ]
        },
        {
          "output_type": "stream",
          "name": "stderr",
          "text": [
            "\r 21%|██        | 126/612 [00:17<00:57,  8.40it/s]"
          ]
        },
        {
          "output_type": "stream",
          "name": "stdout",
          "text": [
            "1/1 [==============================] - 0s 37ms/step\n"
          ]
        },
        {
          "output_type": "stream",
          "name": "stderr",
          "text": [
            "\r 21%|██        | 127/612 [00:17<00:58,  8.28it/s]"
          ]
        },
        {
          "output_type": "stream",
          "name": "stdout",
          "text": [
            "1/1 [==============================] - 0s 36ms/step\n"
          ]
        },
        {
          "output_type": "stream",
          "name": "stderr",
          "text": [
            "\r 21%|██        | 128/612 [00:18<00:58,  8.24it/s]"
          ]
        },
        {
          "output_type": "stream",
          "name": "stdout",
          "text": [
            "1/1 [==============================] - 0s 41ms/step\n"
          ]
        },
        {
          "output_type": "stream",
          "name": "stderr",
          "text": [
            "\r 21%|██        | 129/612 [00:18<00:59,  8.11it/s]"
          ]
        },
        {
          "output_type": "stream",
          "name": "stdout",
          "text": [
            "1/1 [==============================] - 0s 37ms/step\n"
          ]
        },
        {
          "output_type": "stream",
          "name": "stderr",
          "text": [
            "\r 21%|██        | 130/612 [00:18<00:59,  8.07it/s]"
          ]
        },
        {
          "output_type": "stream",
          "name": "stdout",
          "text": [
            "1/1 [==============================] - 0s 41ms/step\n"
          ]
        },
        {
          "output_type": "stream",
          "name": "stderr",
          "text": [
            "\r 21%|██▏       | 131/612 [00:18<00:57,  8.30it/s]"
          ]
        },
        {
          "output_type": "stream",
          "name": "stdout",
          "text": [
            "1/1 [==============================] - 0s 36ms/step\n"
          ]
        },
        {
          "output_type": "stream",
          "name": "stderr",
          "text": [
            "\r 22%|██▏       | 132/612 [00:18<00:58,  8.26it/s]"
          ]
        },
        {
          "output_type": "stream",
          "name": "stdout",
          "text": [
            "1/1 [==============================] - 0s 42ms/step\n"
          ]
        },
        {
          "output_type": "stream",
          "name": "stderr",
          "text": [
            "\r 22%|██▏       | 133/612 [00:18<00:56,  8.47it/s]"
          ]
        },
        {
          "output_type": "stream",
          "name": "stdout",
          "text": [
            "1/1 [==============================] - 0s 35ms/step\n"
          ]
        },
        {
          "output_type": "stream",
          "name": "stderr",
          "text": [
            "\r 22%|██▏       | 134/612 [00:18<00:56,  8.43it/s]"
          ]
        },
        {
          "output_type": "stream",
          "name": "stdout",
          "text": [
            "1/1 [==============================] - 0s 35ms/step\n"
          ]
        },
        {
          "output_type": "stream",
          "name": "stderr",
          "text": [
            "\r 22%|██▏       | 135/612 [00:18<00:56,  8.45it/s]"
          ]
        },
        {
          "output_type": "stream",
          "name": "stdout",
          "text": [
            "1/1 [==============================] - 0s 34ms/step\n"
          ]
        },
        {
          "output_type": "stream",
          "name": "stderr",
          "text": [
            "\r 22%|██▏       | 136/612 [00:18<00:57,  8.35it/s]"
          ]
        },
        {
          "output_type": "stream",
          "name": "stdout",
          "text": [
            "1/1 [==============================] - 0s 34ms/step\n"
          ]
        },
        {
          "output_type": "stream",
          "name": "stderr",
          "text": [
            "\r 22%|██▏       | 137/612 [00:19<00:56,  8.40it/s]"
          ]
        },
        {
          "output_type": "stream",
          "name": "stdout",
          "text": [
            "1/1 [==============================] - 0s 33ms/step\n"
          ]
        },
        {
          "output_type": "stream",
          "name": "stderr",
          "text": [
            "\r 23%|██▎       | 138/612 [00:19<00:56,  8.44it/s]"
          ]
        },
        {
          "output_type": "stream",
          "name": "stdout",
          "text": [
            "1/1 [==============================] - 0s 36ms/step\n"
          ]
        },
        {
          "output_type": "stream",
          "name": "stderr",
          "text": [
            "\r 23%|██▎       | 139/612 [00:19<00:57,  8.24it/s]"
          ]
        },
        {
          "output_type": "stream",
          "name": "stdout",
          "text": [
            "1/1 [==============================] - 0s 34ms/step\n"
          ]
        },
        {
          "output_type": "stream",
          "name": "stderr",
          "text": [
            "\r 23%|██▎       | 140/612 [00:19<00:54,  8.60it/s]"
          ]
        },
        {
          "output_type": "stream",
          "name": "stdout",
          "text": [
            "1/1 [==============================] - 0s 35ms/step\n"
          ]
        },
        {
          "output_type": "stream",
          "name": "stderr",
          "text": [
            "\r 23%|██▎       | 141/612 [00:19<00:52,  8.93it/s]"
          ]
        },
        {
          "output_type": "stream",
          "name": "stdout",
          "text": [
            "1/1 [==============================] - 0s 37ms/step\n"
          ]
        },
        {
          "output_type": "stream",
          "name": "stderr",
          "text": [
            "\r 23%|██▎       | 142/612 [00:19<00:51,  9.11it/s]"
          ]
        },
        {
          "output_type": "stream",
          "name": "stdout",
          "text": [
            "1/1 [==============================] - 0s 36ms/step\n"
          ]
        },
        {
          "output_type": "stream",
          "name": "stderr",
          "text": [
            "\r 23%|██▎       | 143/612 [00:19<00:53,  8.83it/s]"
          ]
        },
        {
          "output_type": "stream",
          "name": "stdout",
          "text": [
            "1/1 [==============================] - 0s 33ms/step\n"
          ]
        },
        {
          "output_type": "stream",
          "name": "stderr",
          "text": [
            "\r 24%|██▎       | 144/612 [00:19<00:51,  9.05it/s]"
          ]
        },
        {
          "output_type": "stream",
          "name": "stdout",
          "text": [
            "1/1 [==============================] - 0s 35ms/step\n",
            "1/1 [==============================] - 0s 34ms/step\n"
          ]
        },
        {
          "output_type": "stream",
          "name": "stderr",
          "text": [
            "\r 24%|██▍       | 146/612 [00:20<00:51,  9.02it/s]"
          ]
        },
        {
          "output_type": "stream",
          "name": "stdout",
          "text": [
            "1/1 [==============================] - 0s 34ms/step\n"
          ]
        },
        {
          "output_type": "stream",
          "name": "stderr",
          "text": [
            "\r 24%|██▍       | 147/612 [00:20<00:52,  8.79it/s]"
          ]
        },
        {
          "output_type": "stream",
          "name": "stdout",
          "text": [
            "1/1 [==============================] - 0s 33ms/step\n"
          ]
        },
        {
          "output_type": "stream",
          "name": "stderr",
          "text": [
            "\r 24%|██▍       | 148/612 [00:20<00:53,  8.67it/s]"
          ]
        },
        {
          "output_type": "stream",
          "name": "stdout",
          "text": [
            "1/1 [==============================] - 0s 38ms/step\n"
          ]
        },
        {
          "output_type": "stream",
          "name": "stderr",
          "text": [
            "\r 24%|██▍       | 149/612 [00:20<00:52,  8.79it/s]"
          ]
        },
        {
          "output_type": "stream",
          "name": "stdout",
          "text": [
            "1/1 [==============================] - 0s 36ms/step\n"
          ]
        },
        {
          "output_type": "stream",
          "name": "stderr",
          "text": [
            "\r 25%|██▍       | 150/612 [00:20<00:53,  8.61it/s]"
          ]
        },
        {
          "output_type": "stream",
          "name": "stdout",
          "text": [
            "1/1 [==============================] - 0s 35ms/step\n"
          ]
        },
        {
          "output_type": "stream",
          "name": "stderr",
          "text": [
            "\r 25%|██▍       | 151/612 [00:20<00:55,  8.34it/s]"
          ]
        },
        {
          "output_type": "stream",
          "name": "stdout",
          "text": [
            "1/1 [==============================] - 0s 34ms/step\n"
          ]
        },
        {
          "output_type": "stream",
          "name": "stderr",
          "text": [
            "\r 25%|██▍       | 152/612 [00:20<00:53,  8.65it/s]"
          ]
        },
        {
          "output_type": "stream",
          "name": "stdout",
          "text": [
            "1/1 [==============================] - 0s 34ms/step\n"
          ]
        },
        {
          "output_type": "stream",
          "name": "stderr",
          "text": [
            "\r 25%|██▌       | 153/612 [00:20<00:54,  8.47it/s]"
          ]
        },
        {
          "output_type": "stream",
          "name": "stdout",
          "text": [
            "1/1 [==============================] - 0s 41ms/step\n"
          ]
        },
        {
          "output_type": "stream",
          "name": "stderr",
          "text": [
            "\r 25%|██▌       | 154/612 [00:21<00:54,  8.45it/s]"
          ]
        },
        {
          "output_type": "stream",
          "name": "stdout",
          "text": [
            "1/1 [==============================] - 0s 40ms/step\n"
          ]
        },
        {
          "output_type": "stream",
          "name": "stderr",
          "text": [
            "\r 25%|██▌       | 155/612 [00:21<00:55,  8.31it/s]"
          ]
        },
        {
          "output_type": "stream",
          "name": "stdout",
          "text": [
            "1/1 [==============================] - 0s 36ms/step\n"
          ]
        },
        {
          "output_type": "stream",
          "name": "stderr",
          "text": [
            "\r 25%|██▌       | 156/612 [00:21<00:55,  8.23it/s]"
          ]
        },
        {
          "output_type": "stream",
          "name": "stdout",
          "text": [
            "1/1 [==============================] - 0s 43ms/step\n"
          ]
        },
        {
          "output_type": "stream",
          "name": "stderr",
          "text": [
            "\r 26%|██▌       | 157/612 [00:21<00:53,  8.55it/s]"
          ]
        },
        {
          "output_type": "stream",
          "name": "stdout",
          "text": [
            "1/1 [==============================] - 0s 36ms/step\n"
          ]
        },
        {
          "output_type": "stream",
          "name": "stderr",
          "text": [
            "\r 26%|██▌       | 158/612 [00:21<00:53,  8.45it/s]"
          ]
        },
        {
          "output_type": "stream",
          "name": "stdout",
          "text": [
            "1/1 [==============================] - 0s 39ms/step\n"
          ]
        },
        {
          "output_type": "stream",
          "name": "stderr",
          "text": [
            "\r 26%|██▌       | 159/612 [00:21<00:51,  8.77it/s]"
          ]
        },
        {
          "output_type": "stream",
          "name": "stdout",
          "text": [
            "1/1 [==============================] - 0s 34ms/step\n"
          ]
        },
        {
          "output_type": "stream",
          "name": "stderr",
          "text": [
            "\r 26%|██▌       | 160/612 [00:21<00:49,  9.09it/s]"
          ]
        },
        {
          "output_type": "stream",
          "name": "stdout",
          "text": [
            "1/1 [==============================] - 0s 37ms/step\n"
          ]
        },
        {
          "output_type": "stream",
          "name": "stderr",
          "text": [
            "\r 26%|██▋       | 161/612 [00:21<00:51,  8.75it/s]"
          ]
        },
        {
          "output_type": "stream",
          "name": "stdout",
          "text": [
            "1/1 [==============================] - 0s 34ms/step\n"
          ]
        },
        {
          "output_type": "stream",
          "name": "stderr",
          "text": [
            "\r 26%|██▋       | 162/612 [00:21<00:49,  9.00it/s]"
          ]
        },
        {
          "output_type": "stream",
          "name": "stdout",
          "text": [
            "1/1 [==============================] - 0s 36ms/step\n"
          ]
        },
        {
          "output_type": "stream",
          "name": "stderr",
          "text": [
            "\r 27%|██▋       | 163/612 [00:22<00:51,  8.79it/s]"
          ]
        },
        {
          "output_type": "stream",
          "name": "stdout",
          "text": [
            "1/1 [==============================] - 0s 33ms/step\n"
          ]
        },
        {
          "output_type": "stream",
          "name": "stderr",
          "text": [
            "\r 27%|██▋       | 164/612 [00:22<00:50,  8.91it/s]"
          ]
        },
        {
          "output_type": "stream",
          "name": "stdout",
          "text": [
            "1/1 [==============================] - 0s 35ms/step\n"
          ]
        },
        {
          "output_type": "stream",
          "name": "stderr",
          "text": [
            "\r 27%|██▋       | 165/612 [00:22<00:51,  8.63it/s]"
          ]
        },
        {
          "output_type": "stream",
          "name": "stdout",
          "text": [
            "1/1 [==============================] - 0s 43ms/step\n"
          ]
        },
        {
          "output_type": "stream",
          "name": "stderr",
          "text": [
            "\r 27%|██▋       | 166/612 [00:22<00:50,  8.84it/s]"
          ]
        },
        {
          "output_type": "stream",
          "name": "stdout",
          "text": [
            "1/1 [==============================] - 0s 34ms/step\n"
          ]
        },
        {
          "output_type": "stream",
          "name": "stderr",
          "text": [
            "\r 27%|██▋       | 167/612 [00:22<00:51,  8.68it/s]"
          ]
        },
        {
          "output_type": "stream",
          "name": "stdout",
          "text": [
            "1/1 [==============================] - 0s 40ms/step\n"
          ]
        },
        {
          "output_type": "stream",
          "name": "stderr",
          "text": [
            "\r 27%|██▋       | 168/612 [00:22<00:49,  8.97it/s]"
          ]
        },
        {
          "output_type": "stream",
          "name": "stdout",
          "text": [
            "1/1 [==============================] - 0s 34ms/step\n"
          ]
        },
        {
          "output_type": "stream",
          "name": "stderr",
          "text": [
            "\r 28%|██▊       | 169/612 [00:22<00:50,  8.78it/s]"
          ]
        },
        {
          "output_type": "stream",
          "name": "stdout",
          "text": [
            "1/1 [==============================] - 0s 35ms/step\n"
          ]
        },
        {
          "output_type": "stream",
          "name": "stderr",
          "text": [
            "\r 28%|██▊       | 170/612 [00:22<00:51,  8.62it/s]"
          ]
        },
        {
          "output_type": "stream",
          "name": "stdout",
          "text": [
            "1/1 [==============================] - 0s 34ms/step\n"
          ]
        },
        {
          "output_type": "stream",
          "name": "stderr",
          "text": [
            "\r 28%|██▊       | 171/612 [00:23<00:49,  8.91it/s]"
          ]
        },
        {
          "output_type": "stream",
          "name": "stdout",
          "text": [
            "1/1 [==============================] - 0s 40ms/step\n"
          ]
        },
        {
          "output_type": "stream",
          "name": "stderr",
          "text": [
            "\r 28%|██▊       | 172/612 [00:23<00:50,  8.73it/s]"
          ]
        },
        {
          "output_type": "stream",
          "name": "stdout",
          "text": [
            "1/1 [==============================] - 0s 36ms/step\n"
          ]
        },
        {
          "output_type": "stream",
          "name": "stderr",
          "text": [
            "\r 28%|██▊       | 173/612 [00:23<00:51,  8.56it/s]"
          ]
        },
        {
          "output_type": "stream",
          "name": "stdout",
          "text": [
            "1/1 [==============================] - 0s 37ms/step\n"
          ]
        },
        {
          "output_type": "stream",
          "name": "stderr",
          "text": [
            "\r 28%|██▊       | 174/612 [00:23<00:51,  8.51it/s]"
          ]
        },
        {
          "output_type": "stream",
          "name": "stdout",
          "text": [
            "1/1 [==============================] - 0s 42ms/step\n"
          ]
        },
        {
          "output_type": "stream",
          "name": "stderr",
          "text": [
            "\r 29%|██▊       | 175/612 [00:23<00:52,  8.36it/s]"
          ]
        },
        {
          "output_type": "stream",
          "name": "stdout",
          "text": [
            "1/1 [==============================] - 0s 33ms/step\n"
          ]
        },
        {
          "output_type": "stream",
          "name": "stderr",
          "text": [
            "\r 29%|██▉       | 176/612 [00:23<00:50,  8.72it/s]"
          ]
        },
        {
          "output_type": "stream",
          "name": "stdout",
          "text": [
            "1/1 [==============================] - 0s 35ms/step\n"
          ]
        },
        {
          "output_type": "stream",
          "name": "stderr",
          "text": [
            "\r 29%|██▉       | 177/612 [00:23<00:51,  8.48it/s]"
          ]
        },
        {
          "output_type": "stream",
          "name": "stdout",
          "text": [
            "1/1 [==============================] - 0s 35ms/step\n"
          ]
        },
        {
          "output_type": "stream",
          "name": "stderr",
          "text": [
            "\r 29%|██▉       | 178/612 [00:23<00:49,  8.74it/s]"
          ]
        },
        {
          "output_type": "stream",
          "name": "stdout",
          "text": [
            "1/1 [==============================] - 0s 49ms/step\n"
          ]
        },
        {
          "output_type": "stream",
          "name": "stderr",
          "text": [
            "\r 29%|██▉       | 179/612 [00:23<00:52,  8.21it/s]"
          ]
        },
        {
          "output_type": "stream",
          "name": "stdout",
          "text": [
            "1/1 [==============================] - 0s 34ms/step\n"
          ]
        },
        {
          "output_type": "stream",
          "name": "stderr",
          "text": [
            "\r 29%|██▉       | 180/612 [00:24<00:52,  8.26it/s]"
          ]
        },
        {
          "output_type": "stream",
          "name": "stdout",
          "text": [
            "1/1 [==============================] - 0s 39ms/step\n"
          ]
        },
        {
          "output_type": "stream",
          "name": "stderr",
          "text": [
            "\r 30%|██▉       | 181/612 [00:24<00:50,  8.47it/s]"
          ]
        },
        {
          "output_type": "stream",
          "name": "stdout",
          "text": [
            "1/1 [==============================] - 0s 34ms/step\n"
          ]
        },
        {
          "output_type": "stream",
          "name": "stderr",
          "text": [
            "\r 30%|██▉       | 182/612 [00:24<00:50,  8.49it/s]"
          ]
        },
        {
          "output_type": "stream",
          "name": "stdout",
          "text": [
            "1/1 [==============================] - 0s 35ms/step\n"
          ]
        },
        {
          "output_type": "stream",
          "name": "stderr",
          "text": [
            "\r 30%|██▉       | 183/612 [00:24<00:51,  8.33it/s]"
          ]
        },
        {
          "output_type": "stream",
          "name": "stdout",
          "text": [
            "1/1 [==============================] - 0s 34ms/step\n"
          ]
        },
        {
          "output_type": "stream",
          "name": "stderr",
          "text": [
            "\r 30%|███       | 184/612 [00:24<00:52,  8.22it/s]"
          ]
        },
        {
          "output_type": "stream",
          "name": "stdout",
          "text": [
            "1/1 [==============================] - 0s 34ms/step\n"
          ]
        },
        {
          "output_type": "stream",
          "name": "stderr",
          "text": [
            "\r 30%|███       | 185/612 [00:24<00:51,  8.28it/s]"
          ]
        },
        {
          "output_type": "stream",
          "name": "stdout",
          "text": [
            "1/1 [==============================] - 0s 35ms/step\n"
          ]
        },
        {
          "output_type": "stream",
          "name": "stderr",
          "text": [
            "\r 30%|███       | 186/612 [00:24<00:49,  8.57it/s]"
          ]
        },
        {
          "output_type": "stream",
          "name": "stdout",
          "text": [
            "1/1 [==============================] - 0s 34ms/step\n"
          ]
        },
        {
          "output_type": "stream",
          "name": "stderr",
          "text": [
            "\r 31%|███       | 187/612 [00:24<00:51,  8.29it/s]"
          ]
        },
        {
          "output_type": "stream",
          "name": "stdout",
          "text": [
            "1/1 [==============================] - 0s 37ms/step\n"
          ]
        },
        {
          "output_type": "stream",
          "name": "stderr",
          "text": [
            "\r 31%|███       | 188/612 [00:25<00:48,  8.67it/s]"
          ]
        },
        {
          "output_type": "stream",
          "name": "stdout",
          "text": [
            "1/1 [==============================] - 0s 34ms/step\n"
          ]
        },
        {
          "output_type": "stream",
          "name": "stderr",
          "text": [
            "\r 31%|███       | 189/612 [00:25<00:49,  8.49it/s]"
          ]
        },
        {
          "output_type": "stream",
          "name": "stdout",
          "text": [
            "1/1 [==============================] - 0s 34ms/step\n"
          ]
        },
        {
          "output_type": "stream",
          "name": "stderr",
          "text": [
            "\r 31%|███       | 190/612 [00:25<00:48,  8.71it/s]"
          ]
        },
        {
          "output_type": "stream",
          "name": "stdout",
          "text": [
            "1/1 [==============================] - 0s 36ms/step\n"
          ]
        },
        {
          "output_type": "stream",
          "name": "stderr",
          "text": [
            "\r 31%|███       | 191/612 [00:25<00:49,  8.55it/s]"
          ]
        },
        {
          "output_type": "stream",
          "name": "stdout",
          "text": [
            "1/1 [==============================] - 0s 35ms/step\n"
          ]
        },
        {
          "output_type": "stream",
          "name": "stderr",
          "text": [
            "\r 31%|███▏      | 192/612 [00:25<00:47,  8.82it/s]"
          ]
        },
        {
          "output_type": "stream",
          "name": "stdout",
          "text": [
            "1/1 [==============================] - 0s 33ms/step\n"
          ]
        },
        {
          "output_type": "stream",
          "name": "stderr",
          "text": [
            "\r 32%|███▏      | 193/612 [00:25<00:46,  9.07it/s]"
          ]
        },
        {
          "output_type": "stream",
          "name": "stdout",
          "text": [
            "1/1 [==============================] - 0s 36ms/step\n"
          ]
        },
        {
          "output_type": "stream",
          "name": "stderr",
          "text": [
            "\r 32%|███▏      | 194/612 [00:25<00:47,  8.74it/s]"
          ]
        },
        {
          "output_type": "stream",
          "name": "stdout",
          "text": [
            "1/1 [==============================] - 0s 35ms/step\n"
          ]
        },
        {
          "output_type": "stream",
          "name": "stderr",
          "text": [
            "\r 32%|███▏      | 195/612 [00:25<00:46,  8.99it/s]"
          ]
        },
        {
          "output_type": "stream",
          "name": "stdout",
          "text": [
            "1/1 [==============================] - 0s 34ms/step\n"
          ]
        },
        {
          "output_type": "stream",
          "name": "stderr",
          "text": [
            "\r 32%|███▏      | 196/612 [00:25<00:51,  8.14it/s]"
          ]
        },
        {
          "output_type": "stream",
          "name": "stdout",
          "text": [
            "1/1 [==============================] - 0s 35ms/step\n"
          ]
        },
        {
          "output_type": "stream",
          "name": "stderr",
          "text": [
            "\r 32%|███▏      | 197/612 [00:26<00:51,  8.07it/s]"
          ]
        },
        {
          "output_type": "stream",
          "name": "stdout",
          "text": [
            "1/1 [==============================] - 0s 34ms/step\n"
          ]
        },
        {
          "output_type": "stream",
          "name": "stderr",
          "text": [
            "\r 32%|███▏      | 198/612 [00:26<00:51,  8.02it/s]"
          ]
        },
        {
          "output_type": "stream",
          "name": "stdout",
          "text": [
            "1/1 [==============================] - 0s 37ms/step\n"
          ]
        },
        {
          "output_type": "stream",
          "name": "stderr",
          "text": [
            "\r 33%|███▎      | 199/612 [00:26<00:51,  8.08it/s]"
          ]
        },
        {
          "output_type": "stream",
          "name": "stdout",
          "text": [
            "1/1 [==============================] - 0s 37ms/step\n"
          ]
        },
        {
          "output_type": "stream",
          "name": "stderr",
          "text": [
            "\r 33%|███▎      | 200/612 [00:26<00:50,  8.10it/s]"
          ]
        },
        {
          "output_type": "stream",
          "name": "stdout",
          "text": [
            "1/1 [==============================] - 0s 35ms/step\n"
          ]
        },
        {
          "output_type": "stream",
          "name": "stderr",
          "text": [
            "\r 33%|███▎      | 201/612 [00:26<00:49,  8.38it/s]"
          ]
        },
        {
          "output_type": "stream",
          "name": "stdout",
          "text": [
            "1/1 [==============================] - 0s 38ms/step\n"
          ]
        },
        {
          "output_type": "stream",
          "name": "stderr",
          "text": [
            "\r 33%|███▎      | 202/612 [00:26<00:46,  8.76it/s]"
          ]
        },
        {
          "output_type": "stream",
          "name": "stdout",
          "text": [
            "1/1 [==============================] - 0s 35ms/step\n"
          ]
        },
        {
          "output_type": "stream",
          "name": "stderr",
          "text": [
            "\r 33%|███▎      | 203/612 [00:26<00:47,  8.63it/s]"
          ]
        },
        {
          "output_type": "stream",
          "name": "stdout",
          "text": [
            "1/1 [==============================] - 0s 34ms/step\n"
          ]
        },
        {
          "output_type": "stream",
          "name": "stderr",
          "text": [
            "\r 33%|███▎      | 204/612 [00:26<00:47,  8.58it/s]"
          ]
        },
        {
          "output_type": "stream",
          "name": "stdout",
          "text": [
            "1/1 [==============================] - 0s 37ms/step\n"
          ]
        },
        {
          "output_type": "stream",
          "name": "stderr",
          "text": [
            "\r 33%|███▎      | 205/612 [00:27<00:45,  8.88it/s]"
          ]
        },
        {
          "output_type": "stream",
          "name": "stdout",
          "text": [
            "1/1 [==============================] - 0s 33ms/step\n"
          ]
        },
        {
          "output_type": "stream",
          "name": "stderr",
          "text": [
            "\r 34%|███▎      | 206/612 [00:27<00:46,  8.72it/s]"
          ]
        },
        {
          "output_type": "stream",
          "name": "stdout",
          "text": [
            "1/1 [==============================] - 0s 37ms/step\n"
          ]
        },
        {
          "output_type": "stream",
          "name": "stderr",
          "text": [
            "\r 34%|███▍      | 207/612 [00:27<00:45,  8.85it/s]"
          ]
        },
        {
          "output_type": "stream",
          "name": "stdout",
          "text": [
            "1/1 [==============================] - 0s 36ms/step\n"
          ]
        },
        {
          "output_type": "stream",
          "name": "stderr",
          "text": [
            "\r 34%|███▍      | 208/612 [00:27<00:46,  8.66it/s]"
          ]
        },
        {
          "output_type": "stream",
          "name": "stdout",
          "text": [
            "1/1 [==============================] - 0s 39ms/step\n"
          ]
        },
        {
          "output_type": "stream",
          "name": "stderr",
          "text": [
            "\r 34%|███▍      | 209/612 [00:27<00:46,  8.68it/s]"
          ]
        },
        {
          "output_type": "stream",
          "name": "stdout",
          "text": [
            "1/1 [==============================] - 0s 35ms/step\n"
          ]
        },
        {
          "output_type": "stream",
          "name": "stderr",
          "text": [
            "\r 34%|███▍      | 210/612 [00:27<00:47,  8.42it/s]"
          ]
        },
        {
          "output_type": "stream",
          "name": "stdout",
          "text": [
            "1/1 [==============================] - 0s 35ms/step\n"
          ]
        },
        {
          "output_type": "stream",
          "name": "stderr",
          "text": [
            "\r 34%|███▍      | 211/612 [00:27<00:47,  8.40it/s]"
          ]
        },
        {
          "output_type": "stream",
          "name": "stdout",
          "text": [
            "1/1 [==============================] - 0s 41ms/step\n"
          ]
        },
        {
          "output_type": "stream",
          "name": "stderr",
          "text": [
            "\r 35%|███▍      | 212/612 [00:27<00:48,  8.22it/s]"
          ]
        },
        {
          "output_type": "stream",
          "name": "stdout",
          "text": [
            "1/1 [==============================] - 0s 33ms/step\n"
          ]
        },
        {
          "output_type": "stream",
          "name": "stderr",
          "text": [
            "\r 35%|███▍      | 213/612 [00:27<00:46,  8.65it/s]"
          ]
        },
        {
          "output_type": "stream",
          "name": "stdout",
          "text": [
            "1/1 [==============================] - 0s 35ms/step\n"
          ]
        },
        {
          "output_type": "stream",
          "name": "stderr",
          "text": [
            "\r 35%|███▍      | 214/612 [00:28<00:46,  8.62it/s]"
          ]
        },
        {
          "output_type": "stream",
          "name": "stdout",
          "text": [
            "1/1 [==============================] - 0s 33ms/step\n"
          ]
        },
        {
          "output_type": "stream",
          "name": "stderr",
          "text": [
            "\r 35%|███▌      | 215/612 [00:28<00:46,  8.50it/s]"
          ]
        },
        {
          "output_type": "stream",
          "name": "stdout",
          "text": [
            "1/1 [==============================] - 0s 34ms/step\n"
          ]
        },
        {
          "output_type": "stream",
          "name": "stderr",
          "text": [
            "\r 35%|███▌      | 216/612 [00:28<00:45,  8.72it/s]"
          ]
        },
        {
          "output_type": "stream",
          "name": "stdout",
          "text": [
            "1/1 [==============================] - 0s 36ms/step\n"
          ]
        },
        {
          "output_type": "stream",
          "name": "stderr",
          "text": [
            "\r 35%|███▌      | 217/612 [00:28<00:45,  8.67it/s]"
          ]
        },
        {
          "output_type": "stream",
          "name": "stdout",
          "text": [
            "1/1 [==============================] - 0s 34ms/step\n"
          ]
        },
        {
          "output_type": "stream",
          "name": "stderr",
          "text": [
            "\r 36%|███▌      | 218/612 [00:28<00:45,  8.59it/s]"
          ]
        },
        {
          "output_type": "stream",
          "name": "stdout",
          "text": [
            "1/1 [==============================] - 0s 36ms/step\n"
          ]
        },
        {
          "output_type": "stream",
          "name": "stderr",
          "text": [
            "\r 36%|███▌      | 219/612 [00:28<00:44,  8.80it/s]"
          ]
        },
        {
          "output_type": "stream",
          "name": "stdout",
          "text": [
            "1/1 [==============================] - 0s 35ms/step\n"
          ]
        },
        {
          "output_type": "stream",
          "name": "stderr",
          "text": [
            "\r 36%|███▌      | 220/612 [00:28<00:43,  9.01it/s]"
          ]
        },
        {
          "output_type": "stream",
          "name": "stdout",
          "text": [
            "1/1 [==============================] - 0s 34ms/step\n"
          ]
        },
        {
          "output_type": "stream",
          "name": "stderr",
          "text": [
            "\r 36%|███▌      | 221/612 [00:28<00:45,  8.66it/s]"
          ]
        },
        {
          "output_type": "stream",
          "name": "stdout",
          "text": [
            "1/1 [==============================] - 0s 34ms/step\n"
          ]
        },
        {
          "output_type": "stream",
          "name": "stderr",
          "text": [
            "\r 36%|███▋      | 222/612 [00:28<00:43,  9.01it/s]"
          ]
        },
        {
          "output_type": "stream",
          "name": "stdout",
          "text": [
            "1/1 [==============================] - 0s 39ms/step\n"
          ]
        },
        {
          "output_type": "stream",
          "name": "stderr",
          "text": [
            "\r 36%|███▋      | 223/612 [00:29<00:43,  8.86it/s]"
          ]
        },
        {
          "output_type": "stream",
          "name": "stdout",
          "text": [
            "1/1 [==============================] - 0s 33ms/step\n"
          ]
        },
        {
          "output_type": "stream",
          "name": "stderr",
          "text": [
            "\r 37%|███▋      | 224/612 [00:29<00:42,  9.13it/s]"
          ]
        },
        {
          "output_type": "stream",
          "name": "stdout",
          "text": [
            "1/1 [==============================] - 0s 34ms/step\n"
          ]
        },
        {
          "output_type": "stream",
          "name": "stderr",
          "text": [
            "\r 37%|███▋      | 225/612 [00:29<00:42,  9.15it/s]"
          ]
        },
        {
          "output_type": "stream",
          "name": "stdout",
          "text": [
            "1/1 [==============================] - 0s 36ms/step\n"
          ]
        },
        {
          "output_type": "stream",
          "name": "stderr",
          "text": [
            "\r 37%|███▋      | 226/612 [00:29<00:43,  8.87it/s]"
          ]
        },
        {
          "output_type": "stream",
          "name": "stdout",
          "text": [
            "1/1 [==============================] - 0s 33ms/step\n"
          ]
        },
        {
          "output_type": "stream",
          "name": "stderr",
          "text": [
            "\r 37%|███▋      | 227/612 [00:29<00:42,  9.01it/s]"
          ]
        },
        {
          "output_type": "stream",
          "name": "stdout",
          "text": [
            "1/1 [==============================] - 0s 33ms/step\n"
          ]
        },
        {
          "output_type": "stream",
          "name": "stderr",
          "text": [
            "\r 37%|███▋      | 228/612 [00:29<00:42,  9.04it/s]"
          ]
        },
        {
          "output_type": "stream",
          "name": "stdout",
          "text": [
            "1/1 [==============================] - 0s 40ms/step\n"
          ]
        },
        {
          "output_type": "stream",
          "name": "stderr",
          "text": [
            "\r 37%|███▋      | 229/612 [00:29<00:42,  9.11it/s]"
          ]
        },
        {
          "output_type": "stream",
          "name": "stdout",
          "text": [
            "1/1 [==============================] - 0s 34ms/step\n"
          ]
        },
        {
          "output_type": "stream",
          "name": "stderr",
          "text": [
            "\r 38%|███▊      | 230/612 [00:29<00:43,  8.88it/s]"
          ]
        },
        {
          "output_type": "stream",
          "name": "stdout",
          "text": [
            "1/1 [==============================] - 0s 35ms/step\n"
          ]
        },
        {
          "output_type": "stream",
          "name": "stderr",
          "text": [
            "\r 38%|███▊      | 231/612 [00:29<00:43,  8.68it/s]"
          ]
        },
        {
          "output_type": "stream",
          "name": "stdout",
          "text": [
            "1/1 [==============================] - 0s 34ms/step\n"
          ]
        },
        {
          "output_type": "stream",
          "name": "stderr",
          "text": [
            "\r 38%|███▊      | 232/612 [00:30<00:42,  9.04it/s]"
          ]
        },
        {
          "output_type": "stream",
          "name": "stdout",
          "text": [
            "1/1 [==============================] - 0s 33ms/step\n"
          ]
        },
        {
          "output_type": "stream",
          "name": "stderr",
          "text": [
            "\r 38%|███▊      | 233/612 [00:30<00:41,  9.06it/s]"
          ]
        },
        {
          "output_type": "stream",
          "name": "stdout",
          "text": [
            "1/1 [==============================] - 0s 36ms/step\n"
          ]
        },
        {
          "output_type": "stream",
          "name": "stderr",
          "text": [
            "\r 38%|███▊      | 234/612 [00:30<00:41,  9.14it/s]"
          ]
        },
        {
          "output_type": "stream",
          "name": "stdout",
          "text": [
            "1/1 [==============================] - 0s 37ms/step\n"
          ]
        },
        {
          "output_type": "stream",
          "name": "stderr",
          "text": [
            "\r 38%|███▊      | 235/612 [00:30<00:41,  9.15it/s]"
          ]
        },
        {
          "output_type": "stream",
          "name": "stdout",
          "text": [
            "1/1 [==============================] - 0s 35ms/step\n"
          ]
        },
        {
          "output_type": "stream",
          "name": "stderr",
          "text": [
            "\r 39%|███▊      | 236/612 [00:30<00:41,  9.17it/s]"
          ]
        },
        {
          "output_type": "stream",
          "name": "stdout",
          "text": [
            "1/1 [==============================] - 0s 34ms/step\n"
          ]
        },
        {
          "output_type": "stream",
          "name": "stderr",
          "text": [
            "\r 39%|███▊      | 237/612 [00:30<00:43,  8.67it/s]"
          ]
        },
        {
          "output_type": "stream",
          "name": "stdout",
          "text": [
            "1/1 [==============================] - 0s 35ms/step\n"
          ]
        },
        {
          "output_type": "stream",
          "name": "stderr",
          "text": [
            "\r 39%|███▉      | 238/612 [00:30<00:42,  8.90it/s]"
          ]
        },
        {
          "output_type": "stream",
          "name": "stdout",
          "text": [
            "1/1 [==============================] - 0s 34ms/step\n"
          ]
        },
        {
          "output_type": "stream",
          "name": "stderr",
          "text": [
            "\r 39%|███▉      | 239/612 [00:30<00:42,  8.68it/s]"
          ]
        },
        {
          "output_type": "stream",
          "name": "stdout",
          "text": [
            "1/1 [==============================] - 0s 34ms/step\n"
          ]
        },
        {
          "output_type": "stream",
          "name": "stderr",
          "text": [
            "\r 39%|███▉      | 240/612 [00:30<00:43,  8.50it/s]"
          ]
        },
        {
          "output_type": "stream",
          "name": "stdout",
          "text": [
            "1/1 [==============================] - 0s 34ms/step\n"
          ]
        },
        {
          "output_type": "stream",
          "name": "stderr",
          "text": [
            "\r 39%|███▉      | 241/612 [00:31<00:42,  8.78it/s]"
          ]
        },
        {
          "output_type": "stream",
          "name": "stdout",
          "text": [
            "1/1 [==============================] - 0s 33ms/step\n"
          ]
        },
        {
          "output_type": "stream",
          "name": "stderr",
          "text": [
            "\r 40%|███▉      | 242/612 [00:31<00:43,  8.51it/s]"
          ]
        },
        {
          "output_type": "stream",
          "name": "stdout",
          "text": [
            "1/1 [==============================] - 0s 38ms/step\n"
          ]
        },
        {
          "output_type": "stream",
          "name": "stderr",
          "text": [
            "\r 40%|███▉      | 243/612 [00:31<00:43,  8.44it/s]"
          ]
        },
        {
          "output_type": "stream",
          "name": "stdout",
          "text": [
            "1/1 [==============================] - 0s 34ms/step\n"
          ]
        },
        {
          "output_type": "stream",
          "name": "stderr",
          "text": [
            "\r 40%|███▉      | 244/612 [00:31<00:43,  8.37it/s]"
          ]
        },
        {
          "output_type": "stream",
          "name": "stdout",
          "text": [
            "1/1 [==============================] - 0s 36ms/step\n"
          ]
        },
        {
          "output_type": "stream",
          "name": "stderr",
          "text": [
            "\r 40%|████      | 245/612 [00:31<00:43,  8.39it/s]"
          ]
        },
        {
          "output_type": "stream",
          "name": "stdout",
          "text": [
            "1/1 [==============================] - 0s 39ms/step\n"
          ]
        },
        {
          "output_type": "stream",
          "name": "stderr",
          "text": [
            "\r 40%|████      | 246/612 [00:31<00:42,  8.69it/s]"
          ]
        },
        {
          "output_type": "stream",
          "name": "stdout",
          "text": [
            "1/1 [==============================] - 0s 34ms/step\n"
          ]
        },
        {
          "output_type": "stream",
          "name": "stderr",
          "text": [
            "\r 40%|████      | 247/612 [00:31<00:40,  9.02it/s]"
          ]
        },
        {
          "output_type": "stream",
          "name": "stdout",
          "text": [
            "1/1 [==============================] - 0s 38ms/step\n"
          ]
        },
        {
          "output_type": "stream",
          "name": "stderr",
          "text": [
            "\r 41%|████      | 248/612 [00:31<00:41,  8.75it/s]"
          ]
        },
        {
          "output_type": "stream",
          "name": "stdout",
          "text": [
            "1/1 [==============================] - 0s 34ms/step\n"
          ]
        },
        {
          "output_type": "stream",
          "name": "stderr",
          "text": [
            "\r 41%|████      | 249/612 [00:32<00:42,  8.55it/s]"
          ]
        },
        {
          "output_type": "stream",
          "name": "stdout",
          "text": [
            "1/1 [==============================] - 0s 35ms/step\n"
          ]
        },
        {
          "output_type": "stream",
          "name": "stderr",
          "text": [
            "\r 41%|████      | 250/612 [00:32<00:42,  8.51it/s]"
          ]
        },
        {
          "output_type": "stream",
          "name": "stdout",
          "text": [
            "1/1 [==============================] - 0s 40ms/step\n"
          ]
        },
        {
          "output_type": "stream",
          "name": "stderr",
          "text": [
            "\r 41%|████      | 251/612 [00:32<00:41,  8.77it/s]"
          ]
        },
        {
          "output_type": "stream",
          "name": "stdout",
          "text": [
            "1/1 [==============================] - 0s 38ms/step\n"
          ]
        },
        {
          "output_type": "stream",
          "name": "stderr",
          "text": [
            "\r 41%|████      | 252/612 [00:32<00:41,  8.61it/s]"
          ]
        },
        {
          "output_type": "stream",
          "name": "stdout",
          "text": [
            "1/1 [==============================] - 0s 34ms/step\n"
          ]
        },
        {
          "output_type": "stream",
          "name": "stderr",
          "text": [
            "\r 41%|████▏     | 253/612 [00:32<00:40,  8.95it/s]"
          ]
        },
        {
          "output_type": "stream",
          "name": "stdout",
          "text": [
            "1/1 [==============================] - 0s 36ms/step\n"
          ]
        },
        {
          "output_type": "stream",
          "name": "stderr",
          "text": [
            "\r 42%|████▏     | 254/612 [00:32<00:41,  8.71it/s]"
          ]
        },
        {
          "output_type": "stream",
          "name": "stdout",
          "text": [
            "1/1 [==============================] - 0s 36ms/step\n"
          ]
        },
        {
          "output_type": "stream",
          "name": "stderr",
          "text": [
            "\r 42%|████▏     | 255/612 [00:32<00:41,  8.54it/s]"
          ]
        },
        {
          "output_type": "stream",
          "name": "stdout",
          "text": [
            "1/1 [==============================] - 0s 36ms/step\n"
          ]
        },
        {
          "output_type": "stream",
          "name": "stderr",
          "text": [
            "\r 42%|████▏     | 256/612 [00:32<00:42,  8.40it/s]"
          ]
        },
        {
          "output_type": "stream",
          "name": "stdout",
          "text": [
            "1/1 [==============================] - 0s 35ms/step\n"
          ]
        },
        {
          "output_type": "stream",
          "name": "stderr",
          "text": [
            "\r 42%|████▏     | 257/612 [00:32<00:42,  8.39it/s]"
          ]
        },
        {
          "output_type": "stream",
          "name": "stdout",
          "text": [
            "1/1 [==============================] - 0s 33ms/step\n"
          ]
        },
        {
          "output_type": "stream",
          "name": "stderr",
          "text": [
            "\r 42%|████▏     | 258/612 [00:33<00:41,  8.62it/s]"
          ]
        },
        {
          "output_type": "stream",
          "name": "stdout",
          "text": [
            "1/1 [==============================] - 0s 41ms/step\n"
          ]
        },
        {
          "output_type": "stream",
          "name": "stderr",
          "text": [
            "\r 42%|████▏     | 259/612 [00:33<00:41,  8.47it/s]"
          ]
        },
        {
          "output_type": "stream",
          "name": "stdout",
          "text": [
            "1/1 [==============================] - 0s 37ms/step\n"
          ]
        },
        {
          "output_type": "stream",
          "name": "stderr",
          "text": [
            "\r 42%|████▏     | 260/612 [00:33<00:42,  8.32it/s]"
          ]
        },
        {
          "output_type": "stream",
          "name": "stdout",
          "text": [
            "1/1 [==============================] - 0s 34ms/step\n"
          ]
        },
        {
          "output_type": "stream",
          "name": "stderr",
          "text": [
            "\r 43%|████▎     | 261/612 [00:33<00:42,  8.22it/s]"
          ]
        },
        {
          "output_type": "stream",
          "name": "stdout",
          "text": [
            "1/1 [==============================] - 0s 34ms/step\n"
          ]
        },
        {
          "output_type": "stream",
          "name": "stderr",
          "text": [
            "\r 43%|████▎     | 262/612 [00:33<00:43,  8.13it/s]"
          ]
        },
        {
          "output_type": "stream",
          "name": "stdout",
          "text": [
            "1/1 [==============================] - 0s 36ms/step\n"
          ]
        },
        {
          "output_type": "stream",
          "name": "stderr",
          "text": [
            "\r 43%|████▎     | 263/612 [00:33<00:43,  8.07it/s]"
          ]
        },
        {
          "output_type": "stream",
          "name": "stdout",
          "text": [
            "1/1 [==============================] - 0s 35ms/step\n"
          ]
        },
        {
          "output_type": "stream",
          "name": "stderr",
          "text": [
            "\r 43%|████▎     | 264/612 [00:33<00:42,  8.13it/s]"
          ]
        },
        {
          "output_type": "stream",
          "name": "stdout",
          "text": [
            "1/1 [==============================] - 0s 34ms/step\n"
          ]
        },
        {
          "output_type": "stream",
          "name": "stderr",
          "text": [
            "\r 43%|████▎     | 265/612 [00:33<00:42,  8.16it/s]"
          ]
        },
        {
          "output_type": "stream",
          "name": "stdout",
          "text": [
            "1/1 [==============================] - 0s 44ms/step\n"
          ]
        },
        {
          "output_type": "stream",
          "name": "stderr",
          "text": [
            "\r 43%|████▎     | 266/612 [00:34<00:42,  8.14it/s]"
          ]
        },
        {
          "output_type": "stream",
          "name": "stdout",
          "text": [
            "1/1 [==============================] - 0s 34ms/step\n"
          ]
        },
        {
          "output_type": "stream",
          "name": "stderr",
          "text": [
            "\r 44%|████▎     | 267/612 [00:34<00:42,  8.19it/s]"
          ]
        },
        {
          "output_type": "stream",
          "name": "stdout",
          "text": [
            "1/1 [==============================] - 0s 39ms/step\n"
          ]
        },
        {
          "output_type": "stream",
          "name": "stderr",
          "text": [
            "\r 44%|████▍     | 268/612 [00:34<00:40,  8.45it/s]"
          ]
        },
        {
          "output_type": "stream",
          "name": "stdout",
          "text": [
            "1/1 [==============================] - 0s 39ms/step\n"
          ]
        },
        {
          "output_type": "stream",
          "name": "stderr",
          "text": [
            "\r 44%|████▍     | 269/612 [00:34<00:40,  8.41it/s]"
          ]
        },
        {
          "output_type": "stream",
          "name": "stdout",
          "text": [
            "1/1 [==============================] - 0s 34ms/step\n"
          ]
        },
        {
          "output_type": "stream",
          "name": "stderr",
          "text": [
            "\r 44%|████▍     | 270/612 [00:34<00:41,  8.25it/s]"
          ]
        },
        {
          "output_type": "stream",
          "name": "stdout",
          "text": [
            "1/1 [==============================] - 0s 42ms/step\n"
          ]
        },
        {
          "output_type": "stream",
          "name": "stderr",
          "text": [
            "\r 44%|████▍     | 271/612 [00:34<00:41,  8.29it/s]"
          ]
        },
        {
          "output_type": "stream",
          "name": "stdout",
          "text": [
            "1/1 [==============================] - 0s 37ms/step\n"
          ]
        },
        {
          "output_type": "stream",
          "name": "stderr",
          "text": [
            "\r 44%|████▍     | 272/612 [00:34<00:39,  8.68it/s]"
          ]
        },
        {
          "output_type": "stream",
          "name": "stdout",
          "text": [
            "1/1 [==============================] - 0s 36ms/step\n"
          ]
        },
        {
          "output_type": "stream",
          "name": "stderr",
          "text": [
            "\r 45%|████▍     | 273/612 [00:34<00:39,  8.62it/s]"
          ]
        },
        {
          "output_type": "stream",
          "name": "stdout",
          "text": [
            "1/1 [==============================] - 0s 34ms/step\n"
          ]
        },
        {
          "output_type": "stream",
          "name": "stderr",
          "text": [
            "\r 45%|████▍     | 274/612 [00:35<00:39,  8.45it/s]"
          ]
        },
        {
          "output_type": "stream",
          "name": "stdout",
          "text": [
            "1/1 [==============================] - 0s 34ms/step\n"
          ]
        },
        {
          "output_type": "stream",
          "name": "stderr",
          "text": [
            "\r 45%|████▍     | 275/612 [00:35<00:38,  8.83it/s]"
          ]
        },
        {
          "output_type": "stream",
          "name": "stdout",
          "text": [
            "1/1 [==============================] - 0s 38ms/step\n"
          ]
        },
        {
          "output_type": "stream",
          "name": "stderr",
          "text": [
            "\r 45%|████▌     | 276/612 [00:35<00:37,  9.00it/s]"
          ]
        },
        {
          "output_type": "stream",
          "name": "stdout",
          "text": [
            "1/1 [==============================] - 0s 39ms/step\n"
          ]
        },
        {
          "output_type": "stream",
          "name": "stderr",
          "text": [
            "\r 45%|████▌     | 277/612 [00:35<00:37,  9.00it/s]"
          ]
        },
        {
          "output_type": "stream",
          "name": "stdout",
          "text": [
            "1/1 [==============================] - 0s 34ms/step\n"
          ]
        },
        {
          "output_type": "stream",
          "name": "stderr",
          "text": [
            "\r 45%|████▌     | 278/612 [00:35<00:36,  9.08it/s]"
          ]
        },
        {
          "output_type": "stream",
          "name": "stdout",
          "text": [
            "1/1 [==============================] - 0s 33ms/step\n"
          ]
        },
        {
          "output_type": "stream",
          "name": "stderr",
          "text": [
            "\r 46%|████▌     | 279/612 [00:35<00:37,  8.85it/s]"
          ]
        },
        {
          "output_type": "stream",
          "name": "stdout",
          "text": [
            "1/1 [==============================] - 0s 41ms/step\n"
          ]
        },
        {
          "output_type": "stream",
          "name": "stderr",
          "text": [
            "\r 46%|████▌     | 280/612 [00:35<00:36,  9.12it/s]"
          ]
        },
        {
          "output_type": "stream",
          "name": "stdout",
          "text": [
            "1/1 [==============================] - 0s 38ms/step\n"
          ]
        },
        {
          "output_type": "stream",
          "name": "stderr",
          "text": [
            "\r 46%|████▌     | 281/612 [00:35<00:37,  8.88it/s]"
          ]
        },
        {
          "output_type": "stream",
          "name": "stdout",
          "text": [
            "1/1 [==============================] - 0s 40ms/step\n"
          ]
        },
        {
          "output_type": "stream",
          "name": "stderr",
          "text": [
            "\r 46%|████▌     | 282/612 [00:35<00:38,  8.66it/s]"
          ]
        },
        {
          "output_type": "stream",
          "name": "stdout",
          "text": [
            "1/1 [==============================] - 0s 34ms/step\n"
          ]
        },
        {
          "output_type": "stream",
          "name": "stderr",
          "text": [
            "\r 46%|████▌     | 283/612 [00:36<00:38,  8.54it/s]"
          ]
        },
        {
          "output_type": "stream",
          "name": "stdout",
          "text": [
            "1/1 [==============================] - 0s 34ms/step\n"
          ]
        },
        {
          "output_type": "stream",
          "name": "stderr",
          "text": [
            "\r 46%|████▋     | 284/612 [00:36<00:38,  8.43it/s]"
          ]
        },
        {
          "output_type": "stream",
          "name": "stdout",
          "text": [
            "1/1 [==============================] - 0s 41ms/step\n"
          ]
        },
        {
          "output_type": "stream",
          "name": "stderr",
          "text": [
            "\r 47%|████▋     | 285/612 [00:36<00:37,  8.75it/s]"
          ]
        },
        {
          "output_type": "stream",
          "name": "stdout",
          "text": [
            "1/1 [==============================] - 0s 38ms/step\n"
          ]
        },
        {
          "output_type": "stream",
          "name": "stderr",
          "text": [
            "\r 47%|████▋     | 286/612 [00:36<00:37,  8.58it/s]"
          ]
        },
        {
          "output_type": "stream",
          "name": "stdout",
          "text": [
            "1/1 [==============================] - 0s 33ms/step\n",
            "1/1 [==============================] - 0s 34ms/step\n"
          ]
        },
        {
          "output_type": "stream",
          "name": "stderr",
          "text": [
            "\r 47%|████▋     | 288/612 [00:36<00:35,  9.05it/s]"
          ]
        },
        {
          "output_type": "stream",
          "name": "stdout",
          "text": [
            "1/1 [==============================] - 0s 40ms/step\n"
          ]
        },
        {
          "output_type": "stream",
          "name": "stderr",
          "text": [
            "\r 47%|████▋     | 289/612 [00:36<00:36,  8.90it/s]"
          ]
        },
        {
          "output_type": "stream",
          "name": "stdout",
          "text": [
            "1/1 [==============================] - 0s 36ms/step\n"
          ]
        },
        {
          "output_type": "stream",
          "name": "stderr",
          "text": [
            "\r 47%|████▋     | 290/612 [00:36<00:37,  8.68it/s]"
          ]
        },
        {
          "output_type": "stream",
          "name": "stdout",
          "text": [
            "1/1 [==============================] - 0s 34ms/step\n"
          ]
        },
        {
          "output_type": "stream",
          "name": "stderr",
          "text": [
            "\r 48%|████▊     | 291/612 [00:36<00:37,  8.59it/s]"
          ]
        },
        {
          "output_type": "stream",
          "name": "stdout",
          "text": [
            "1/1 [==============================] - 0s 34ms/step\n"
          ]
        },
        {
          "output_type": "stream",
          "name": "stderr",
          "text": [
            "\r 48%|████▊     | 292/612 [00:37<00:37,  8.56it/s]"
          ]
        },
        {
          "output_type": "stream",
          "name": "stdout",
          "text": [
            "1/1 [==============================] - 0s 35ms/step\n"
          ]
        },
        {
          "output_type": "stream",
          "name": "stderr",
          "text": [
            "\r 48%|████▊     | 293/612 [00:37<00:37,  8.49it/s]"
          ]
        },
        {
          "output_type": "stream",
          "name": "stdout",
          "text": [
            "1/1 [==============================] - 0s 35ms/step\n"
          ]
        },
        {
          "output_type": "stream",
          "name": "stderr",
          "text": [
            "\r 48%|████▊     | 294/612 [00:37<00:36,  8.65it/s]"
          ]
        },
        {
          "output_type": "stream",
          "name": "stdout",
          "text": [
            "1/1 [==============================] - 0s 38ms/step\n"
          ]
        },
        {
          "output_type": "stream",
          "name": "stderr",
          "text": [
            "\r 48%|████▊     | 295/612 [00:37<00:35,  8.99it/s]"
          ]
        },
        {
          "output_type": "stream",
          "name": "stdout",
          "text": [
            "1/1 [==============================] - 0s 34ms/step\n"
          ]
        },
        {
          "output_type": "stream",
          "name": "stderr",
          "text": [
            "\r 48%|████▊     | 296/612 [00:37<00:35,  8.80it/s]"
          ]
        },
        {
          "output_type": "stream",
          "name": "stdout",
          "text": [
            "1/1 [==============================] - 0s 33ms/step\n"
          ]
        },
        {
          "output_type": "stream",
          "name": "stderr",
          "text": [
            "\r 49%|████▊     | 297/612 [00:37<00:36,  8.56it/s]"
          ]
        },
        {
          "output_type": "stream",
          "name": "stdout",
          "text": [
            "1/1 [==============================] - 0s 44ms/step\n"
          ]
        },
        {
          "output_type": "stream",
          "name": "stderr",
          "text": [
            "\r 49%|████▊     | 298/612 [00:37<00:37,  8.46it/s]"
          ]
        },
        {
          "output_type": "stream",
          "name": "stdout",
          "text": [
            "1/1 [==============================] - 0s 33ms/step\n"
          ]
        },
        {
          "output_type": "stream",
          "name": "stderr",
          "text": [
            "\r 49%|████▉     | 299/612 [00:37<00:37,  8.33it/s]"
          ]
        },
        {
          "output_type": "stream",
          "name": "stdout",
          "text": [
            "1/1 [==============================] - 0s 34ms/step\n"
          ]
        },
        {
          "output_type": "stream",
          "name": "stderr",
          "text": [
            "\r 49%|████▉     | 300/612 [00:38<00:37,  8.33it/s]"
          ]
        },
        {
          "output_type": "stream",
          "name": "stdout",
          "text": [
            "1/1 [==============================] - 0s 35ms/step\n"
          ]
        },
        {
          "output_type": "stream",
          "name": "stderr",
          "text": [
            "\r 49%|████▉     | 301/612 [00:38<00:37,  8.19it/s]"
          ]
        },
        {
          "output_type": "stream",
          "name": "stdout",
          "text": [
            "1/1 [==============================] - 0s 34ms/step\n"
          ]
        },
        {
          "output_type": "stream",
          "name": "stderr",
          "text": [
            "\r 49%|████▉     | 302/612 [00:38<00:37,  8.20it/s]"
          ]
        },
        {
          "output_type": "stream",
          "name": "stdout",
          "text": [
            "1/1 [==============================] - 0s 35ms/step\n"
          ]
        },
        {
          "output_type": "stream",
          "name": "stderr",
          "text": [
            "\r 50%|████▉     | 303/612 [00:38<00:36,  8.40it/s]"
          ]
        },
        {
          "output_type": "stream",
          "name": "stdout",
          "text": [
            "1/1 [==============================] - 0s 35ms/step\n"
          ]
        },
        {
          "output_type": "stream",
          "name": "stderr",
          "text": [
            "\r 50%|████▉     | 304/612 [00:38<00:36,  8.36it/s]"
          ]
        },
        {
          "output_type": "stream",
          "name": "stdout",
          "text": [
            "1/1 [==============================] - 0s 35ms/step\n"
          ]
        },
        {
          "output_type": "stream",
          "name": "stderr",
          "text": [
            "\r 50%|████▉     | 305/612 [00:38<00:36,  8.35it/s]"
          ]
        },
        {
          "output_type": "stream",
          "name": "stdout",
          "text": [
            "1/1 [==============================] - 0s 34ms/step\n"
          ]
        },
        {
          "output_type": "stream",
          "name": "stderr",
          "text": [
            "\r 50%|█████     | 306/612 [00:38<00:36,  8.30it/s]"
          ]
        },
        {
          "output_type": "stream",
          "name": "stdout",
          "text": [
            "1/1 [==============================] - 0s 33ms/step\n"
          ]
        },
        {
          "output_type": "stream",
          "name": "stderr",
          "text": [
            "\r 50%|█████     | 307/612 [00:38<00:36,  8.28it/s]"
          ]
        },
        {
          "output_type": "stream",
          "name": "stdout",
          "text": [
            "1/1 [==============================] - 0s 34ms/step\n"
          ]
        },
        {
          "output_type": "stream",
          "name": "stderr",
          "text": [
            "\r 50%|█████     | 308/612 [00:38<00:37,  8.11it/s]"
          ]
        },
        {
          "output_type": "stream",
          "name": "stdout",
          "text": [
            "1/1 [==============================] - 0s 35ms/step\n"
          ]
        },
        {
          "output_type": "stream",
          "name": "stderr",
          "text": [
            "\r 50%|█████     | 309/612 [00:39<00:37,  8.02it/s]"
          ]
        },
        {
          "output_type": "stream",
          "name": "stdout",
          "text": [
            "1/1 [==============================] - 0s 35ms/step\n"
          ]
        },
        {
          "output_type": "stream",
          "name": "stderr",
          "text": [
            "\r 51%|█████     | 310/612 [00:39<00:35,  8.45it/s]"
          ]
        },
        {
          "output_type": "stream",
          "name": "stdout",
          "text": [
            "1/1 [==============================] - 0s 36ms/step\n"
          ]
        },
        {
          "output_type": "stream",
          "name": "stderr",
          "text": [
            "\r 51%|█████     | 311/612 [00:39<00:34,  8.82it/s]"
          ]
        },
        {
          "output_type": "stream",
          "name": "stdout",
          "text": [
            "1/1 [==============================] - 0s 33ms/step\n"
          ]
        },
        {
          "output_type": "stream",
          "name": "stderr",
          "text": [
            "\r 51%|█████     | 312/612 [00:39<00:32,  9.13it/s]"
          ]
        },
        {
          "output_type": "stream",
          "name": "stdout",
          "text": [
            "1/1 [==============================] - 0s 34ms/step\n"
          ]
        },
        {
          "output_type": "stream",
          "name": "stderr",
          "text": [
            "\r 51%|█████     | 313/612 [00:39<00:33,  8.96it/s]"
          ]
        },
        {
          "output_type": "stream",
          "name": "stdout",
          "text": [
            "1/1 [==============================] - 0s 35ms/step\n"
          ]
        },
        {
          "output_type": "stream",
          "name": "stderr",
          "text": [
            "\r 51%|█████▏    | 314/612 [00:39<00:34,  8.60it/s]"
          ]
        },
        {
          "output_type": "stream",
          "name": "stdout",
          "text": [
            "1/1 [==============================] - 0s 45ms/step\n"
          ]
        },
        {
          "output_type": "stream",
          "name": "stderr",
          "text": [
            "\r 51%|█████▏    | 315/612 [00:39<00:35,  8.41it/s]"
          ]
        },
        {
          "output_type": "stream",
          "name": "stdout",
          "text": [
            "1/1 [==============================] - 0s 33ms/step\n"
          ]
        },
        {
          "output_type": "stream",
          "name": "stderr",
          "text": [
            "\r 52%|█████▏    | 316/612 [00:39<00:35,  8.42it/s]"
          ]
        },
        {
          "output_type": "stream",
          "name": "stdout",
          "text": [
            "1/1 [==============================] - 0s 34ms/step\n"
          ]
        },
        {
          "output_type": "stream",
          "name": "stderr",
          "text": [
            "\r 52%|█████▏    | 317/612 [00:39<00:33,  8.79it/s]"
          ]
        },
        {
          "output_type": "stream",
          "name": "stdout",
          "text": [
            "1/1 [==============================] - 0s 40ms/step\n"
          ]
        },
        {
          "output_type": "stream",
          "name": "stderr",
          "text": [
            "\r 52%|█████▏    | 318/612 [00:40<00:34,  8.64it/s]"
          ]
        },
        {
          "output_type": "stream",
          "name": "stdout",
          "text": [
            "1/1 [==============================] - 0s 34ms/step\n"
          ]
        },
        {
          "output_type": "stream",
          "name": "stderr",
          "text": [
            "\r 52%|█████▏    | 319/612 [00:40<00:35,  8.28it/s]"
          ]
        },
        {
          "output_type": "stream",
          "name": "stdout",
          "text": [
            "1/1 [==============================] - 0s 37ms/step\n"
          ]
        },
        {
          "output_type": "stream",
          "name": "stderr",
          "text": [
            "\r 52%|█████▏    | 320/612 [00:40<00:35,  8.33it/s]"
          ]
        },
        {
          "output_type": "stream",
          "name": "stdout",
          "text": [
            "1/1 [==============================] - 0s 35ms/step\n"
          ]
        },
        {
          "output_type": "stream",
          "name": "stderr",
          "text": [
            "\r 52%|█████▏    | 321/612 [00:40<00:33,  8.64it/s]"
          ]
        },
        {
          "output_type": "stream",
          "name": "stdout",
          "text": [
            "1/1 [==============================] - 0s 33ms/step\n"
          ]
        },
        {
          "output_type": "stream",
          "name": "stderr",
          "text": [
            "\r 53%|█████▎    | 322/612 [00:40<00:33,  8.59it/s]"
          ]
        },
        {
          "output_type": "stream",
          "name": "stdout",
          "text": [
            "1/1 [==============================] - 0s 40ms/step\n"
          ]
        },
        {
          "output_type": "stream",
          "name": "stderr",
          "text": [
            "\r 53%|█████▎    | 323/612 [00:40<00:32,  8.76it/s]"
          ]
        },
        {
          "output_type": "stream",
          "name": "stdout",
          "text": [
            "1/1 [==============================] - 0s 36ms/step\n"
          ]
        },
        {
          "output_type": "stream",
          "name": "stderr",
          "text": [
            "\r 53%|█████▎    | 324/612 [00:40<00:32,  8.90it/s]"
          ]
        },
        {
          "output_type": "stream",
          "name": "stdout",
          "text": [
            "1/1 [==============================] - 0s 33ms/step\n"
          ]
        },
        {
          "output_type": "stream",
          "name": "stderr",
          "text": [
            "\r 53%|█████▎    | 325/612 [00:40<00:32,  8.72it/s]"
          ]
        },
        {
          "output_type": "stream",
          "name": "stdout",
          "text": [
            "1/1 [==============================] - 0s 36ms/step\n"
          ]
        },
        {
          "output_type": "stream",
          "name": "stderr",
          "text": [
            "\r 53%|█████▎    | 326/612 [00:41<00:35,  8.14it/s]"
          ]
        },
        {
          "output_type": "stream",
          "name": "stdout",
          "text": [
            "1/1 [==============================] - 0s 34ms/step\n"
          ]
        },
        {
          "output_type": "stream",
          "name": "stderr",
          "text": [
            "\r 53%|█████▎    | 327/612 [00:41<00:34,  8.16it/s]"
          ]
        },
        {
          "output_type": "stream",
          "name": "stdout",
          "text": [
            "1/1 [==============================] - 0s 32ms/step\n",
            "1/1 [==============================] - 0s 35ms/step\n"
          ]
        },
        {
          "output_type": "stream",
          "name": "stderr",
          "text": [
            "\r 54%|█████▍    | 329/612 [00:41<00:33,  8.48it/s]"
          ]
        },
        {
          "output_type": "stream",
          "name": "stdout",
          "text": [
            "1/1 [==============================] - 0s 35ms/step\n"
          ]
        },
        {
          "output_type": "stream",
          "name": "stderr",
          "text": [
            "\r 54%|█████▍    | 330/612 [00:41<00:32,  8.72it/s]"
          ]
        },
        {
          "output_type": "stream",
          "name": "stdout",
          "text": [
            "1/1 [==============================] - 0s 33ms/step\n"
          ]
        },
        {
          "output_type": "stream",
          "name": "stderr",
          "text": [
            "\r 54%|█████▍    | 331/612 [00:41<00:31,  8.98it/s]"
          ]
        },
        {
          "output_type": "stream",
          "name": "stdout",
          "text": [
            "1/1 [==============================] - 0s 36ms/step\n"
          ]
        },
        {
          "output_type": "stream",
          "name": "stderr",
          "text": [
            "\r 54%|█████▍    | 332/612 [00:41<00:31,  8.76it/s]"
          ]
        },
        {
          "output_type": "stream",
          "name": "stdout",
          "text": [
            "1/1 [==============================] - 0s 34ms/step\n"
          ]
        },
        {
          "output_type": "stream",
          "name": "stderr",
          "text": [
            "\r 54%|█████▍    | 333/612 [00:41<00:32,  8.57it/s]"
          ]
        },
        {
          "output_type": "stream",
          "name": "stdout",
          "text": [
            "1/1 [==============================] - 0s 35ms/step\n"
          ]
        },
        {
          "output_type": "stream",
          "name": "stderr",
          "text": [
            "\r 55%|█████▍    | 334/612 [00:41<00:32,  8.46it/s]"
          ]
        },
        {
          "output_type": "stream",
          "name": "stdout",
          "text": [
            "1/1 [==============================] - 0s 36ms/step\n"
          ]
        },
        {
          "output_type": "stream",
          "name": "stderr",
          "text": [
            "\r 55%|█████▍    | 335/612 [00:42<00:33,  8.39it/s]"
          ]
        },
        {
          "output_type": "stream",
          "name": "stdout",
          "text": [
            "1/1 [==============================] - 0s 34ms/step\n"
          ]
        },
        {
          "output_type": "stream",
          "name": "stderr",
          "text": [
            "\r 55%|█████▍    | 336/612 [00:42<00:31,  8.74it/s]"
          ]
        },
        {
          "output_type": "stream",
          "name": "stdout",
          "text": [
            "1/1 [==============================] - 0s 40ms/step\n"
          ]
        },
        {
          "output_type": "stream",
          "name": "stderr",
          "text": [
            "\r 55%|█████▌    | 337/612 [00:42<00:31,  8.61it/s]"
          ]
        },
        {
          "output_type": "stream",
          "name": "stdout",
          "text": [
            "1/1 [==============================] - 0s 33ms/step\n"
          ]
        },
        {
          "output_type": "stream",
          "name": "stderr",
          "text": [
            "\r 55%|█████▌    | 338/612 [00:42<00:30,  8.97it/s]"
          ]
        },
        {
          "output_type": "stream",
          "name": "stdout",
          "text": [
            "1/1 [==============================] - 0s 35ms/step\n"
          ]
        },
        {
          "output_type": "stream",
          "name": "stderr",
          "text": [
            "\r 55%|█████▌    | 339/612 [00:42<00:30,  9.03it/s]"
          ]
        },
        {
          "output_type": "stream",
          "name": "stdout",
          "text": [
            "1/1 [==============================] - 0s 33ms/step\n"
          ]
        },
        {
          "output_type": "stream",
          "name": "stderr",
          "text": [
            "\r 56%|█████▌    | 340/612 [00:42<00:29,  9.27it/s]"
          ]
        },
        {
          "output_type": "stream",
          "name": "stdout",
          "text": [
            "1/1 [==============================] - 0s 34ms/step\n"
          ]
        },
        {
          "output_type": "stream",
          "name": "stderr",
          "text": [
            "\r 56%|█████▌    | 341/612 [00:42<00:30,  8.89it/s]"
          ]
        },
        {
          "output_type": "stream",
          "name": "stdout",
          "text": [
            "1/1 [==============================] - 0s 41ms/step\n"
          ]
        },
        {
          "output_type": "stream",
          "name": "stderr",
          "text": [
            "\r 56%|█████▌    | 342/612 [00:42<00:31,  8.45it/s]"
          ]
        },
        {
          "output_type": "stream",
          "name": "stdout",
          "text": [
            "1/1 [==============================] - 0s 35ms/step\n"
          ]
        },
        {
          "output_type": "stream",
          "name": "stderr",
          "text": [
            "\r 56%|█████▌    | 343/612 [00:43<00:32,  8.34it/s]"
          ]
        },
        {
          "output_type": "stream",
          "name": "stdout",
          "text": [
            "1/1 [==============================] - 0s 39ms/step\n"
          ]
        },
        {
          "output_type": "stream",
          "name": "stderr",
          "text": [
            "\r 56%|█████▌    | 344/612 [00:43<00:32,  8.32it/s]"
          ]
        },
        {
          "output_type": "stream",
          "name": "stdout",
          "text": [
            "1/1 [==============================] - 0s 34ms/step\n"
          ]
        },
        {
          "output_type": "stream",
          "name": "stderr",
          "text": [
            "\r 56%|█████▋    | 345/612 [00:43<00:32,  8.33it/s]"
          ]
        },
        {
          "output_type": "stream",
          "name": "stdout",
          "text": [
            "1/1 [==============================] - 0s 39ms/step\n"
          ]
        },
        {
          "output_type": "stream",
          "name": "stderr",
          "text": [
            "\r 57%|█████▋    | 346/612 [00:43<00:31,  8.33it/s]"
          ]
        },
        {
          "output_type": "stream",
          "name": "stdout",
          "text": [
            "1/1 [==============================] - 0s 37ms/step\n"
          ]
        },
        {
          "output_type": "stream",
          "name": "stderr",
          "text": [
            "\r 57%|█████▋    | 347/612 [00:43<00:30,  8.66it/s]"
          ]
        },
        {
          "output_type": "stream",
          "name": "stdout",
          "text": [
            "1/1 [==============================] - 0s 34ms/step\n"
          ]
        },
        {
          "output_type": "stream",
          "name": "stderr",
          "text": [
            "\r 57%|█████▋    | 348/612 [00:43<00:31,  8.52it/s]"
          ]
        },
        {
          "output_type": "stream",
          "name": "stdout",
          "text": [
            "1/1 [==============================] - 0s 38ms/step\n"
          ]
        },
        {
          "output_type": "stream",
          "name": "stderr",
          "text": [
            "\r 57%|█████▋    | 349/612 [00:43<00:31,  8.46it/s]"
          ]
        },
        {
          "output_type": "stream",
          "name": "stdout",
          "text": [
            "1/1 [==============================] - 0s 45ms/step\n"
          ]
        },
        {
          "output_type": "stream",
          "name": "stderr",
          "text": [
            "\r 57%|█████▋    | 350/612 [00:43<00:31,  8.39it/s]"
          ]
        },
        {
          "output_type": "stream",
          "name": "stdout",
          "text": [
            "1/1 [==============================] - 0s 35ms/step\n"
          ]
        },
        {
          "output_type": "stream",
          "name": "stderr",
          "text": [
            "\r 57%|█████▋    | 351/612 [00:43<00:30,  8.63it/s]"
          ]
        },
        {
          "output_type": "stream",
          "name": "stdout",
          "text": [
            "1/1 [==============================] - 0s 34ms/step\n"
          ]
        },
        {
          "output_type": "stream",
          "name": "stderr",
          "text": [
            "\r 58%|█████▊    | 352/612 [00:44<00:30,  8.54it/s]"
          ]
        },
        {
          "output_type": "stream",
          "name": "stdout",
          "text": [
            "1/1 [==============================] - 0s 33ms/step\n"
          ]
        },
        {
          "output_type": "stream",
          "name": "stderr",
          "text": [
            "\r 58%|█████▊    | 353/612 [00:44<00:29,  8.88it/s]"
          ]
        },
        {
          "output_type": "stream",
          "name": "stdout",
          "text": [
            "1/1 [==============================] - 0s 35ms/step\n"
          ]
        },
        {
          "output_type": "stream",
          "name": "stderr",
          "text": [
            "\r 58%|█████▊    | 354/612 [00:44<00:28,  9.12it/s]"
          ]
        },
        {
          "output_type": "stream",
          "name": "stdout",
          "text": [
            "1/1 [==============================] - 0s 45ms/step\n"
          ]
        },
        {
          "output_type": "stream",
          "name": "stderr",
          "text": [
            "\r 58%|█████▊    | 355/612 [00:44<00:29,  8.73it/s]"
          ]
        },
        {
          "output_type": "stream",
          "name": "stdout",
          "text": [
            "1/1 [==============================] - 0s 37ms/step\n"
          ]
        },
        {
          "output_type": "stream",
          "name": "stderr",
          "text": [
            "\r 58%|█████▊    | 356/612 [00:44<00:29,  8.61it/s]"
          ]
        },
        {
          "output_type": "stream",
          "name": "stdout",
          "text": [
            "1/1 [==============================] - 0s 34ms/step\n"
          ]
        },
        {
          "output_type": "stream",
          "name": "stderr",
          "text": [
            "\r 58%|█████▊    | 357/612 [00:44<00:28,  8.93it/s]"
          ]
        },
        {
          "output_type": "stream",
          "name": "stdout",
          "text": [
            "1/1 [==============================] - 0s 35ms/step\n"
          ]
        },
        {
          "output_type": "stream",
          "name": "stderr",
          "text": [
            "\r 58%|█████▊    | 358/612 [00:44<00:27,  9.13it/s]"
          ]
        },
        {
          "output_type": "stream",
          "name": "stdout",
          "text": [
            "1/1 [==============================] - 0s 41ms/step\n"
          ]
        },
        {
          "output_type": "stream",
          "name": "stderr",
          "text": [
            "\r 59%|█████▊    | 359/612 [00:44<00:29,  8.72it/s]"
          ]
        },
        {
          "output_type": "stream",
          "name": "stdout",
          "text": [
            "1/1 [==============================] - 0s 35ms/step\n"
          ]
        },
        {
          "output_type": "stream",
          "name": "stderr",
          "text": [
            "\r 59%|█████▉    | 360/612 [00:44<00:28,  8.90it/s]"
          ]
        },
        {
          "output_type": "stream",
          "name": "stdout",
          "text": [
            "1/1 [==============================] - 0s 34ms/step\n"
          ]
        },
        {
          "output_type": "stream",
          "name": "stderr",
          "text": [
            "\r 59%|█████▉    | 361/612 [00:45<00:28,  8.73it/s]"
          ]
        },
        {
          "output_type": "stream",
          "name": "stdout",
          "text": [
            "1/1 [==============================] - 0s 34ms/step\n"
          ]
        },
        {
          "output_type": "stream",
          "name": "stderr",
          "text": [
            "\r 59%|█████▉    | 362/612 [00:45<00:29,  8.58it/s]"
          ]
        },
        {
          "output_type": "stream",
          "name": "stdout",
          "text": [
            "1/1 [==============================] - 0s 35ms/step\n"
          ]
        },
        {
          "output_type": "stream",
          "name": "stderr",
          "text": [
            "\r 59%|█████▉    | 363/612 [00:45<00:27,  8.93it/s]"
          ]
        },
        {
          "output_type": "stream",
          "name": "stdout",
          "text": [
            "1/1 [==============================] - 0s 33ms/step\n"
          ]
        },
        {
          "output_type": "stream",
          "name": "stderr",
          "text": [
            "\r 59%|█████▉    | 364/612 [00:45<00:28,  8.72it/s]"
          ]
        },
        {
          "output_type": "stream",
          "name": "stdout",
          "text": [
            "1/1 [==============================] - 0s 33ms/step\n"
          ]
        },
        {
          "output_type": "stream",
          "name": "stderr",
          "text": [
            "\r 60%|█████▉    | 365/612 [00:45<00:27,  8.95it/s]"
          ]
        },
        {
          "output_type": "stream",
          "name": "stdout",
          "text": [
            "1/1 [==============================] - 0s 34ms/step\n"
          ]
        },
        {
          "output_type": "stream",
          "name": "stderr",
          "text": [
            "\r 60%|█████▉    | 366/612 [00:45<00:26,  9.15it/s]"
          ]
        },
        {
          "output_type": "stream",
          "name": "stdout",
          "text": [
            "1/1 [==============================] - 0s 34ms/step\n"
          ]
        },
        {
          "output_type": "stream",
          "name": "stderr",
          "text": [
            "\r 60%|█████▉    | 367/612 [00:45<00:28,  8.72it/s]"
          ]
        },
        {
          "output_type": "stream",
          "name": "stdout",
          "text": [
            "1/1 [==============================] - 0s 38ms/step\n"
          ]
        },
        {
          "output_type": "stream",
          "name": "stderr",
          "text": [
            "\r 60%|██████    | 368/612 [00:45<00:27,  8.95it/s]"
          ]
        },
        {
          "output_type": "stream",
          "name": "stdout",
          "text": [
            "1/1 [==============================] - 0s 33ms/step\n"
          ]
        },
        {
          "output_type": "stream",
          "name": "stderr",
          "text": [
            "\r 60%|██████    | 369/612 [00:46<00:28,  8.66it/s]"
          ]
        },
        {
          "output_type": "stream",
          "name": "stdout",
          "text": [
            "1/1 [==============================] - 0s 35ms/step\n"
          ]
        },
        {
          "output_type": "stream",
          "name": "stderr",
          "text": [
            "\r 60%|██████    | 370/612 [00:46<00:27,  8.80it/s]"
          ]
        },
        {
          "output_type": "stream",
          "name": "stdout",
          "text": [
            "1/1 [==============================] - 0s 34ms/step\n"
          ]
        },
        {
          "output_type": "stream",
          "name": "stderr",
          "text": [
            "\r 61%|██████    | 371/612 [00:46<00:26,  9.01it/s]"
          ]
        },
        {
          "output_type": "stream",
          "name": "stdout",
          "text": [
            "1/1 [==============================] - 0s 36ms/step\n"
          ]
        },
        {
          "output_type": "stream",
          "name": "stderr",
          "text": [
            "\r 61%|██████    | 372/612 [00:46<00:27,  8.84it/s]"
          ]
        },
        {
          "output_type": "stream",
          "name": "stdout",
          "text": [
            "1/1 [==============================] - 0s 38ms/step\n"
          ]
        },
        {
          "output_type": "stream",
          "name": "stderr",
          "text": [
            "\r 61%|██████    | 373/612 [00:46<00:26,  8.88it/s]"
          ]
        },
        {
          "output_type": "stream",
          "name": "stdout",
          "text": [
            "1/1 [==============================] - 0s 34ms/step\n"
          ]
        },
        {
          "output_type": "stream",
          "name": "stderr",
          "text": [
            "\r 61%|██████    | 374/612 [00:46<00:27,  8.70it/s]"
          ]
        },
        {
          "output_type": "stream",
          "name": "stdout",
          "text": [
            "1/1 [==============================] - 0s 34ms/step\n"
          ]
        },
        {
          "output_type": "stream",
          "name": "stderr",
          "text": [
            "\r 61%|██████▏   | 375/612 [00:46<00:27,  8.61it/s]"
          ]
        },
        {
          "output_type": "stream",
          "name": "stdout",
          "text": [
            "1/1 [==============================] - 0s 36ms/step\n"
          ]
        },
        {
          "output_type": "stream",
          "name": "stderr",
          "text": [
            "\r 61%|██████▏   | 376/612 [00:46<00:26,  8.88it/s]"
          ]
        },
        {
          "output_type": "stream",
          "name": "stdout",
          "text": [
            "1/1 [==============================] - 0s 36ms/step\n"
          ]
        },
        {
          "output_type": "stream",
          "name": "stderr",
          "text": [
            "\r 62%|██████▏   | 377/612 [00:46<00:27,  8.65it/s]"
          ]
        },
        {
          "output_type": "stream",
          "name": "stdout",
          "text": [
            "1/1 [==============================] - 0s 33ms/step\n"
          ]
        },
        {
          "output_type": "stream",
          "name": "stderr",
          "text": [
            "\r 62%|██████▏   | 378/612 [00:47<00:27,  8.58it/s]"
          ]
        },
        {
          "output_type": "stream",
          "name": "stdout",
          "text": [
            "1/1 [==============================] - 0s 33ms/step\n"
          ]
        },
        {
          "output_type": "stream",
          "name": "stderr",
          "text": [
            "\r 62%|██████▏   | 379/612 [00:47<00:26,  8.88it/s]"
          ]
        },
        {
          "output_type": "stream",
          "name": "stdout",
          "text": [
            "1/1 [==============================] - 0s 38ms/step\n"
          ]
        },
        {
          "output_type": "stream",
          "name": "stderr",
          "text": [
            "\r 62%|██████▏   | 380/612 [00:47<00:26,  8.62it/s]"
          ]
        },
        {
          "output_type": "stream",
          "name": "stdout",
          "text": [
            "1/1 [==============================] - 0s 35ms/step\n"
          ]
        },
        {
          "output_type": "stream",
          "name": "stderr",
          "text": [
            "\r 62%|██████▏   | 381/612 [00:47<00:26,  8.87it/s]"
          ]
        },
        {
          "output_type": "stream",
          "name": "stdout",
          "text": [
            "1/1 [==============================] - 0s 33ms/step\n"
          ]
        },
        {
          "output_type": "stream",
          "name": "stderr",
          "text": [
            "\r 62%|██████▏   | 382/612 [00:47<00:25,  9.08it/s]"
          ]
        },
        {
          "output_type": "stream",
          "name": "stdout",
          "text": [
            "1/1 [==============================] - 0s 34ms/step\n"
          ]
        },
        {
          "output_type": "stream",
          "name": "stderr",
          "text": [
            "\r 63%|██████▎   | 383/612 [00:47<00:24,  9.22it/s]"
          ]
        },
        {
          "output_type": "stream",
          "name": "stdout",
          "text": [
            "1/1 [==============================] - 0s 40ms/step\n"
          ]
        },
        {
          "output_type": "stream",
          "name": "stderr",
          "text": [
            "\r 63%|██████▎   | 384/612 [00:47<00:26,  8.57it/s]"
          ]
        },
        {
          "output_type": "stream",
          "name": "stdout",
          "text": [
            "1/1 [==============================] - 0s 39ms/step\n"
          ]
        },
        {
          "output_type": "stream",
          "name": "stderr",
          "text": [
            "\r 63%|██████▎   | 385/612 [00:47<00:27,  8.23it/s]"
          ]
        },
        {
          "output_type": "stream",
          "name": "stdout",
          "text": [
            "1/1 [==============================] - 0s 45ms/step\n"
          ]
        },
        {
          "output_type": "stream",
          "name": "stderr",
          "text": [
            "\r 63%|██████▎   | 386/612 [00:47<00:28,  7.98it/s]"
          ]
        },
        {
          "output_type": "stream",
          "name": "stdout",
          "text": [
            "1/1 [==============================] - 0s 42ms/step\n"
          ]
        },
        {
          "output_type": "stream",
          "name": "stderr",
          "text": [
            "\r 63%|██████▎   | 387/612 [00:48<00:27,  8.21it/s]"
          ]
        },
        {
          "output_type": "stream",
          "name": "stdout",
          "text": [
            "1/1 [==============================] - 0s 38ms/step\n"
          ]
        },
        {
          "output_type": "stream",
          "name": "stderr",
          "text": [
            "\r 63%|██████▎   | 388/612 [00:48<00:26,  8.44it/s]"
          ]
        },
        {
          "output_type": "stream",
          "name": "stdout",
          "text": [
            "1/1 [==============================] - 0s 37ms/step\n"
          ]
        },
        {
          "output_type": "stream",
          "name": "stderr",
          "text": [
            "\r 64%|██████▎   | 389/612 [00:48<00:25,  8.66it/s]"
          ]
        },
        {
          "output_type": "stream",
          "name": "stdout",
          "text": [
            "1/1 [==============================] - 0s 40ms/step\n"
          ]
        },
        {
          "output_type": "stream",
          "name": "stderr",
          "text": [
            "\r 64%|██████▎   | 390/612 [00:48<00:26,  8.44it/s]"
          ]
        },
        {
          "output_type": "stream",
          "name": "stdout",
          "text": [
            "1/1 [==============================] - 0s 38ms/step\n"
          ]
        },
        {
          "output_type": "stream",
          "name": "stderr",
          "text": [
            "\r 64%|██████▍   | 391/612 [00:48<00:25,  8.54it/s]"
          ]
        },
        {
          "output_type": "stream",
          "name": "stdout",
          "text": [
            "1/1 [==============================] - 0s 38ms/step\n"
          ]
        },
        {
          "output_type": "stream",
          "name": "stderr",
          "text": [
            "\r 64%|██████▍   | 392/612 [00:48<00:26,  8.31it/s]"
          ]
        },
        {
          "output_type": "stream",
          "name": "stdout",
          "text": [
            "1/1 [==============================] - 0s 41ms/step\n"
          ]
        },
        {
          "output_type": "stream",
          "name": "stderr",
          "text": [
            "\r 64%|██████▍   | 393/612 [00:48<00:26,  8.17it/s]"
          ]
        },
        {
          "output_type": "stream",
          "name": "stdout",
          "text": [
            "1/1 [==============================] - 0s 35ms/step\n"
          ]
        },
        {
          "output_type": "stream",
          "name": "stderr",
          "text": [
            "\r 64%|██████▍   | 394/612 [00:48<00:25,  8.51it/s]"
          ]
        },
        {
          "output_type": "stream",
          "name": "stdout",
          "text": [
            "1/1 [==============================] - 0s 35ms/step\n"
          ]
        },
        {
          "output_type": "stream",
          "name": "stderr",
          "text": [
            "\r 65%|██████▍   | 395/612 [00:49<00:25,  8.35it/s]"
          ]
        },
        {
          "output_type": "stream",
          "name": "stdout",
          "text": [
            "1/1 [==============================] - 0s 35ms/step\n"
          ]
        },
        {
          "output_type": "stream",
          "name": "stderr",
          "text": [
            "\r 65%|██████▍   | 396/612 [00:49<00:25,  8.37it/s]"
          ]
        },
        {
          "output_type": "stream",
          "name": "stdout",
          "text": [
            "1/1 [==============================] - 0s 34ms/step\n"
          ]
        },
        {
          "output_type": "stream",
          "name": "stderr",
          "text": [
            "\r 65%|██████▍   | 397/612 [00:49<00:25,  8.58it/s]"
          ]
        },
        {
          "output_type": "stream",
          "name": "stdout",
          "text": [
            "1/1 [==============================] - 0s 33ms/step\n"
          ]
        },
        {
          "output_type": "stream",
          "name": "stderr",
          "text": [
            "\r 65%|██████▌   | 398/612 [00:49<00:23,  8.92it/s]"
          ]
        },
        {
          "output_type": "stream",
          "name": "stdout",
          "text": [
            "1/1 [==============================] - 0s 34ms/step\n"
          ]
        },
        {
          "output_type": "stream",
          "name": "stderr",
          "text": [
            "\r 65%|██████▌   | 399/612 [00:49<00:23,  9.10it/s]"
          ]
        },
        {
          "output_type": "stream",
          "name": "stdout",
          "text": [
            "1/1 [==============================] - 0s 34ms/step\n"
          ]
        },
        {
          "output_type": "stream",
          "name": "stderr",
          "text": [
            "\r 65%|██████▌   | 400/612 [00:49<00:24,  8.67it/s]"
          ]
        },
        {
          "output_type": "stream",
          "name": "stdout",
          "text": [
            "1/1 [==============================] - 0s 37ms/step\n"
          ]
        },
        {
          "output_type": "stream",
          "name": "stderr",
          "text": [
            "\r 66%|██████▌   | 401/612 [00:49<00:24,  8.77it/s]"
          ]
        },
        {
          "output_type": "stream",
          "name": "stdout",
          "text": [
            "1/1 [==============================] - 0s 35ms/step\n"
          ]
        },
        {
          "output_type": "stream",
          "name": "stderr",
          "text": [
            "\r 66%|██████▌   | 402/612 [00:49<00:23,  8.95it/s]"
          ]
        },
        {
          "output_type": "stream",
          "name": "stdout",
          "text": [
            "1/1 [==============================] - 0s 34ms/step\n"
          ]
        },
        {
          "output_type": "stream",
          "name": "stderr",
          "text": [
            "\r 66%|██████▌   | 403/612 [00:49<00:23,  8.71it/s]"
          ]
        },
        {
          "output_type": "stream",
          "name": "stdout",
          "text": [
            "1/1 [==============================] - 0s 38ms/step\n"
          ]
        },
        {
          "output_type": "stream",
          "name": "stderr",
          "text": [
            "\r 66%|██████▌   | 404/612 [00:50<00:24,  8.42it/s]"
          ]
        },
        {
          "output_type": "stream",
          "name": "stdout",
          "text": [
            "1/1 [==============================] - 0s 34ms/step\n"
          ]
        },
        {
          "output_type": "stream",
          "name": "stderr",
          "text": [
            "\r 66%|██████▌   | 405/612 [00:50<00:24,  8.43it/s]"
          ]
        },
        {
          "output_type": "stream",
          "name": "stdout",
          "text": [
            "1/1 [==============================] - 0s 35ms/step\n"
          ]
        },
        {
          "output_type": "stream",
          "name": "stderr",
          "text": [
            "\r 66%|██████▋   | 406/612 [00:50<00:24,  8.43it/s]"
          ]
        },
        {
          "output_type": "stream",
          "name": "stdout",
          "text": [
            "1/1 [==============================] - 0s 39ms/step\n"
          ]
        },
        {
          "output_type": "stream",
          "name": "stderr",
          "text": [
            "\r 67%|██████▋   | 407/612 [00:50<00:23,  8.69it/s]"
          ]
        },
        {
          "output_type": "stream",
          "name": "stdout",
          "text": [
            "1/1 [==============================] - 0s 34ms/step\n"
          ]
        },
        {
          "output_type": "stream",
          "name": "stderr",
          "text": [
            "\r 67%|██████▋   | 408/612 [00:50<00:22,  8.96it/s]"
          ]
        },
        {
          "output_type": "stream",
          "name": "stdout",
          "text": [
            "1/1 [==============================] - 0s 34ms/step\n"
          ]
        },
        {
          "output_type": "stream",
          "name": "stderr",
          "text": [
            "\r 67%|██████▋   | 409/612 [00:50<00:21,  9.24it/s]"
          ]
        },
        {
          "output_type": "stream",
          "name": "stdout",
          "text": [
            "1/1 [==============================] - 0s 35ms/step\n"
          ]
        },
        {
          "output_type": "stream",
          "name": "stderr",
          "text": [
            "\r 67%|██████▋   | 410/612 [00:50<00:21,  9.23it/s]"
          ]
        },
        {
          "output_type": "stream",
          "name": "stdout",
          "text": [
            "1/1 [==============================] - 0s 36ms/step\n"
          ]
        },
        {
          "output_type": "stream",
          "name": "stderr",
          "text": [
            "\r 67%|██████▋   | 411/612 [00:50<00:22,  9.13it/s]"
          ]
        },
        {
          "output_type": "stream",
          "name": "stdout",
          "text": [
            "1/1 [==============================] - 0s 34ms/step\n"
          ]
        },
        {
          "output_type": "stream",
          "name": "stderr",
          "text": [
            "\r 67%|██████▋   | 412/612 [00:50<00:22,  8.83it/s]"
          ]
        },
        {
          "output_type": "stream",
          "name": "stdout",
          "text": [
            "1/1 [==============================] - 0s 34ms/step\n"
          ]
        },
        {
          "output_type": "stream",
          "name": "stderr",
          "text": [
            "\r 67%|██████▋   | 413/612 [00:51<00:23,  8.59it/s]"
          ]
        },
        {
          "output_type": "stream",
          "name": "stdout",
          "text": [
            "1/1 [==============================] - 0s 33ms/step\n"
          ]
        },
        {
          "output_type": "stream",
          "name": "stderr",
          "text": [
            "\r 68%|██████▊   | 414/612 [00:51<00:23,  8.51it/s]"
          ]
        },
        {
          "output_type": "stream",
          "name": "stdout",
          "text": [
            "1/1 [==============================] - 0s 33ms/step\n"
          ]
        },
        {
          "output_type": "stream",
          "name": "stderr",
          "text": [
            "\r 68%|██████▊   | 415/612 [00:51<00:23,  8.44it/s]"
          ]
        },
        {
          "output_type": "stream",
          "name": "stdout",
          "text": [
            "1/1 [==============================] - 0s 33ms/step\n"
          ]
        },
        {
          "output_type": "stream",
          "name": "stderr",
          "text": [
            "\r 68%|██████▊   | 416/612 [00:51<00:22,  8.72it/s]"
          ]
        },
        {
          "output_type": "stream",
          "name": "stdout",
          "text": [
            "1/1 [==============================] - 0s 37ms/step\n"
          ]
        },
        {
          "output_type": "stream",
          "name": "stderr",
          "text": [
            "\r 68%|██████▊   | 417/612 [00:51<00:21,  9.03it/s]"
          ]
        },
        {
          "output_type": "stream",
          "name": "stdout",
          "text": [
            "1/1 [==============================] - 0s 37ms/step\n"
          ]
        },
        {
          "output_type": "stream",
          "name": "stderr",
          "text": [
            "\r 68%|██████▊   | 418/612 [00:51<00:22,  8.74it/s]"
          ]
        },
        {
          "output_type": "stream",
          "name": "stdout",
          "text": [
            "1/1 [==============================] - 0s 34ms/step\n"
          ]
        },
        {
          "output_type": "stream",
          "name": "stderr",
          "text": [
            "\r 68%|██████▊   | 419/612 [00:51<00:21,  8.95it/s]"
          ]
        },
        {
          "output_type": "stream",
          "name": "stdout",
          "text": [
            "1/1 [==============================] - 0s 33ms/step\n"
          ]
        },
        {
          "output_type": "stream",
          "name": "stderr",
          "text": [
            "\r 69%|██████▊   | 420/612 [00:51<00:21,  8.77it/s]"
          ]
        },
        {
          "output_type": "stream",
          "name": "stdout",
          "text": [
            "1/1 [==============================] - 0s 34ms/step\n"
          ]
        },
        {
          "output_type": "stream",
          "name": "stderr",
          "text": [
            "\r 69%|██████▉   | 421/612 [00:51<00:21,  8.88it/s]"
          ]
        },
        {
          "output_type": "stream",
          "name": "stdout",
          "text": [
            "1/1 [==============================] - 0s 33ms/step\n"
          ]
        },
        {
          "output_type": "stream",
          "name": "stderr",
          "text": [
            "\r 69%|██████▉   | 422/612 [00:52<00:20,  9.12it/s]"
          ]
        },
        {
          "output_type": "stream",
          "name": "stdout",
          "text": [
            "1/1 [==============================] - 0s 34ms/step\n"
          ]
        },
        {
          "output_type": "stream",
          "name": "stderr",
          "text": [
            "\r 69%|██████▉   | 423/612 [00:52<00:21,  8.84it/s]"
          ]
        },
        {
          "output_type": "stream",
          "name": "stdout",
          "text": [
            "1/1 [==============================] - 0s 33ms/step\n",
            "1/1 [==============================] - 0s 34ms/step\n"
          ]
        },
        {
          "output_type": "stream",
          "name": "stderr",
          "text": [
            "\r 69%|██████▉   | 425/612 [00:52<00:19,  9.36it/s]"
          ]
        },
        {
          "output_type": "stream",
          "name": "stdout",
          "text": [
            "1/1 [==============================] - 0s 36ms/step\n"
          ]
        },
        {
          "output_type": "stream",
          "name": "stderr",
          "text": [
            "\r 70%|██████▉   | 426/612 [00:52<00:20,  8.95it/s]"
          ]
        },
        {
          "output_type": "stream",
          "name": "stdout",
          "text": [
            "1/1 [==============================] - 0s 38ms/step\n"
          ]
        },
        {
          "output_type": "stream",
          "name": "stderr",
          "text": [
            "\r 70%|██████▉   | 427/612 [00:52<00:21,  8.66it/s]"
          ]
        },
        {
          "output_type": "stream",
          "name": "stdout",
          "text": [
            "1/1 [==============================] - 0s 37ms/step\n"
          ]
        },
        {
          "output_type": "stream",
          "name": "stderr",
          "text": [
            "\r 70%|██████▉   | 428/612 [00:52<00:21,  8.56it/s]"
          ]
        },
        {
          "output_type": "stream",
          "name": "stdout",
          "text": [
            "1/1 [==============================] - 0s 33ms/step\n"
          ]
        },
        {
          "output_type": "stream",
          "name": "stderr",
          "text": [
            "\r 70%|███████   | 429/612 [00:52<00:21,  8.39it/s]"
          ]
        },
        {
          "output_type": "stream",
          "name": "stdout",
          "text": [
            "1/1 [==============================] - 0s 33ms/step\n"
          ]
        },
        {
          "output_type": "stream",
          "name": "stderr",
          "text": [
            "\r 70%|███████   | 430/612 [00:53<00:20,  8.71it/s]"
          ]
        },
        {
          "output_type": "stream",
          "name": "stdout",
          "text": [
            "1/1 [==============================] - 0s 33ms/step\n"
          ]
        },
        {
          "output_type": "stream",
          "name": "stderr",
          "text": [
            "\r 70%|███████   | 431/612 [00:53<00:21,  8.30it/s]"
          ]
        },
        {
          "output_type": "stream",
          "name": "stdout",
          "text": [
            "1/1 [==============================] - 0s 36ms/step\n"
          ]
        },
        {
          "output_type": "stream",
          "name": "stderr",
          "text": [
            "\r 71%|███████   | 432/612 [00:53<00:21,  8.31it/s]"
          ]
        },
        {
          "output_type": "stream",
          "name": "stdout",
          "text": [
            "1/1 [==============================] - 0s 33ms/step\n"
          ]
        },
        {
          "output_type": "stream",
          "name": "stderr",
          "text": [
            "\r 71%|███████   | 433/612 [00:53<00:21,  8.26it/s]"
          ]
        },
        {
          "output_type": "stream",
          "name": "stdout",
          "text": [
            "1/1 [==============================] - 0s 42ms/step\n"
          ]
        },
        {
          "output_type": "stream",
          "name": "stderr",
          "text": [
            "\r 71%|███████   | 434/612 [00:53<00:21,  8.14it/s]"
          ]
        },
        {
          "output_type": "stream",
          "name": "stdout",
          "text": [
            "1/1 [==============================] - 0s 35ms/step\n"
          ]
        },
        {
          "output_type": "stream",
          "name": "stderr",
          "text": [
            "\r 71%|███████   | 435/612 [00:53<00:20,  8.49it/s]"
          ]
        },
        {
          "output_type": "stream",
          "name": "stdout",
          "text": [
            "1/1 [==============================] - 0s 35ms/step\n"
          ]
        },
        {
          "output_type": "stream",
          "name": "stderr",
          "text": [
            "\r 71%|███████   | 436/612 [00:53<00:21,  8.34it/s]"
          ]
        },
        {
          "output_type": "stream",
          "name": "stdout",
          "text": [
            "1/1 [==============================] - 0s 34ms/step\n"
          ]
        },
        {
          "output_type": "stream",
          "name": "stderr",
          "text": [
            "\r 71%|███████▏  | 437/612 [00:53<00:20,  8.33it/s]"
          ]
        },
        {
          "output_type": "stream",
          "name": "stdout",
          "text": [
            "1/1 [==============================] - 0s 34ms/step\n"
          ]
        },
        {
          "output_type": "stream",
          "name": "stderr",
          "text": [
            "\r 72%|███████▏  | 438/612 [00:53<00:20,  8.63it/s]"
          ]
        },
        {
          "output_type": "stream",
          "name": "stdout",
          "text": [
            "1/1 [==============================] - 0s 42ms/step\n"
          ]
        },
        {
          "output_type": "stream",
          "name": "stderr",
          "text": [
            "\r 72%|███████▏  | 439/612 [00:54<00:20,  8.49it/s]"
          ]
        },
        {
          "output_type": "stream",
          "name": "stdout",
          "text": [
            "1/1 [==============================] - 0s 33ms/step\n"
          ]
        },
        {
          "output_type": "stream",
          "name": "stderr",
          "text": [
            "\r 72%|███████▏  | 440/612 [00:54<00:20,  8.47it/s]"
          ]
        },
        {
          "output_type": "stream",
          "name": "stdout",
          "text": [
            "1/1 [==============================] - 0s 40ms/step\n"
          ]
        },
        {
          "output_type": "stream",
          "name": "stderr",
          "text": [
            "\r 72%|███████▏  | 441/612 [00:54<00:20,  8.27it/s]"
          ]
        },
        {
          "output_type": "stream",
          "name": "stdout",
          "text": [
            "1/1 [==============================] - 0s 34ms/step\n"
          ]
        },
        {
          "output_type": "stream",
          "name": "stderr",
          "text": [
            "\r 72%|███████▏  | 442/612 [00:54<00:20,  8.26it/s]"
          ]
        },
        {
          "output_type": "stream",
          "name": "stdout",
          "text": [
            "1/1 [==============================] - 0s 35ms/step\n"
          ]
        },
        {
          "output_type": "stream",
          "name": "stderr",
          "text": [
            "\r 72%|███████▏  | 443/612 [00:54<00:20,  8.31it/s]"
          ]
        },
        {
          "output_type": "stream",
          "name": "stdout",
          "text": [
            "1/1 [==============================] - 0s 35ms/step\n"
          ]
        },
        {
          "output_type": "stream",
          "name": "stderr",
          "text": [
            "\r 73%|███████▎  | 444/612 [00:54<00:19,  8.60it/s]"
          ]
        },
        {
          "output_type": "stream",
          "name": "stdout",
          "text": [
            "1/1 [==============================] - 0s 42ms/step\n"
          ]
        },
        {
          "output_type": "stream",
          "name": "stderr",
          "text": [
            "\r 73%|███████▎  | 445/612 [00:54<00:19,  8.39it/s]"
          ]
        },
        {
          "output_type": "stream",
          "name": "stdout",
          "text": [
            "1/1 [==============================] - 0s 34ms/step\n"
          ]
        },
        {
          "output_type": "stream",
          "name": "stderr",
          "text": [
            "\r 73%|███████▎  | 446/612 [00:54<00:18,  8.76it/s]"
          ]
        },
        {
          "output_type": "stream",
          "name": "stdout",
          "text": [
            "1/1 [==============================] - 0s 34ms/step\n"
          ]
        },
        {
          "output_type": "stream",
          "name": "stderr",
          "text": [
            "\r 73%|███████▎  | 447/612 [00:55<00:19,  8.65it/s]"
          ]
        },
        {
          "output_type": "stream",
          "name": "stdout",
          "text": [
            "1/1 [==============================] - 0s 35ms/step\n"
          ]
        },
        {
          "output_type": "stream",
          "name": "stderr",
          "text": [
            "\r 73%|███████▎  | 448/612 [00:55<00:18,  8.82it/s]"
          ]
        },
        {
          "output_type": "stream",
          "name": "stdout",
          "text": [
            "1/1 [==============================] - 0s 36ms/step\n",
            "1/1 [==============================] - 0s 33ms/step\n"
          ]
        },
        {
          "output_type": "stream",
          "name": "stderr",
          "text": [
            "\r 74%|███████▎  | 450/612 [00:55<00:18,  8.95it/s]"
          ]
        },
        {
          "output_type": "stream",
          "name": "stdout",
          "text": [
            "1/1 [==============================] - 0s 37ms/step\n"
          ]
        },
        {
          "output_type": "stream",
          "name": "stderr",
          "text": [
            "\r 74%|███████▎  | 451/612 [00:55<00:18,  8.69it/s]"
          ]
        },
        {
          "output_type": "stream",
          "name": "stdout",
          "text": [
            "1/1 [==============================] - 0s 35ms/step\n"
          ]
        },
        {
          "output_type": "stream",
          "name": "stderr",
          "text": [
            "\r 74%|███████▍  | 452/612 [00:55<00:18,  8.84it/s]"
          ]
        },
        {
          "output_type": "stream",
          "name": "stdout",
          "text": [
            "1/1 [==============================] - 0s 36ms/step\n"
          ]
        },
        {
          "output_type": "stream",
          "name": "stderr",
          "text": [
            "\r 74%|███████▍  | 453/612 [00:55<00:17,  9.01it/s]"
          ]
        },
        {
          "output_type": "stream",
          "name": "stdout",
          "text": [
            "1/1 [==============================] - 0s 36ms/step\n"
          ]
        },
        {
          "output_type": "stream",
          "name": "stderr",
          "text": [
            "\r 74%|███████▍  | 454/612 [00:55<00:17,  9.20it/s]"
          ]
        },
        {
          "output_type": "stream",
          "name": "stdout",
          "text": [
            "1/1 [==============================] - 0s 34ms/step\n",
            "1/1 [==============================] - 0s 36ms/step\n"
          ]
        },
        {
          "output_type": "stream",
          "name": "stderr",
          "text": [
            "\r 75%|███████▍  | 456/612 [00:56<00:16,  9.29it/s]"
          ]
        },
        {
          "output_type": "stream",
          "name": "stdout",
          "text": [
            "1/1 [==============================] - 0s 47ms/step\n"
          ]
        },
        {
          "output_type": "stream",
          "name": "stderr",
          "text": [
            "\r 75%|███████▍  | 457/612 [00:56<00:16,  9.13it/s]"
          ]
        },
        {
          "output_type": "stream",
          "name": "stdout",
          "text": [
            "1/1 [==============================] - 0s 36ms/step\n"
          ]
        },
        {
          "output_type": "stream",
          "name": "stderr",
          "text": [
            "\r 75%|███████▍  | 458/612 [00:56<00:17,  8.93it/s]"
          ]
        },
        {
          "output_type": "stream",
          "name": "stdout",
          "text": [
            "1/1 [==============================] - 0s 34ms/step\n"
          ]
        },
        {
          "output_type": "stream",
          "name": "stderr",
          "text": [
            "\r 75%|███████▌  | 459/612 [00:56<00:17,  8.66it/s]"
          ]
        },
        {
          "output_type": "stream",
          "name": "stdout",
          "text": [
            "1/1 [==============================] - 0s 34ms/step\n"
          ]
        },
        {
          "output_type": "stream",
          "name": "stderr",
          "text": [
            "\r 75%|███████▌  | 460/612 [00:56<00:17,  8.91it/s]"
          ]
        },
        {
          "output_type": "stream",
          "name": "stdout",
          "text": [
            "1/1 [==============================] - 0s 34ms/step\n"
          ]
        },
        {
          "output_type": "stream",
          "name": "stderr",
          "text": [
            "\r 75%|███████▌  | 461/612 [00:56<00:17,  8.73it/s]"
          ]
        },
        {
          "output_type": "stream",
          "name": "stdout",
          "text": [
            "1/1 [==============================] - 0s 36ms/step\n"
          ]
        },
        {
          "output_type": "stream",
          "name": "stderr",
          "text": [
            "\r 75%|███████▌  | 462/612 [00:56<00:16,  8.87it/s]"
          ]
        },
        {
          "output_type": "stream",
          "name": "stdout",
          "text": [
            "1/1 [==============================] - 0s 38ms/step\n"
          ]
        },
        {
          "output_type": "stream",
          "name": "stderr",
          "text": [
            "\r 76%|███████▌  | 463/612 [00:56<00:17,  8.59it/s]"
          ]
        },
        {
          "output_type": "stream",
          "name": "stdout",
          "text": [
            "1/1 [==============================] - 0s 37ms/step\n"
          ]
        },
        {
          "output_type": "stream",
          "name": "stderr",
          "text": [
            "\r 76%|███████▌  | 464/612 [00:56<00:17,  8.53it/s]"
          ]
        },
        {
          "output_type": "stream",
          "name": "stdout",
          "text": [
            "1/1 [==============================] - 0s 35ms/step\n"
          ]
        },
        {
          "output_type": "stream",
          "name": "stderr",
          "text": [
            "\r 76%|███████▌  | 465/612 [00:57<00:16,  8.73it/s]"
          ]
        },
        {
          "output_type": "stream",
          "name": "stdout",
          "text": [
            "1/1 [==============================] - 0s 34ms/step\n"
          ]
        },
        {
          "output_type": "stream",
          "name": "stderr",
          "text": [
            "\r 76%|███████▌  | 466/612 [00:57<00:17,  8.50it/s]"
          ]
        },
        {
          "output_type": "stream",
          "name": "stdout",
          "text": [
            "1/1 [==============================] - 0s 34ms/step\n"
          ]
        },
        {
          "output_type": "stream",
          "name": "stderr",
          "text": [
            "\r 76%|███████▋  | 467/612 [00:57<00:17,  8.47it/s]"
          ]
        },
        {
          "output_type": "stream",
          "name": "stdout",
          "text": [
            "1/1 [==============================] - 0s 35ms/step\n"
          ]
        },
        {
          "output_type": "stream",
          "name": "stderr",
          "text": [
            "\r 76%|███████▋  | 468/612 [00:57<00:16,  8.73it/s]"
          ]
        },
        {
          "output_type": "stream",
          "name": "stdout",
          "text": [
            "1/1 [==============================] - 0s 41ms/step\n"
          ]
        },
        {
          "output_type": "stream",
          "name": "stderr",
          "text": [
            "\r 77%|███████▋  | 469/612 [00:57<00:16,  8.86it/s]"
          ]
        },
        {
          "output_type": "stream",
          "name": "stdout",
          "text": [
            "1/1 [==============================] - 0s 34ms/step\n"
          ]
        },
        {
          "output_type": "stream",
          "name": "stderr",
          "text": [
            "\r 77%|███████▋  | 470/612 [00:57<00:16,  8.62it/s]"
          ]
        },
        {
          "output_type": "stream",
          "name": "stdout",
          "text": [
            "1/1 [==============================] - 0s 33ms/step\n"
          ]
        },
        {
          "output_type": "stream",
          "name": "stderr",
          "text": [
            "\r 77%|███████▋  | 471/612 [00:57<00:15,  8.95it/s]"
          ]
        },
        {
          "output_type": "stream",
          "name": "stdout",
          "text": [
            "1/1 [==============================] - 0s 33ms/step\n"
          ]
        },
        {
          "output_type": "stream",
          "name": "stderr",
          "text": [
            "\r 77%|███████▋  | 472/612 [00:57<00:16,  8.53it/s]"
          ]
        },
        {
          "output_type": "stream",
          "name": "stdout",
          "text": [
            "1/1 [==============================] - 0s 35ms/step\n"
          ]
        },
        {
          "output_type": "stream",
          "name": "stderr",
          "text": [
            "\r 77%|███████▋  | 473/612 [00:57<00:16,  8.49it/s]"
          ]
        },
        {
          "output_type": "stream",
          "name": "stdout",
          "text": [
            "1/1 [==============================] - 0s 33ms/step\n"
          ]
        },
        {
          "output_type": "stream",
          "name": "stderr",
          "text": [
            "\r 77%|███████▋  | 474/612 [00:58<00:15,  8.83it/s]"
          ]
        },
        {
          "output_type": "stream",
          "name": "stdout",
          "text": [
            "1/1 [==============================] - 0s 33ms/step\n"
          ]
        },
        {
          "output_type": "stream",
          "name": "stderr",
          "text": [
            "\r 78%|███████▊  | 475/612 [00:58<00:15,  8.59it/s]"
          ]
        },
        {
          "output_type": "stream",
          "name": "stdout",
          "text": [
            "1/1 [==============================] - 0s 34ms/step\n"
          ]
        },
        {
          "output_type": "stream",
          "name": "stderr",
          "text": [
            "\r 78%|███████▊  | 476/612 [00:58<00:15,  8.84it/s]"
          ]
        },
        {
          "output_type": "stream",
          "name": "stdout",
          "text": [
            "1/1 [==============================] - 0s 35ms/step\n"
          ]
        },
        {
          "output_type": "stream",
          "name": "stderr",
          "text": [
            "\r 78%|███████▊  | 477/612 [00:58<00:15,  8.59it/s]"
          ]
        },
        {
          "output_type": "stream",
          "name": "stdout",
          "text": [
            "1/1 [==============================] - 0s 36ms/step\n"
          ]
        },
        {
          "output_type": "stream",
          "name": "stderr",
          "text": [
            "\r 78%|███████▊  | 478/612 [00:58<00:16,  8.34it/s]"
          ]
        },
        {
          "output_type": "stream",
          "name": "stdout",
          "text": [
            "1/1 [==============================] - 0s 34ms/step\n"
          ]
        },
        {
          "output_type": "stream",
          "name": "stderr",
          "text": [
            "\r 78%|███████▊  | 479/612 [00:58<00:15,  8.71it/s]"
          ]
        },
        {
          "output_type": "stream",
          "name": "stdout",
          "text": [
            "1/1 [==============================] - 0s 42ms/step\n"
          ]
        },
        {
          "output_type": "stream",
          "name": "stderr",
          "text": [
            "\r 78%|███████▊  | 480/612 [00:58<00:15,  8.45it/s]"
          ]
        },
        {
          "output_type": "stream",
          "name": "stdout",
          "text": [
            "1/1 [==============================] - 0s 33ms/step\n"
          ]
        },
        {
          "output_type": "stream",
          "name": "stderr",
          "text": [
            "\r 79%|███████▊  | 481/612 [00:58<00:15,  8.44it/s]"
          ]
        },
        {
          "output_type": "stream",
          "name": "stdout",
          "text": [
            "1/1 [==============================] - 0s 33ms/step\n"
          ]
        },
        {
          "output_type": "stream",
          "name": "stderr",
          "text": [
            "\r 79%|███████▉  | 482/612 [00:59<00:15,  8.29it/s]"
          ]
        },
        {
          "output_type": "stream",
          "name": "stdout",
          "text": [
            "1/1 [==============================] - 0s 37ms/step\n"
          ]
        },
        {
          "output_type": "stream",
          "name": "stderr",
          "text": [
            "\r 79%|███████▉  | 483/612 [00:59<00:14,  8.61it/s]"
          ]
        },
        {
          "output_type": "stream",
          "name": "stdout",
          "text": [
            "1/1 [==============================] - 0s 34ms/step\n"
          ]
        },
        {
          "output_type": "stream",
          "name": "stderr",
          "text": [
            "\r 79%|███████▉  | 484/612 [00:59<00:14,  8.56it/s]"
          ]
        },
        {
          "output_type": "stream",
          "name": "stdout",
          "text": [
            "1/1 [==============================] - 0s 36ms/step\n"
          ]
        },
        {
          "output_type": "stream",
          "name": "stderr",
          "text": [
            "\r 79%|███████▉  | 485/612 [00:59<00:14,  8.48it/s]"
          ]
        },
        {
          "output_type": "stream",
          "name": "stdout",
          "text": [
            "1/1 [==============================] - 0s 36ms/step\n"
          ]
        },
        {
          "output_type": "stream",
          "name": "stderr",
          "text": [
            "\r 79%|███████▉  | 486/612 [00:59<00:14,  8.66it/s]"
          ]
        },
        {
          "output_type": "stream",
          "name": "stdout",
          "text": [
            "1/1 [==============================] - 0s 34ms/step\n"
          ]
        },
        {
          "output_type": "stream",
          "name": "stderr",
          "text": [
            "\r 80%|███████▉  | 487/612 [00:59<00:14,  8.60it/s]"
          ]
        },
        {
          "output_type": "stream",
          "name": "stdout",
          "text": [
            "1/1 [==============================] - 0s 35ms/step\n"
          ]
        },
        {
          "output_type": "stream",
          "name": "stderr",
          "text": [
            "\r 80%|███████▉  | 488/612 [00:59<00:14,  8.51it/s]"
          ]
        },
        {
          "output_type": "stream",
          "name": "stdout",
          "text": [
            "1/1 [==============================] - 0s 34ms/step\n"
          ]
        },
        {
          "output_type": "stream",
          "name": "stderr",
          "text": [
            "\r 80%|███████▉  | 489/612 [00:59<00:14,  8.37it/s]"
          ]
        },
        {
          "output_type": "stream",
          "name": "stdout",
          "text": [
            "1/1 [==============================] - 0s 34ms/step\n"
          ]
        },
        {
          "output_type": "stream",
          "name": "stderr",
          "text": [
            "\r 80%|████████  | 490/612 [00:59<00:15,  8.12it/s]"
          ]
        },
        {
          "output_type": "stream",
          "name": "stdout",
          "text": [
            "1/1 [==============================] - 0s 34ms/step\n"
          ]
        },
        {
          "output_type": "stream",
          "name": "stderr",
          "text": [
            "\r 80%|████████  | 491/612 [01:00<00:14,  8.54it/s]"
          ]
        },
        {
          "output_type": "stream",
          "name": "stdout",
          "text": [
            "1/1 [==============================] - 0s 38ms/step\n"
          ]
        },
        {
          "output_type": "stream",
          "name": "stderr",
          "text": [
            "\r 80%|████████  | 492/612 [01:00<00:14,  8.11it/s]"
          ]
        },
        {
          "output_type": "stream",
          "name": "stdout",
          "text": [
            "1/1 [==============================] - 0s 36ms/step\n"
          ]
        },
        {
          "output_type": "stream",
          "name": "stderr",
          "text": [
            "\r 81%|████████  | 493/612 [01:00<00:14,  8.49it/s]"
          ]
        },
        {
          "output_type": "stream",
          "name": "stdout",
          "text": [
            "1/1 [==============================] - 0s 35ms/step\n"
          ]
        },
        {
          "output_type": "stream",
          "name": "stderr",
          "text": [
            "\r 81%|████████  | 494/612 [01:00<00:14,  8.27it/s]"
          ]
        },
        {
          "output_type": "stream",
          "name": "stdout",
          "text": [
            "1/1 [==============================] - 0s 33ms/step\n"
          ]
        },
        {
          "output_type": "stream",
          "name": "stderr",
          "text": [
            "\r 81%|████████  | 495/612 [01:00<00:13,  8.55it/s]"
          ]
        },
        {
          "output_type": "stream",
          "name": "stdout",
          "text": [
            "1/1 [==============================] - 0s 35ms/step\n"
          ]
        },
        {
          "output_type": "stream",
          "name": "stderr",
          "text": [
            "\r 81%|████████  | 496/612 [01:00<00:13,  8.84it/s]"
          ]
        },
        {
          "output_type": "stream",
          "name": "stdout",
          "text": [
            "1/1 [==============================] - 0s 35ms/step\n"
          ]
        },
        {
          "output_type": "stream",
          "name": "stderr",
          "text": [
            "\r 81%|████████  | 497/612 [01:00<00:13,  8.68it/s]"
          ]
        },
        {
          "output_type": "stream",
          "name": "stdout",
          "text": [
            "1/1 [==============================] - 0s 34ms/step\n"
          ]
        },
        {
          "output_type": "stream",
          "name": "stderr",
          "text": [
            "\r 81%|████████▏ | 498/612 [01:00<00:12,  8.99it/s]"
          ]
        },
        {
          "output_type": "stream",
          "name": "stdout",
          "text": [
            "1/1 [==============================] - 0s 34ms/step\n",
            "1/1 [==============================] - 0s 34ms/step\n"
          ]
        },
        {
          "output_type": "stream",
          "name": "stderr",
          "text": [
            "\r 82%|████████▏ | 500/612 [01:01<00:11,  9.46it/s]"
          ]
        },
        {
          "output_type": "stream",
          "name": "stdout",
          "text": [
            "1/1 [==============================] - 0s 42ms/step\n"
          ]
        },
        {
          "output_type": "stream",
          "name": "stderr",
          "text": [
            "\r 82%|████████▏ | 501/612 [01:01<00:12,  9.18it/s]"
          ]
        },
        {
          "output_type": "stream",
          "name": "stdout",
          "text": [
            "1/1 [==============================] - 0s 36ms/step\n"
          ]
        },
        {
          "output_type": "stream",
          "name": "stderr",
          "text": [
            "\r 82%|████████▏ | 502/612 [01:01<00:12,  8.79it/s]"
          ]
        },
        {
          "output_type": "stream",
          "name": "stdout",
          "text": [
            "1/1 [==============================] - 0s 35ms/step\n"
          ]
        },
        {
          "output_type": "stream",
          "name": "stderr",
          "text": [
            "\r 82%|████████▏ | 503/612 [01:01<00:12,  8.64it/s]"
          ]
        },
        {
          "output_type": "stream",
          "name": "stdout",
          "text": [
            "1/1 [==============================] - 0s 36ms/step\n"
          ]
        },
        {
          "output_type": "stream",
          "name": "stderr",
          "text": [
            "\r 82%|████████▏ | 504/612 [01:01<00:12,  8.54it/s]"
          ]
        },
        {
          "output_type": "stream",
          "name": "stdout",
          "text": [
            "1/1 [==============================] - 0s 34ms/step\n"
          ]
        },
        {
          "output_type": "stream",
          "name": "stderr",
          "text": [
            "\r 83%|████████▎ | 505/612 [01:01<00:12,  8.81it/s]"
          ]
        },
        {
          "output_type": "stream",
          "name": "stdout",
          "text": [
            "1/1 [==============================] - 0s 35ms/step\n"
          ]
        },
        {
          "output_type": "stream",
          "name": "stderr",
          "text": [
            "\r 83%|████████▎ | 506/612 [01:01<00:11,  8.96it/s]"
          ]
        },
        {
          "output_type": "stream",
          "name": "stdout",
          "text": [
            "1/1 [==============================] - 0s 34ms/step\n"
          ]
        },
        {
          "output_type": "stream",
          "name": "stderr",
          "text": [
            "\r 83%|████████▎ | 507/612 [01:01<00:11,  8.87it/s]"
          ]
        },
        {
          "output_type": "stream",
          "name": "stdout",
          "text": [
            "1/1 [==============================] - 0s 34ms/step\n"
          ]
        },
        {
          "output_type": "stream",
          "name": "stderr",
          "text": [
            "\r 83%|████████▎ | 508/612 [01:02<00:11,  9.13it/s]"
          ]
        },
        {
          "output_type": "stream",
          "name": "stdout",
          "text": [
            "1/1 [==============================] - 0s 36ms/step\n"
          ]
        },
        {
          "output_type": "stream",
          "name": "stderr",
          "text": [
            "\r 83%|████████▎ | 509/612 [01:02<00:11,  9.35it/s]"
          ]
        },
        {
          "output_type": "stream",
          "name": "stdout",
          "text": [
            "1/1 [==============================] - 0s 42ms/step\n"
          ]
        },
        {
          "output_type": "stream",
          "name": "stderr",
          "text": [
            "\r 83%|████████▎ | 510/612 [01:02<00:10,  9.31it/s]"
          ]
        },
        {
          "output_type": "stream",
          "name": "stdout",
          "text": [
            "1/1 [==============================] - 0s 35ms/step\n"
          ]
        },
        {
          "output_type": "stream",
          "name": "stderr",
          "text": [
            "\r 83%|████████▎ | 511/612 [01:02<00:10,  9.43it/s]"
          ]
        },
        {
          "output_type": "stream",
          "name": "stdout",
          "text": [
            "1/1 [==============================] - 0s 34ms/step\n"
          ]
        },
        {
          "output_type": "stream",
          "name": "stderr",
          "text": [
            "\r 84%|████████▎ | 512/612 [01:02<00:10,  9.41it/s]"
          ]
        },
        {
          "output_type": "stream",
          "name": "stdout",
          "text": [
            "1/1 [==============================] - 0s 34ms/step\n"
          ]
        },
        {
          "output_type": "stream",
          "name": "stderr",
          "text": [
            "\r 84%|████████▍ | 513/612 [01:02<00:10,  9.40it/s]"
          ]
        },
        {
          "output_type": "stream",
          "name": "stdout",
          "text": [
            "1/1 [==============================] - 0s 34ms/step\n"
          ]
        },
        {
          "output_type": "stream",
          "name": "stderr",
          "text": [
            "\r 84%|████████▍ | 514/612 [01:02<00:10,  9.45it/s]"
          ]
        },
        {
          "output_type": "stream",
          "name": "stdout",
          "text": [
            "1/1 [==============================] - 0s 33ms/step\n"
          ]
        },
        {
          "output_type": "stream",
          "name": "stderr",
          "text": [
            "\r 84%|████████▍ | 515/612 [01:02<00:10,  9.18it/s]"
          ]
        },
        {
          "output_type": "stream",
          "name": "stdout",
          "text": [
            "1/1 [==============================] - 0s 35ms/step\n"
          ]
        },
        {
          "output_type": "stream",
          "name": "stderr",
          "text": [
            "\r 84%|████████▍ | 516/612 [01:02<00:10,  8.94it/s]"
          ]
        },
        {
          "output_type": "stream",
          "name": "stdout",
          "text": [
            "1/1 [==============================] - 0s 43ms/step\n"
          ]
        },
        {
          "output_type": "stream",
          "name": "stderr",
          "text": [
            "\r 84%|████████▍ | 517/612 [01:03<00:10,  8.78it/s]"
          ]
        },
        {
          "output_type": "stream",
          "name": "stdout",
          "text": [
            "1/1 [==============================] - 0s 33ms/step\n"
          ]
        },
        {
          "output_type": "stream",
          "name": "stderr",
          "text": [
            "\r 85%|████████▍ | 518/612 [01:03<00:10,  9.08it/s]"
          ]
        },
        {
          "output_type": "stream",
          "name": "stdout",
          "text": [
            "1/1 [==============================] - 0s 36ms/step\n"
          ]
        },
        {
          "output_type": "stream",
          "name": "stderr",
          "text": [
            "\r 85%|████████▍ | 519/612 [01:03<00:10,  8.79it/s]"
          ]
        },
        {
          "output_type": "stream",
          "name": "stdout",
          "text": [
            "1/1 [==============================] - 0s 37ms/step\n"
          ]
        },
        {
          "output_type": "stream",
          "name": "stderr",
          "text": [
            "\r 85%|████████▍ | 520/612 [01:03<00:10,  8.97it/s]"
          ]
        },
        {
          "output_type": "stream",
          "name": "stdout",
          "text": [
            "1/1 [==============================] - 0s 37ms/step\n"
          ]
        },
        {
          "output_type": "stream",
          "name": "stderr",
          "text": [
            "\r 85%|████████▌ | 521/612 [01:03<00:10,  8.70it/s]"
          ]
        },
        {
          "output_type": "stream",
          "name": "stdout",
          "text": [
            "1/1 [==============================] - 0s 40ms/step\n"
          ]
        },
        {
          "output_type": "stream",
          "name": "stderr",
          "text": [
            "\r 85%|████████▌ | 522/612 [01:03<00:10,  8.94it/s]"
          ]
        },
        {
          "output_type": "stream",
          "name": "stdout",
          "text": [
            "1/1 [==============================] - 0s 35ms/step\n"
          ]
        },
        {
          "output_type": "stream",
          "name": "stderr",
          "text": [
            "\r 85%|████████▌ | 523/612 [01:03<00:09,  8.99it/s]"
          ]
        },
        {
          "output_type": "stream",
          "name": "stdout",
          "text": [
            "1/1 [==============================] - 0s 36ms/step\n"
          ]
        },
        {
          "output_type": "stream",
          "name": "stderr",
          "text": [
            "\r 86%|████████▌ | 524/612 [01:03<00:09,  9.08it/s]"
          ]
        },
        {
          "output_type": "stream",
          "name": "stdout",
          "text": [
            "1/1 [==============================] - 0s 34ms/step\n"
          ]
        },
        {
          "output_type": "stream",
          "name": "stderr",
          "text": [
            "\r 86%|████████▌ | 525/612 [01:03<00:09,  9.27it/s]"
          ]
        },
        {
          "output_type": "stream",
          "name": "stdout",
          "text": [
            "1/1 [==============================] - 0s 35ms/step\n"
          ]
        },
        {
          "output_type": "stream",
          "name": "stderr",
          "text": [
            "\r 86%|████████▌ | 526/612 [01:03<00:09,  9.29it/s]"
          ]
        },
        {
          "output_type": "stream",
          "name": "stdout",
          "text": [
            "1/1 [==============================] - 0s 34ms/step\n"
          ]
        },
        {
          "output_type": "stream",
          "name": "stderr",
          "text": [
            "\r 86%|████████▌ | 527/612 [01:04<00:09,  8.98it/s]"
          ]
        },
        {
          "output_type": "stream",
          "name": "stdout",
          "text": [
            "1/1 [==============================] - 0s 35ms/step\n"
          ]
        },
        {
          "output_type": "stream",
          "name": "stderr",
          "text": [
            "\r 86%|████████▋ | 528/612 [01:04<00:09,  9.14it/s]"
          ]
        },
        {
          "output_type": "stream",
          "name": "stdout",
          "text": [
            "1/1 [==============================] - 0s 34ms/step\n"
          ]
        },
        {
          "output_type": "stream",
          "name": "stderr",
          "text": [
            "\r 86%|████████▋ | 529/612 [01:04<00:09,  9.07it/s]"
          ]
        },
        {
          "output_type": "stream",
          "name": "stdout",
          "text": [
            "1/1 [==============================] - 0s 38ms/step\n"
          ]
        },
        {
          "output_type": "stream",
          "name": "stderr",
          "text": [
            "\r 87%|████████▋ | 530/612 [01:04<00:08,  9.14it/s]"
          ]
        },
        {
          "output_type": "stream",
          "name": "stdout",
          "text": [
            "1/1 [==============================] - 0s 34ms/step\n"
          ]
        },
        {
          "output_type": "stream",
          "name": "stderr",
          "text": [
            "\r 87%|████████▋ | 531/612 [01:04<00:08,  9.37it/s]"
          ]
        },
        {
          "output_type": "stream",
          "name": "stdout",
          "text": [
            "1/1 [==============================] - 0s 34ms/step\n"
          ]
        },
        {
          "output_type": "stream",
          "name": "stderr",
          "text": [
            "\r 87%|████████▋ | 532/612 [01:04<00:08,  9.35it/s]"
          ]
        },
        {
          "output_type": "stream",
          "name": "stdout",
          "text": [
            "1/1 [==============================] - 0s 37ms/step\n"
          ]
        },
        {
          "output_type": "stream",
          "name": "stderr",
          "text": [
            "\r 87%|████████▋ | 533/612 [01:04<00:08,  8.85it/s]"
          ]
        },
        {
          "output_type": "stream",
          "name": "stdout",
          "text": [
            "1/1 [==============================] - 0s 36ms/step\n"
          ]
        },
        {
          "output_type": "stream",
          "name": "stderr",
          "text": [
            "\r 87%|████████▋ | 534/612 [01:04<00:08,  8.68it/s]"
          ]
        },
        {
          "output_type": "stream",
          "name": "stdout",
          "text": [
            "1/1 [==============================] - 0s 33ms/step\n"
          ]
        },
        {
          "output_type": "stream",
          "name": "stderr",
          "text": [
            "\r 87%|████████▋ | 535/612 [01:04<00:08,  9.01it/s]"
          ]
        },
        {
          "output_type": "stream",
          "name": "stdout",
          "text": [
            "1/1 [==============================] - 0s 35ms/step\n"
          ]
        },
        {
          "output_type": "stream",
          "name": "stderr",
          "text": [
            "\r 88%|████████▊ | 536/612 [01:05<00:08,  8.83it/s]"
          ]
        },
        {
          "output_type": "stream",
          "name": "stdout",
          "text": [
            "1/1 [==============================] - 0s 35ms/step\n"
          ]
        },
        {
          "output_type": "stream",
          "name": "stderr",
          "text": [
            "\r 88%|████████▊ | 537/612 [01:05<00:08,  8.96it/s]"
          ]
        },
        {
          "output_type": "stream",
          "name": "stdout",
          "text": [
            "1/1 [==============================] - 0s 36ms/step\n"
          ]
        },
        {
          "output_type": "stream",
          "name": "stderr",
          "text": [
            "\r 88%|████████▊ | 538/612 [01:05<00:08,  8.50it/s]"
          ]
        },
        {
          "output_type": "stream",
          "name": "stdout",
          "text": [
            "1/1 [==============================] - 0s 41ms/step\n"
          ]
        },
        {
          "output_type": "stream",
          "name": "stderr",
          "text": [
            "\r 88%|████████▊ | 539/612 [01:05<00:08,  8.46it/s]"
          ]
        },
        {
          "output_type": "stream",
          "name": "stdout",
          "text": [
            "1/1 [==============================] - 0s 35ms/step\n"
          ]
        },
        {
          "output_type": "stream",
          "name": "stderr",
          "text": [
            "\r 88%|████████▊ | 540/612 [01:05<00:08,  8.72it/s]"
          ]
        },
        {
          "output_type": "stream",
          "name": "stdout",
          "text": [
            "1/1 [==============================] - 0s 35ms/step\n"
          ]
        },
        {
          "output_type": "stream",
          "name": "stderr",
          "text": [
            "\r 88%|████████▊ | 541/612 [01:05<00:08,  8.61it/s]"
          ]
        },
        {
          "output_type": "stream",
          "name": "stdout",
          "text": [
            "1/1 [==============================] - 0s 37ms/step\n"
          ]
        },
        {
          "output_type": "stream",
          "name": "stderr",
          "text": [
            "\r 89%|████████▊ | 542/612 [01:05<00:08,  8.47it/s]"
          ]
        },
        {
          "output_type": "stream",
          "name": "stdout",
          "text": [
            "1/1 [==============================] - 0s 34ms/step\n"
          ]
        },
        {
          "output_type": "stream",
          "name": "stderr",
          "text": [
            "\r 89%|████████▊ | 543/612 [01:05<00:07,  8.69it/s]"
          ]
        },
        {
          "output_type": "stream",
          "name": "stdout",
          "text": [
            "1/1 [==============================] - 0s 34ms/step\n"
          ]
        },
        {
          "output_type": "stream",
          "name": "stderr",
          "text": [
            "\r 89%|████████▉ | 544/612 [01:06<00:07,  8.84it/s]"
          ]
        },
        {
          "output_type": "stream",
          "name": "stdout",
          "text": [
            "1/1 [==============================] - 0s 35ms/step\n"
          ]
        },
        {
          "output_type": "stream",
          "name": "stderr",
          "text": [
            "\r 89%|████████▉ | 545/612 [01:06<00:07,  8.96it/s]"
          ]
        },
        {
          "output_type": "stream",
          "name": "stdout",
          "text": [
            "1/1 [==============================] - 0s 35ms/step\n"
          ]
        },
        {
          "output_type": "stream",
          "name": "stderr",
          "text": [
            "\r 89%|████████▉ | 546/612 [01:06<00:07,  8.62it/s]"
          ]
        },
        {
          "output_type": "stream",
          "name": "stdout",
          "text": [
            "1/1 [==============================] - 0s 42ms/step\n"
          ]
        },
        {
          "output_type": "stream",
          "name": "stderr",
          "text": [
            "\r 89%|████████▉ | 547/612 [01:06<00:08,  7.73it/s]"
          ]
        },
        {
          "output_type": "stream",
          "name": "stdout",
          "text": [
            "1/1 [==============================] - 0s 35ms/step\n"
          ]
        },
        {
          "output_type": "stream",
          "name": "stderr",
          "text": [
            "\r 90%|████████▉ | 548/612 [01:06<00:07,  8.25it/s]"
          ]
        },
        {
          "output_type": "stream",
          "name": "stdout",
          "text": [
            "1/1 [==============================] - 0s 36ms/step\n"
          ]
        },
        {
          "output_type": "stream",
          "name": "stderr",
          "text": [
            "\r 90%|████████▉ | 549/612 [01:06<00:07,  8.26it/s]"
          ]
        },
        {
          "output_type": "stream",
          "name": "stdout",
          "text": [
            "1/1 [==============================] - 0s 35ms/step\n"
          ]
        },
        {
          "output_type": "stream",
          "name": "stderr",
          "text": [
            "\r 90%|████████▉ | 550/612 [01:06<00:07,  8.64it/s]"
          ]
        },
        {
          "output_type": "stream",
          "name": "stdout",
          "text": [
            "1/1 [==============================] - 0s 33ms/step\n"
          ]
        },
        {
          "output_type": "stream",
          "name": "stderr",
          "text": [
            "\r 90%|█████████ | 551/612 [01:06<00:07,  8.43it/s]"
          ]
        },
        {
          "output_type": "stream",
          "name": "stdout",
          "text": [
            "1/1 [==============================] - 0s 33ms/step\n"
          ]
        },
        {
          "output_type": "stream",
          "name": "stderr",
          "text": [
            "\r 90%|█████████ | 552/612 [01:06<00:06,  8.76it/s]"
          ]
        },
        {
          "output_type": "stream",
          "name": "stdout",
          "text": [
            "1/1 [==============================] - 0s 34ms/step\n"
          ]
        },
        {
          "output_type": "stream",
          "name": "stderr",
          "text": [
            "\r 90%|█████████ | 553/612 [01:07<00:06,  8.88it/s]"
          ]
        },
        {
          "output_type": "stream",
          "name": "stdout",
          "text": [
            "1/1 [==============================] - 0s 34ms/step\n"
          ]
        },
        {
          "output_type": "stream",
          "name": "stderr",
          "text": [
            "\r 91%|█████████ | 554/612 [01:07<00:06,  8.58it/s]"
          ]
        },
        {
          "output_type": "stream",
          "name": "stdout",
          "text": [
            "1/1 [==============================] - 0s 43ms/step\n"
          ]
        },
        {
          "output_type": "stream",
          "name": "stderr",
          "text": [
            "\r 91%|█████████ | 555/612 [01:07<00:06,  8.48it/s]"
          ]
        },
        {
          "output_type": "stream",
          "name": "stdout",
          "text": [
            "1/1 [==============================] - 0s 36ms/step\n"
          ]
        },
        {
          "output_type": "stream",
          "name": "stderr",
          "text": [
            "\r 91%|█████████ | 556/612 [01:07<00:06,  8.80it/s]"
          ]
        },
        {
          "output_type": "stream",
          "name": "stdout",
          "text": [
            "1/1 [==============================] - 0s 35ms/step\n"
          ]
        },
        {
          "output_type": "stream",
          "name": "stderr",
          "text": [
            "\r 91%|█████████ | 557/612 [01:07<00:06,  8.66it/s]"
          ]
        },
        {
          "output_type": "stream",
          "name": "stdout",
          "text": [
            "1/1 [==============================] - 0s 36ms/step\n"
          ]
        },
        {
          "output_type": "stream",
          "name": "stderr",
          "text": [
            "\r 91%|█████████ | 558/612 [01:07<00:06,  8.40it/s]"
          ]
        },
        {
          "output_type": "stream",
          "name": "stdout",
          "text": [
            "1/1 [==============================] - 0s 35ms/step\n"
          ]
        },
        {
          "output_type": "stream",
          "name": "stderr",
          "text": [
            "\r 91%|█████████▏| 559/612 [01:07<00:06,  8.29it/s]"
          ]
        },
        {
          "output_type": "stream",
          "name": "stdout",
          "text": [
            "1/1 [==============================] - 0s 34ms/step\n"
          ]
        },
        {
          "output_type": "stream",
          "name": "stderr",
          "text": [
            "\r 92%|█████████▏| 560/612 [01:07<00:06,  8.12it/s]"
          ]
        },
        {
          "output_type": "stream",
          "name": "stdout",
          "text": [
            "1/1 [==============================] - 0s 37ms/step\n"
          ]
        },
        {
          "output_type": "stream",
          "name": "stderr",
          "text": [
            "\r 92%|█████████▏| 561/612 [01:08<00:06,  8.46it/s]"
          ]
        },
        {
          "output_type": "stream",
          "name": "stdout",
          "text": [
            "1/1 [==============================] - 0s 36ms/step\n"
          ]
        },
        {
          "output_type": "stream",
          "name": "stderr",
          "text": [
            "\r 92%|█████████▏| 562/612 [01:08<00:06,  8.31it/s]"
          ]
        },
        {
          "output_type": "stream",
          "name": "stdout",
          "text": [
            "1/1 [==============================] - 0s 34ms/step\n"
          ]
        },
        {
          "output_type": "stream",
          "name": "stderr",
          "text": [
            "\r 92%|█████████▏| 563/612 [01:08<00:05,  8.53it/s]"
          ]
        },
        {
          "output_type": "stream",
          "name": "stdout",
          "text": [
            "1/1 [==============================] - 0s 34ms/step\n"
          ]
        },
        {
          "output_type": "stream",
          "name": "stderr",
          "text": [
            "\r 92%|█████████▏| 564/612 [01:08<00:05,  8.20it/s]"
          ]
        },
        {
          "output_type": "stream",
          "name": "stdout",
          "text": [
            "1/1 [==============================] - 0s 37ms/step\n"
          ]
        },
        {
          "output_type": "stream",
          "name": "stderr",
          "text": [
            "\r 92%|█████████▏| 565/612 [01:08<00:05,  8.53it/s]"
          ]
        },
        {
          "output_type": "stream",
          "name": "stdout",
          "text": [
            "1/1 [==============================] - 0s 36ms/step\n"
          ]
        },
        {
          "output_type": "stream",
          "name": "stderr",
          "text": [
            "\r 92%|█████████▏| 566/612 [01:08<00:05,  8.47it/s]"
          ]
        },
        {
          "output_type": "stream",
          "name": "stdout",
          "text": [
            "1/1 [==============================] - 0s 40ms/step\n"
          ]
        },
        {
          "output_type": "stream",
          "name": "stderr",
          "text": [
            "\r 93%|█████████▎| 567/612 [01:08<00:05,  8.77it/s]"
          ]
        },
        {
          "output_type": "stream",
          "name": "stdout",
          "text": [
            "1/1 [==============================] - 0s 33ms/step\n"
          ]
        },
        {
          "output_type": "stream",
          "name": "stderr",
          "text": [
            "\r 93%|█████████▎| 568/612 [01:08<00:05,  8.46it/s]"
          ]
        },
        {
          "output_type": "stream",
          "name": "stdout",
          "text": [
            "1/1 [==============================] - 0s 34ms/step\n"
          ]
        },
        {
          "output_type": "stream",
          "name": "stderr",
          "text": [
            "\r 93%|█████████▎| 569/612 [01:08<00:04,  8.83it/s]"
          ]
        },
        {
          "output_type": "stream",
          "name": "stdout",
          "text": [
            "1/1 [==============================] - 0s 37ms/step\n"
          ]
        },
        {
          "output_type": "stream",
          "name": "stderr",
          "text": [
            "\r 93%|█████████▎| 570/612 [01:09<00:04,  8.94it/s]"
          ]
        },
        {
          "output_type": "stream",
          "name": "stdout",
          "text": [
            "1/1 [==============================] - 0s 34ms/step\n",
            "1/1 [==============================] - 0s 44ms/step\n"
          ]
        },
        {
          "output_type": "stream",
          "name": "stderr",
          "text": [
            "\r 93%|█████████▎| 572/612 [01:09<00:04,  9.13it/s]"
          ]
        },
        {
          "output_type": "stream",
          "name": "stdout",
          "text": [
            "1/1 [==============================] - 0s 36ms/step\n"
          ]
        },
        {
          "output_type": "stream",
          "name": "stderr",
          "text": [
            "\r 94%|█████████▎| 573/612 [01:09<00:04,  8.64it/s]"
          ]
        },
        {
          "output_type": "stream",
          "name": "stdout",
          "text": [
            "1/1 [==============================] - 0s 33ms/step\n"
          ]
        },
        {
          "output_type": "stream",
          "name": "stderr",
          "text": [
            "\r 94%|█████████▍| 574/612 [01:09<00:04,  8.55it/s]"
          ]
        },
        {
          "output_type": "stream",
          "name": "stdout",
          "text": [
            "1/1 [==============================] - 0s 36ms/step\n"
          ]
        },
        {
          "output_type": "stream",
          "name": "stderr",
          "text": [
            "\r 94%|█████████▍| 575/612 [01:09<00:04,  8.37it/s]"
          ]
        },
        {
          "output_type": "stream",
          "name": "stdout",
          "text": [
            "1/1 [==============================] - 0s 35ms/step\n"
          ]
        },
        {
          "output_type": "stream",
          "name": "stderr",
          "text": [
            "\r 94%|█████████▍| 576/612 [01:09<00:04,  8.70it/s]"
          ]
        },
        {
          "output_type": "stream",
          "name": "stdout",
          "text": [
            "1/1 [==============================] - 0s 34ms/step\n"
          ]
        },
        {
          "output_type": "stream",
          "name": "stderr",
          "text": [
            "\r 94%|█████████▍| 577/612 [01:09<00:04,  8.55it/s]"
          ]
        },
        {
          "output_type": "stream",
          "name": "stdout",
          "text": [
            "1/1 [==============================] - 0s 34ms/step\n"
          ]
        },
        {
          "output_type": "stream",
          "name": "stderr",
          "text": [
            "\r 94%|█████████▍| 578/612 [01:10<00:03,  8.83it/s]"
          ]
        },
        {
          "output_type": "stream",
          "name": "stdout",
          "text": [
            "1/1 [==============================] - 0s 34ms/step\n"
          ]
        },
        {
          "output_type": "stream",
          "name": "stderr",
          "text": [
            "\r 95%|█████████▍| 579/612 [01:10<00:03,  8.62it/s]"
          ]
        },
        {
          "output_type": "stream",
          "name": "stdout",
          "text": [
            "1/1 [==============================] - 0s 34ms/step\n"
          ]
        },
        {
          "output_type": "stream",
          "name": "stderr",
          "text": [
            "\r 95%|█████████▍| 580/612 [01:10<00:03,  8.51it/s]"
          ]
        },
        {
          "output_type": "stream",
          "name": "stdout",
          "text": [
            "1/1 [==============================] - 0s 37ms/step\n"
          ]
        },
        {
          "output_type": "stream",
          "name": "stderr",
          "text": [
            "\r 95%|█████████▍| 581/612 [01:10<00:03,  8.63it/s]"
          ]
        },
        {
          "output_type": "stream",
          "name": "stdout",
          "text": [
            "1/1 [==============================] - 0s 33ms/step\n"
          ]
        },
        {
          "output_type": "stream",
          "name": "stderr",
          "text": [
            "\r 95%|█████████▌| 582/612 [01:10<00:03,  8.91it/s]"
          ]
        },
        {
          "output_type": "stream",
          "name": "stdout",
          "text": [
            "1/1 [==============================] - 0s 34ms/step\n"
          ]
        },
        {
          "output_type": "stream",
          "name": "stderr",
          "text": [
            "\r 95%|█████████▌| 583/612 [01:10<00:03,  8.76it/s]"
          ]
        },
        {
          "output_type": "stream",
          "name": "stdout",
          "text": [
            "1/1 [==============================] - 0s 34ms/step\n"
          ]
        },
        {
          "output_type": "stream",
          "name": "stderr",
          "text": [
            "\r 95%|█████████▌| 584/612 [01:10<00:03,  8.37it/s]"
          ]
        },
        {
          "output_type": "stream",
          "name": "stdout",
          "text": [
            "1/1 [==============================] - 0s 34ms/step\n"
          ]
        },
        {
          "output_type": "stream",
          "name": "stderr",
          "text": [
            "\r 96%|█████████▌| 585/612 [01:10<00:03,  8.31it/s]"
          ]
        },
        {
          "output_type": "stream",
          "name": "stdout",
          "text": [
            "1/1 [==============================] - 0s 37ms/step\n"
          ]
        },
        {
          "output_type": "stream",
          "name": "stderr",
          "text": [
            "\r 96%|█████████▌| 586/612 [01:10<00:02,  8.71it/s]"
          ]
        },
        {
          "output_type": "stream",
          "name": "stdout",
          "text": [
            "1/1 [==============================] - 0s 36ms/step\n"
          ]
        },
        {
          "output_type": "stream",
          "name": "stderr",
          "text": [
            "\r 96%|█████████▌| 587/612 [01:11<00:02,  8.45it/s]"
          ]
        },
        {
          "output_type": "stream",
          "name": "stdout",
          "text": [
            "1/1 [==============================] - 0s 35ms/step\n"
          ]
        },
        {
          "output_type": "stream",
          "name": "stderr",
          "text": [
            "\r 96%|█████████▌| 588/612 [01:11<00:02,  8.32it/s]"
          ]
        },
        {
          "output_type": "stream",
          "name": "stdout",
          "text": [
            "1/1 [==============================] - 0s 33ms/step\n"
          ]
        },
        {
          "output_type": "stream",
          "name": "stderr",
          "text": [
            "\r 96%|█████████▌| 589/612 [01:11<00:02,  8.22it/s]"
          ]
        },
        {
          "output_type": "stream",
          "name": "stdout",
          "text": [
            "1/1 [==============================] - 0s 39ms/step\n"
          ]
        },
        {
          "output_type": "stream",
          "name": "stderr",
          "text": [
            "\r 96%|█████████▋| 590/612 [01:11<00:02,  8.07it/s]"
          ]
        },
        {
          "output_type": "stream",
          "name": "stdout",
          "text": [
            "1/1 [==============================] - 0s 43ms/step\n"
          ]
        },
        {
          "output_type": "stream",
          "name": "stderr",
          "text": [
            "\r 97%|█████████▋| 591/612 [01:11<00:02,  8.24it/s]"
          ]
        },
        {
          "output_type": "stream",
          "name": "stdout",
          "text": [
            "1/1 [==============================] - 0s 39ms/step\n"
          ]
        },
        {
          "output_type": "stream",
          "name": "stderr",
          "text": [
            "\r 97%|█████████▋| 592/612 [01:11<00:02,  8.55it/s]"
          ]
        },
        {
          "output_type": "stream",
          "name": "stdout",
          "text": [
            "1/1 [==============================] - 0s 36ms/step\n"
          ]
        },
        {
          "output_type": "stream",
          "name": "stderr",
          "text": [
            "\r 97%|█████████▋| 593/612 [01:11<00:02,  8.49it/s]"
          ]
        },
        {
          "output_type": "stream",
          "name": "stdout",
          "text": [
            "1/1 [==============================] - 0s 35ms/step\n"
          ]
        },
        {
          "output_type": "stream",
          "name": "stderr",
          "text": [
            "\r 97%|█████████▋| 594/612 [01:11<00:02,  8.30it/s]"
          ]
        },
        {
          "output_type": "stream",
          "name": "stdout",
          "text": [
            "1/1 [==============================] - 0s 35ms/step\n"
          ]
        },
        {
          "output_type": "stream",
          "name": "stderr",
          "text": [
            "\r 97%|█████████▋| 595/612 [01:12<00:01,  8.55it/s]"
          ]
        },
        {
          "output_type": "stream",
          "name": "stdout",
          "text": [
            "1/1 [==============================] - 0s 35ms/step\n"
          ]
        },
        {
          "output_type": "stream",
          "name": "stderr",
          "text": [
            "\r 97%|█████████▋| 596/612 [01:12<00:01,  8.92it/s]"
          ]
        },
        {
          "output_type": "stream",
          "name": "stdout",
          "text": [
            "1/1 [==============================] - 0s 33ms/step\n",
            "1/1 [==============================] - 0s 33ms/step\n"
          ]
        },
        {
          "output_type": "stream",
          "name": "stderr",
          "text": [
            "\r 98%|█████████▊| 598/612 [01:12<00:01,  9.14it/s]"
          ]
        },
        {
          "output_type": "stream",
          "name": "stdout",
          "text": [
            "1/1 [==============================] - 0s 43ms/step\n"
          ]
        },
        {
          "output_type": "stream",
          "name": "stderr",
          "text": [
            "\r 98%|█████████▊| 599/612 [01:12<00:01,  8.78it/s]"
          ]
        },
        {
          "output_type": "stream",
          "name": "stdout",
          "text": [
            "1/1 [==============================] - 0s 33ms/step\n"
          ]
        },
        {
          "output_type": "stream",
          "name": "stderr",
          "text": [
            "\r 98%|█████████▊| 600/612 [01:12<00:01,  9.04it/s]"
          ]
        },
        {
          "output_type": "stream",
          "name": "stdout",
          "text": [
            "1/1 [==============================] - 0s 39ms/step\n"
          ]
        },
        {
          "output_type": "stream",
          "name": "stderr",
          "text": [
            "\r 98%|█████████▊| 601/612 [01:12<00:01,  8.85it/s]"
          ]
        },
        {
          "output_type": "stream",
          "name": "stdout",
          "text": [
            "1/1 [==============================] - 0s 37ms/step\n"
          ]
        },
        {
          "output_type": "stream",
          "name": "stderr",
          "text": [
            "\r 98%|█████████▊| 602/612 [01:12<00:01,  9.05it/s]"
          ]
        },
        {
          "output_type": "stream",
          "name": "stdout",
          "text": [
            "1/1 [==============================] - 0s 38ms/step\n"
          ]
        },
        {
          "output_type": "stream",
          "name": "stderr",
          "text": [
            "\r 99%|█████████▊| 603/612 [01:12<00:01,  8.84it/s]"
          ]
        },
        {
          "output_type": "stream",
          "name": "stdout",
          "text": [
            "1/1 [==============================] - 0s 33ms/step\n"
          ]
        },
        {
          "output_type": "stream",
          "name": "stderr",
          "text": [
            "\r 99%|█████████▊| 604/612 [01:13<00:00,  8.55it/s]"
          ]
        },
        {
          "output_type": "stream",
          "name": "stdout",
          "text": [
            "1/1 [==============================] - 0s 33ms/step\n"
          ]
        },
        {
          "output_type": "stream",
          "name": "stderr",
          "text": [
            "\r 99%|█████████▉| 605/612 [01:13<00:00,  8.39it/s]"
          ]
        },
        {
          "output_type": "stream",
          "name": "stdout",
          "text": [
            "1/1 [==============================] - 0s 33ms/step\n"
          ]
        },
        {
          "output_type": "stream",
          "name": "stderr",
          "text": [
            "\r 99%|█████████▉| 606/612 [01:13<00:00,  8.67it/s]"
          ]
        },
        {
          "output_type": "stream",
          "name": "stdout",
          "text": [
            "1/1 [==============================] - 0s 34ms/step\n"
          ]
        },
        {
          "output_type": "stream",
          "name": "stderr",
          "text": [
            "\r 99%|█████████▉| 607/612 [01:13<00:00,  8.47it/s]"
          ]
        },
        {
          "output_type": "stream",
          "name": "stdout",
          "text": [
            "1/1 [==============================] - 0s 34ms/step\n"
          ]
        },
        {
          "output_type": "stream",
          "name": "stderr",
          "text": [
            "\r 99%|█████████▉| 608/612 [01:13<00:00,  8.65it/s]"
          ]
        },
        {
          "output_type": "stream",
          "name": "stdout",
          "text": [
            "1/1 [==============================] - 0s 34ms/step\n"
          ]
        },
        {
          "output_type": "stream",
          "name": "stderr",
          "text": [
            "\r100%|█████████▉| 609/612 [01:13<00:00,  9.00it/s]"
          ]
        },
        {
          "output_type": "stream",
          "name": "stdout",
          "text": [
            "1/1 [==============================] - 0s 35ms/step\n"
          ]
        },
        {
          "output_type": "stream",
          "name": "stderr",
          "text": [
            "\r100%|█████████▉| 610/612 [01:13<00:00,  9.01it/s]"
          ]
        },
        {
          "output_type": "stream",
          "name": "stdout",
          "text": [
            "1/1 [==============================] - 0s 34ms/step\n"
          ]
        },
        {
          "output_type": "stream",
          "name": "stderr",
          "text": [
            "\r100%|█████████▉| 611/612 [01:13<00:00,  9.11it/s]"
          ]
        },
        {
          "output_type": "stream",
          "name": "stdout",
          "text": [
            "1/1 [==============================] - 0s 35ms/step\n"
          ]
        },
        {
          "output_type": "stream",
          "name": "stderr",
          "text": [
            "100%|██████████| 612/612 [01:13<00:00,  8.28it/s]\n"
          ]
        }
      ]
    },
    {
      "cell_type": "code",
      "source": [
        "!zip -r /content/OutputImg.zip  /content/OutputImg "
      ],
      "metadata": {
        "colab": {
          "base_uri": "https://localhost:8080/"
        },
        "id": "6UzLp_oDOv_j",
        "outputId": "4a97d31c-7e21-44b9-d8a3-a27f20a1cf83"
      },
      "execution_count": 12,
      "outputs": [
        {
          "output_type": "stream",
          "name": "stdout",
          "text": [
            "  adding: content/OutputImg/ (stored 0%)\n",
            "  adding: content/OutputImg/1585.png (deflated 16%)\n",
            "  adding: content/OutputImg/351.png (deflated 17%)\n",
            "  adding: content/OutputImg/1282.png (deflated 18%)\n",
            "  adding: content/OutputImg/2854.png (deflated 16%)\n",
            "  adding: content/OutputImg/1475.png (deflated 16%)\n",
            "  adding: content/OutputImg/1927.png (deflated 22%)\n",
            "  adding: content/OutputImg/2101.png (deflated 18%)\n",
            "  adding: content/OutputImg/985.png (deflated 17%)\n",
            "  adding: content/OutputImg/870.png (deflated 18%)\n",
            "  adding: content/OutputImg/387.png (deflated 18%)\n",
            "  adding: content/OutputImg/2110.png (deflated 20%)\n",
            "  adding: content/OutputImg/1185.png (deflated 17%)\n",
            "  adding: content/OutputImg/36.png (deflated 17%)\n",
            "  adding: content/OutputImg/1304.png (deflated 17%)\n",
            "  adding: content/OutputImg/1523.png (deflated 17%)\n",
            "  adding: content/OutputImg/2216.png (deflated 20%)\n",
            "  adding: content/OutputImg/3056.png (deflated 20%)\n",
            "  adding: content/OutputImg/922.png (deflated 17%)\n",
            "  adding: content/OutputImg/159.png (deflated 22%)\n",
            "  adding: content/OutputImg/2618.png (deflated 16%)\n",
            "  adding: content/OutputImg/793.png (deflated 16%)\n",
            "  adding: content/OutputImg/1258.png (deflated 18%)\n",
            "  adding: content/OutputImg/174.png (deflated 22%)\n",
            "  adding: content/OutputImg/2114.png (deflated 20%)\n",
            "  adding: content/OutputImg/1085.png (deflated 16%)\n",
            "  adding: content/OutputImg/763.png (deflated 17%)\n",
            "  adding: content/OutputImg/110.png (deflated 21%)\n",
            "  adding: content/OutputImg/1374.png (deflated 16%)\n",
            "  adding: content/OutputImg/2274.png (deflated 16%)\n",
            "  adding: content/OutputImg/437.png (deflated 19%)\n",
            "  adding: content/OutputImg/663.png (deflated 19%)\n",
            "  adding: content/OutputImg/2246.png (deflated 17%)\n",
            "  adding: content/OutputImg/749.png (deflated 16%)\n",
            "  adding: content/OutputImg/1968.png (deflated 19%)\n",
            "  adding: content/OutputImg/1560.png (deflated 15%)\n",
            "  adding: content/OutputImg/308.png (deflated 18%)\n",
            "  adding: content/OutputImg/1375.png (deflated 16%)\n",
            "  adding: content/OutputImg/2787.png (deflated 16%)\n",
            "  adding: content/OutputImg/657.png (deflated 18%)\n",
            "  adding: content/OutputImg/925.png (deflated 19%)\n",
            "  adding: content/OutputImg/1678.png (deflated 16%)\n",
            "  adding: content/OutputImg/629.png (deflated 17%)\n",
            "  adding: content/OutputImg/1006.png (deflated 17%)\n",
            "  adding: content/OutputImg/949.png (deflated 17%)\n",
            "  adding: content/OutputImg/1567.png (deflated 17%)\n",
            "  adding: content/OutputImg/777.png (deflated 17%)\n",
            "  adding: content/OutputImg/636.png (deflated 18%)\n",
            "  adding: content/OutputImg/1742.png (deflated 17%)\n",
            "  adding: content/OutputImg/1393.png (deflated 17%)\n",
            "  adding: content/OutputImg/896.png (deflated 17%)\n",
            "  adding: content/OutputImg/1250.png (deflated 17%)\n",
            "  adding: content/OutputImg/1169.png (deflated 18%)\n",
            "  adding: content/OutputImg/2345.png (deflated 19%)\n",
            "  adding: content/OutputImg/523.png (deflated 17%)\n",
            "  adding: content/OutputImg/2342.png (deflated 17%)\n",
            "  adding: content/OutputImg/3029.png (deflated 22%)\n",
            "  adding: content/OutputImg/3.png (deflated 19%)\n",
            "  adding: content/OutputImg/472.png (deflated 18%)\n",
            "  adding: content/OutputImg/1789.png (deflated 17%)\n",
            "  adding: content/OutputImg/1098.png (deflated 16%)\n",
            "  adding: content/OutputImg/1818.png (deflated 17%)\n",
            "  adding: content/OutputImg/587.png (deflated 18%)\n",
            "  adding: content/OutputImg/1751.png (deflated 17%)\n",
            "  adding: content/OutputImg/108.png (deflated 20%)\n",
            "  adding: content/OutputImg/2543.png (deflated 18%)\n",
            "  adding: content/OutputImg/1795.png (deflated 17%)\n",
            "  adding: content/OutputImg/74.png (deflated 19%)\n",
            "  adding: content/OutputImg/2808.png (deflated 19%)\n",
            "  adding: content/OutputImg/429.png (deflated 19%)\n",
            "  adding: content/OutputImg/1296.png (deflated 18%)\n",
            "  adding: content/OutputImg/1021.png (deflated 18%)\n",
            "  adding: content/OutputImg/375.png (deflated 16%)\n",
            "  adding: content/OutputImg/717.png (deflated 20%)\n",
            "  adding: content/OutputImg/2486.png (deflated 16%)\n",
            "  adding: content/OutputImg/1808.png (deflated 18%)\n",
            "  adding: content/OutputImg/2285.png (deflated 17%)\n",
            "  adding: content/OutputImg/602.png (deflated 17%)\n",
            "  adding: content/OutputImg/1204.png (deflated 17%)\n",
            "  adding: content/OutputImg/2360.png (deflated 19%)\n",
            "  adding: content/OutputImg/140.png (deflated 21%)\n",
            "  adding: content/OutputImg/1477.png (deflated 18%)\n",
            "  adding: content/OutputImg/2979.png (deflated 19%)\n",
            "  adding: content/OutputImg/1087.png (deflated 17%)\n",
            "  adding: content/OutputImg/3010.png (deflated 17%)\n",
            "  adding: content/OutputImg/2930.png (deflated 17%)\n",
            "  adding: content/OutputImg/1014.png (deflated 17%)\n",
            "  adding: content/OutputImg/2827.png (deflated 18%)\n",
            "  adding: content/OutputImg/16.png (deflated 18%)\n",
            "  adding: content/OutputImg/284.png (deflated 17%)\n",
            "  adding: content/OutputImg/1354.png (deflated 17%)\n",
            "  adding: content/OutputImg/1094.png (deflated 15%)\n",
            "  adding: content/OutputImg/384.png (deflated 17%)\n",
            "  adding: content/OutputImg/2630.png (deflated 18%)\n",
            "  adding: content/OutputImg/527.png (deflated 19%)\n",
            "  adding: content/OutputImg/981.png (deflated 16%)\n",
            "  adding: content/OutputImg/2468.png (deflated 19%)\n",
            "  adding: content/OutputImg/2980.png (deflated 18%)\n",
            "  adding: content/OutputImg/1271.png (deflated 16%)\n",
            "  adding: content/OutputImg/2965.png (deflated 17%)\n",
            "  adding: content/OutputImg/2530.png (deflated 17%)\n",
            "  adding: content/OutputImg/864.png (deflated 18%)\n",
            "  adding: content/OutputImg/1732.png (deflated 16%)\n",
            "  adding: content/OutputImg/1840.png (deflated 17%)\n",
            "  adding: content/OutputImg/501.png (deflated 17%)\n",
            "  adding: content/OutputImg/367.png (deflated 20%)\n",
            "  adding: content/OutputImg/1093.png (deflated 17%)\n",
            "  adding: content/OutputImg/1147.png (deflated 15%)\n",
            "  adding: content/OutputImg/31.png (deflated 18%)\n",
            "  adding: content/OutputImg/559.png (deflated 18%)\n",
            "  adding: content/OutputImg/3033.png (deflated 17%)\n",
            "  adding: content/OutputImg/1907.png (deflated 20%)\n",
            "  adding: content/OutputImg/2830.png (deflated 17%)\n",
            "  adding: content/OutputImg/1868.png (deflated 20%)\n",
            "  adding: content/OutputImg/298.png (deflated 21%)\n",
            "  adding: content/OutputImg/407.png (deflated 20%)\n",
            "  adding: content/OutputImg/86.png (deflated 21%)\n",
            "  adding: content/OutputImg/2248.png (deflated 16%)\n",
            "  adding: content/OutputImg/1262.png (deflated 17%)\n",
            "  adding: content/OutputImg/2451.png (deflated 17%)\n",
            "  adding: content/OutputImg/3043.png (deflated 18%)\n",
            "  adding: content/OutputImg/2717.png (deflated 18%)\n",
            "  adding: content/OutputImg/29.png (deflated 18%)\n",
            "  adding: content/OutputImg/860.png (deflated 18%)\n",
            "  adding: content/OutputImg/2499.png (deflated 21%)\n",
            "  adding: content/OutputImg/2418.png (deflated 17%)\n",
            "  adding: content/OutputImg/560.png (deflated 20%)\n",
            "  adding: content/OutputImg/2571.png (deflated 17%)\n",
            "  adding: content/OutputImg/12.png (deflated 21%)\n",
            "  adding: content/OutputImg/2385.png (deflated 18%)\n",
            "  adding: content/OutputImg/1337.png (deflated 19%)\n",
            "  adding: content/OutputImg/701.png (deflated 19%)\n",
            "  adding: content/OutputImg/2494.png (deflated 17%)\n",
            "  adding: content/OutputImg/1316.png (deflated 20%)\n",
            "  adding: content/OutputImg/3012.png (deflated 17%)\n",
            "  adding: content/OutputImg/2920.png (deflated 17%)\n",
            "  adding: content/OutputImg/2660.png (deflated 19%)\n",
            "  adding: content/OutputImg/1888.png (deflated 20%)\n",
            "  adding: content/OutputImg/1801.png (deflated 17%)\n",
            "  adding: content/OutputImg/555.png (deflated 18%)\n",
            "  adding: content/OutputImg/1071.png (deflated 16%)\n",
            "  adding: content/OutputImg/2279.png (deflated 17%)\n",
            "  adding: content/OutputImg/769.png (deflated 16%)\n",
            "  adding: content/OutputImg/2672.png (deflated 18%)\n",
            "  adding: content/OutputImg/1187.png (deflated 18%)\n",
            "  adding: content/OutputImg/2154.png (deflated 18%)\n",
            "  adding: content/OutputImg/837.png (deflated 19%)\n",
            "  adding: content/OutputImg/1707.png (deflated 17%)\n",
            "  adding: content/OutputImg/1542.png (deflated 17%)\n",
            "  adding: content/OutputImg/640.png (deflated 19%)\n",
            "  adding: content/OutputImg/1841.png (deflated 18%)\n",
            "  adding: content/OutputImg/964.png (deflated 17%)\n",
            "  adding: content/OutputImg/621.png (deflated 18%)\n",
            "  adding: content/OutputImg/2091.png (deflated 20%)\n",
            "  adding: content/OutputImg/2322.png (deflated 16%)\n",
            "  adding: content/OutputImg/2923.png (deflated 18%)\n",
            "  adding: content/OutputImg/2992.png (deflated 18%)\n",
            "  adding: content/OutputImg/1739.png (deflated 17%)\n",
            "  adding: content/OutputImg/2107.png (deflated 18%)\n",
            "  adding: content/OutputImg/393.png (deflated 18%)\n",
            "  adding: content/OutputImg/2075.png (deflated 20%)\n",
            "  adding: content/OutputImg/1191.png (deflated 17%)\n",
            "  adding: content/OutputImg/2685.png (deflated 17%)\n",
            "  adding: content/OutputImg/117.png (deflated 20%)\n",
            "  adding: content/OutputImg/2732.png (deflated 19%)\n",
            "  adding: content/OutputImg/1084.png (deflated 16%)\n",
            "  adding: content/OutputImg/788.png (deflated 16%)\n",
            "  adding: content/OutputImg/1602.png (deflated 17%)\n",
            "  adding: content/OutputImg/3004.png (deflated 20%)\n",
            "  adding: content/OutputImg/2825.png (deflated 19%)\n",
            "  adding: content/OutputImg/718.png (deflated 17%)\n",
            "  adding: content/OutputImg/1137.png (deflated 17%)\n",
            "  adding: content/OutputImg/1275.png (deflated 17%)\n",
            "  adding: content/OutputImg/1969.png (deflated 20%)\n",
            "  adding: content/OutputImg/2609.png (deflated 17%)\n",
            "  adding: content/OutputImg/91.png (deflated 21%)\n",
            "  adding: content/OutputImg/1794.png (deflated 18%)\n",
            "  adding: content/OutputImg/162.png (deflated 21%)\n",
            "  adding: content/OutputImg/1076.png (deflated 17%)\n",
            "  adding: content/OutputImg/1330.png (deflated 16%)\n",
            "  adding: content/OutputImg/2172.png (deflated 19%)\n",
            "  adding: content/OutputImg/1089.png (deflated 17%)\n",
            "  adding: content/OutputImg/2312.png (deflated 17%)\n",
            "  adding: content/OutputImg/145.png (deflated 20%)\n",
            "  adding: content/OutputImg/189.png (deflated 19%)\n",
            "  adding: content/OutputImg/557.png (deflated 18%)\n",
            "  adding: content/OutputImg/93.png (deflated 16%)\n",
            "  adding: content/OutputImg/855.png (deflated 18%)\n",
            "  adding: content/OutputImg/2718.png (deflated 17%)\n",
            "  adding: content/OutputImg/550.png (deflated 20%)\n",
            "  adding: content/OutputImg/2763.png (deflated 18%)\n",
            "  adding: content/OutputImg/1411.png (deflated 17%)\n",
            "  adding: content/OutputImg/2867.png (deflated 17%)\n",
            "  adding: content/OutputImg/702.png (deflated 19%)\n",
            "  adding: content/OutputImg/2582.png (deflated 17%)\n",
            "  adding: content/OutputImg/879.png (deflated 19%)\n",
            "  adding: content/OutputImg/590.png (deflated 18%)\n",
            "  adding: content/OutputImg/1539.png (deflated 16%)\n",
            "  adding: content/OutputImg/2878.png (deflated 17%)\n",
            "  adding: content/OutputImg/1269.png (deflated 18%)\n",
            "  adding: content/OutputImg/2296.png (deflated 15%)\n",
            "  adding: content/OutputImg/364.png (deflated 16%)\n",
            "  adding: content/OutputImg/1146.png (deflated 16%)\n",
            "  adding: content/OutputImg/2359.png (deflated 19%)\n",
            "  adding: content/OutputImg/2275.png (deflated 16%)\n",
            "  adding: content/OutputImg/2263.png (deflated 17%)\n",
            "  adding: content/OutputImg/1067.png (deflated 17%)\n",
            "  adding: content/OutputImg/213.png (deflated 16%)\n",
            "  adding: content/OutputImg/269.png (deflated 17%)\n",
            "  adding: content/OutputImg/1225.png (deflated 17%)\n",
            "  adding: content/OutputImg/1013.png (deflated 17%)\n",
            "  adding: content/OutputImg/607.png (deflated 17%)\n",
            "  adding: content/OutputImg/1520.png (deflated 16%)\n",
            "  adding: content/OutputImg/2098.png (deflated 19%)\n",
            "  adding: content/OutputImg/353.png (deflated 17%)\n",
            "  adding: content/OutputImg/2791.png (deflated 17%)\n",
            "  adding: content/OutputImg/909.png (deflated 18%)\n",
            "  adding: content/OutputImg/434.png (deflated 17%)\n",
            "  adding: content/OutputImg/107.png (deflated 19%)\n",
            "  adding: content/OutputImg/2579.png (deflated 18%)\n",
            "  adding: content/OutputImg/3005.png (deflated 17%)\n",
            "  adding: content/OutputImg/344.png (deflated 18%)\n",
            "  adding: content/OutputImg/2300.png (deflated 18%)\n",
            "  adding: content/OutputImg/2527.png (deflated 17%)\n",
            "  adding: content/OutputImg/1103.png (deflated 15%)\n",
            "  adding: content/OutputImg/1234.png (deflated 18%)\n",
            "  adding: content/OutputImg/593.png (deflated 18%)\n",
            "  adding: content/OutputImg/149.png (deflated 20%)\n",
            "  adding: content/OutputImg/2061.png (deflated 18%)\n",
            "  adding: content/OutputImg/2262.png (deflated 17%)\n",
            "  adding: content/OutputImg/1895.png (deflated 20%)\n",
            "  adding: content/OutputImg/940.png (deflated 17%)\n",
            "  adding: content/OutputImg/1588.png (deflated 16%)\n",
            "  adding: content/OutputImg/1765.png (deflated 17%)\n",
            "  adding: content/OutputImg/2182.png (deflated 19%)\n",
            "  adding: content/OutputImg/2565.png (deflated 17%)\n",
            "  adding: content/OutputImg/1861.png (deflated 20%)\n",
            "  adding: content/OutputImg/2675.png (deflated 16%)\n",
            "  adding: content/OutputImg/1803.png (deflated 17%)\n",
            "  adding: content/OutputImg/1247.png (deflated 17%)\n",
            "  adding: content/OutputImg/2343.png (deflated 16%)\n",
            "  adding: content/OutputImg/2771.png (deflated 20%)\n",
            "  adding: content/OutputImg/822.png (deflated 18%)\n",
            "  adding: content/OutputImg/2372.png (deflated 19%)\n",
            "  adding: content/OutputImg/2497.png (deflated 18%)\n",
            "  adding: content/OutputImg/1546.png (deflated 17%)\n",
            "  adding: content/OutputImg/573.png (deflated 18%)\n",
            "  adding: content/OutputImg/1638.png (deflated 16%)\n",
            "  adding: content/OutputImg/1897.png (deflated 20%)\n",
            "  adding: content/OutputImg/1959.png (deflated 20%)\n",
            "  adding: content/OutputImg/824.png (deflated 17%)\n",
            "  adding: content/OutputImg/676.png (deflated 18%)\n",
            "  adding: content/OutputImg/1279.png (deflated 17%)\n",
            "  adding: content/OutputImg/2198.png (deflated 18%)\n",
            "  adding: content/OutputImg/2898.png (deflated 17%)\n",
            "  adding: content/OutputImg/2909.png (deflated 19%)\n",
            "  adding: content/OutputImg/2081.png (deflated 19%)\n",
            "  adding: content/OutputImg/2411.png (deflated 17%)\n",
            "  adding: content/OutputImg/873.png (deflated 18%)\n",
            "  adding: content/OutputImg/2606.png (deflated 16%)\n",
            "  adding: content/OutputImg/1562.png (deflated 16%)\n",
            "  adding: content/OutputImg/1491.png (deflated 17%)\n",
            "  adding: content/OutputImg/1276.png (deflated 18%)\n",
            "  adding: content/OutputImg/2405.png (deflated 16%)\n",
            "  adding: content/OutputImg/1274.png (deflated 17%)\n",
            "  adding: content/OutputImg/1793.png (deflated 18%)\n",
            "  adding: content/OutputImg/2968.png (deflated 17%)\n",
            "  adding: content/OutputImg/2588.png (deflated 17%)\n",
            "  adding: content/OutputImg/2604.png (deflated 16%)\n",
            "  adding: content/OutputImg/1590.png (deflated 16%)\n",
            "  adding: content/OutputImg/2173.png (deflated 20%)\n",
            "  adding: content/OutputImg/1568.png (deflated 17%)\n",
            "  adding: content/OutputImg/2157.png (deflated 20%)\n",
            "  adding: content/OutputImg/35.png (deflated 21%)\n",
            "  adding: content/OutputImg/2060.png (deflated 19%)\n",
            "  adding: content/OutputImg/782.png (deflated 17%)\n",
            "  adding: content/OutputImg/1270.png (deflated 17%)\n",
            "  adding: content/OutputImg/894.png (deflated 18%)\n",
            "  adding: content/OutputImg/1461.png (deflated 17%)\n",
            "  adding: content/OutputImg/2394.png (deflated 19%)\n",
            "  adding: content/OutputImg/277.png (deflated 18%)\n",
            "  adding: content/OutputImg/2709.png (deflated 20%)\n",
            "  adding: content/OutputImg/2951.png (deflated 17%)\n",
            "  adding: content/OutputImg/460.png (deflated 18%)\n",
            "  adding: content/OutputImg/1662.png (deflated 18%)\n",
            "  adding: content/OutputImg/2450.png (deflated 16%)\n",
            "  adding: content/OutputImg/581.png (deflated 18%)\n",
            "  adding: content/OutputImg/2667.png (deflated 16%)\n",
            "  adding: content/OutputImg/1988.png (deflated 18%)\n",
            "  adding: content/OutputImg/574.png (deflated 18%)\n",
            "  adding: content/OutputImg/1883.png (deflated 20%)\n",
            "  adding: content/OutputImg/2525.png (deflated 18%)\n",
            "  adding: content/OutputImg/1390.png (deflated 16%)\n",
            "  adding: content/OutputImg/248.png (deflated 16%)\n",
            "  adding: content/OutputImg/2627.png (deflated 17%)\n",
            "  adding: content/OutputImg/251.png (deflated 18%)\n",
            "  adding: content/OutputImg/1656.png (deflated 18%)\n",
            "  adding: content/OutputImg/301.png (deflated 17%)\n",
            "  adding: content/OutputImg/2471.png (deflated 17%)\n",
            "  adding: content/OutputImg/2956.png (deflated 18%)\n",
            "  adding: content/OutputImg/335.png (deflated 17%)\n",
            "  adding: content/OutputImg/2390.png (deflated 20%)\n",
            "  adding: content/OutputImg/1401.png (deflated 16%)\n",
            "  adding: content/OutputImg/2479.png (deflated 17%)\n",
            "  adding: content/OutputImg/1729.png (deflated 17%)\n",
            "  adding: content/OutputImg/2465.png (deflated 17%)\n",
            "  adding: content/OutputImg/2593.png (deflated 17%)\n",
            "  adding: content/OutputImg/2190.png (deflated 18%)\n",
            "  adding: content/OutputImg/441.png (deflated 20%)\n",
            "  adding: content/OutputImg/1392.png (deflated 17%)\n",
            "  adding: content/OutputImg/1960.png (deflated 20%)\n",
            "  adding: content/OutputImg/1452.png (deflated 17%)\n",
            "  adding: content/OutputImg/478.png (deflated 19%)\n",
            "  adding: content/OutputImg/186.png (deflated 18%)\n",
            "  adding: content/OutputImg/181.png (deflated 20%)\n",
            "  adding: content/OutputImg/2242.png (deflated 17%)\n",
            "  adding: content/OutputImg/1710.png (deflated 17%)\n",
            "  adding: content/OutputImg/1235.png (deflated 18%)\n",
            "  adding: content/OutputImg/2349.png (deflated 20%)\n",
            "  adding: content/OutputImg/730.png (deflated 18%)\n",
            "  adding: content/OutputImg/1810.png (deflated 18%)\n",
            "  adding: content/OutputImg/2269.png (deflated 16%)\n",
            "  adding: content/OutputImg/153.png (deflated 18%)\n",
            "  adding: content/OutputImg/11.png (deflated 20%)\n",
            "  adding: content/OutputImg/2029.png (deflated 18%)\n",
            "  adding: content/OutputImg/1779.png (deflated 18%)\n",
            "  adding: content/OutputImg/2058.png (deflated 18%)\n",
            "  adding: content/OutputImg/1141.png (deflated 15%)\n",
            "  adding: content/OutputImg/215.png (deflated 16%)\n",
            "  adding: content/OutputImg/1251.png (deflated 17%)\n",
            "  adding: content/OutputImg/1344.png (deflated 17%)\n",
            "  adding: content/OutputImg/1579.png (deflated 15%)\n",
            "  adding: content/OutputImg/2995.png (deflated 17%)\n",
            "  adding: content/OutputImg/2994.png (deflated 16%)\n",
            "  adding: content/OutputImg/2176.png (deflated 20%)\n",
            "  adding: content/OutputImg/1118.png (deflated 16%)\n",
            "  adding: content/OutputImg/1326.png (deflated 17%)\n",
            "  adding: content/OutputImg/694.png (deflated 17%)\n",
            "  adding: content/OutputImg/1311.png (deflated 17%)\n",
            "  adding: content/OutputImg/1446.png (deflated 18%)\n",
            "  adding: content/OutputImg/2122.png (deflated 18%)\n",
            "  adding: content/OutputImg/2160.png (deflated 18%)\n",
            "  adding: content/OutputImg/512.png (deflated 18%)\n",
            "  adding: content/OutputImg/1142.png (deflated 15%)\n",
            "  adding: content/OutputImg/841.png (deflated 18%)\n",
            "  adding: content/OutputImg/2855.png (deflated 16%)\n",
            "  adding: content/OutputImg/2428.png (deflated 18%)\n",
            "  adding: content/OutputImg/2368.png (deflated 18%)\n",
            "  adding: content/OutputImg/262.png (deflated 17%)\n",
            "  adding: content/OutputImg/707.png (deflated 18%)\n",
            "  adding: content/OutputImg/803.png (deflated 17%)\n",
            "  adding: content/OutputImg/1956.png (deflated 17%)\n",
            "  adding: content/OutputImg/709.png (deflated 16%)\n",
            "  adding: content/OutputImg/1236.png (deflated 17%)\n",
            "  adding: content/OutputImg/2403.png (deflated 16%)\n",
            "  adding: content/OutputImg/1955.png (deflated 22%)\n",
            "  adding: content/OutputImg/2986.png (deflated 16%)\n",
            "  adding: content/OutputImg/361.png (deflated 18%)\n",
            "  adding: content/OutputImg/2524.png (deflated 19%)\n",
            "  adding: content/OutputImg/1894.png (deflated 20%)\n",
            "  adding: content/OutputImg/893.png (deflated 18%)\n",
            "  adding: content/OutputImg/1665.png (deflated 17%)\n",
            "  adding: content/OutputImg/2148.png (deflated 19%)\n",
            "  adding: content/OutputImg/1689.png (deflated 17%)\n",
            "  adding: content/OutputImg/2362.png (deflated 18%)\n",
            "  adding: content/OutputImg/2255.png (deflated 17%)\n",
            "  adding: content/OutputImg/954.png (deflated 18%)\n",
            "  adding: content/OutputImg/2964.png (deflated 18%)\n",
            "  adding: content/OutputImg/580.png (deflated 18%)\n",
            "  adding: content/OutputImg/2473.png (deflated 17%)\n",
            "  adding: content/OutputImg/888.png (deflated 19%)\n",
            "  adding: content/OutputImg/1630.png (deflated 16%)\n",
            "  adding: content/OutputImg/660.png (deflated 19%)\n",
            "  adding: content/OutputImg/2250.png (deflated 16%)\n",
            "  adding: content/OutputImg/2780.png (deflated 18%)\n",
            "  adding: content/OutputImg/941.png (deflated 17%)\n",
            "  adding: content/OutputImg/1981.png (deflated 18%)\n",
            "  adding: content/OutputImg/1916.png (deflated 19%)\n",
            "  adding: content/OutputImg/2463.png (deflated 16%)\n",
            "  adding: content/OutputImg/2633.png (deflated 18%)\n",
            "  adding: content/OutputImg/222.png (deflated 17%)\n",
            "  adding: content/OutputImg/381.png (deflated 17%)\n",
            "  adding: content/OutputImg/2489.png (deflated 16%)\n",
            "  adding: content/OutputImg/1906.png (deflated 18%)\n",
            "  adding: content/OutputImg/1837.png (deflated 18%)\n",
            "  adding: content/OutputImg/1555.png (deflated 17%)\n",
            "  adding: content/OutputImg/2906.png (deflated 21%)\n",
            "  adding: content/OutputImg/2737.png (deflated 17%)\n",
            "  adding: content/OutputImg/3001.png (deflated 17%)\n",
            "  adding: content/OutputImg/1641.png (deflated 18%)\n",
            "  adding: content/OutputImg/1194.png (deflated 17%)\n",
            "  adding: content/OutputImg/2548.png (deflated 18%)\n",
            "  adding: content/OutputImg/1023.png (deflated 18%)\n",
            "  adding: content/OutputImg/324.png (deflated 17%)\n",
            "  adding: content/OutputImg/1428.png (deflated 17%)\n",
            "  adding: content/OutputImg/1714.png (deflated 17%)\n",
            "  adding: content/OutputImg/980.png (deflated 15%)\n",
            "  adding: content/OutputImg/1591.png (deflated 17%)\n",
            "  adding: content/OutputImg/1684.png (deflated 18%)\n",
            "  adding: content/OutputImg/2957.png (deflated 18%)\n",
            "  adding: content/OutputImg/2550.png (deflated 17%)\n",
            "  adding: content/OutputImg/3041.png (deflated 19%)\n",
            "  adding: content/OutputImg/1333.png (deflated 18%)\n",
            "  adding: content/OutputImg/605.png (deflated 17%)\n",
            "  adding: content/OutputImg/26.png (deflated 20%)\n",
            "  adding: content/OutputImg/2611.png (deflated 19%)\n",
            "  adding: content/OutputImg/3038.png (deflated 17%)\n",
            "  adding: content/OutputImg/2936.png (deflated 17%)\n",
            "  adding: content/OutputImg/1658.png (deflated 17%)\n",
            "  adding: content/OutputImg/2356.png (deflated 19%)\n",
            "  adding: content/OutputImg/589.png (deflated 18%)\n",
            "  adding: content/OutputImg/1266.png (deflated 17%)\n",
            "  adding: content/OutputImg/2072.png (deflated 19%)\n",
            "  adding: content/OutputImg/833.png (deflated 21%)\n",
            "  adding: content/OutputImg/861.png (deflated 18%)\n",
            "  adding: content/OutputImg/2528.png (deflated 17%)\n",
            "  adding: content/OutputImg/21.png (deflated 20%)\n",
            "  adding: content/OutputImg/3011.png (deflated 17%)\n",
            "  adding: content/OutputImg/571.png (deflated 17%)\n",
            "  adding: content/OutputImg/2459.png (deflated 16%)\n",
            "  adding: content/OutputImg/1611.png (deflated 16%)\n",
            "  adding: content/OutputImg/412.png (deflated 19%)\n",
            "  adding: content/OutputImg/2590.png (deflated 17%)\n",
            "  adding: content/OutputImg/1495.png (deflated 16%)\n",
            "  adding: content/OutputImg/2496.png (deflated 17%)\n",
            "  adding: content/OutputImg/2858.png (deflated 17%)\n",
            "  adding: content/OutputImg/1720.png (deflated 17%)\n",
            "  adding: content/OutputImg/2302.png (deflated 18%)\n",
            "  adding: content/OutputImg/2006.png (deflated 21%)\n",
            "  adding: content/OutputImg/1322.png (deflated 19%)\n",
            "  adding: content/OutputImg/2822.png (deflated 17%)\n",
            "  adding: content/OutputImg/2069.png (deflated 19%)\n",
            "  adding: content/OutputImg/2046.png (deflated 20%)\n",
            "  adding: content/OutputImg/1885.png (deflated 20%)\n",
            "  adding: content/OutputImg/2222.png (deflated 21%)\n",
            "  adding: content/OutputImg/1826.png (deflated 17%)\n",
            "  adding: content/OutputImg/1675.png (deflated 17%)\n",
            "  adding: content/OutputImg/197.png (deflated 19%)\n",
            "  adding: content/OutputImg/1972.png (deflated 21%)\n",
            "  adding: content/OutputImg/451.png (deflated 17%)\n",
            "  adding: content/OutputImg/681.png (deflated 17%)\n",
            "  adding: content/OutputImg/184.png (deflated 18%)\n",
            "  adding: content/OutputImg/2521.png (deflated 17%)\n",
            "  adding: content/OutputImg/2305.png (deflated 17%)\n",
            "  adding: content/OutputImg/2429.png (deflated 17%)\n",
            "  adding: content/OutputImg/2928.png (deflated 18%)\n",
            "  adding: content/OutputImg/33.png (deflated 19%)\n",
            "  adding: content/OutputImg/2137.png (deflated 20%)\n",
            "  adding: content/OutputImg/247.png (deflated 16%)\n",
            "  adding: content/OutputImg/1174.png (deflated 17%)\n",
            "  adding: content/OutputImg/1217.png (deflated 17%)\n",
            "  adding: content/OutputImg/2073.png (deflated 19%)\n",
            "  adding: content/OutputImg/1129.png (deflated 15%)\n",
            "  adding: content/OutputImg/479.png (deflated 18%)\n",
            "  adding: content/OutputImg/1312.png (deflated 17%)\n",
            "  adding: content/OutputImg/1748.png (deflated 18%)\n",
            "  adding: content/OutputImg/461.png (deflated 17%)\n",
            "  adding: content/OutputImg/2015.png (deflated 20%)\n",
            "  adding: content/OutputImg/1769.png (deflated 18%)\n",
            "  adding: content/OutputImg/1814.png (deflated 18%)\n",
            "  adding: content/OutputImg/2647.png (deflated 19%)\n",
            "  adding: content/OutputImg/217.png (deflated 17%)\n",
            "  adding: content/OutputImg/678.png (deflated 18%)\n",
            "  adding: content/OutputImg/2665.png (deflated 17%)\n",
            "  adding: content/OutputImg/528.png (deflated 18%)\n",
            "  adding: content/OutputImg/1873.png (deflated 20%)\n",
            "  adding: content/OutputImg/294.png (deflated 20%)\n",
            "  adding: content/OutputImg/1671.png (deflated 17%)\n",
            "  adding: content/OutputImg/2566.png (deflated 19%)\n",
            "  adding: content/OutputImg/1420.png (deflated 18%)\n",
            "  adding: content/OutputImg/1726.png (deflated 17%)\n",
            "  adding: content/OutputImg/849.png (deflated 18%)\n",
            "  adding: content/OutputImg/126.png (deflated 20%)\n",
            "  adding: content/OutputImg/2090.png (deflated 19%)\n",
            "  adding: content/OutputImg/2096.png (deflated 20%)\n",
            "  adding: content/OutputImg/2789.png (deflated 16%)\n",
            "  adding: content/OutputImg/1561.png (deflated 16%)\n",
            "  adding: content/OutputImg/1363.png (deflated 16%)\n",
            "  adding: content/OutputImg/1419.png (deflated 18%)\n",
            "  adding: content/OutputImg/157.png (deflated 21%)\n",
            "  adding: content/OutputImg/847.png (deflated 18%)\n",
            "  adding: content/OutputImg/915.png (deflated 17%)\n",
            "  adding: content/OutputImg/1646.png (deflated 18%)\n",
            "  adding: content/OutputImg/1723.png (deflated 18%)\n",
            "  adding: content/OutputImg/754.png (deflated 18%)\n",
            "  adding: content/OutputImg/2230.png (deflated 20%)\n",
            "  adding: content/OutputImg/2026.png (deflated 18%)\n",
            "  adding: content/OutputImg/2744.png (deflated 17%)\n",
            "  adding: content/OutputImg/1170.png (deflated 18%)\n",
            "  adding: content/OutputImg/1851.png (deflated 21%)\n",
            "  adding: content/OutputImg/1792.png (deflated 17%)\n",
            "  adding: content/OutputImg/2801.png (deflated 17%)\n",
            "  adding: content/OutputImg/2642.png (deflated 18%)\n",
            "  adding: content/OutputImg/2164.png (deflated 18%)\n",
            "  adding: content/OutputImg/2839.png (deflated 18%)\n",
            "  adding: content/OutputImg/244.png (deflated 17%)\n",
            "  adding: content/OutputImg/2162.png (deflated 19%)\n",
            "  adding: content/OutputImg/1043.png (deflated 17%)\n",
            "  adding: content/OutputImg/2853.png (deflated 19%)\n",
            "  adding: content/OutputImg/2790.png (deflated 16%)\n",
            "  adding: content/OutputImg/1218.png (deflated 17%)\n",
            "  adding: content/OutputImg/653.png (deflated 18%)\n",
            "  adding: content/OutputImg/2837.png (deflated 17%)\n",
            "  adding: content/OutputImg/1800.png (deflated 18%)\n",
            "  adding: content/OutputImg/87.png (deflated 18%)\n",
            "  adding: content/OutputImg/2080.png (deflated 18%)\n",
            "  adding: content/OutputImg/1145.png (deflated 16%)\n",
            "  adding: content/OutputImg/246.png (deflated 16%)\n",
            "  adding: content/OutputImg/1943.png (deflated 21%)\n",
            "  adding: content/OutputImg/1149.png (deflated 16%)\n",
            "  adding: content/OutputImg/2553.png (deflated 17%)\n",
            "  adding: content/OutputImg/1866.png (deflated 20%)\n",
            "  adding: content/OutputImg/1681.png (deflated 17%)\n",
            "  adding: content/OutputImg/336.png (deflated 17%)\n",
            "  adding: content/OutputImg/1667.png (deflated 16%)\n",
            "  adding: content/OutputImg/947.png (deflated 17%)\n",
            "  adding: content/OutputImg/1437.png (deflated 17%)\n",
            "  adding: content/OutputImg/2228.png (deflated 23%)\n",
            "  adding: content/OutputImg/2655.png (deflated 18%)\n",
            "  adding: content/OutputImg/1893.png (deflated 18%)\n",
            "  adding: content/OutputImg/2415.png (deflated 17%)\n",
            "  adding: content/OutputImg/1050.png (deflated 16%)\n",
            "  adding: content/OutputImg/1345.png (deflated 17%)\n",
            "  adding: content/OutputImg/55.png (deflated 20%)\n",
            "  adding: content/OutputImg/2701.png (deflated 18%)\n",
            "  adding: content/OutputImg/971.png (deflated 18%)\n",
            "  adding: content/OutputImg/134.png (deflated 23%)\n",
            "  adding: content/OutputImg/2159.png (deflated 18%)\n",
            "  adding: content/OutputImg/926.png (deflated 17%)\n",
            "  adding: content/OutputImg/103.png (deflated 18%)\n",
            "  adding: content/OutputImg/69.png (deflated 20%)\n",
            "  adding: content/OutputImg/6.png (deflated 17%)\n",
            "  adding: content/OutputImg/1991.png (deflated 18%)\n",
            "  adding: content/OutputImg/2605.png (deflated 17%)\n",
            "  adding: content/OutputImg/1657.png (deflated 17%)\n",
            "  adding: content/OutputImg/218.png (deflated 17%)\n",
            "  adding: content/OutputImg/227.png (deflated 16%)\n",
            "  adding: content/OutputImg/1879.png (deflated 19%)\n",
            "  adding: content/OutputImg/948.png (deflated 18%)\n",
            "  adding: content/OutputImg/1063.png (deflated 16%)\n",
            "  adding: content/OutputImg/2401.png (deflated 22%)\n",
            "  adding: content/OutputImg/716.png (deflated 19%)\n",
            "  adding: content/OutputImg/865.png (deflated 19%)\n",
            "  adding: content/OutputImg/2847.png (deflated 19%)\n",
            "  adding: content/OutputImg/750.png (deflated 17%)\n",
            "  adding: content/OutputImg/2911.png (deflated 17%)\n",
            "  adding: content/OutputImg/2233.png (deflated 18%)\n",
            "  adding: content/OutputImg/3060.png (deflated 17%)\n",
            "  adding: content/OutputImg/1384.png (deflated 16%)\n",
            "  adding: content/OutputImg/347.png (deflated 17%)\n",
            "  adding: content/OutputImg/967.png (deflated 17%)\n",
            "  adding: content/OutputImg/2688.png (deflated 18%)\n",
            "  adding: content/OutputImg/2818.png (deflated 19%)\n",
            "  adding: content/OutputImg/2197.png (deflated 17%)\n",
            "  adding: content/OutputImg/1529.png (deflated 16%)\n",
            "  adding: content/OutputImg/2971.png (deflated 16%)\n",
            "  adding: content/OutputImg/979.png (deflated 16%)\n",
            "  adding: content/OutputImg/1207.png (deflated 17%)\n",
            "  adding: content/OutputImg/2922.png (deflated 18%)\n",
            "  adding: content/OutputImg/2169.png (deflated 19%)\n",
            "  adding: content/OutputImg/3034.png (deflated 17%)\n",
            "  adding: content/OutputImg/2187.png (deflated 17%)\n",
            "  adding: content/OutputImg/1582.png (deflated 16%)\n",
            "  adding: content/OutputImg/1097.png (deflated 16%)\n",
            "  adding: content/OutputImg/250.png (deflated 17%)\n",
            "  adding: content/OutputImg/904.png (deflated 19%)\n",
            "  adding: content/OutputImg/834.png (deflated 18%)\n",
            "  adding: content/OutputImg/2926.png (deflated 18%)\n",
            "  adding: content/OutputImg/880.png (deflated 18%)\n",
            "  adding: content/OutputImg/1231.png (deflated 18%)\n",
            "  adding: content/OutputImg/2654.png (deflated 17%)\n",
            "  adding: content/OutputImg/1702.png (deflated 17%)\n",
            "  adding: content/OutputImg/535.png (deflated 18%)\n",
            "  adding: content/OutputImg/2007.png (deflated 21%)\n",
            "  adding: content/OutputImg/1774.png (deflated 18%)\n",
            "  adding: content/OutputImg/2304.png (deflated 18%)\n",
            "  adding: content/OutputImg/3035.png (deflated 17%)\n",
            "  adding: content/OutputImg/3042.png (deflated 18%)\n",
            "  adding: content/OutputImg/1867.png (deflated 20%)\n",
            "  adding: content/OutputImg/2220.png (deflated 21%)\n",
            "  adding: content/OutputImg/1342.png (deflated 16%)\n",
            "  adding: content/OutputImg/545.png (deflated 17%)\n",
            "  adding: content/OutputImg/1239.png (deflated 17%)\n",
            "  adding: content/OutputImg/2249.png (deflated 16%)\n",
            "  adding: content/OutputImg/1108.png (deflated 16%)\n",
            "  adding: content/OutputImg/1002.png (deflated 16%)\n",
            "  adding: content/OutputImg/2503.png (deflated 18%)\n",
            "  adding: content/OutputImg/132.png (deflated 21%)\n",
            "  adding: content/OutputImg/1515.png (deflated 16%)\n",
            "  adding: content/OutputImg/1553.png (deflated 17%)\n",
            "  adding: content/OutputImg/2574.png (deflated 16%)\n",
            "  adding: content/OutputImg/745.png (deflated 19%)\n",
            "  adding: content/OutputImg/1902.png (deflated 18%)\n",
            "  adding: content/OutputImg/1846.png (deflated 20%)\n",
            "  adding: content/OutputImg/2378.png (deflated 18%)\n",
            "  adding: content/OutputImg/2729.png (deflated 18%)\n",
            "  adding: content/OutputImg/1075.png (deflated 17%)\n",
            "  adding: content/OutputImg/1566.png (deflated 17%)\n",
            "  adding: content/OutputImg/2831.png (deflated 18%)\n",
            "  adding: content/OutputImg/943.png (deflated 18%)\n",
            "  adding: content/OutputImg/1668.png (deflated 16%)\n",
            "  adding: content/OutputImg/1309.png (deflated 18%)\n",
            "  adding: content/OutputImg/2662.png (deflated 18%)\n",
            "  adding: content/OutputImg/1410.png (deflated 17%)\n",
            "  adding: content/OutputImg/1768.png (deflated 18%)\n",
            "  adding: content/OutputImg/1616.png (deflated 17%)\n",
            "  adding: content/OutputImg/369.png (deflated 21%)\n",
            "  adding: content/OutputImg/2380.png (deflated 19%)\n",
            "  adding: content/OutputImg/402.png (deflated 17%)\n",
            "  adding: content/OutputImg/2454.png (deflated 16%)\n",
            "  adding: content/OutputImg/2725.png (deflated 16%)\n",
            "  adding: content/OutputImg/552.png (deflated 17%)\n",
            "  adding: content/OutputImg/1500.png (deflated 15%)\n"
          ]
        }
      ]
    }
  ]
}
